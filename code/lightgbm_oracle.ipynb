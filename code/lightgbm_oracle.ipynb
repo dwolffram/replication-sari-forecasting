{
 "cells": [
  {
   "cell_type": "markdown",
   "id": "a06d7174-24f8-4d5e-88a6-ad2a2cf06e87",
   "metadata": {},
   "source": [
    "# LightGBM: Oracle"
   ]
  },
  {
   "cell_type": "markdown",
   "id": "537394ee-4a58-437f-8e9d-70c77b3e3324",
   "metadata": {
    "tags": []
   },
   "source": [
    "### Setup"
   ]
  },
  {
   "cell_type": "code",
   "execution_count": 1,
   "id": "0e493c37-6325-457b-96bc-d534de06f3c4",
   "metadata": {},
   "outputs": [],
   "source": [
    "import sys\n",
    "sys.path.append('../')\n",
    "from src.load_data import *\n",
    "from src.realtime_utils import *\n",
    "from src.hp_tuning_functions import *"
   ]
  },
  {
   "cell_type": "code",
   "execution_count": 2,
   "id": "7f1610ad-9600-4d62-826d-b9bc42048bf2",
   "metadata": {},
   "outputs": [
    {
     "name": "stderr",
     "output_type": "stream",
     "text": [
      "/home/wolffram/.conda/envs/RESPINOW-ML/lib/python3.9/site-packages/statsforecast/utils.py:231: FutureWarning: 'M' is deprecated and will be removed in a future version, please use 'ME' instead.\n",
      "  \"ds\": pd.date_range(start=\"1949-01-01\", periods=len(AirPassengers), freq=\"M\"),\n"
     ]
    }
   ],
   "source": [
    "from darts.models.forecasting.lgbm import LightGBMModel"
   ]
  },
  {
   "cell_type": "markdown",
   "id": "7be6f266-e37b-4086-8e1c-e8fca76f606c",
   "metadata": {},
   "source": [
    "# Load data"
   ]
  },
  {
   "cell_type": "code",
   "execution_count": 9,
   "id": "e44f6180-30b4-4494-93f2-3b7d12d03b54",
   "metadata": {},
   "outputs": [],
   "source": [
    "targets, covariates = load_realtime_training_data()"
   ]
  },
  {
   "cell_type": "markdown",
   "id": "33076a71-a896-4105-9ae6-56812ef8ef2a",
   "metadata": {},
   "source": [
    "# Forecast"
   ]
  },
  {
   "cell_type": "code",
   "execution_count": 31,
   "id": "c9eabc19-1053-40d9-a777-93c0a5c8b268",
   "metadata": {},
   "outputs": [],
   "source": [
    "NAME = 'lightgbm_oracle'"
   ]
  },
  {
   "cell_type": "code",
   "execution_count": 29,
   "id": "d864b2be-bb74-48f3-8348-7403e6c4597d",
   "metadata": {},
   "outputs": [],
   "source": [
    "targets, covariates = load_realtime_training_data()"
   ]
  },
  {
   "cell_type": "code",
   "execution_count": 30,
   "id": "97933311-9c88-4e1d-8cf0-c03807fd52b7",
   "metadata": {},
   "outputs": [],
   "source": [
    "def compute_forecast(model, target_series, covariates, forecast_date, horizon, num_samples, vincentization=True, probabilistic_nowcast=True, local=False, oracle_nowcast=True):\n",
    "    '''\n",
    "    For every sample path given by the nowcasted quantiles, a probabilistic forecast is computed.\n",
    "    These are then aggregated into one forecast by combining all predicted paths.\n",
    "    '''\n",
    "    \n",
    "    if oracle_nowcast:\n",
    "        target_list = target_series[:pd.Timestamp(forecast_date)]\n",
    "        \n",
    "    else:\n",
    "        indicator = target_series.components[0].split('-')[1]\n",
    "        ts_nowcast = load_nowcast(forecast_date, probabilistic_nowcast, indicator, local)\n",
    "        target_list = make_target_paths(target_series, ts_nowcast)\n",
    "        target_list = [encode_static_covariates(t, ordinal=False) for t in target_list]\n",
    "\n",
    "        covariates = [covariates]*len(target_list) if covariates else None\n",
    "      \n",
    "    fct = model.predict(n=horizon, \n",
    "                        series=target_list, \n",
    "                        past_covariates=covariates, \n",
    "                        num_samples=num_samples)\n",
    "    \n",
    "    df = reshape_forecast(fct)\n",
    "        \n",
    "    return df"
   ]
  },
  {
   "cell_type": "code",
   "execution_count": 32,
   "id": "16787ce0-7df9-4e9d-91cf-b09b21e5218b",
   "metadata": {},
   "outputs": [],
   "source": [
    "def compute_ensemble(forecast_date, export=False):\n",
    "    dfs = []\n",
    "    for seed in RANDOM_SEEDS:\n",
    "        print(seed)\n",
    "        model_path = f'../models/post-covid/{forecast_date}/{forecast_date}-lightgbm-{seed}.pt'\n",
    "        model = LightGBMModel.load(model_path)\n",
    "        df = compute_forecast(model, targets, covariates, forecast_date, HORIZON, NUM_SAMPLES, vincentization=False, probabilistic_nowcast=True, local=True, oracle_nowcast=True)\n",
    "        dfs.append(df)\n",
    "\n",
    "    df = pd.concat(dfs)\n",
    "    df = df.groupby(['location', 'age_group', 'forecast_date', 'target_end_date', 'horizon', 'type', 'quantile']).agg({'value': 'mean'}).reset_index()\n",
    "\n",
    "    df = df.sort_values(['location', 'age_group', 'horizon', 'quantile'])\n",
    "    \n",
    "    if export:\n",
    "        df.to_csv(f'../data/post-covid/submissions/{NAME}/{forecast_date}-icosari-sari-{NAME}.csv', index=False)\n",
    "        return df\n",
    "    else:\n",
    "        return df"
   ]
  },
  {
   "cell_type": "code",
   "execution_count": null,
   "id": "f2e72d31-1e03-492e-b579-3139dd041ad2",
   "metadata": {},
   "outputs": [],
   "source": [
    "forecasts = []\n",
    "for forecast_date in FORECAST_DATES:\n",
    "    print(forecast_date)\n",
    "    forecast = compute_ensemble(forecast_date, export=True)\n",
    "    forecasts.append(forecast)"
   ]
  }
 ],
 "metadata": {
  "kernelspec": {
   "display_name": "RESPINOW-ML",
   "language": "python",
   "name": "respinow-ml"
  },
  "language_info": {
   "codemirror_mode": {
    "name": "ipython",
    "version": 3
   },
   "file_extension": ".py",
   "mimetype": "text/x-python",
   "name": "python",
   "nbconvert_exporter": "python",
   "pygments_lexer": "ipython3",
   "version": "3.9.18"
  }
 },
 "nbformat": 4,
 "nbformat_minor": 5
}
