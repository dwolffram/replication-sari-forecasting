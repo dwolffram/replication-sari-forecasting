{
 "cells": [
  {
   "cell_type": "markdown",
   "id": "75a7ef63-2049-4115-869d-fe0815c6f64a",
   "metadata": {},
   "source": [
    "# TSMixer: Tuning"
   ]
  },
  {
   "cell_type": "markdown",
   "id": "bd96768a-3882-460b-b147-9f652d0f38c5",
   "metadata": {
    "tags": []
   },
   "source": [
    "### Setup"
   ]
  },
  {
   "cell_type": "code",
   "execution_count": null,
   "id": "52fa4f8b-452f-451a-bf0a-41add3c55f3d",
   "metadata": {},
   "outputs": [],
   "source": [
    "from src.silence import silence\n",
    "silence()\n",
    "\n",
    "import ast\n",
    "import logging\n",
    "import os\n",
    "from itertools import product\n",
    "\n",
    "import numpy as np\n",
    "import pandas as pd\n",
    "import torch\n",
    "from darts.models import TSMixerModel\n",
    "from darts.utils.likelihood_models import NegativeBinomialLikelihood\n",
    "from tqdm import tqdm\n",
    "\n",
    "from config import METRIC, METRIC_KWARGS\n",
    "from src.tuning import compute_validation_score, exclude_covid_weights, train_validation_split\n",
    "from src.realtime_utils import load_realtime_training_data\n"
   ]
  },
  {
   "cell_type": "markdown",
   "id": "1b23a5ca-729f-4539-8370-d8b095d625d6",
   "metadata": {
    "tags": []
   },
   "source": [
    "### Configuration"
   ]
  },
  {
   "cell_type": "code",
   "execution_count": null,
   "id": "09d3cc57-0fd1-40ce-bd3f-36e29741525c",
   "metadata": {},
   "outputs": [],
   "source": [
    "NAME = \"tsmixer\"\n",
    "OUT_CSV = \"gridsearch_tsmixer2.csv\"\n",
    "RANDOM_SEEDS = [1] #, 2, 3]"
   ]
  },
  {
   "cell_type": "code",
   "execution_count": null,
   "id": "1ecc1040-de41-4e10-a201-29f11362b7f6",
   "metadata": {},
   "outputs": [],
   "source": [
    "NUM_SAMPLES = 1000\n",
    "HORIZON = 4\n",
    "\n",
    "ENCODERS = {\"datetime_attribute\": {\"future\": [\"month\", \"weekofyear\"]}}\n",
    "\n",
    "SHARED_ARGS = dict(\n",
    "    output_chunk_length=HORIZON,\n",
    "    likelihood=NegativeBinomialLikelihood(),\n",
    "    pl_trainer_kwargs={\n",
    "        \"enable_progress_bar\": False,\n",
    "        \"enable_model_summary\": False,\n",
    "        \"accelerator\": \"cpu\",\n",
    "        \"logger\": False,\n",
    "        # \"callbacks\" : [RichProgressBar(leave=True)],\n",
    "    },\n",
    ")\n",
    "\n",
    "OPTIMIZER_DICT = {\"Adam\": torch.optim.Adam, \"AdamW\": torch.optim.AdamW, \"SGD\": torch.optim.SGD}"
   ]
  },
  {
   "cell_type": "code",
   "execution_count": null,
   "id": "e4f65b18-07e1-4af8-a73e-a43d3a265271",
   "metadata": {},
   "outputs": [],
   "source": [
    "sweep_configuration = {\n",
    "    \"name\": f\"sari-{NAME}\",\n",
    "    \"method\": \"grid\",\n",
    "    \"metric\": {\"goal\": \"minimize\", \"name\": \"WIS\"},\n",
    "    \"parameters\": {\n",
    "        \"model\": {\"values\": [NAME]},\n",
    "        \"use_static_covariates\": {\"values\": [False]},\n",
    "        \"use_covariates\": {\"values\": [True, False]},\n",
    "        \"use_features\": {\"values\": [False]},\n",
    "        \"use_encoders\": {\"values\": [True]},\n",
    "        \"sample_weight\": {\"values\": [\"linear\", \"no-covid\"]},\n",
    "        \"input_chunk_length\": {\"values\": [8]},\n",
    "        \"hidden_size\": {\"values\": [32, 64]},\n",
    "        \"ff_size\": {\"values\": [32, 64]},\n",
    "        \"num_blocks\": {\"values\": [4, 6]},\n",
    "        \"dropout\": {\"values\": [0.2]},  # 0.05, 0.1, 0.2, 0.3, 0.5\n",
    "        \"norm_type\": {\"values\": [\"TimeBatchNorm2d\"]},  # 'LayerNorm',\n",
    "        \"batch_size\": {\"values\": [32]},\n",
    "        \"n_epochs\": {\"values\": [500, 1000]},\n",
    "        \"normalize_before\": {\"values\": [False]},\n",
    "        \"activation\": {\"values\": [\"ReLU\"]},  # \"ReLU\", \"GELU\", \"LeakyReLU\", \"ELU\"\n",
    "        \"optimizer\": {\"values\": [\"AdamW\"]},  # SGD, \"Adam\",\n",
    "        \"optimizer_kwargs\": {\n",
    "            \"parameters\": {\"lr\": {\"values\": [0.0005, 0.001, 0.005]}, \"weight_decay\": {\"values\": [0, 0.001, 0.0001]}}\n",
    "        },\n",
    "    },\n",
    "}"
   ]
  },
  {
   "cell_type": "code",
   "execution_count": null,
   "id": "85a60f1e-b81b-435c-8383-b6a126b477c0",
   "metadata": {},
   "outputs": [],
   "source": [
    "def space_from_sweep(sweep_cfg: dict) -> dict:\n",
    "    space = {}\n",
    "    for k, v in sweep_cfg[\"parameters\"].items():\n",
    "        if k == \"optimizer_kwargs\":  # special case: flatten\n",
    "            sub = v[\"parameters\"]\n",
    "            space[\"optimizer_kwargs.lr\"] = list(sub[\"lr\"][\"values\"])\n",
    "            space[\"optimizer_kwargs.weight_decay\"] = list(sub[\"weight_decay\"][\"values\"])\n",
    "        else:\n",
    "            space[k] = list(v[\"values\"])\n",
    "    return space"
   ]
  },
  {
   "cell_type": "code",
   "execution_count": null,
   "id": "979aa679-0ea0-4195-86b1-e959cdcf8a80",
   "metadata": {},
   "outputs": [],
   "source": [
    "def iter_configs(space: dict):\n",
    "    keys = list(space.keys())\n",
    "    for vals in product(*(space[k] for k in keys)):\n",
    "        yield dict(zip(keys, vals))"
   ]
  },
  {
   "cell_type": "markdown",
   "id": "85a6ef0d-2f21-445b-8184-a2c138cee629",
   "metadata": {},
   "source": [
    "### Load data"
   ]
  },
  {
   "cell_type": "code",
   "execution_count": null,
   "id": "20990ddd-08d3-49af-86d2-34f32a9e39d0",
   "metadata": {},
   "outputs": [],
   "source": [
    "targets, covariates = load_realtime_training_data()\n",
    "\n",
    "targets_train, targets_validation = train_validation_split(targets, 2022)\n",
    "\n",
    "targets_validation[\"icosari-sari-DE\"].plot(label=\"validation\")\n",
    "targets_train[\"icosari-sari-DE\"].plot(label=\"train\")\n",
    "\n",
    "custom_weights = exclude_covid_weights(targets)"
   ]
  },
  {
   "cell_type": "code",
   "execution_count": null,
   "id": "ace41aef-3637-464c-b19b-1baa2bc17f60",
   "metadata": {},
   "outputs": [],
   "source": [
    "def eval_config(cfg: dict) -> dict:\n",
    "    optimizer = OPTIMIZER_DICT[cfg[\"optimizer\"]]\n",
    "    use_covariates = cfg[\"use_covariates\"]\n",
    "    sample_weight = cfg[\"sample_weight\"]\n",
    "\n",
    "    model = TSMixerModel(\n",
    "        input_chunk_length=cfg[\"input_chunk_length\"],\n",
    "        hidden_size=cfg[\"hidden_size\"],\n",
    "        ff_size=cfg[\"ff_size\"],\n",
    "        num_blocks=cfg[\"num_blocks\"],\n",
    "        dropout=cfg[\"dropout\"],\n",
    "        norm_type=cfg[\"norm_type\"],\n",
    "        batch_size=cfg[\"batch_size\"],\n",
    "        n_epochs=cfg[\"n_epochs\"],\n",
    "        normalize_before=cfg[\"normalize_before\"],\n",
    "        activation=cfg[\"activation\"],\n",
    "        optimizer_cls=optimizer,\n",
    "        optimizer_kwargs={\n",
    "            \"lr\": cfg[\"optimizer_kwargs.lr\"],\n",
    "            \"weight_decay\": cfg[\"optimizer_kwargs.weight_decay\"],\n",
    "        },\n",
    "        use_static_covariates=cfg[\"use_static_covariates\"],\n",
    "        add_encoders=ENCODERS if cfg[\"use_encoders\"] else None,\n",
    "        **SHARED_ARGS,\n",
    "    )\n",
    "\n",
    "    scores = {}\n",
    "    for seed in RANDOM_SEEDS:\n",
    "        model.reset_model()\n",
    "        model.model_params[\"random_state\"] = seed\n",
    "        score = compute_validation_score(\n",
    "            model,\n",
    "            targets_train,\n",
    "            targets_validation,\n",
    "            covariates if use_covariates else None,\n",
    "            HORIZON,\n",
    "            NUM_SAMPLES,\n",
    "            METRIC,\n",
    "            METRIC_KWARGS,\n",
    "            sample_weight=custom_weights if sample_weight == \"no-covid\" else sample_weight,\n",
    "        )\n",
    "        scores[f\"WIS_{seed}\"] = score\n",
    "\n",
    "    per_seed = list(scores.values())\n",
    "    scores[\"WIS\"] = np.mean(per_seed)\n",
    "    scores[\"WIS_std\"] = np.std(per_seed)\n",
    "\n",
    "    return {\n",
    "        **scores,\n",
    "        **{f\"cfg.{k}\": v for k, v in cfg.items()},\n",
    "    }"
   ]
  },
  {
   "cell_type": "code",
   "execution_count": null,
   "id": "070d5625-3073-44fd-a4cf-78d72ed9ec75",
   "metadata": {},
   "outputs": [],
   "source": [
    "def run_gridsearch(resume=False):\n",
    "    space = space_from_sweep(sweep_configuration)\n",
    "    configs = list(iter_configs(space))\n",
    "\n",
    "    param_cols = list(space.keys())\n",
    "    score_cols = [\"WIS_1\", \"WIS_2\", \"WIS_3\", \"WIS\", \"WIS_std\"]\n",
    "    header = param_cols + score_cols + [\"error_flag\", \"error_msg\"]\n",
    "\n",
    "    if resume and os.path.exists(OUT_CSV):\n",
    "        gs = pd.read_csv(OUT_CSV)\n",
    "\n",
    "        # convert string representations into dicts and tuples\n",
    "        gs[\"lags_past_covariates\"] = gs[\"lags_past_covariates\"].apply(\n",
    "            lambda x: ast.literal_eval(x) if isinstance(x, str) else x\n",
    "        )\n",
    "        gs[\"lags_future_covariates\"] = gs[\"lags_future_covariates\"].apply(\n",
    "            lambda x: ast.literal_eval(x) if isinstance(x, str) else x\n",
    "        )\n",
    "\n",
    "        gs = gs.drop(columns=[\"WIS\", \"error_flag\", \"error_msg\"]).to_dict(\"records\")\n",
    "        configs = [c for c in configs if c not in gs]\n",
    "\n",
    "    if not os.path.exists(OUT_CSV):\n",
    "        pd.DataFrame(columns=header).to_csv(OUT_CSV, index=False)\n",
    "\n",
    "    total = len(configs)\n",
    "    pbar = tqdm(configs, total=total, desc=\"Grid search\", unit=\"trial\")\n",
    "    for cfg in pbar:\n",
    "        row = {k: cfg.get(k) for k in param_cols}\n",
    "        try:\n",
    "            res = eval_config(cfg)\n",
    "            for sc in score_cols:\n",
    "                row[sc] = res.get(sc, np.nan)\n",
    "            row.update({\"error_flag\": False, \"error_msg\": \"\"})\n",
    "            wis = row[\"WIS\"]\n",
    "        except Exception as e:\n",
    "            for sc in score_cols:\n",
    "                row[sc] = np.nan\n",
    "            row.update({\"error_flag\": True, \"error_msg\": str(e)})\n",
    "            wis = np.nan\n",
    "\n",
    "        pd.DataFrame([row], columns=header).to_csv(OUT_CSV, mode=\"a\", header=False, index=False)\n",
    "\n",
    "        pbar.set_postfix(\n",
    "            {\n",
    "                \"WIS\": f\"{wis:.4f}\" if isinstance(wis, (float, np.floating)) and not np.isnan(wis) else \"nan\",\n",
    "            }\n",
    "        )"
   ]
  },
  {
   "cell_type": "code",
   "execution_count": null,
   "id": "e990ebd7-b361-4a81-b954-c223f79861ae",
   "metadata": {},
   "outputs": [],
   "source": [
    "run_gridsearch()"
   ]
  }
 ],
 "metadata": {
  "kernelspec": {
   "display_name": "replication-sari",
   "language": "python",
   "name": "replication-sari"
  },
  "language_info": {
   "codemirror_mode": {
    "name": "ipython",
    "version": 3
   },
   "file_extension": ".py",
   "mimetype": "text/x-python",
   "name": "python",
   "nbconvert_exporter": "python",
   "pygments_lexer": "ipython3",
   "version": "3.12.11"
  }
 },
 "nbformat": 4,
 "nbformat_minor": 5
}
