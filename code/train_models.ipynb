{
 "cells": [
  {
   "cell_type": "code",
   "execution_count": 1,
   "id": "0e493c37-6325-457b-96bc-d534de06f3c4",
   "metadata": {},
   "outputs": [],
   "source": [
    "from src.silence import silence\n",
    "silence()\n",
    "\n",
    "from src.training import train_model"
   ]
  },
  {
   "cell_type": "markdown",
   "id": "d0e87b6b",
   "metadata": {},
   "source": [
    "### LightGBM"
   ]
  },
  {
   "cell_type": "code",
   "execution_count": null,
   "id": "4e655d02",
   "metadata": {},
   "outputs": [],
   "source": [
    "train_model(\"lightgbm\", \"all\") # Best validation score"
   ]
  },
  {
   "cell_type": "code",
   "execution_count": null,
   "id": "1f5e2664",
   "metadata": {},
   "outputs": [],
   "source": [
    "train_model(\"lightgbm\", \"no_covariates\")"
   ]
  },
  {
   "cell_type": "code",
   "execution_count": null,
   "id": "130e517b",
   "metadata": {},
   "outputs": [],
   "source": [
    "train_model(\"lightgbm\", \"no_covid\")"
   ]
  },
  {
   "cell_type": "markdown",
   "id": "b7054608",
   "metadata": {},
   "source": [
    "### TSMixer"
   ]
  },
  {
   "cell_type": "code",
   "execution_count": null,
   "id": "1192c977",
   "metadata": {},
   "outputs": [],
   "source": [
    "train_model(\"tsmixer\", \"all\")"
   ]
  },
  {
   "cell_type": "code",
   "execution_count": null,
   "id": "df68cf90",
   "metadata": {},
   "outputs": [],
   "source": [
    "train_model(\"tsmixer\", \"no_covariates\") # Best validation score"
   ]
  },
  {
   "cell_type": "code",
   "execution_count": null,
   "id": "0d9222fe",
   "metadata": {},
   "outputs": [],
   "source": [
    "train_model(\"tsmixer\", \"no_covid\")"
   ]
  }
 ],
 "metadata": {
  "kernelspec": {
   "display_name": "RESPINOW-ML",
   "language": "python",
   "name": "respinow-ml"
  },
  "language_info": {
   "name": "python"
  }
 },
 "nbformat": 4,
 "nbformat_minor": 5
}
