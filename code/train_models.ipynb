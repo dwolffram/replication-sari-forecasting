{
 "cells": [
  {
   "cell_type": "markdown",
   "id": "a06d7174-24f8-4d5e-88a6-ad2a2cf06e87",
   "metadata": {},
   "source": [
    "# Training"
   ]
  },
  {
   "cell_type": "markdown",
   "id": "537394ee-4a58-437f-8e9d-70c77b3e3324",
   "metadata": {
    "tags": []
   },
   "source": [
    "### Setup"
   ]
  },
  {
   "cell_type": "code",
   "execution_count": null,
   "id": "0e493c37-6325-457b-96bc-d534de06f3c4",
   "metadata": {},
   "outputs": [
    {
     "name": "stderr",
     "output_type": "stream",
     "text": [
      "c:\\Users\\tm7202\\Workspace\\replication-sari-forecasting\\.venv\\Lib\\site-packages\\fs\\__init__.py:4: UserWarning: pkg_resources is deprecated as an API. See https://setuptools.pypa.io/en/latest/pkg_resources.html. The pkg_resources package is slated for removal as early as 2025-11-30. Refrain from using this package or pin to Setuptools<81.\n",
      "  __import__(\"pkg_resources\").declare_namespace(__name__)  # type: ignore\n"
     ]
    }
   ],
   "source": [
    "from typing import Sequence\n",
    "\n",
    "from darts.models import TSMixerModel\n",
    "from darts.models.forecasting.lgbm import LightGBMModel\n",
    "\n",
    "from config import (\n",
    "    ALLOWED_DATA_MODES,\n",
    "    ALLOWED_MODELS,\n",
    "    DATA_MODE_CONFIG,\n",
    "    ENCODERS,\n",
    "    FORECAST_DATES,\n",
    "    HORIZON,\n",
    "    QUANTILES,\n",
    "    RANDOM_SEEDS,\n",
    "    ROOT,\n",
    "    SHARED_ARGS,\n",
    "    DataMode,\n",
    "    ModelName,\n",
    ")\n",
    "from src.hp_tuning_functions import get_best_parameters\n",
    "from src.realtime_utils import (\n",
    "    load_realtime_training_data,\n",
    ")\n"
   ]
  },
  {
   "cell_type": "code",
   "execution_count": 2,
   "id": "08324648",
   "metadata": {},
   "outputs": [],
   "source": [
    "import warnings\n",
    "\n",
    "warnings.filterwarnings(\n",
    "    \"ignore\",\n",
    "    message=\"X does not have valid feature names, but LGBMRegressor was fitted with feature names\",\n",
    "    category=UserWarning,\n",
    "    module=\"sklearn.utils.validation\",\n",
    ")"
   ]
  },
  {
   "cell_type": "markdown",
   "id": "1ac32280-0630-41fc-87bf-a7a67439b3c9",
   "metadata": {},
   "source": [
    "# Train model"
   ]
  },
  {
   "cell_type": "code",
   "execution_count": null,
   "id": "8c9a79ca",
   "metadata": {},
   "outputs": [],
   "source": [
    "def train_model(\n",
    "    model: ModelName = \"lightgbm\",\n",
    "    data_mode: DataMode = \"all\",\n",
    "    forecast_dates: Sequence[str] = FORECAST_DATES,\n",
    "    random_seeds: Sequence[int] = RANDOM_SEEDS,\n",
    "):\n",
    "    \"\"\"\n",
    "    Trains a forecasting model with the specified data mode and multiple random seeds.\n",
    "\n",
    "    For each specified forecast date and random seed, this function:\n",
    "        - Loads the best hyperparameters for the chosen model and data mode.\n",
    "        - Prepares the training data according to the data mode (with or without covariates or sample weights).\n",
    "        - Initializes the model (either LightGBMModel or TSMixerModel) with the selected parameters.\n",
    "        - Trains the model on the prepared data.\n",
    "        - Saves the trained model to a file whose name encodes the date, model, mode, and seed.\n",
    "\n",
    "    Args:\n",
    "        model (ModelName): The model family to train (\"lightgbm\" or \"tsmixer\").\n",
    "        data_mode (DataMode): The data configuration to use (e.g. \"all\", \"no_covid\", \"no_covariates\").\n",
    "        forecast_dates (Sequence[str]): Dates for which to train and save models.\n",
    "        random_seeds (Sequence[int]): Random seeds to use for training runs.\n",
    "\n",
    "    Returns:\n",
    "        list: List of file paths to the saved models.\n",
    "    \"\"\"\n",
    "    if model not in ALLOWED_MODELS:\n",
    "        raise ValueError(f\"Unsupported model {model!r}. Allowed: {sorted(ALLOWED_MODELS)}\")\n",
    "    if data_mode not in ALLOWED_DATA_MODES:\n",
    "        raise ValueError(f\"Invalid data_mode: {data_mode!r}. Allowed: {sorted(ALLOWED_DATA_MODES)}\")\n",
    "\n",
    "    model_name = model if data_mode == \"all\" else f\"{model}-{data_mode}\"\n",
    "\n",
    "    use_covariates, sample_weight = DATA_MODE_CONFIG[data_mode]\n",
    "\n",
    "    print(\n",
    "        f\"\\n=== Training config ===\\n\"\n",
    "        f\"  model         : {model_name}\\n\"\n",
    "        f\"  use_covariates: {use_covariates}\\n\"\n",
    "        f\"  sample_weight : {sample_weight}\\n\"\n",
    "        f\"=======================\\n\"\n",
    "    )\n",
    "\n",
    "    # pick best hyperparams for this family (optionally filtered)\n",
    "    params = get_best_parameters(\n",
    "        f\"gridsearch_{model}.csv\", use_covariates=use_covariates, sample_weight=sample_weight, clean=True\n",
    "    )\n",
    "    use_encoders = params.pop(\"use_encoders\")\n",
    "    print(params)\n",
    "\n",
    "    saved = []  # collect saved file paths\n",
    "\n",
    "    for forecast_date in forecast_dates:\n",
    "        path = ROOT / \"models\" / forecast_date\n",
    "        path.mkdir(parents=True, exist_ok=True)\n",
    "\n",
    "        targets, covariates = load_realtime_training_data(as_of=forecast_date)\n",
    "\n",
    "        for seed in random_seeds:\n",
    "            model_path = path / f\"{forecast_date}-{model_name}-{seed}.pt\"\n",
    "\n",
    "            if model == \"lightgbm\":\n",
    "                mdl = LightGBMModel(\n",
    "                    **params,\n",
    "                    output_chunk_length=HORIZON,\n",
    "                    add_encoders=ENCODERS if use_encoders else None,\n",
    "                    likelihood=\"quantile\",\n",
    "                    quantiles=QUANTILES,\n",
    "                    verbose=-1,\n",
    "                    random_state=seed,\n",
    "                )\n",
    "                mdl.fit(\n",
    "                    targets,\n",
    "                    past_covariates=covariates if use_covariates else None,\n",
    "                    sample_weight=sample_weight,\n",
    "                )\n",
    "\n",
    "            elif model == \"tsmixer\":\n",
    "                mdl = TSMixerModel(\n",
    "                    **params,\n",
    "                    add_encoders=ENCODERS if use_encoders else None,\n",
    "                    **SHARED_ARGS,\n",
    "                    random_state=seed,\n",
    "                )\n",
    "                mdl.fit(\n",
    "                    targets,\n",
    "                    past_covariates=covariates if use_covariates else None,\n",
    "                    sample_weight=sample_weight,\n",
    "                    dataloader_kwargs={\"pin_memory\": False},\n",
    "                )\n",
    "\n",
    "            mdl.save(str(model_path))  # Darts .save only accepts str\n",
    "            print(model_path)\n",
    "            saved.append(model_path)\n",
    "\n",
    "    return saved"
   ]
  }
 ],
 "metadata": {
  "kernelspec": {
   "display_name": "RESPINOW-ML",
   "language": "python",
   "name": "respinow-ml"
  },
  "language_info": {
   "name": "python"
  }
 },
 "nbformat": 4,
 "nbformat_minor": 5
}
