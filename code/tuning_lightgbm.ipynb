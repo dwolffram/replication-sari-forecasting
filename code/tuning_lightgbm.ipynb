{
 "cells": [
  {
   "cell_type": "markdown",
   "id": "b1c1304c-0bbe-4372-83d5-add8938843e6",
   "metadata": {},
   "source": [
    "# LightGBM Tuning"
   ]
  },
  {
   "cell_type": "markdown",
   "id": "bd96768a-3882-460b-b147-9f652d0f38c5",
   "metadata": {
    "tags": []
   },
   "source": [
    "### Setup"
   ]
  },
  {
   "cell_type": "code",
   "execution_count": 1,
   "id": "52fa4f8b-452f-451a-bf0a-41add3c55f3d",
   "metadata": {},
   "outputs": [],
   "source": [
    "import sys\n",
    "sys.path.append('../')\n",
    "from src.load_data import *\n",
    "from src.realtime_utils import *\n",
    "from src.hp_tuning_functions import *"
   ]
  },
  {
   "cell_type": "code",
   "execution_count": 2,
   "id": "a02053c9-f014-462a-89f0-96eeb7fb4bdc",
   "metadata": {},
   "outputs": [
    {
     "name": "stderr",
     "output_type": "stream",
     "text": [
      "/home/wolffram/.conda/envs/RESPINOW-ML/lib/python3.9/site-packages/statsforecast/utils.py:231: FutureWarning: 'M' is deprecated and will be removed in a future version, please use 'ME' instead.\n",
      "  \"ds\": pd.date_range(start=\"1949-01-01\", periods=len(AirPassengers), freq=\"M\"),\n"
     ]
    }
   ],
   "source": [
    "from darts.models.forecasting.lgbm import LightGBMModel"
   ]
  },
  {
   "cell_type": "code",
   "execution_count": 3,
   "id": "31c85d54-7cff-439e-acb7-cf3d04acc580",
   "metadata": {},
   "outputs": [
    {
     "name": "stderr",
     "output_type": "stream",
     "text": [
      "Failed to detect the name of this notebook, you can set it manually with the WANDB_NOTEBOOK_NAME environment variable to enable code saving.\n",
      "\u001b[34m\u001b[1mwandb\u001b[0m: Using wandb-core as the SDK backend. Please refer to https://wandb.me/wandb-core for more information.\n",
      "\u001b[34m\u001b[1mwandb\u001b[0m: Currently logged in as: \u001b[33mdwolffram\u001b[0m (\u001b[33mdwolffram-karlsruhe-institute-of-technology\u001b[0m). Use \u001b[1m`wandb login --relogin`\u001b[0m to force relogin\n"
     ]
    },
    {
     "data": {
      "text/plain": [
       "True"
      ]
     },
     "execution_count": 3,
     "metadata": {},
     "output_type": "execute_result"
    }
   ],
   "source": [
    "import wandb\n",
    "wandb.login()"
   ]
  },
  {
   "cell_type": "markdown",
   "id": "1b23a5ca-729f-4539-8370-d8b095d625d6",
   "metadata": {
    "tags": []
   },
   "source": [
    "### Configuration"
   ]
  },
  {
   "cell_type": "code",
   "execution_count": 4,
   "id": "fbe295db-3585-4a1e-a233-ccd5419c5505",
   "metadata": {},
   "outputs": [],
   "source": [
    "NAME = 'lightgbm'"
   ]
  },
  {
   "cell_type": "code",
   "execution_count": 5,
   "id": "1ecc1040-de41-4e10-a201-29f11362b7f6",
   "metadata": {},
   "outputs": [],
   "source": [
    "NUM_SAMPLES = 1000\n",
    "HORIZON = 4\n",
    "\n",
    "ENCODERS = {\n",
    "    'datetime_attribute': {'future': ['month', 'weekofyear']}\n",
    "}\n",
    "\n",
    "SHARED_ARGS = dict(\n",
    "    output_chunk_length=HORIZON,\n",
    ")"
   ]
  },
  {
   "cell_type": "code",
   "execution_count": 6,
   "id": "f99c0b25-8e2e-47fc-aad2-a5f708bac7f1",
   "metadata": {},
   "outputs": [],
   "source": [
    "lags_covariates = {\n",
    "    'agi-are-DE': 8,\n",
    "    'agi-are-00-04': 8,\n",
    "    'agi-are-05-14': 8,\n",
    "    'agi-are-15-34': 8,\n",
    "    'agi-are-35-59': 8,\n",
    "    'agi-are-60+': 8,\n",
    "    'default_lags': 1\n",
    "}"
   ]
  },
  {
   "cell_type": "code",
   "execution_count": 7,
   "id": "407d309e-268d-46fb-988d-7b3550bb7ae4",
   "metadata": {},
   "outputs": [],
   "source": [
    "sweep_configuration = {\n",
    "    \"name\": f\"sari-{NAME}\",\n",
    "    \"method\": \"grid\",\n",
    "    \"metric\": {\"goal\": \"minimize\", \"name\": \"WIS\"},  \n",
    "    \"parameters\": {\n",
    "        \"model\": {\"values\": [NAME]},  \n",
    "        \"multiple_series\": {\"values\": [False]},\n",
    "        \"use_covariates\" :  {\"values\" : [True, False]},\n",
    "        \"use_features\" :  {\"values\" : [False]},\n",
    "        \"use_encoders\" :  {\"values\" : [True]},\n",
    "        \"use_static_covariates\" :  {\"values\" : [False]},\n",
    "        \"sample_weight\" : {\"values\" : [\"linear\", \"no-covid\"]},\n",
    "        \"lags\": {\"values\": [8]},\n",
    "        \"lags_past_covariates\": {\"values\": [lags_covariates]},\n",
    "        \"lags_future_covariates\": {\"values\": [(0, 1)]},\n",
    "        \"num_leaves\": {\"values\": [20, 31, 40]},  # Number of leaves\n",
    "        \"max_depth\": {\"values\": [-1]},  # Max depth of trees\n",
    "        \"learning_rate\": {\"values\": [0.01, 0.05, 0.1]},  # Learning rate\n",
    "        \"n_estimators\": {\"values\": [500, 1000]},  # Number of boosting rounds\n",
    "        \"min_child_samples\": {\"values\": [10, 20, 40]},  # Minimum child samples per leaf\n",
    "        \"subsample\": {\"values\": [0.8]},  # Subsampling ratio\n",
    "        \"colsample_bytree\": {\"values\": [0.8]},  # Feature fraction for building trees\n",
    "        \"reg_alpha\": {\"values\": [0, 0.5, 1.0]},  # L1 regularization\n",
    "        \"reg_lambda\": {\"values\": [0, 0.5, 1.0]},  # L2 regularization\n",
    "        \"subsample_freq\": {\"values\": [1]},  # Subsampling frequency\n",
    "        \"min_split_gain\": {\"values\": [0.0]},  # Minimum gain to split\n",
    "        \"max_bin\": {\"values\": [1024, 2048]},  # Maximum number of bins\n",
    "    }\n",
    "}"
   ]
  },
  {
   "cell_type": "code",
   "execution_count": 8,
   "id": "331434fa-3a73-417e-97aa-f636fd171b6e",
   "metadata": {},
   "outputs": [
    {
     "data": {
      "text/plain": [
       "3888"
      ]
     },
     "execution_count": 8,
     "metadata": {},
     "output_type": "execute_result"
    }
   ],
   "source": [
    "3**5*16"
   ]
  },
  {
   "cell_type": "markdown",
   "id": "85a6ef0d-2f21-445b-8184-a2c138cee629",
   "metadata": {
    "tags": []
   },
   "source": [
    "### Load data"
   ]
  },
  {
   "cell_type": "code",
   "execution_count": 9,
   "id": "8df73bde-ff4e-4055-894f-4a6354316407",
   "metadata": {},
   "outputs": [],
   "source": [
    "targets, covariates = load_realtime_training_data()"
   ]
  },
  {
   "cell_type": "code",
   "execution_count": 10,
   "id": "80d3983c-d70f-40bb-9813-2dd350876bb8",
   "metadata": {},
   "outputs": [],
   "source": [
    "targets_train, targets_validation = train_validation_split(targets, 2022)"
   ]
  },
  {
   "cell_type": "code",
   "execution_count": 11,
   "id": "2b675fa8-aac9-4f2d-ab66-c1e0a2cf6d00",
   "metadata": {},
   "outputs": [
    {
     "data": {
      "text/plain": [
       "<Axes: xlabel='date'>"
      ]
     },
     "execution_count": 11,
     "metadata": {},
     "output_type": "execute_result"
    },
    {
     "data": {
      "image/png": "[encoded data removed]",
      "text/plain": [
       "<Figure size 640x480 with 1 Axes>"
      ]
     },
     "metadata": {},
     "output_type": "display_data"
    }
   ],
   "source": [
    "targets_validation['icosari-sari-DE'].plot(label='validation')\n",
    "targets_train['icosari-sari-DE'].plot(label='train')"
   ]
  },
  {
   "cell_type": "markdown",
   "id": "c6e37278-b868-4bb4-b822-28f7a156f11c",
   "metadata": {},
   "source": [
    "# Expanding window with multiple runs"
   ]
  },
  {
   "cell_type": "code",
   "execution_count": 12,
   "id": "875d7999-cf36-4e45-8bf0-3744f41af610",
   "metadata": {},
   "outputs": [],
   "source": [
    "VALIDATION_YEARS = [2022]"
   ]
  },
  {
   "cell_type": "code",
   "execution_count": 13,
   "id": "dc0b0ec6-fe13-499a-96a1-db1d86b76439",
   "metadata": {},
   "outputs": [],
   "source": [
    "RANDOM_SEEDS = [1]"
   ]
  },
  {
   "cell_type": "code",
   "execution_count": 14,
   "id": "2c3a7d21-2362-4418-bcf3-4785bb693036",
   "metadata": {},
   "outputs": [],
   "source": [
    "custom_weights = exclude_covid_weights(targets)"
   ]
  },
  {
   "cell_type": "code",
   "execution_count": 15,
   "id": "606e3d45-a602-4f5f-a368-163d454cfef5",
   "metadata": {},
   "outputs": [],
   "source": [
    "# Expanding window\n",
    "def objective(config):\n",
    "    multiple_series = config.multiple_series\n",
    "    use_covariates = config.use_covariates\n",
    "    use_features = config.use_features\n",
    "    use_encoders = config.use_encoders\n",
    "    sample_weight = config.sample_weight\n",
    "    \n",
    "    scores = []\n",
    "    for validation_year in VALIDATION_YEARS:\n",
    "        targets_train, targets_validation = train_validation_split(targets, validation_year)\n",
    "        scores_year = []\n",
    "        for seed in RANDOM_SEEDS:\n",
    "            model = LightGBMModel(\n",
    "                lags=config.lags,\n",
    "                lags_past_covariates=config.lags_past_covariates if use_covariates else None,\n",
    "                lags_future_covariates=config.lags_future_covariates if use_encoders else None,\n",
    "                num_leaves=config.num_leaves,\n",
    "                max_depth=config.max_depth,\n",
    "                learning_rate=config.learning_rate,\n",
    "                n_estimators=config.n_estimators,\n",
    "                min_child_samples=config.min_child_samples, \n",
    "                subsample=config.subsample, \n",
    "                colsample_bytree=config.colsample_bytree,  \n",
    "                reg_alpha=config.reg_alpha,  # L1 regularization\n",
    "                reg_lambda=config.reg_lambda,  # L2 regularization\n",
    "                subsample_freq=config.subsample_freq, \n",
    "                min_split_gain=config.min_split_gain,  \n",
    "                max_bin=config.max_bin,  \n",
    "                use_static_covariates=config.use_static_covariates,\n",
    "                add_encoders=ENCODERS if use_encoders else None,\n",
    "                verbose=-1,\n",
    "                likelihood=\"quantile\",\n",
    "                quantiles=QUANTILES,\n",
    "\n",
    "                **SHARED_ARGS,\n",
    "                random_state=seed\n",
    "            )\n",
    "            \n",
    "            score = compute_validation_score(model, targets_train, targets_validation, covariates if use_covariates else None, \n",
    "                                             HORIZON, NUM_SAMPLES, METRIC, METRIC_KWARGS,\n",
    "                                             sample_weight=custom_weights if sample_weight == \"no-covid\" else sample_weight)\n",
    "            scores.append(score)\n",
    "            scores_year.append(score)\n",
    "            wandb.log({f'WIS_{validation_year}_{seed}' : score})\n",
    "            \n",
    "        \n",
    "        wandb.log({f'WIS_{validation_year}' : np.mean(scores_year)})\n",
    "        wandb.log({f'WIS_std_{validation_year}' : np.std(scores_year)})\n",
    "            \n",
    "    avg_score = np.mean(scores) # average across all runs\n",
    "    std = np.std(scores)\n",
    "    \n",
    "    wandb.log({'WIS_std' : std})\n",
    "\n",
    "    return avg_score"
   ]
  },
  {
   "cell_type": "markdown",
   "id": "a863b7b1-5274-49a7-a861-8e39d463aba3",
   "metadata": {},
   "source": [
    "### Run tuning"
   ]
  },
  {
   "cell_type": "code",
   "execution_count": 16,
   "id": "e8a734a8-4bb5-48bb-957d-e6f7f90a441a",
   "metadata": {},
   "outputs": [],
   "source": [
    "def main():\n",
    "    run = wandb.init()\n",
    "    score = objective(wandb.config)\n",
    "    wandb.log({\"WIS\": score})\n",
    "    run.finish()"
   ]
  },
  {
   "cell_type": "code",
   "execution_count": 17,
   "id": "bd213a14-90b7-4346-879b-b63d72c58b7f",
   "metadata": {},
   "outputs": [
    {
     "name": "stdout",
     "output_type": "stream",
     "text": [
      "Create sweep with ID: 04mzwpfu\n",
      "Sweep URL: https://wandb.ai/dwolffram-karlsruhe-institute-of-technology/sari-lightgbm/sweeps/04mzwpfu\n"
     ]
    }
   ],
   "source": [
    "sweep_id = wandb.sweep(sweep=sweep_configuration, project=\"sari-lightgbm\")"
   ]
  },
  {
   "cell_type": "code",
   "execution_count": null,
   "id": "ee89be52-334d-4c9a-a4c1-832f59cbe1a4",
   "metadata": {},
   "outputs": [
    {
     "name": "stderr",
     "output_type": "stream",
     "text": [
      "\u001b[34m\u001b[1mwandb\u001b[0m: Agent Starting Run: ofjb6yiv with config:\n",
      "\u001b[34m\u001b[1mwandb\u001b[0m: \tcolsample_bytree: 0.8\n",
      "\u001b[34m\u001b[1mwandb\u001b[0m: \tlags: 8\n",
      "\u001b[34m\u001b[1mwandb\u001b[0m: \tlags_future_covariates: [0, 1]\n",
      "\u001b[34m\u001b[1mwandb\u001b[0m: \tlags_past_covariates: {'agi-are-00-04': 8, 'agi-are-05-14': 8, 'agi-are-15-34': 8, 'agi-are-35-59': 8, 'agi-are-60+': 8, 'agi-are-DE': 8, 'default_lags': 1}\n",
      "\u001b[34m\u001b[1mwandb\u001b[0m: \tlearning_rate: 0.01\n",
      "\u001b[34m\u001b[1mwandb\u001b[0m: \tmax_bin: 1024\n",
      "\u001b[34m\u001b[1mwandb\u001b[0m: \tmax_depth: -1\n",
      "\u001b[34m\u001b[1mwandb\u001b[0m: \tmin_child_samples: 10\n",
      "\u001b[34m\u001b[1mwandb\u001b[0m: \tmin_split_gain: 0\n",
      "\u001b[34m\u001b[1mwandb\u001b[0m: \tmodel: lightgbm\n",
      "\u001b[34m\u001b[1mwandb\u001b[0m: \tmultiple_series: False\n",
      "\u001b[34m\u001b[1mwandb\u001b[0m: \tn_estimators: 500\n",
      "\u001b[34m\u001b[1mwandb\u001b[0m: \tnum_leaves: 20\n",
      "\u001b[34m\u001b[1mwandb\u001b[0m: \treg_alpha: 0\n",
      "\u001b[34m\u001b[1mwandb\u001b[0m: \treg_lambda: 0\n",
      "\u001b[34m\u001b[1mwandb\u001b[0m: \tsample_weight: linear\n",
      "\u001b[34m\u001b[1mwandb\u001b[0m: \tsubsample: 0.8\n",
      "\u001b[34m\u001b[1mwandb\u001b[0m: \tsubsample_freq: 1\n",
      "\u001b[34m\u001b[1mwandb\u001b[0m: \tuse_covariates: True\n",
      "\u001b[34m\u001b[1mwandb\u001b[0m: \tuse_encoders: True\n",
      "\u001b[34m\u001b[1mwandb\u001b[0m: \tuse_features: False\n",
      "\u001b[34m\u001b[1mwandb\u001b[0m: \tuse_static_covariates: False\n",
      "Failed to detect the name of this notebook, you can set it manually with the WANDB_NOTEBOOK_NAME environment variable to enable code saving.\n"
     ]
    },
    {
     "data": {
      "text/html": [
       "Tracking run with wandb version 0.18.0"
      ],
      "text/plain": [
       "<IPython.core.display.HTML object>"
      ]
     },
     "metadata": {},
     "output_type": "display_data"
    },
    {
     "data": {
      "text/html": [
       "Run data is saved locally in <code>/home/wolffram/SARI-ML/realtime/wandb/run-20241218_162457-ofjb6yiv</code>"
      ],
      "text/plain": [
       "<IPython.core.display.HTML object>"
      ]
     },
     "metadata": {},
     "output_type": "display_data"
    },
    {
     "data": {
      "text/html": [
       "Syncing run <strong><a href='https://wandb.ai/dwolffram-karlsruhe-institute-of-technology/sari-lightgbm/runs/ofjb6yiv' target=\"_blank\">ethereal-sweep-1</a></strong> to <a href='https://wandb.ai/dwolffram-karlsruhe-institute-of-technology/sari-lightgbm' target=\"_blank\">Weights & Biases</a> (<a href='https://wandb.me/run' target=\"_blank\">docs</a>)<br/>Sweep page: <a href='https://wandb.ai/dwolffram-karlsruhe-institute-of-technology/sari-lightgbm/sweeps/04mzwpfu' target=\"_blank\">https://wandb.ai/dwolffram-karlsruhe-institute-of-technology/sari-lightgbm/sweeps/04mzwpfu</a>"
      ],
      "text/plain": [
       "<IPython.core.display.HTML object>"
      ]
     },
     "metadata": {},
     "output_type": "display_data"
    },
    {
     "data": {
      "text/html": [
       " View project at <a href='https://wandb.ai/dwolffram-karlsruhe-institute-of-technology/sari-lightgbm' target=\"_blank\">https://wandb.ai/dwolffram-karlsruhe-institute-of-technology/sari-lightgbm</a>"
      ],
      "text/plain": [
       "<IPython.core.display.HTML object>"
      ]
     },
     "metadata": {},
     "output_type": "display_data"
    },
    {
     "data": {
      "text/html": [
       " View sweep at <a href='https://wandb.ai/dwolffram-karlsruhe-institute-of-technology/sari-lightgbm/sweeps/04mzwpfu' target=\"_blank\">https://wandb.ai/dwolffram-karlsruhe-institute-of-technology/sari-lightgbm/sweeps/04mzwpfu</a>"
      ],
      "text/plain": [
       "<IPython.core.display.HTML object>"
      ]
     },
     "metadata": {},
     "output_type": "display_data"
    },
    {
     "data": {
      "text/html": [
       " View run at <a href='https://wandb.ai/dwolffram-karlsruhe-institute-of-technology/sari-lightgbm/runs/ofjb6yiv' target=\"_blank\">https://wandb.ai/dwolffram-karlsruhe-institute-of-technology/sari-lightgbm/runs/ofjb6yiv</a>"
      ],
      "text/plain": [
       "<IPython.core.display.HTML object>"
      ]
     },
     "metadata": {},
     "output_type": "display_data"
    },
    {
     "data": {
      "application/vnd.jupyter.widget-view+json": {
       "model_id": "63a8927054274e71abd6171151575976",
       "version_major": 2,
       "version_minor": 0
      },
      "text/plain": [
       "VBox(children=(Label(value='0.006 MB of 0.006 MB uploaded\\r'), FloatProgress(value=1.0, max=1.0)))"
      ]
     },
     "metadata": {},
     "output_type": "display_data"
    },
    {
     "data": {
      "text/html": [
       "<style>\n",
       "    table.wandb td:nth-child(1) { padding: 0 10px; text-align: left ; width: auto;} td:nth-child(2) {text-align: left ; width: 100%}\n",
       "    .wandb-row { display: flex; flex-direction: row; flex-wrap: wrap; justify-content: flex-start; width: 100% }\n",
       "    .wandb-col { display: flex; flex-direction: column; flex-basis: 100%; flex: 1; padding: 10px; }\n",
       "    </style>\n",
       "<div class=\"wandb-row\"><div class=\"wandb-col\"><h3>Run history:</h3><br/><table class=\"wandb\"><tr><td>WIS</td><td>▁</td></tr><tr><td>WIS_2022</td><td>▁</td></tr><tr><td>WIS_2022_1</td><td>▁</td></tr><tr><td>WIS_std</td><td>▁</td></tr><tr><td>WIS_std_2022</td><td>▁</td></tr></table><br/></div><div class=\"wandb-col\"><h3>Run summary:</h3><br/><table class=\"wandb\"><tr><td>WIS</td><td>467.59174</td></tr><tr><td>WIS_2022</td><td>467.59174</td></tr><tr><td>WIS_2022_1</td><td>467.59174</td></tr><tr><td>WIS_std</td><td>0</td></tr><tr><td>WIS_std_2022</td><td>0</td></tr></table><br/></div></div>"
      ],
      "text/plain": [
       "<IPython.core.display.HTML object>"
      ]
     },
     "metadata": {},
     "output_type": "display_data"
    },
    {
     "data": {
      "text/html": [
       " View run <strong style=\"color:#cdcd00\">ethereal-sweep-1</strong> at: <a href='https://wandb.ai/dwolffram-karlsruhe-institute-of-technology/sari-lightgbm/runs/ofjb6yiv' target=\"_blank\">https://wandb.ai/dwolffram-karlsruhe-institute-of-technology/sari-lightgbm/runs/ofjb6yiv</a><br/> View project at: <a href='https://wandb.ai/dwolffram-karlsruhe-institute-of-technology/sari-lightgbm' target=\"_blank\">https://wandb.ai/dwolffram-karlsruhe-institute-of-technology/sari-lightgbm</a><br/>Synced 5 W&B file(s), 0 media file(s), 0 artifact file(s) and 0 other file(s)"
      ],
      "text/plain": [
       "<IPython.core.display.HTML object>"
      ]
     },
     "metadata": {},
     "output_type": "display_data"
    },
    {
     "data": {
      "text/html": [
       "Find logs at: <code>./wandb/run-20241218_162457-ofjb6yiv/logs</code>"
      ],
      "text/plain": [
       "<IPython.core.display.HTML object>"
      ]
     },
     "metadata": {},
     "output_type": "display_data"
    },
    {
     "data": {
      "text/html": [
       "There is a new version of wandb available. Please upgrade to wandb==0.19.0"
      ],
      "text/plain": [
       "<IPython.core.display.HTML object>"
      ]
     },
     "metadata": {},
     "output_type": "display_data"
    },
    {
     "name": "stderr",
     "output_type": "stream",
     "text": [
      "\u001b[34m\u001b[1mwandb\u001b[0m: Agent Starting Run: 941mlab8 with config:\n",
      "\u001b[34m\u001b[1mwandb\u001b[0m: \tcolsample_bytree: 0.8\n",
      "\u001b[34m\u001b[1mwandb\u001b[0m: \tlags: 8\n",
      "\u001b[34m\u001b[1mwandb\u001b[0m: \tlags_future_covariates: [0, 1]\n",
      "\u001b[34m\u001b[1mwandb\u001b[0m: \tlags_past_covariates: {'agi-are-00-04': 8, 'agi-are-05-14': 8, 'agi-are-15-34': 8, 'agi-are-35-59': 8, 'agi-are-60+': 8, 'agi-are-DE': 8, 'default_lags': 1}\n",
      "\u001b[34m\u001b[1mwandb\u001b[0m: \tlearning_rate: 0.01\n",
      "\u001b[34m\u001b[1mwandb\u001b[0m: \tmax_bin: 1024\n",
      "\u001b[34m\u001b[1mwandb\u001b[0m: \tmax_depth: -1\n",
      "\u001b[34m\u001b[1mwandb\u001b[0m: \tmin_child_samples: 10\n",
      "\u001b[34m\u001b[1mwandb\u001b[0m: \tmin_split_gain: 0\n",
      "\u001b[34m\u001b[1mwandb\u001b[0m: \tmodel: lightgbm\n",
      "\u001b[34m\u001b[1mwandb\u001b[0m: \tmultiple_series: False\n",
      "\u001b[34m\u001b[1mwandb\u001b[0m: \tn_estimators: 500\n",
      "\u001b[34m\u001b[1mwandb\u001b[0m: \tnum_leaves: 20\n",
      "\u001b[34m\u001b[1mwandb\u001b[0m: \treg_alpha: 0\n",
      "\u001b[34m\u001b[1mwandb\u001b[0m: \treg_lambda: 0\n",
      "\u001b[34m\u001b[1mwandb\u001b[0m: \tsample_weight: linear\n",
      "\u001b[34m\u001b[1mwandb\u001b[0m: \tsubsample: 0.8\n",
      "\u001b[34m\u001b[1mwandb\u001b[0m: \tsubsample_freq: 1\n",
      "\u001b[34m\u001b[1mwandb\u001b[0m: \tuse_covariates: False\n",
      "\u001b[34m\u001b[1mwandb\u001b[0m: \tuse_encoders: True\n",
      "\u001b[34m\u001b[1mwandb\u001b[0m: \tuse_features: False\n",
      "\u001b[34m\u001b[1mwandb\u001b[0m: \tuse_static_covariates: False\n",
      "Failed to detect the name of this notebook, you can set it manually with the WANDB_NOTEBOOK_NAME environment variable to enable code saving.\n"
     ]
    },
    {
     "data": {
      "text/html": [
       "Tracking run with wandb version 0.18.0"
      ],
      "text/plain": [
       "<IPython.core.display.HTML object>"
      ]
     },
     "metadata": {},
     "output_type": "display_data"
    },
    {
     "data": {
      "text/html": [
       "Run data is saved locally in <code>/home/wolffram/SARI-ML/realtime/wandb/run-20241218_162609-941mlab8</code>"
      ],
      "text/plain": [
       "<IPython.core.display.HTML object>"
      ]
     },
     "metadata": {},
     "output_type": "display_data"
    },
    {
     "data": {
      "text/html": [
       "Syncing run <strong><a href='https://wandb.ai/dwolffram-karlsruhe-institute-of-technology/sari-lightgbm/runs/941mlab8' target=\"_blank\">prime-sweep-2</a></strong> to <a href='https://wandb.ai/dwolffram-karlsruhe-institute-of-technology/sari-lightgbm' target=\"_blank\">Weights & Biases</a> (<a href='https://wandb.me/run' target=\"_blank\">docs</a>)<br/>Sweep page: <a href='https://wandb.ai/dwolffram-karlsruhe-institute-of-technology/sari-lightgbm/sweeps/04mzwpfu' target=\"_blank\">https://wandb.ai/dwolffram-karlsruhe-institute-of-technology/sari-lightgbm/sweeps/04mzwpfu</a>"
      ],
      "text/plain": [
       "<IPython.core.display.HTML object>"
      ]
     },
     "metadata": {},
     "output_type": "display_data"
    },
    {
     "data": {
      "text/html": [
       " View project at <a href='https://wandb.ai/dwolffram-karlsruhe-institute-of-technology/sari-lightgbm' target=\"_blank\">https://wandb.ai/dwolffram-karlsruhe-institute-of-technology/sari-lightgbm</a>"
      ],
      "text/plain": [
       "<IPython.core.display.HTML object>"
      ]
     },
     "metadata": {},
     "output_type": "display_data"
    },
    {
     "data": {
      "text/html": [
       " View sweep at <a href='https://wandb.ai/dwolffram-karlsruhe-institute-of-technology/sari-lightgbm/sweeps/04mzwpfu' target=\"_blank\">https://wandb.ai/dwolffram-karlsruhe-institute-of-technology/sari-lightgbm/sweeps/04mzwpfu</a>"
      ],
      "text/plain": [
       "<IPython.core.display.HTML object>"
      ]
     },
     "metadata": {},
     "output_type": "display_data"
    },
    {
     "data": {
      "text/html": [
       " View run at <a href='https://wandb.ai/dwolffram-karlsruhe-institute-of-technology/sari-lightgbm/runs/941mlab8' target=\"_blank\">https://wandb.ai/dwolffram-karlsruhe-institute-of-technology/sari-lightgbm/runs/941mlab8</a>"
      ],
      "text/plain": [
       "<IPython.core.display.HTML object>"
      ]
     },
     "metadata": {},
     "output_type": "display_data"
    },
    {
     "data": {
      "application/vnd.jupyter.widget-view+json": {
       "model_id": "f5982f76af274933adbed1e11501ffde",
       "version_major": 2,
       "version_minor": 0
      },
      "text/plain": [
       "VBox(children=(Label(value='0.006 MB of 0.006 MB uploaded\\r'), FloatProgress(value=1.0, max=1.0)))"
      ]
     },
     "metadata": {},
     "output_type": "display_data"
    },
    {
     "data": {
      "text/html": [
       "<style>\n",
       "    table.wandb td:nth-child(1) { padding: 0 10px; text-align: left ; width: auto;} td:nth-child(2) {text-align: left ; width: 100%}\n",
       "    .wandb-row { display: flex; flex-direction: row; flex-wrap: wrap; justify-content: flex-start; width: 100% }\n",
       "    .wandb-col { display: flex; flex-direction: column; flex-basis: 100%; flex: 1; padding: 10px; }\n",
       "    </style>\n",
       "<div class=\"wandb-row\"><div class=\"wandb-col\"><h3>Run history:</h3><br/><table class=\"wandb\"><tr><td>WIS</td><td>▁</td></tr><tr><td>WIS_2022</td><td>▁</td></tr><tr><td>WIS_2022_1</td><td>▁</td></tr><tr><td>WIS_std</td><td>▁</td></tr><tr><td>WIS_std_2022</td><td>▁</td></tr></table><br/></div><div class=\"wandb-col\"><h3>Run summary:</h3><br/><table class=\"wandb\"><tr><td>WIS</td><td>488.6297</td></tr><tr><td>WIS_2022</td><td>488.6297</td></tr><tr><td>WIS_2022_1</td><td>488.6297</td></tr><tr><td>WIS_std</td><td>0</td></tr><tr><td>WIS_std_2022</td><td>0</td></tr></table><br/></div></div>"
      ],
      "text/plain": [
       "<IPython.core.display.HTML object>"
      ]
     },
     "metadata": {},
     "output_type": "display_data"
    },
    {
     "data": {
      "text/html": [
       " View run <strong style=\"color:#cdcd00\">prime-sweep-2</strong> at: <a href='https://wandb.ai/dwolffram-karlsruhe-institute-of-technology/sari-lightgbm/runs/941mlab8' target=\"_blank\">https://wandb.ai/dwolffram-karlsruhe-institute-of-technology/sari-lightgbm/runs/941mlab8</a><br/> View project at: <a href='https://wandb.ai/dwolffram-karlsruhe-institute-of-technology/sari-lightgbm' target=\"_blank\">https://wandb.ai/dwolffram-karlsruhe-institute-of-technology/sari-lightgbm</a><br/>Synced 5 W&B file(s), 0 media file(s), 0 artifact file(s) and 0 other file(s)"
      ],
      "text/plain": [
       "<IPython.core.display.HTML object>"
      ]
     },
     "metadata": {},
     "output_type": "display_data"
    },
    {
     "data": {
      "text/html": [
       "Find logs at: <code>./wandb/run-20241218_162609-941mlab8/logs</code>"
      ],
      "text/plain": [
       "<IPython.core.display.HTML object>"
      ]
     },
     "metadata": {},
     "output_type": "display_data"
    },
    {
     "data": {
      "text/html": [
       "There is a new version of wandb available. Please upgrade to wandb==0.19.0"
      ],
      "text/plain": [
       "<IPython.core.display.HTML object>"
      ]
     },
     "metadata": {},
     "output_type": "display_data"
    },
    {
     "name": "stderr",
     "output_type": "stream",
     "text": [
      "\u001b[34m\u001b[1mwandb\u001b[0m: Agent Starting Run: 0m900igo with config:\n",
      "\u001b[34m\u001b[1mwandb\u001b[0m: \tcolsample_bytree: 0.8\n",
      "\u001b[34m\u001b[1mwandb\u001b[0m: \tlags: 8\n",
      "\u001b[34m\u001b[1mwandb\u001b[0m: \tlags_future_covariates: [0, 1]\n",
      "\u001b[34m\u001b[1mwandb\u001b[0m: \tlags_past_covariates: {'agi-are-00-04': 8, 'agi-are-05-14': 8, 'agi-are-15-34': 8, 'agi-are-35-59': 8, 'agi-are-60+': 8, 'agi-are-DE': 8, 'default_lags': 1}\n",
      "\u001b[34m\u001b[1mwandb\u001b[0m: \tlearning_rate: 0.01\n",
      "\u001b[34m\u001b[1mwandb\u001b[0m: \tmax_bin: 1024\n",
      "\u001b[34m\u001b[1mwandb\u001b[0m: \tmax_depth: -1\n",
      "\u001b[34m\u001b[1mwandb\u001b[0m: \tmin_child_samples: 10\n",
      "\u001b[34m\u001b[1mwandb\u001b[0m: \tmin_split_gain: 0\n",
      "\u001b[34m\u001b[1mwandb\u001b[0m: \tmodel: lightgbm\n",
      "\u001b[34m\u001b[1mwandb\u001b[0m: \tmultiple_series: False\n",
      "\u001b[34m\u001b[1mwandb\u001b[0m: \tn_estimators: 500\n",
      "\u001b[34m\u001b[1mwandb\u001b[0m: \tnum_leaves: 20\n",
      "\u001b[34m\u001b[1mwandb\u001b[0m: \treg_alpha: 0\n",
      "\u001b[34m\u001b[1mwandb\u001b[0m: \treg_lambda: 0\n",
      "\u001b[34m\u001b[1mwandb\u001b[0m: \tsample_weight: no-covid\n",
      "\u001b[34m\u001b[1mwandb\u001b[0m: \tsubsample: 0.8\n",
      "\u001b[34m\u001b[1mwandb\u001b[0m: \tsubsample_freq: 1\n",
      "\u001b[34m\u001b[1mwandb\u001b[0m: \tuse_covariates: True\n",
      "\u001b[34m\u001b[1mwandb\u001b[0m: \tuse_encoders: True\n",
      "\u001b[34m\u001b[1mwandb\u001b[0m: \tuse_features: False\n",
      "\u001b[34m\u001b[1mwandb\u001b[0m: \tuse_static_covariates: False\n",
      "Failed to detect the name of this notebook, you can set it manually with the WANDB_NOTEBOOK_NAME environment variable to enable code saving.\n"
     ]
    },
    {
     "data": {
      "text/html": [
       "Tracking run with wandb version 0.18.0"
      ],
      "text/plain": [
       "<IPython.core.display.HTML object>"
      ]
     },
     "metadata": {},
     "output_type": "display_data"
    },
    {
     "data": {
      "text/html": [
       "Run data is saved locally in <code>/home/wolffram/SARI-ML/realtime/wandb/run-20241218_162711-0m900igo</code>"
      ],
      "text/plain": [
       "<IPython.core.display.HTML object>"
      ]
     },
     "metadata": {},
     "output_type": "display_data"
    },
    {
     "data": {
      "text/html": [
       "Syncing run <strong><a href='https://wandb.ai/dwolffram-karlsruhe-institute-of-technology/sari-lightgbm/runs/0m900igo' target=\"_blank\">neat-sweep-3</a></strong> to <a href='https://wandb.ai/dwolffram-karlsruhe-institute-of-technology/sari-lightgbm' target=\"_blank\">Weights & Biases</a> (<a href='https://wandb.me/run' target=\"_blank\">docs</a>)<br/>Sweep page: <a href='https://wandb.ai/dwolffram-karlsruhe-institute-of-technology/sari-lightgbm/sweeps/04mzwpfu' target=\"_blank\">https://wandb.ai/dwolffram-karlsruhe-institute-of-technology/sari-lightgbm/sweeps/04mzwpfu</a>"
      ],
      "text/plain": [
       "<IPython.core.display.HTML object>"
      ]
     },
     "metadata": {},
     "output_type": "display_data"
    },
    {
     "data": {
      "text/html": [
       " View project at <a href='https://wandb.ai/dwolffram-karlsruhe-institute-of-technology/sari-lightgbm' target=\"_blank\">https://wandb.ai/dwolffram-karlsruhe-institute-of-technology/sari-lightgbm</a>"
      ],
      "text/plain": [
       "<IPython.core.display.HTML object>"
      ]
     },
     "metadata": {},
     "output_type": "display_data"
    },
    {
     "data": {
      "text/html": [
       " View sweep at <a href='https://wandb.ai/dwolffram-karlsruhe-institute-of-technology/sari-lightgbm/sweeps/04mzwpfu' target=\"_blank\">https://wandb.ai/dwolffram-karlsruhe-institute-of-technology/sari-lightgbm/sweeps/04mzwpfu</a>"
      ],
      "text/plain": [
       "<IPython.core.display.HTML object>"
      ]
     },
     "metadata": {},
     "output_type": "display_data"
    },
    {
     "data": {
      "text/html": [
       " View run at <a href='https://wandb.ai/dwolffram-karlsruhe-institute-of-technology/sari-lightgbm/runs/0m900igo' target=\"_blank\">https://wandb.ai/dwolffram-karlsruhe-institute-of-technology/sari-lightgbm/runs/0m900igo</a>"
      ],
      "text/plain": [
       "<IPython.core.display.HTML object>"
      ]
     },
     "metadata": {},
     "output_type": "display_data"
    },
    {
     "data": {
      "application/vnd.jupyter.widget-view+json": {
       "model_id": "4f7fc4c4332640ddb21cb6e54c76d410",
       "version_major": 2,
       "version_minor": 0
      },
      "text/plain": [
       "VBox(children=(Label(value='0.006 MB of 0.006 MB uploaded\\r'), FloatProgress(value=1.0, max=1.0)))"
      ]
     },
     "metadata": {},
     "output_type": "display_data"
    },
    {
     "data": {
      "text/html": [
       "<style>\n",
       "    table.wandb td:nth-child(1) { padding: 0 10px; text-align: left ; width: auto;} td:nth-child(2) {text-align: left ; width: 100%}\n",
       "    .wandb-row { display: flex; flex-direction: row; flex-wrap: wrap; justify-content: flex-start; width: 100% }\n",
       "    .wandb-col { display: flex; flex-direction: column; flex-basis: 100%; flex: 1; padding: 10px; }\n",
       "    </style>\n",
       "<div class=\"wandb-row\"><div class=\"wandb-col\"><h3>Run history:</h3><br/><table class=\"wandb\"><tr><td>WIS</td><td>▁</td></tr><tr><td>WIS_2022</td><td>▁</td></tr><tr><td>WIS_2022_1</td><td>▁</td></tr><tr><td>WIS_std</td><td>▁</td></tr><tr><td>WIS_std_2022</td><td>▁</td></tr></table><br/></div><div class=\"wandb-col\"><h3>Run summary:</h3><br/><table class=\"wandb\"><tr><td>WIS</td><td>527.63287</td></tr><tr><td>WIS_2022</td><td>527.63287</td></tr><tr><td>WIS_2022_1</td><td>527.63287</td></tr><tr><td>WIS_std</td><td>0</td></tr><tr><td>WIS_std_2022</td><td>0</td></tr></table><br/></div></div>"
      ],
      "text/plain": [
       "<IPython.core.display.HTML object>"
      ]
     },
     "metadata": {},
     "output_type": "display_data"
    },
    {
     "data": {
      "text/html": [
       " View run <strong style=\"color:#cdcd00\">clear-sweep-4</strong> at: <a href='https://wandb.ai/dwolffram-karlsruhe-institute-of-technology/sari-lightgbm/runs/u257tks9' target=\"_blank\">https://wandb.ai/dwolffram-karlsruhe-institute-of-technology/sari-lightgbm/runs/u257tks9</a><br/> View project at: <a href='https://wandb.ai/dwolffram-karlsruhe-institute-of-technology/sari-lightgbm' target=\"_blank\">https://wandb.ai/dwolffram-karlsruhe-institute-of-technology/sari-lightgbm</a><br/>Synced 5 W&B file(s), 0 media file(s), 0 artifact file(s) and 0 other file(s)"
      ],
      "text/plain": [
       "<IPython.core.display.HTML object>"
      ]
     },
     "metadata": {},
     "output_type": "display_data"
    },
    {
     "data": {
      "text/html": [
       "Find logs at: <code>./wandb/run-20241218_162818-u257tks9/logs</code>"
      ],
      "text/plain": [
       "<IPython.core.display.HTML object>"
      ]
     },
     "metadata": {},
     "output_type": "display_data"
    },
    {
     "data": {
      "text/html": [
       "There is a new version of wandb available. Please upgrade to wandb==0.19.0"
      ],
      "text/plain": [
       "<IPython.core.display.HTML object>"
      ]
     },
     "metadata": {},
     "output_type": "display_data"
    },
    {
     "name": "stderr",
     "output_type": "stream",
     "text": [
      "\u001b[34m\u001b[1mwandb\u001b[0m: Agent Starting Run: fzxk2a81 with config:\n",
      "\u001b[34m\u001b[1mwandb\u001b[0m: \tcolsample_bytree: 0.8\n",
      "\u001b[34m\u001b[1mwandb\u001b[0m: \tlags: 8\n",
      "\u001b[34m\u001b[1mwandb\u001b[0m: \tlags_future_covariates: [0, 1]\n",
      "\u001b[34m\u001b[1mwandb\u001b[0m: \tlags_past_covariates: {'agi-are-00-04': 8, 'agi-are-05-14': 8, 'agi-are-15-34': 8, 'agi-are-35-59': 8, 'agi-are-60+': 8, 'agi-are-DE': 8, 'default_lags': 1}\n",
      "\u001b[34m\u001b[1mwandb\u001b[0m: \tlearning_rate: 0.01\n",
      "\u001b[34m\u001b[1mwandb\u001b[0m: \tmax_bin: 1024\n",
      "\u001b[34m\u001b[1mwandb\u001b[0m: \tmax_depth: -1\n",
      "\u001b[34m\u001b[1mwandb\u001b[0m: \tmin_child_samples: 10\n",
      "\u001b[34m\u001b[1mwandb\u001b[0m: \tmin_split_gain: 0\n",
      "\u001b[34m\u001b[1mwandb\u001b[0m: \tmodel: lightgbm\n",
      "\u001b[34m\u001b[1mwandb\u001b[0m: \tmultiple_series: False\n",
      "\u001b[34m\u001b[1mwandb\u001b[0m: \tn_estimators: 500\n",
      "\u001b[34m\u001b[1mwandb\u001b[0m: \tnum_leaves: 20\n",
      "\u001b[34m\u001b[1mwandb\u001b[0m: \treg_alpha: 0\n",
      "\u001b[34m\u001b[1mwandb\u001b[0m: \treg_lambda: 0.5\n",
      "\u001b[34m\u001b[1mwandb\u001b[0m: \tsample_weight: linear\n",
      "\u001b[34m\u001b[1mwandb\u001b[0m: \tsubsample: 0.8\n",
      "\u001b[34m\u001b[1mwandb\u001b[0m: \tsubsample_freq: 1\n",
      "\u001b[34m\u001b[1mwandb\u001b[0m: \tuse_covariates: True\n",
      "\u001b[34m\u001b[1mwandb\u001b[0m: \tuse_encoders: True\n",
      "\u001b[34m\u001b[1mwandb\u001b[0m: \tuse_features: False\n",
      "\u001b[34m\u001b[1mwandb\u001b[0m: \tuse_static_covariates: False\n",
      "Failed to detect the name of this notebook, you can set it manually with the WANDB_NOTEBOOK_NAME environment variable to enable code saving.\n"
     ]
    },
    {
     "data": {
      "text/html": [
       "Tracking run with wandb version 0.18.0"
      ],
      "text/plain": [
       "<IPython.core.display.HTML object>"
      ]
     },
     "metadata": {},
     "output_type": "display_data"
    },
    {
     "data": {
      "text/html": [
       "Run data is saved locally in <code>/home/wolffram/SARI-ML/realtime/wandb/run-20241218_162920-fzxk2a81</code>"
      ],
      "text/plain": [
       "<IPython.core.display.HTML object>"
      ]
     },
     "metadata": {},
     "output_type": "display_data"
    },
    {
     "data": {
      "text/html": [
       "Syncing run <strong><a href='https://wandb.ai/dwolffram-karlsruhe-institute-of-technology/sari-lightgbm/runs/fzxk2a81' target=\"_blank\">different-sweep-5</a></strong> to <a href='https://wandb.ai/dwolffram-karlsruhe-institute-of-technology/sari-lightgbm' target=\"_blank\">Weights & Biases</a> (<a href='https://wandb.me/run' target=\"_blank\">docs</a>)<br/>Sweep page: <a href='https://wandb.ai/dwolffram-karlsruhe-institute-of-technology/sari-lightgbm/sweeps/04mzwpfu' target=\"_blank\">https://wandb.ai/dwolffram-karlsruhe-institute-of-technology/sari-lightgbm/sweeps/04mzwpfu</a>"
      ],
      "text/plain": [
       "<IPython.core.display.HTML object>"
      ]
     },
     "metadata": {},
     "output_type": "display_data"
    },
    {
     "data": {
      "text/html": [
       " View project at <a href='https://wandb.ai/dwolffram-karlsruhe-institute-of-technology/sari-lightgbm' target=\"_blank\">https://wandb.ai/dwolffram-karlsruhe-institute-of-technology/sari-lightgbm</a>"
      ],
      "text/plain": [
       "<IPython.core.display.HTML object>"
      ]
     },
     "metadata": {},
     "output_type": "display_data"
    },
    {
     "data": {
      "text/html": [
       " View sweep at <a href='https://wandb.ai/dwolffram-karlsruhe-institute-of-technology/sari-lightgbm/sweeps/04mzwpfu' target=\"_blank\">https://wandb.ai/dwolffram-karlsruhe-institute-of-technology/sari-lightgbm/sweeps/04mzwpfu</a>"
      ],
      "text/plain": [
       "<IPython.core.display.HTML object>"
      ]
     },
     "metadata": {},
     "output_type": "display_data"
    },
    {
     "data": {
      "text/html": [
       " View run at <a href='https://wandb.ai/dwolffram-karlsruhe-institute-of-technology/sari-lightgbm/runs/fzxk2a81' target=\"_blank\">https://wandb.ai/dwolffram-karlsruhe-institute-of-technology/sari-lightgbm/runs/fzxk2a81</a>"
      ],
      "text/plain": [
       "<IPython.core.display.HTML object>"
      ]
     },
     "metadata": {},
     "output_type": "display_data"
    },
    {
     "data": {
      "application/vnd.jupyter.widget-view+json": {
       "model_id": "85dfb164b4694bddbb54078afcff4628",
       "version_major": 2,
       "version_minor": 0
      },
      "text/plain": [
       "VBox(children=(Label(value='0.006 MB of 0.006 MB uploaded\\r'), FloatProgress(value=1.0, max=1.0)))"
      ]
     },
     "metadata": {},
     "output_type": "display_data"
    },
    {
     "data": {
      "text/html": [
       "<style>\n",
       "    table.wandb td:nth-child(1) { padding: 0 10px; text-align: left ; width: auto;} td:nth-child(2) {text-align: left ; width: 100%}\n",
       "    .wandb-row { display: flex; flex-direction: row; flex-wrap: wrap; justify-content: flex-start; width: 100% }\n",
       "    .wandb-col { display: flex; flex-direction: column; flex-basis: 100%; flex: 1; padding: 10px; }\n",
       "    </style>\n",
       "<div class=\"wandb-row\"><div class=\"wandb-col\"><h3>Run history:</h3><br/><table class=\"wandb\"><tr><td>WIS</td><td>▁</td></tr><tr><td>WIS_2022</td><td>▁</td></tr><tr><td>WIS_2022_1</td><td>▁</td></tr><tr><td>WIS_std</td><td>▁</td></tr><tr><td>WIS_std_2022</td><td>▁</td></tr></table><br/></div><div class=\"wandb-col\"><h3>Run summary:</h3><br/><table class=\"wandb\"><tr><td>WIS</td><td>455.38209</td></tr><tr><td>WIS_2022</td><td>455.38209</td></tr><tr><td>WIS_2022_1</td><td>455.38209</td></tr><tr><td>WIS_std</td><td>0</td></tr><tr><td>WIS_std_2022</td><td>0</td></tr></table><br/></div></div>"
      ],
      "text/plain": [
       "<IPython.core.display.HTML object>"
      ]
     },
     "metadata": {},
     "output_type": "display_data"
    },
    {
     "data": {
      "text/html": [
       " View run <strong style=\"color:#cdcd00\">different-sweep-5</strong> at: <a href='https://wandb.ai/dwolffram-karlsruhe-institute-of-technology/sari-lightgbm/runs/fzxk2a81' target=\"_blank\">https://wandb.ai/dwolffram-karlsruhe-institute-of-technology/sari-lightgbm/runs/fzxk2a81</a><br/> View project at: <a href='https://wandb.ai/dwolffram-karlsruhe-institute-of-technology/sari-lightgbm' target=\"_blank\">https://wandb.ai/dwolffram-karlsruhe-institute-of-technology/sari-lightgbm</a><br/>Synced 5 W&B file(s), 0 media file(s), 0 artifact file(s) and 0 other file(s)"
      ],
      "text/plain": [
       "<IPython.core.display.HTML object>"
      ]
     },
     "metadata": {},
     "output_type": "display_data"
    },
    {
     "data": {
      "text/html": [
       "Find logs at: <code>./wandb/run-20241218_162920-fzxk2a81/logs</code>"
      ],
      "text/plain": [
       "<IPython.core.display.HTML object>"
      ]
     },
     "metadata": {},
     "output_type": "display_data"
    },
    {
     "data": {
      "text/html": [
       "There is a new version of wandb available. Please upgrade to wandb==0.19.0"
      ],
      "text/plain": [
       "<IPython.core.display.HTML object>"
      ]
     },
     "metadata": {},
     "output_type": "display_data"
    },
    {
     "name": "stderr",
     "output_type": "stream",
     "text": [
      "\u001b[34m\u001b[1mwandb\u001b[0m: Agent Starting Run: b6x7ee9j with config:\n",
      "\u001b[34m\u001b[1mwandb\u001b[0m: \tcolsample_bytree: 0.8\n",
      "\u001b[34m\u001b[1mwandb\u001b[0m: \tlags: 8\n",
      "\u001b[34m\u001b[1mwandb\u001b[0m: \tlags_future_covariates: [0, 1]\n",
      "\u001b[34m\u001b[1mwandb\u001b[0m: \tlags_past_covariates: {'agi-are-00-04': 8, 'agi-are-05-14': 8, 'agi-are-15-34': 8, 'agi-are-35-59': 8, 'agi-are-60+': 8, 'agi-are-DE': 8, 'default_lags': 1}\n",
      "\u001b[34m\u001b[1mwandb\u001b[0m: \tlearning_rate: 0.01\n",
      "\u001b[34m\u001b[1mwandb\u001b[0m: \tmax_bin: 1024\n",
      "\u001b[34m\u001b[1mwandb\u001b[0m: \tmax_depth: -1\n",
      "\u001b[34m\u001b[1mwandb\u001b[0m: \tmin_child_samples: 10\n",
      "\u001b[34m\u001b[1mwandb\u001b[0m: \tmin_split_gain: 0\n",
      "\u001b[34m\u001b[1mwandb\u001b[0m: \tmodel: lightgbm\n",
      "\u001b[34m\u001b[1mwandb\u001b[0m: \tmultiple_series: False\n",
      "\u001b[34m\u001b[1mwandb\u001b[0m: \tn_estimators: 500\n",
      "\u001b[34m\u001b[1mwandb\u001b[0m: \tnum_leaves: 20\n",
      "\u001b[34m\u001b[1mwandb\u001b[0m: \treg_alpha: 0\n",
      "\u001b[34m\u001b[1mwandb\u001b[0m: \treg_lambda: 0.5\n",
      "\u001b[34m\u001b[1mwandb\u001b[0m: \tsample_weight: linear\n",
      "\u001b[34m\u001b[1mwandb\u001b[0m: \tsubsample: 0.8\n",
      "\u001b[34m\u001b[1mwandb\u001b[0m: \tsubsample_freq: 1\n",
      "\u001b[34m\u001b[1mwandb\u001b[0m: \tuse_covariates: False\n",
      "\u001b[34m\u001b[1mwandb\u001b[0m: \tuse_encoders: True\n",
      "\u001b[34m\u001b[1mwandb\u001b[0m: \tuse_features: False\n",
      "\u001b[34m\u001b[1mwandb\u001b[0m: \tuse_static_covariates: False\n",
      "Failed to detect the name of this notebook, you can set it manually with the WANDB_NOTEBOOK_NAME environment variable to enable code saving.\n"
     ]
    },
    {
     "data": {
      "text/html": [
       "Tracking run with wandb version 0.18.0"
      ],
      "text/plain": [
       "<IPython.core.display.HTML object>"
      ]
     },
     "metadata": {},
     "output_type": "display_data"
    },
    {
     "data": {
      "text/html": [
       "Run data is saved locally in <code>/home/wolffram/SARI-ML/realtime/wandb/run-20241218_163022-b6x7ee9j</code>"
      ],
      "text/plain": [
       "<IPython.core.display.HTML object>"
      ]
     },
     "metadata": {},
     "output_type": "display_data"
    },
    {
     "data": {
      "text/html": [
       "Syncing run <strong><a href='https://wandb.ai/dwolffram-karlsruhe-institute-of-technology/sari-lightgbm/runs/b6x7ee9j' target=\"_blank\">lively-sweep-6</a></strong> to <a href='https://wandb.ai/dwolffram-karlsruhe-institute-of-technology/sari-lightgbm' target=\"_blank\">Weights & Biases</a> (<a href='https://wandb.me/run' target=\"_blank\">docs</a>)<br/>Sweep page: <a href='https://wandb.ai/dwolffram-karlsruhe-institute-of-technology/sari-lightgbm/sweeps/04mzwpfu' target=\"_blank\">https://wandb.ai/dwolffram-karlsruhe-institute-of-technology/sari-lightgbm/sweeps/04mzwpfu</a>"
      ],
      "text/plain": [
       "<IPython.core.display.HTML object>"
      ]
     },
     "metadata": {},
     "output_type": "display_data"
    },
    {
     "data": {
      "text/html": [
       " View project at <a href='https://wandb.ai/dwolffram-karlsruhe-institute-of-technology/sari-lightgbm' target=\"_blank\">https://wandb.ai/dwolffram-karlsruhe-institute-of-technology/sari-lightgbm</a>"
      ],
      "text/plain": [
       "<IPython.core.display.HTML object>"
      ]
     },
     "metadata": {},
     "output_type": "display_data"
    },
    {
     "data": {
      "text/html": [
       " View sweep at <a href='https://wandb.ai/dwolffram-karlsruhe-institute-of-technology/sari-lightgbm/sweeps/04mzwpfu' target=\"_blank\">https://wandb.ai/dwolffram-karlsruhe-institute-of-technology/sari-lightgbm/sweeps/04mzwpfu</a>"
      ],
      "text/plain": [
       "<IPython.core.display.HTML object>"
      ]
     },
     "metadata": {},
     "output_type": "display_data"
    },
    {
     "data": {
      "text/html": [
       " View run at <a href='https://wandb.ai/dwolffram-karlsruhe-institute-of-technology/sari-lightgbm/runs/b6x7ee9j' target=\"_blank\">https://wandb.ai/dwolffram-karlsruhe-institute-of-technology/sari-lightgbm/runs/b6x7ee9j</a>"
      ],
      "text/plain": [
       "<IPython.core.display.HTML object>"
      ]
     },
     "metadata": {},
     "output_type": "display_data"
    },
    {
     "data": {
      "application/vnd.jupyter.widget-view+json": {
       "model_id": "0668f61541fd47ea968f42f5ede9d684",
       "version_major": 2,
       "version_minor": 0
      },
      "text/plain": [
       "VBox(children=(Label(value='0.006 MB of 0.006 MB uploaded\\r'), FloatProgress(value=1.0, max=1.0)))"
      ]
     },
     "metadata": {},
     "output_type": "display_data"
    },
    {
     "data": {
      "text/html": [
       "<style>\n",
       "    table.wandb td:nth-child(1) { padding: 0 10px; text-align: left ; width: auto;} td:nth-child(2) {text-align: left ; width: 100%}\n",
       "    .wandb-row { display: flex; flex-direction: row; flex-wrap: wrap; justify-content: flex-start; width: 100% }\n",
       "    .wandb-col { display: flex; flex-direction: column; flex-basis: 100%; flex: 1; padding: 10px; }\n",
       "    </style>\n",
       "<div class=\"wandb-row\"><div class=\"wandb-col\"><h3>Run history:</h3><br/><table class=\"wandb\"><tr><td>WIS</td><td>▁</td></tr><tr><td>WIS_2022</td><td>▁</td></tr><tr><td>WIS_2022_1</td><td>▁</td></tr><tr><td>WIS_std</td><td>▁</td></tr><tr><td>WIS_std_2022</td><td>▁</td></tr></table><br/></div><div class=\"wandb-col\"><h3>Run summary:</h3><br/><table class=\"wandb\"><tr><td>WIS</td><td>468.93024</td></tr><tr><td>WIS_2022</td><td>468.93024</td></tr><tr><td>WIS_2022_1</td><td>468.93024</td></tr><tr><td>WIS_std</td><td>0</td></tr><tr><td>WIS_std_2022</td><td>0</td></tr></table><br/></div></div>"
      ],
      "text/plain": [
       "<IPython.core.display.HTML object>"
      ]
     },
     "metadata": {},
     "output_type": "display_data"
    },
    {
     "data": {
      "text/html": [
       " View run <strong style=\"color:#cdcd00\">lively-sweep-6</strong> at: <a href='https://wandb.ai/dwolffram-karlsruhe-institute-of-technology/sari-lightgbm/runs/b6x7ee9j' target=\"_blank\">https://wandb.ai/dwolffram-karlsruhe-institute-of-technology/sari-lightgbm/runs/b6x7ee9j</a><br/> View project at: <a href='https://wandb.ai/dwolffram-karlsruhe-institute-of-technology/sari-lightgbm' target=\"_blank\">https://wandb.ai/dwolffram-karlsruhe-institute-of-technology/sari-lightgbm</a><br/>Synced 5 W&B file(s), 0 media file(s), 0 artifact file(s) and 0 other file(s)"
      ],
      "text/plain": [
       "<IPython.core.display.HTML object>"
      ]
     },
     "metadata": {},
     "output_type": "display_data"
    },
    {
     "data": {
      "text/html": [
       "Find logs at: <code>./wandb/run-20241218_163022-b6x7ee9j/logs</code>"
      ],
      "text/plain": [
       "<IPython.core.display.HTML object>"
      ]
     },
     "metadata": {},
     "output_type": "display_data"
    },
    {
     "data": {
      "text/html": [
       "There is a new version of wandb available. Please upgrade to wandb==0.19.0"
      ],
      "text/plain": [
       "<IPython.core.display.HTML object>"
      ]
     },
     "metadata": {},
     "output_type": "display_data"
    },
    {
     "name": "stderr",
     "output_type": "stream",
     "text": [
      "\u001b[34m\u001b[1mwandb\u001b[0m: Agent Starting Run: 36kz9af6 with config:\n",
      "\u001b[34m\u001b[1mwandb\u001b[0m: \tcolsample_bytree: 0.8\n",
      "\u001b[34m\u001b[1mwandb\u001b[0m: \tlags: 8\n",
      "\u001b[34m\u001b[1mwandb\u001b[0m: \tlags_future_covariates: [0, 1]\n",
      "\u001b[34m\u001b[1mwandb\u001b[0m: \tlags_past_covariates: {'agi-are-00-04': 8, 'agi-are-05-14': 8, 'agi-are-15-34': 8, 'agi-are-35-59': 8, 'agi-are-60+': 8, 'agi-are-DE': 8, 'default_lags': 1}\n",
      "\u001b[34m\u001b[1mwandb\u001b[0m: \tlearning_rate: 0.01\n",
      "\u001b[34m\u001b[1mwandb\u001b[0m: \tmax_bin: 1024\n",
      "\u001b[34m\u001b[1mwandb\u001b[0m: \tmax_depth: -1\n",
      "\u001b[34m\u001b[1mwandb\u001b[0m: \tmin_child_samples: 10\n",
      "\u001b[34m\u001b[1mwandb\u001b[0m: \tmin_split_gain: 0\n",
      "\u001b[34m\u001b[1mwandb\u001b[0m: \tmodel: lightgbm\n",
      "\u001b[34m\u001b[1mwandb\u001b[0m: \tmultiple_series: False\n",
      "\u001b[34m\u001b[1mwandb\u001b[0m: \tn_estimators: 500\n",
      "\u001b[34m\u001b[1mwandb\u001b[0m: \tnum_leaves: 20\n",
      "\u001b[34m\u001b[1mwandb\u001b[0m: \treg_alpha: 0\n",
      "\u001b[34m\u001b[1mwandb\u001b[0m: \treg_lambda: 0.5\n",
      "\u001b[34m\u001b[1mwandb\u001b[0m: \tsample_weight: no-covid\n",
      "\u001b[34m\u001b[1mwandb\u001b[0m: \tsubsample: 0.8\n",
      "\u001b[34m\u001b[1mwandb\u001b[0m: \tsubsample_freq: 1\n",
      "\u001b[34m\u001b[1mwandb\u001b[0m: \tuse_covariates: True\n",
      "\u001b[34m\u001b[1mwandb\u001b[0m: \tuse_encoders: True\n",
      "\u001b[34m\u001b[1mwandb\u001b[0m: \tuse_features: False\n",
      "\u001b[34m\u001b[1mwandb\u001b[0m: \tuse_static_covariates: False\n",
      "Failed to detect the name of this notebook, you can set it manually with the WANDB_NOTEBOOK_NAME environment variable to enable code saving.\n"
     ]
    },
    {
     "data": {
      "text/html": [
       "Tracking run with wandb version 0.18.0"
      ],
      "text/plain": [
       "<IPython.core.display.HTML object>"
      ]
     },
     "metadata": {},
     "output_type": "display_data"
    },
    {
     "data": {
      "text/html": [
       "Run data is saved locally in <code>/home/wolffram/SARI-ML/realtime/wandb/run-20241218_163118-36kz9af6</code>"
      ],
      "text/plain": [
       "<IPython.core.display.HTML object>"
      ]
     },
     "metadata": {},
     "output_type": "display_data"
    },
    {
     "data": {
      "text/html": [
       "Syncing run <strong><a href='https://wandb.ai/dwolffram-karlsruhe-institute-of-technology/sari-lightgbm/runs/36kz9af6' target=\"_blank\">glowing-sweep-7</a></strong> to <a href='https://wandb.ai/dwolffram-karlsruhe-institute-of-technology/sari-lightgbm' target=\"_blank\">Weights & Biases</a> (<a href='https://wandb.me/run' target=\"_blank\">docs</a>)<br/>Sweep page: <a href='https://wandb.ai/dwolffram-karlsruhe-institute-of-technology/sari-lightgbm/sweeps/04mzwpfu' target=\"_blank\">https://wandb.ai/dwolffram-karlsruhe-institute-of-technology/sari-lightgbm/sweeps/04mzwpfu</a>"
      ],
      "text/plain": [
       "<IPython.core.display.HTML object>"
      ]
     },
     "metadata": {},
     "output_type": "display_data"
    },
    {
     "data": {
      "text/html": [
       " View project at <a href='https://wandb.ai/dwolffram-karlsruhe-institute-of-technology/sari-lightgbm' target=\"_blank\">https://wandb.ai/dwolffram-karlsruhe-institute-of-technology/sari-lightgbm</a>"
      ],
      "text/plain": [
       "<IPython.core.display.HTML object>"
      ]
     },
     "metadata": {},
     "output_type": "display_data"
    },
    {
     "data": {
      "text/html": [
       " View sweep at <a href='https://wandb.ai/dwolffram-karlsruhe-institute-of-technology/sari-lightgbm/sweeps/04mzwpfu' target=\"_blank\">https://wandb.ai/dwolffram-karlsruhe-institute-of-technology/sari-lightgbm/sweeps/04mzwpfu</a>"
      ],
      "text/plain": [
       "<IPython.core.display.HTML object>"
      ]
     },
     "metadata": {},
     "output_type": "display_data"
    },
    {
     "data": {
      "text/html": [
       " View run at <a href='https://wandb.ai/dwolffram-karlsruhe-institute-of-technology/sari-lightgbm/runs/36kz9af6' target=\"_blank\">https://wandb.ai/dwolffram-karlsruhe-institute-of-technology/sari-lightgbm/runs/36kz9af6</a>"
      ],
      "text/plain": [
       "<IPython.core.display.HTML object>"
      ]
     },
     "metadata": {},
     "output_type": "display_data"
    },
    {
     "data": {
      "application/vnd.jupyter.widget-view+json": {
       "model_id": "f1bd2796921748fe816cb849c1c473a7",
       "version_major": 2,
       "version_minor": 0
      },
      "text/plain": [
       "VBox(children=(Label(value='0.006 MB of 0.006 MB uploaded\\r'), FloatProgress(value=1.0, max=1.0)))"
      ]
     },
     "metadata": {},
     "output_type": "display_data"
    },
    {
     "data": {
      "text/html": [
       "<style>\n",
       "    table.wandb td:nth-child(1) { padding: 0 10px; text-align: left ; width: auto;} td:nth-child(2) {text-align: left ; width: 100%}\n",
       "    .wandb-row { display: flex; flex-direction: row; flex-wrap: wrap; justify-content: flex-start; width: 100% }\n",
       "    .wandb-col { display: flex; flex-direction: column; flex-basis: 100%; flex: 1; padding: 10px; }\n",
       "    </style>\n",
       "<div class=\"wandb-row\"><div class=\"wandb-col\"><h3>Run history:</h3><br/><table class=\"wandb\"><tr><td>WIS</td><td>▁</td></tr><tr><td>WIS_2022</td><td>▁</td></tr><tr><td>WIS_2022_1</td><td>▁</td></tr><tr><td>WIS_std</td><td>▁</td></tr><tr><td>WIS_std_2022</td><td>▁</td></tr></table><br/></div><div class=\"wandb-col\"><h3>Run summary:</h3><br/><table class=\"wandb\"><tr><td>WIS</td><td>459.3159</td></tr><tr><td>WIS_2022</td><td>459.3159</td></tr><tr><td>WIS_2022_1</td><td>459.3159</td></tr><tr><td>WIS_std</td><td>0</td></tr><tr><td>WIS_std_2022</td><td>0</td></tr></table><br/></div></div>"
      ],
      "text/plain": [
       "<IPython.core.display.HTML object>"
      ]
     },
     "metadata": {},
     "output_type": "display_data"
    },
    {
     "data": {
      "text/html": [
       " View run <strong style=\"color:#cdcd00\">glowing-sweep-7</strong> at: <a href='https://wandb.ai/dwolffram-karlsruhe-institute-of-technology/sari-lightgbm/runs/36kz9af6' target=\"_blank\">https://wandb.ai/dwolffram-karlsruhe-institute-of-technology/sari-lightgbm/runs/36kz9af6</a><br/> View project at: <a href='https://wandb.ai/dwolffram-karlsruhe-institute-of-technology/sari-lightgbm' target=\"_blank\">https://wandb.ai/dwolffram-karlsruhe-institute-of-technology/sari-lightgbm</a><br/>Synced 5 W&B file(s), 0 media file(s), 0 artifact file(s) and 0 other file(s)"
      ],
      "text/plain": [
       "<IPython.core.display.HTML object>"
      ]
     },
     "metadata": {},
     "output_type": "display_data"
    },
    {
     "data": {
      "text/html": [
       "Find logs at: <code>./wandb/run-20241218_163118-36kz9af6/logs</code>"
      ],
      "text/plain": [
       "<IPython.core.display.HTML object>"
      ]
     },
     "metadata": {},
     "output_type": "display_data"
    },
    {
     "data": {
      "text/html": [
       "There is a new version of wandb available. Please upgrade to wandb==0.19.0"
      ],
      "text/plain": [
       "<IPython.core.display.HTML object>"
      ]
     },
     "metadata": {},
     "output_type": "display_data"
    },
    {
     "name": "stderr",
     "output_type": "stream",
     "text": [
      "\u001b[34m\u001b[1mwandb\u001b[0m: Agent Starting Run: qa0nikp6 with config:\n",
      "\u001b[34m\u001b[1mwandb\u001b[0m: \tcolsample_bytree: 0.8\n",
      "\u001b[34m\u001b[1mwandb\u001b[0m: \tlags: 8\n",
      "\u001b[34m\u001b[1mwandb\u001b[0m: \tlags_future_covariates: [0, 1]\n",
      "\u001b[34m\u001b[1mwandb\u001b[0m: \tlags_past_covariates: {'agi-are-00-04': 8, 'agi-are-05-14': 8, 'agi-are-15-34': 8, 'agi-are-35-59': 8, 'agi-are-60+': 8, 'agi-are-DE': 8, 'default_lags': 1}\n",
      "\u001b[34m\u001b[1mwandb\u001b[0m: \tlearning_rate: 0.01\n",
      "\u001b[34m\u001b[1mwandb\u001b[0m: \tmax_bin: 1024\n",
      "\u001b[34m\u001b[1mwandb\u001b[0m: \tmax_depth: -1\n",
      "\u001b[34m\u001b[1mwandb\u001b[0m: \tmin_child_samples: 10\n",
      "\u001b[34m\u001b[1mwandb\u001b[0m: \tmin_split_gain: 0\n",
      "\u001b[34m\u001b[1mwandb\u001b[0m: \tmodel: lightgbm\n",
      "\u001b[34m\u001b[1mwandb\u001b[0m: \tmultiple_series: False\n",
      "\u001b[34m\u001b[1mwandb\u001b[0m: \tn_estimators: 500\n",
      "\u001b[34m\u001b[1mwandb\u001b[0m: \tnum_leaves: 20\n",
      "\u001b[34m\u001b[1mwandb\u001b[0m: \treg_alpha: 0\n",
      "\u001b[34m\u001b[1mwandb\u001b[0m: \treg_lambda: 0.5\n",
      "\u001b[34m\u001b[1mwandb\u001b[0m: \tsample_weight: no-covid\n",
      "\u001b[34m\u001b[1mwandb\u001b[0m: \tsubsample: 0.8\n",
      "\u001b[34m\u001b[1mwandb\u001b[0m: \tsubsample_freq: 1\n",
      "\u001b[34m\u001b[1mwandb\u001b[0m: \tuse_covariates: False\n",
      "\u001b[34m\u001b[1mwandb\u001b[0m: \tuse_encoders: True\n",
      "\u001b[34m\u001b[1mwandb\u001b[0m: \tuse_features: False\n",
      "\u001b[34m\u001b[1mwandb\u001b[0m: \tuse_static_covariates: False\n",
      "Failed to detect the name of this notebook, you can set it manually with the WANDB_NOTEBOOK_NAME environment variable to enable code saving.\n"
     ]
    },
    {
     "data": {
      "text/html": [
       "Tracking run with wandb version 0.18.0"
      ],
      "text/plain": [
       "<IPython.core.display.HTML object>"
      ]
     },
     "metadata": {},
     "output_type": "display_data"
    },
    {
     "data": {
      "text/html": [
       "Run data is saved locally in <code>/home/wolffram/SARI-ML/realtime/wandb/run-20241218_163215-qa0nikp6</code>"
      ],
      "text/plain": [
       "<IPython.core.display.HTML object>"
      ]
     },
     "metadata": {},
     "output_type": "display_data"
    },
    {
     "data": {
      "text/html": [
       "Syncing run <strong><a href='https://wandb.ai/dwolffram-karlsruhe-institute-of-technology/sari-lightgbm/runs/qa0nikp6' target=\"_blank\">zany-sweep-8</a></strong> to <a href='https://wandb.ai/dwolffram-karlsruhe-institute-of-technology/sari-lightgbm' target=\"_blank\">Weights & Biases</a> (<a href='https://wandb.me/run' target=\"_blank\">docs</a>)<br/>Sweep page: <a href='https://wandb.ai/dwolffram-karlsruhe-institute-of-technology/sari-lightgbm/sweeps/04mzwpfu' target=\"_blank\">https://wandb.ai/dwolffram-karlsruhe-institute-of-technology/sari-lightgbm/sweeps/04mzwpfu</a>"
      ],
      "text/plain": [
       "<IPython.core.display.HTML object>"
      ]
     },
     "metadata": {},
     "output_type": "display_data"
    },
    {
     "data": {
      "text/html": [
       " View project at <a href='https://wandb.ai/dwolffram-karlsruhe-institute-of-technology/sari-lightgbm' target=\"_blank\">https://wandb.ai/dwolffram-karlsruhe-institute-of-technology/sari-lightgbm</a>"
      ],
      "text/plain": [
       "<IPython.core.display.HTML object>"
      ]
     },
     "metadata": {},
     "output_type": "display_data"
    },
    {
     "data": {
      "text/html": [
       " View sweep at <a href='https://wandb.ai/dwolffram-karlsruhe-institute-of-technology/sari-lightgbm/sweeps/04mzwpfu' target=\"_blank\">https://wandb.ai/dwolffram-karlsruhe-institute-of-technology/sari-lightgbm/sweeps/04mzwpfu</a>"
      ],
      "text/plain": [
       "<IPython.core.display.HTML object>"
      ]
     },
     "metadata": {},
     "output_type": "display_data"
    },
    {
     "data": {
      "text/html": [
       " View run at <a href='https://wandb.ai/dwolffram-karlsruhe-institute-of-technology/sari-lightgbm/runs/qa0nikp6' target=\"_blank\">https://wandb.ai/dwolffram-karlsruhe-institute-of-technology/sari-lightgbm/runs/qa0nikp6</a>"
      ],
      "text/plain": [
       "<IPython.core.display.HTML object>"
      ]
     },
     "metadata": {},
     "output_type": "display_data"
    },
    {
     "data": {
      "application/vnd.jupyter.widget-view+json": {
       "model_id": "bd890ad1e44346adae3dff82849476e8",
       "version_major": 2,
       "version_minor": 0
      },
      "text/plain": [
       "VBox(children=(Label(value='0.006 MB of 0.006 MB uploaded\\r'), FloatProgress(value=1.0, max=1.0)))"
      ]
     },
     "metadata": {},
     "output_type": "display_data"
    },
    {
     "data": {
      "text/html": [
       "<style>\n",
       "    table.wandb td:nth-child(1) { padding: 0 10px; text-align: left ; width: auto;} td:nth-child(2) {text-align: left ; width: 100%}\n",
       "    .wandb-row { display: flex; flex-direction: row; flex-wrap: wrap; justify-content: flex-start; width: 100% }\n",
       "    .wandb-col { display: flex; flex-direction: column; flex-basis: 100%; flex: 1; padding: 10px; }\n",
       "    </style>\n",
       "<div class=\"wandb-row\"><div class=\"wandb-col\"><h3>Run history:</h3><br/><table class=\"wandb\"><tr><td>WIS</td><td>▁</td></tr><tr><td>WIS_2022</td><td>▁</td></tr><tr><td>WIS_2022_1</td><td>▁</td></tr><tr><td>WIS_std</td><td>▁</td></tr><tr><td>WIS_std_2022</td><td>▁</td></tr></table><br/></div><div class=\"wandb-col\"><h3>Run summary:</h3><br/><table class=\"wandb\"><tr><td>WIS</td><td>519.19334</td></tr><tr><td>WIS_2022</td><td>519.19334</td></tr><tr><td>WIS_2022_1</td><td>519.19334</td></tr><tr><td>WIS_std</td><td>0</td></tr><tr><td>WIS_std_2022</td><td>0</td></tr></table><br/></div></div>"
      ],
      "text/plain": [
       "<IPython.core.display.HTML object>"
      ]
     },
     "metadata": {},
     "output_type": "display_data"
    },
    {
     "data": {
      "text/html": [
       " View run <strong style=\"color:#cdcd00\">zany-sweep-8</strong> at: <a href='https://wandb.ai/dwolffram-karlsruhe-institute-of-technology/sari-lightgbm/runs/qa0nikp6' target=\"_blank\">https://wandb.ai/dwolffram-karlsruhe-institute-of-technology/sari-lightgbm/runs/qa0nikp6</a><br/> View project at: <a href='https://wandb.ai/dwolffram-karlsruhe-institute-of-technology/sari-lightgbm' target=\"_blank\">https://wandb.ai/dwolffram-karlsruhe-institute-of-technology/sari-lightgbm</a><br/>Synced 5 W&B file(s), 0 media file(s), 0 artifact file(s) and 0 other file(s)"
      ],
      "text/plain": [
       "<IPython.core.display.HTML object>"
      ]
     },
     "metadata": {},
     "output_type": "display_data"
    },
    {
     "data": {
      "text/html": [
       "Find logs at: <code>./wandb/run-20241218_163215-qa0nikp6/logs</code>"
      ],
      "text/plain": [
       "<IPython.core.display.HTML object>"
      ]
     },
     "metadata": {},
     "output_type": "display_data"
    },
    {
     "data": {
      "text/html": [
       "There is a new version of wandb available. Please upgrade to wandb==0.19.0"
      ],
      "text/plain": [
       "<IPython.core.display.HTML object>"
      ]
     },
     "metadata": {},
     "output_type": "display_data"
    },
    {
     "name": "stderr",
     "output_type": "stream",
     "text": [
      "\u001b[34m\u001b[1mwandb\u001b[0m: Agent Starting Run: 15vmh61s with config:\n",
      "\u001b[34m\u001b[1mwandb\u001b[0m: \tcolsample_bytree: 0.8\n",
      "\u001b[34m\u001b[1mwandb\u001b[0m: \tlags: 8\n",
      "\u001b[34m\u001b[1mwandb\u001b[0m: \tlags_future_covariates: [0, 1]\n",
      "\u001b[34m\u001b[1mwandb\u001b[0m: \tlags_past_covariates: {'agi-are-00-04': 8, 'agi-are-05-14': 8, 'agi-are-15-34': 8, 'agi-are-35-59': 8, 'agi-are-60+': 8, 'agi-are-DE': 8, 'default_lags': 1}\n",
      "\u001b[34m\u001b[1mwandb\u001b[0m: \tlearning_rate: 0.01\n",
      "\u001b[34m\u001b[1mwandb\u001b[0m: \tmax_bin: 1024\n",
      "\u001b[34m\u001b[1mwandb\u001b[0m: \tmax_depth: -1\n",
      "\u001b[34m\u001b[1mwandb\u001b[0m: \tmin_child_samples: 10\n",
      "\u001b[34m\u001b[1mwandb\u001b[0m: \tmin_split_gain: 0\n",
      "\u001b[34m\u001b[1mwandb\u001b[0m: \tmodel: lightgbm\n",
      "\u001b[34m\u001b[1mwandb\u001b[0m: \tmultiple_series: False\n",
      "\u001b[34m\u001b[1mwandb\u001b[0m: \tn_estimators: 500\n",
      "\u001b[34m\u001b[1mwandb\u001b[0m: \tnum_leaves: 20\n",
      "\u001b[34m\u001b[1mwandb\u001b[0m: \treg_alpha: 0\n",
      "\u001b[34m\u001b[1mwandb\u001b[0m: \treg_lambda: 1\n",
      "\u001b[34m\u001b[1mwandb\u001b[0m: \tsample_weight: linear\n",
      "\u001b[34m\u001b[1mwandb\u001b[0m: \tsubsample: 0.8\n",
      "\u001b[34m\u001b[1mwandb\u001b[0m: \tsubsample_freq: 1\n",
      "\u001b[34m\u001b[1mwandb\u001b[0m: \tuse_covariates: True\n",
      "\u001b[34m\u001b[1mwandb\u001b[0m: \tuse_encoders: True\n",
      "\u001b[34m\u001b[1mwandb\u001b[0m: \tuse_features: False\n",
      "\u001b[34m\u001b[1mwandb\u001b[0m: \tuse_static_covariates: False\n",
      "Failed to detect the name of this notebook, you can set it manually with the WANDB_NOTEBOOK_NAME environment variable to enable code saving.\n"
     ]
    },
    {
     "data": {
      "text/html": [
       "Tracking run with wandb version 0.18.0"
      ],
      "text/plain": [
       "<IPython.core.display.HTML object>"
      ]
     },
     "metadata": {},
     "output_type": "display_data"
    },
    {
     "data": {
      "text/html": [
       "Run data is saved locally in <code>/home/wolffram/SARI-ML/realtime/wandb/run-20241218_163307-15vmh61s</code>"
      ],
      "text/plain": [
       "<IPython.core.display.HTML object>"
      ]
     },
     "metadata": {},
     "output_type": "display_data"
    },
    {
     "data": {
      "text/html": [
       "Syncing run <strong><a href='https://wandb.ai/dwolffram-karlsruhe-institute-of-technology/sari-lightgbm/runs/15vmh61s' target=\"_blank\">pious-sweep-9</a></strong> to <a href='https://wandb.ai/dwolffram-karlsruhe-institute-of-technology/sari-lightgbm' target=\"_blank\">Weights & Biases</a> (<a href='https://wandb.me/run' target=\"_blank\">docs</a>)<br/>Sweep page: <a href='https://wandb.ai/dwolffram-karlsruhe-institute-of-technology/sari-lightgbm/sweeps/04mzwpfu' target=\"_blank\">https://wandb.ai/dwolffram-karlsruhe-institute-of-technology/sari-lightgbm/sweeps/04mzwpfu</a>"
      ],
      "text/plain": [
       "<IPython.core.display.HTML object>"
      ]
     },
     "metadata": {},
     "output_type": "display_data"
    },
    {
     "data": {
      "text/html": [
       " View project at <a href='https://wandb.ai/dwolffram-karlsruhe-institute-of-technology/sari-lightgbm' target=\"_blank\">https://wandb.ai/dwolffram-karlsruhe-institute-of-technology/sari-lightgbm</a>"
      ],
      "text/plain": [
       "<IPython.core.display.HTML object>"
      ]
     },
     "metadata": {},
     "output_type": "display_data"
    },
    {
     "data": {
      "text/html": [
       " View sweep at <a href='https://wandb.ai/dwolffram-karlsruhe-institute-of-technology/sari-lightgbm/sweeps/04mzwpfu' target=\"_blank\">https://wandb.ai/dwolffram-karlsruhe-institute-of-technology/sari-lightgbm/sweeps/04mzwpfu</a>"
      ],
      "text/plain": [
       "<IPython.core.display.HTML object>"
      ]
     },
     "metadata": {},
     "output_type": "display_data"
    },
    {
     "data": {
      "text/html": [
       " View run at <a href='https://wandb.ai/dwolffram-karlsruhe-institute-of-technology/sari-lightgbm/runs/15vmh61s' target=\"_blank\">https://wandb.ai/dwolffram-karlsruhe-institute-of-technology/sari-lightgbm/runs/15vmh61s</a>"
      ],
      "text/plain": [
       "<IPython.core.display.HTML object>"
      ]
     },
     "metadata": {},
     "output_type": "display_data"
    },
    {
     "data": {
      "application/vnd.jupyter.widget-view+json": {
       "model_id": "6396efca74d04ba39979ede8bf8e3a09",
       "version_major": 2,
       "version_minor": 0
      },
      "text/plain": [
       "VBox(children=(Label(value='0.006 MB of 0.006 MB uploaded\\r'), FloatProgress(value=1.0, max=1.0)))"
      ]
     },
     "metadata": {},
     "output_type": "display_data"
    },
    {
     "data": {
      "text/html": [
       "<style>\n",
       "    table.wandb td:nth-child(1) { padding: 0 10px; text-align: left ; width: auto;} td:nth-child(2) {text-align: left ; width: 100%}\n",
       "    .wandb-row { display: flex; flex-direction: row; flex-wrap: wrap; justify-content: flex-start; width: 100% }\n",
       "    .wandb-col { display: flex; flex-direction: column; flex-basis: 100%; flex: 1; padding: 10px; }\n",
       "    </style>\n",
       "<div class=\"wandb-row\"><div class=\"wandb-col\"><h3>Run history:</h3><br/><table class=\"wandb\"><tr><td>WIS</td><td>▁</td></tr><tr><td>WIS_2022</td><td>▁</td></tr><tr><td>WIS_2022_1</td><td>▁</td></tr><tr><td>WIS_std</td><td>▁</td></tr><tr><td>WIS_std_2022</td><td>▁</td></tr></table><br/></div><div class=\"wandb-col\"><h3>Run summary:</h3><br/><table class=\"wandb\"><tr><td>WIS</td><td>455.83274</td></tr><tr><td>WIS_2022</td><td>455.83274</td></tr><tr><td>WIS_2022_1</td><td>455.83274</td></tr><tr><td>WIS_std</td><td>0</td></tr><tr><td>WIS_std_2022</td><td>0</td></tr></table><br/></div></div>"
      ],
      "text/plain": [
       "<IPython.core.display.HTML object>"
      ]
     },
     "metadata": {},
     "output_type": "display_data"
    },
    {
     "data": {
      "text/html": [
       " View run <strong style=\"color:#cdcd00\">pious-sweep-9</strong> at: <a href='https://wandb.ai/dwolffram-karlsruhe-institute-of-technology/sari-lightgbm/runs/15vmh61s' target=\"_blank\">https://wandb.ai/dwolffram-karlsruhe-institute-of-technology/sari-lightgbm/runs/15vmh61s</a><br/> View project at: <a href='https://wandb.ai/dwolffram-karlsruhe-institute-of-technology/sari-lightgbm' target=\"_blank\">https://wandb.ai/dwolffram-karlsruhe-institute-of-technology/sari-lightgbm</a><br/>Synced 5 W&B file(s), 0 media file(s), 0 artifact file(s) and 0 other file(s)"
      ],
      "text/plain": [
       "<IPython.core.display.HTML object>"
      ]
     },
     "metadata": {},
     "output_type": "display_data"
    },
    {
     "data": {
      "text/html": [
       "Find logs at: <code>./wandb/run-20241218_163307-15vmh61s/logs</code>"
      ],
      "text/plain": [
       "<IPython.core.display.HTML object>"
      ]
     },
     "metadata": {},
     "output_type": "display_data"
    },
    {
     "data": {
      "text/html": [
       "There is a new version of wandb available. Please upgrade to wandb==0.19.0"
      ],
      "text/plain": [
       "<IPython.core.display.HTML object>"
      ]
     },
     "metadata": {},
     "output_type": "display_data"
    },
    {
     "name": "stderr",
     "output_type": "stream",
     "text": [
      "\u001b[34m\u001b[1mwandb\u001b[0m: Agent Starting Run: xu0rqyhk with config:\n",
      "\u001b[34m\u001b[1mwandb\u001b[0m: \tcolsample_bytree: 0.8\n",
      "\u001b[34m\u001b[1mwandb\u001b[0m: \tlags: 8\n",
      "\u001b[34m\u001b[1mwandb\u001b[0m: \tlags_future_covariates: [0, 1]\n",
      "\u001b[34m\u001b[1mwandb\u001b[0m: \tlags_past_covariates: {'agi-are-00-04': 8, 'agi-are-05-14': 8, 'agi-are-15-34': 8, 'agi-are-35-59': 8, 'agi-are-60+': 8, 'agi-are-DE': 8, 'default_lags': 1}\n",
      "\u001b[34m\u001b[1mwandb\u001b[0m: \tlearning_rate: 0.01\n",
      "\u001b[34m\u001b[1mwandb\u001b[0m: \tmax_bin: 1024\n",
      "\u001b[34m\u001b[1mwandb\u001b[0m: \tmax_depth: -1\n",
      "\u001b[34m\u001b[1mwandb\u001b[0m: \tmin_child_samples: 10\n",
      "\u001b[34m\u001b[1mwandb\u001b[0m: \tmin_split_gain: 0\n",
      "\u001b[34m\u001b[1mwandb\u001b[0m: \tmodel: lightgbm\n",
      "\u001b[34m\u001b[1mwandb\u001b[0m: \tmultiple_series: False\n",
      "\u001b[34m\u001b[1mwandb\u001b[0m: \tn_estimators: 500\n",
      "\u001b[34m\u001b[1mwandb\u001b[0m: \tnum_leaves: 20\n",
      "\u001b[34m\u001b[1mwandb\u001b[0m: \treg_alpha: 0\n",
      "\u001b[34m\u001b[1mwandb\u001b[0m: \treg_lambda: 1\n",
      "\u001b[34m\u001b[1mwandb\u001b[0m: \tsample_weight: linear\n",
      "\u001b[34m\u001b[1mwandb\u001b[0m: \tsubsample: 0.8\n",
      "\u001b[34m\u001b[1mwandb\u001b[0m: \tsubsample_freq: 1\n",
      "\u001b[34m\u001b[1mwandb\u001b[0m: \tuse_covariates: False\n",
      "\u001b[34m\u001b[1mwandb\u001b[0m: \tuse_encoders: True\n",
      "\u001b[34m\u001b[1mwandb\u001b[0m: \tuse_features: False\n",
      "\u001b[34m\u001b[1mwandb\u001b[0m: \tuse_static_covariates: False\n",
      "Failed to detect the name of this notebook, you can set it manually with the WANDB_NOTEBOOK_NAME environment variable to enable code saving.\n"
     ]
    },
    {
     "data": {
      "text/html": [
       "Tracking run with wandb version 0.18.0"
      ],
      "text/plain": [
       "<IPython.core.display.HTML object>"
      ]
     },
     "metadata": {},
     "output_type": "display_data"
    },
    {
     "data": {
      "text/html": [
       "Run data is saved locally in <code>/home/wolffram/SARI-ML/realtime/wandb/run-20241218_163409-xu0rqyhk</code>"
      ],
      "text/plain": [
       "<IPython.core.display.HTML object>"
      ]
     },
     "metadata": {},
     "output_type": "display_data"
    },
    {
     "data": {
      "text/html": [
       "Syncing run <strong><a href='https://wandb.ai/dwolffram-karlsruhe-institute-of-technology/sari-lightgbm/runs/xu0rqyhk' target=\"_blank\">zesty-sweep-10</a></strong> to <a href='https://wandb.ai/dwolffram-karlsruhe-institute-of-technology/sari-lightgbm' target=\"_blank\">Weights & Biases</a> (<a href='https://wandb.me/run' target=\"_blank\">docs</a>)<br/>Sweep page: <a href='https://wandb.ai/dwolffram-karlsruhe-institute-of-technology/sari-lightgbm/sweeps/04mzwpfu' target=\"_blank\">https://wandb.ai/dwolffram-karlsruhe-institute-of-technology/sari-lightgbm/sweeps/04mzwpfu</a>"
      ],
      "text/plain": [
       "<IPython.core.display.HTML object>"
      ]
     },
     "metadata": {},
     "output_type": "display_data"
    },
    {
     "data": {
      "text/html": [
       " View project at <a href='https://wandb.ai/dwolffram-karlsruhe-institute-of-technology/sari-lightgbm' target=\"_blank\">https://wandb.ai/dwolffram-karlsruhe-institute-of-technology/sari-lightgbm</a>"
      ],
      "text/plain": [
       "<IPython.core.display.HTML object>"
      ]
     },
     "metadata": {},
     "output_type": "display_data"
    },
    {
     "data": {
      "text/html": [
       " View sweep at <a href='https://wandb.ai/dwolffram-karlsruhe-institute-of-technology/sari-lightgbm/sweeps/04mzwpfu' target=\"_blank\">https://wandb.ai/dwolffram-karlsruhe-institute-of-technology/sari-lightgbm/sweeps/04mzwpfu</a>"
      ],
      "text/plain": [
       "<IPython.core.display.HTML object>"
      ]
     },
     "metadata": {},
     "output_type": "display_data"
    },
    {
     "data": {
      "text/html": [
       " View run at <a href='https://wandb.ai/dwolffram-karlsruhe-institute-of-technology/sari-lightgbm/runs/xu0rqyhk' target=\"_blank\">https://wandb.ai/dwolffram-karlsruhe-institute-of-technology/sari-lightgbm/runs/xu0rqyhk</a>"
      ],
      "text/plain": [
       "<IPython.core.display.HTML object>"
      ]
     },
     "metadata": {},
     "output_type": "display_data"
    },
    {
     "data": {
      "application/vnd.jupyter.widget-view+json": {
       "model_id": "0a65911c0ba34e87838f2a023cd7ec6d",
       "version_major": 2,
       "version_minor": 0
      },
      "text/plain": [
       "VBox(children=(Label(value='0.006 MB of 0.006 MB uploaded\\r'), FloatProgress(value=1.0, max=1.0)))"
      ]
     },
     "metadata": {},
     "output_type": "display_data"
    },
    {
     "data": {
      "text/html": [
       "<style>\n",
       "    table.wandb td:nth-child(1) { padding: 0 10px; text-align: left ; width: auto;} td:nth-child(2) {text-align: left ; width: 100%}\n",
       "    .wandb-row { display: flex; flex-direction: row; flex-wrap: wrap; justify-content: flex-start; width: 100% }\n",
       "    .wandb-col { display: flex; flex-direction: column; flex-basis: 100%; flex: 1; padding: 10px; }\n",
       "    </style>\n",
       "<div class=\"wandb-row\"><div class=\"wandb-col\"><h3>Run history:</h3><br/><table class=\"wandb\"><tr><td>WIS</td><td>▁</td></tr><tr><td>WIS_2022</td><td>▁</td></tr><tr><td>WIS_2022_1</td><td>▁</td></tr><tr><td>WIS_std</td><td>▁</td></tr><tr><td>WIS_std_2022</td><td>▁</td></tr></table><br/></div><div class=\"wandb-col\"><h3>Run summary:</h3><br/><table class=\"wandb\"><tr><td>WIS</td><td>469.90397</td></tr><tr><td>WIS_2022</td><td>469.90397</td></tr><tr><td>WIS_2022_1</td><td>469.90397</td></tr><tr><td>WIS_std</td><td>0</td></tr><tr><td>WIS_std_2022</td><td>0</td></tr></table><br/></div></div>"
      ],
      "text/plain": [
       "<IPython.core.display.HTML object>"
      ]
     },
     "metadata": {},
     "output_type": "display_data"
    },
    {
     "data": {
      "text/html": [
       " View run <strong style=\"color:#cdcd00\">zesty-sweep-10</strong> at: <a href='https://wandb.ai/dwolffram-karlsruhe-institute-of-technology/sari-lightgbm/runs/xu0rqyhk' target=\"_blank\">https://wandb.ai/dwolffram-karlsruhe-institute-of-technology/sari-lightgbm/runs/xu0rqyhk</a><br/> View project at: <a href='https://wandb.ai/dwolffram-karlsruhe-institute-of-technology/sari-lightgbm' target=\"_blank\">https://wandb.ai/dwolffram-karlsruhe-institute-of-technology/sari-lightgbm</a><br/>Synced 5 W&B file(s), 0 media file(s), 0 artifact file(s) and 0 other file(s)"
      ],
      "text/plain": [
       "<IPython.core.display.HTML object>"
      ]
     },
     "metadata": {},
     "output_type": "display_data"
    },
    {
     "data": {
      "text/html": [
       "Find logs at: <code>./wandb/run-20241218_163409-xu0rqyhk/logs</code>"
      ],
      "text/plain": [
       "<IPython.core.display.HTML object>"
      ]
     },
     "metadata": {},
     "output_type": "display_data"
    },
    {
     "data": {
      "text/html": [
       "There is a new version of wandb available. Please upgrade to wandb==0.19.0"
      ],
      "text/plain": [
       "<IPython.core.display.HTML object>"
      ]
     },
     "metadata": {},
     "output_type": "display_data"
    },
    {
     "name": "stderr",
     "output_type": "stream",
     "text": [
      "\u001b[34m\u001b[1mwandb\u001b[0m: Agent Starting Run: 95xk33fm with config:\n",
      "\u001b[34m\u001b[1mwandb\u001b[0m: \tcolsample_bytree: 0.8\n",
      "\u001b[34m\u001b[1mwandb\u001b[0m: \tlags: 8\n",
      "\u001b[34m\u001b[1mwandb\u001b[0m: \tlags_future_covariates: [0, 1]\n",
      "\u001b[34m\u001b[1mwandb\u001b[0m: \tlags_past_covariates: {'agi-are-00-04': 8, 'agi-are-05-14': 8, 'agi-are-15-34': 8, 'agi-are-35-59': 8, 'agi-are-60+': 8, 'agi-are-DE': 8, 'default_lags': 1}\n",
      "\u001b[34m\u001b[1mwandb\u001b[0m: \tlearning_rate: 0.01\n",
      "\u001b[34m\u001b[1mwandb\u001b[0m: \tmax_bin: 1024\n",
      "\u001b[34m\u001b[1mwandb\u001b[0m: \tmax_depth: -1\n",
      "\u001b[34m\u001b[1mwandb\u001b[0m: \tmin_child_samples: 10\n",
      "\u001b[34m\u001b[1mwandb\u001b[0m: \tmin_split_gain: 0\n",
      "\u001b[34m\u001b[1mwandb\u001b[0m: \tmodel: lightgbm\n",
      "\u001b[34m\u001b[1mwandb\u001b[0m: \tmultiple_series: False\n",
      "\u001b[34m\u001b[1mwandb\u001b[0m: \tn_estimators: 500\n",
      "\u001b[34m\u001b[1mwandb\u001b[0m: \tnum_leaves: 20\n",
      "\u001b[34m\u001b[1mwandb\u001b[0m: \treg_alpha: 0\n",
      "\u001b[34m\u001b[1mwandb\u001b[0m: \treg_lambda: 1\n",
      "\u001b[34m\u001b[1mwandb\u001b[0m: \tsample_weight: no-covid\n",
      "\u001b[34m\u001b[1mwandb\u001b[0m: \tsubsample: 0.8\n",
      "\u001b[34m\u001b[1mwandb\u001b[0m: \tsubsample_freq: 1\n",
      "\u001b[34m\u001b[1mwandb\u001b[0m: \tuse_covariates: True\n",
      "\u001b[34m\u001b[1mwandb\u001b[0m: \tuse_encoders: True\n",
      "\u001b[34m\u001b[1mwandb\u001b[0m: \tuse_features: False\n",
      "\u001b[34m\u001b[1mwandb\u001b[0m: \tuse_static_covariates: False\n",
      "Failed to detect the name of this notebook, you can set it manually with the WANDB_NOTEBOOK_NAME environment variable to enable code saving.\n"
     ]
    },
    {
     "data": {
      "text/html": [
       "Tracking run with wandb version 0.18.0"
      ],
      "text/plain": [
       "<IPython.core.display.HTML object>"
      ]
     },
     "metadata": {},
     "output_type": "display_data"
    },
    {
     "data": {
      "text/html": [
       "Run data is saved locally in <code>/home/wolffram/SARI-ML/realtime/wandb/run-20241218_163506-95xk33fm</code>"
      ],
      "text/plain": [
       "<IPython.core.display.HTML object>"
      ]
     },
     "metadata": {},
     "output_type": "display_data"
    },
    {
     "data": {
      "text/html": [
       "Syncing run <strong><a href='https://wandb.ai/dwolffram-karlsruhe-institute-of-technology/sari-lightgbm/runs/95xk33fm' target=\"_blank\">stoic-sweep-11</a></strong> to <a href='https://wandb.ai/dwolffram-karlsruhe-institute-of-technology/sari-lightgbm' target=\"_blank\">Weights & Biases</a> (<a href='https://wandb.me/run' target=\"_blank\">docs</a>)<br/>Sweep page: <a href='https://wandb.ai/dwolffram-karlsruhe-institute-of-technology/sari-lightgbm/sweeps/04mzwpfu' target=\"_blank\">https://wandb.ai/dwolffram-karlsruhe-institute-of-technology/sari-lightgbm/sweeps/04mzwpfu</a>"
      ],
      "text/plain": [
       "<IPython.core.display.HTML object>"
      ]
     },
     "metadata": {},
     "output_type": "display_data"
    },
    {
     "data": {
      "text/html": [
       " View project at <a href='https://wandb.ai/dwolffram-karlsruhe-institute-of-technology/sari-lightgbm' target=\"_blank\">https://wandb.ai/dwolffram-karlsruhe-institute-of-technology/sari-lightgbm</a>"
      ],
      "text/plain": [
       "<IPython.core.display.HTML object>"
      ]
     },
     "metadata": {},
     "output_type": "display_data"
    },
    {
     "data": {
      "text/html": [
       " View sweep at <a href='https://wandb.ai/dwolffram-karlsruhe-institute-of-technology/sari-lightgbm/sweeps/04mzwpfu' target=\"_blank\">https://wandb.ai/dwolffram-karlsruhe-institute-of-technology/sari-lightgbm/sweeps/04mzwpfu</a>"
      ],
      "text/plain": [
       "<IPython.core.display.HTML object>"
      ]
     },
     "metadata": {},
     "output_type": "display_data"
    },
    {
     "data": {
      "text/html": [
       " View run at <a href='https://wandb.ai/dwolffram-karlsruhe-institute-of-technology/sari-lightgbm/runs/95xk33fm' target=\"_blank\">https://wandb.ai/dwolffram-karlsruhe-institute-of-technology/sari-lightgbm/runs/95xk33fm</a>"
      ],
      "text/plain": [
       "<IPython.core.display.HTML object>"
      ]
     },
     "metadata": {},
     "output_type": "display_data"
    },
    {
     "data": {
      "application/vnd.jupyter.widget-view+json": {
       "model_id": "575a31a9715645feaa8e32beececceab",
       "version_major": 2,
       "version_minor": 0
      },
      "text/plain": [
       "VBox(children=(Label(value='0.006 MB of 0.006 MB uploaded\\r'), FloatProgress(value=1.0, max=1.0)))"
      ]
     },
     "metadata": {},
     "output_type": "display_data"
    },
    {
     "data": {
      "text/html": [
       "<style>\n",
       "    table.wandb td:nth-child(1) { padding: 0 10px; text-align: left ; width: auto;} td:nth-child(2) {text-align: left ; width: 100%}\n",
       "    .wandb-row { display: flex; flex-direction: row; flex-wrap: wrap; justify-content: flex-start; width: 100% }\n",
       "    .wandb-col { display: flex; flex-direction: column; flex-basis: 100%; flex: 1; padding: 10px; }\n",
       "    </style>\n",
       "<div class=\"wandb-row\"><div class=\"wandb-col\"><h3>Run history:</h3><br/><table class=\"wandb\"><tr><td>WIS</td><td>▁</td></tr><tr><td>WIS_2022</td><td>▁</td></tr><tr><td>WIS_2022_1</td><td>▁</td></tr><tr><td>WIS_std</td><td>▁</td></tr><tr><td>WIS_std_2022</td><td>▁</td></tr></table><br/></div><div class=\"wandb-col\"><h3>Run summary:</h3><br/><table class=\"wandb\"><tr><td>WIS</td><td>460.13394</td></tr><tr><td>WIS_2022</td><td>460.13394</td></tr><tr><td>WIS_2022_1</td><td>460.13394</td></tr><tr><td>WIS_std</td><td>0</td></tr><tr><td>WIS_std_2022</td><td>0</td></tr></table><br/></div></div>"
      ],
      "text/plain": [
       "<IPython.core.display.HTML object>"
      ]
     },
     "metadata": {},
     "output_type": "display_data"
    },
    {
     "data": {
      "text/html": [
       " View run <strong style=\"color:#cdcd00\">stoic-sweep-11</strong> at: <a href='https://wandb.ai/dwolffram-karlsruhe-institute-of-technology/sari-lightgbm/runs/95xk33fm' target=\"_blank\">https://wandb.ai/dwolffram-karlsruhe-institute-of-technology/sari-lightgbm/runs/95xk33fm</a><br/> View project at: <a href='https://wandb.ai/dwolffram-karlsruhe-institute-of-technology/sari-lightgbm' target=\"_blank\">https://wandb.ai/dwolffram-karlsruhe-institute-of-technology/sari-lightgbm</a><br/>Synced 5 W&B file(s), 0 media file(s), 0 artifact file(s) and 0 other file(s)"
      ],
      "text/plain": [
       "<IPython.core.display.HTML object>"
      ]
     },
     "metadata": {},
     "output_type": "display_data"
    },
    {
     "data": {
      "text/html": [
       "Find logs at: <code>./wandb/run-20241218_163506-95xk33fm/logs</code>"
      ],
      "text/plain": [
       "<IPython.core.display.HTML object>"
      ]
     },
     "metadata": {},
     "output_type": "display_data"
    },
    {
     "data": {
      "text/html": [
       "There is a new version of wandb available. Please upgrade to wandb==0.19.0"
      ],
      "text/plain": [
       "<IPython.core.display.HTML object>"
      ]
     },
     "metadata": {},
     "output_type": "display_data"
    },
    {
     "name": "stderr",
     "output_type": "stream",
     "text": [
      "\u001b[34m\u001b[1mwandb\u001b[0m: Sweep Agent: Waiting for job.\n",
      "\u001b[34m\u001b[1mwandb\u001b[0m: Job received.\n",
      "\u001b[34m\u001b[1mwandb\u001b[0m: Agent Starting Run: xxgan2h9 with config:\n",
      "\u001b[34m\u001b[1mwandb\u001b[0m: \tcolsample_bytree: 0.8\n",
      "\u001b[34m\u001b[1mwandb\u001b[0m: \tlags: 8\n",
      "\u001b[34m\u001b[1mwandb\u001b[0m: \tlags_future_covariates: [0, 1]\n",
      "\u001b[34m\u001b[1mwandb\u001b[0m: \tlags_past_covariates: {'agi-are-00-04': 8, 'agi-are-05-14': 8, 'agi-are-15-34': 8, 'agi-are-35-59': 8, 'agi-are-60+': 8, 'agi-are-DE': 8, 'default_lags': 1}\n",
      "\u001b[34m\u001b[1mwandb\u001b[0m: \tlearning_rate: 0.01\n",
      "\u001b[34m\u001b[1mwandb\u001b[0m: \tmax_bin: 1024\n",
      "\u001b[34m\u001b[1mwandb\u001b[0m: \tmax_depth: -1\n",
      "\u001b[34m\u001b[1mwandb\u001b[0m: \tmin_child_samples: 10\n",
      "\u001b[34m\u001b[1mwandb\u001b[0m: \tmin_split_gain: 0\n",
      "\u001b[34m\u001b[1mwandb\u001b[0m: \tmodel: lightgbm\n",
      "\u001b[34m\u001b[1mwandb\u001b[0m: \tmultiple_series: False\n",
      "\u001b[34m\u001b[1mwandb\u001b[0m: \tn_estimators: 500\n",
      "\u001b[34m\u001b[1mwandb\u001b[0m: \tnum_leaves: 20\n",
      "\u001b[34m\u001b[1mwandb\u001b[0m: \treg_alpha: 0\n",
      "\u001b[34m\u001b[1mwandb\u001b[0m: \treg_lambda: 1\n",
      "\u001b[34m\u001b[1mwandb\u001b[0m: \tsample_weight: no-covid\n",
      "\u001b[34m\u001b[1mwandb\u001b[0m: \tsubsample: 0.8\n",
      "\u001b[34m\u001b[1mwandb\u001b[0m: \tsubsample_freq: 1\n",
      "\u001b[34m\u001b[1mwandb\u001b[0m: \tuse_covariates: False\n",
      "\u001b[34m\u001b[1mwandb\u001b[0m: \tuse_encoders: True\n",
      "\u001b[34m\u001b[1mwandb\u001b[0m: \tuse_features: False\n",
      "\u001b[34m\u001b[1mwandb\u001b[0m: \tuse_static_covariates: False\n",
      "Failed to detect the name of this notebook, you can set it manually with the WANDB_NOTEBOOK_NAME environment variable to enable code saving.\n"
     ]
    },
    {
     "data": {
      "text/html": [
       "Tracking run with wandb version 0.18.0"
      ],
      "text/plain": [
       "<IPython.core.display.HTML object>"
      ]
     },
     "metadata": {},
     "output_type": "display_data"
    },
    {
     "data": {
      "text/html": [
       "Run data is saved locally in <code>/home/wolffram/SARI-ML/realtime/wandb/run-20241218_163607-xxgan2h9</code>"
      ],
      "text/plain": [
       "<IPython.core.display.HTML object>"
      ]
     },
     "metadata": {},
     "output_type": "display_data"
    },
    {
     "data": {
      "text/html": [
       "Syncing run <strong><a href='https://wandb.ai/dwolffram-karlsruhe-institute-of-technology/sari-lightgbm/runs/xxgan2h9' target=\"_blank\">whole-sweep-12</a></strong> to <a href='https://wandb.ai/dwolffram-karlsruhe-institute-of-technology/sari-lightgbm' target=\"_blank\">Weights & Biases</a> (<a href='https://wandb.me/run' target=\"_blank\">docs</a>)<br/>Sweep page: <a href='https://wandb.ai/dwolffram-karlsruhe-institute-of-technology/sari-lightgbm/sweeps/04mzwpfu' target=\"_blank\">https://wandb.ai/dwolffram-karlsruhe-institute-of-technology/sari-lightgbm/sweeps/04mzwpfu</a>"
      ],
      "text/plain": [
       "<IPython.core.display.HTML object>"
      ]
     },
     "metadata": {},
     "output_type": "display_data"
    },
    {
     "data": {
      "text/html": [
       " View project at <a href='https://wandb.ai/dwolffram-karlsruhe-institute-of-technology/sari-lightgbm' target=\"_blank\">https://wandb.ai/dwolffram-karlsruhe-institute-of-technology/sari-lightgbm</a>"
      ],
      "text/plain": [
       "<IPython.core.display.HTML object>"
      ]
     },
     "metadata": {},
     "output_type": "display_data"
    },
    {
     "data": {
      "text/html": [
       " View sweep at <a href='https://wandb.ai/dwolffram-karlsruhe-institute-of-technology/sari-lightgbm/sweeps/04mzwpfu' target=\"_blank\">https://wandb.ai/dwolffram-karlsruhe-institute-of-technology/sari-lightgbm/sweeps/04mzwpfu</a>"
      ],
      "text/plain": [
       "<IPython.core.display.HTML object>"
      ]
     },
     "metadata": {},
     "output_type": "display_data"
    },
    {
     "data": {
      "text/html": [
       " View run at <a href='https://wandb.ai/dwolffram-karlsruhe-institute-of-technology/sari-lightgbm/runs/xxgan2h9' target=\"_blank\">https://wandb.ai/dwolffram-karlsruhe-institute-of-technology/sari-lightgbm/runs/xxgan2h9</a>"
      ],
      "text/plain": [
       "<IPython.core.display.HTML object>"
      ]
     },
     "metadata": {},
     "output_type": "display_data"
    },
    {
     "data": {
      "application/vnd.jupyter.widget-view+json": {
       "model_id": "a17c5c1fa0ab4cb7bd34ca2bb1803526",
       "version_major": 2,
       "version_minor": 0
      },
      "text/plain": [
       "VBox(children=(Label(value='0.006 MB of 0.006 MB uploaded\\r'), FloatProgress(value=1.0, max=1.0)))"
      ]
     },
     "metadata": {},
     "output_type": "display_data"
    },
    {
     "data": {
      "text/html": [
       "<style>\n",
       "    table.wandb td:nth-child(1) { padding: 0 10px; text-align: left ; width: auto;} td:nth-child(2) {text-align: left ; width: 100%}\n",
       "    .wandb-row { display: flex; flex-direction: row; flex-wrap: wrap; justify-content: flex-start; width: 100% }\n",
       "    .wandb-col { display: flex; flex-direction: column; flex-basis: 100%; flex: 1; padding: 10px; }\n",
       "    </style>\n",
       "<div class=\"wandb-row\"><div class=\"wandb-col\"><h3>Run history:</h3><br/><table class=\"wandb\"><tr><td>WIS</td><td>▁</td></tr><tr><td>WIS_2022</td><td>▁</td></tr><tr><td>WIS_2022_1</td><td>▁</td></tr><tr><td>WIS_std</td><td>▁</td></tr><tr><td>WIS_std_2022</td><td>▁</td></tr></table><br/></div><div class=\"wandb-col\"><h3>Run summary:</h3><br/><table class=\"wandb\"><tr><td>WIS</td><td>517.18591</td></tr><tr><td>WIS_2022</td><td>517.18591</td></tr><tr><td>WIS_2022_1</td><td>517.18591</td></tr><tr><td>WIS_std</td><td>0</td></tr><tr><td>WIS_std_2022</td><td>0</td></tr></table><br/></div></div>"
      ],
      "text/plain": [
       "<IPython.core.display.HTML object>"
      ]
     },
     "metadata": {},
     "output_type": "display_data"
    },
    {
     "data": {
      "text/html": [
       " View run <strong style=\"color:#cdcd00\">whole-sweep-12</strong> at: <a href='https://wandb.ai/dwolffram-karlsruhe-institute-of-technology/sari-lightgbm/runs/xxgan2h9' target=\"_blank\">https://wandb.ai/dwolffram-karlsruhe-institute-of-technology/sari-lightgbm/runs/xxgan2h9</a><br/> View project at: <a href='https://wandb.ai/dwolffram-karlsruhe-institute-of-technology/sari-lightgbm' target=\"_blank\">https://wandb.ai/dwolffram-karlsruhe-institute-of-technology/sari-lightgbm</a><br/>Synced 5 W&B file(s), 0 media file(s), 0 artifact file(s) and 0 other file(s)"
      ],
      "text/plain": [
       "<IPython.core.display.HTML object>"
      ]
     },
     "metadata": {},
     "output_type": "display_data"
    },
    {
     "data": {
      "text/html": [
       "Find logs at: <code>./wandb/run-20241218_163607-xxgan2h9/logs</code>"
      ],
      "text/plain": [
       "<IPython.core.display.HTML object>"
      ]
     },
     "metadata": {},
     "output_type": "display_data"
    },
    {
     "data": {
      "text/html": [
       "There is a new version of wandb available. Please upgrade to wandb==0.19.0"
      ],
      "text/plain": [
       "<IPython.core.display.HTML object>"
      ]
     },
     "metadata": {},
     "output_type": "display_data"
    },
    {
     "name": "stderr",
     "output_type": "stream",
     "text": [
      "\u001b[34m\u001b[1mwandb\u001b[0m: Agent Starting Run: z6wn39ki with config:\n",
      "\u001b[34m\u001b[1mwandb\u001b[0m: \tcolsample_bytree: 0.8\n",
      "\u001b[34m\u001b[1mwandb\u001b[0m: \tlags: 8\n",
      "\u001b[34m\u001b[1mwandb\u001b[0m: \tlags_future_covariates: [0, 1]\n",
      "\u001b[34m\u001b[1mwandb\u001b[0m: \tlags_past_covariates: {'agi-are-00-04': 8, 'agi-are-05-14': 8, 'agi-are-15-34': 8, 'agi-are-35-59': 8, 'agi-are-60+': 8, 'agi-are-DE': 8, 'default_lags': 1}\n",
      "\u001b[34m\u001b[1mwandb\u001b[0m: \tlearning_rate: 0.01\n",
      "\u001b[34m\u001b[1mwandb\u001b[0m: \tmax_bin: 1024\n",
      "\u001b[34m\u001b[1mwandb\u001b[0m: \tmax_depth: -1\n",
      "\u001b[34m\u001b[1mwandb\u001b[0m: \tmin_child_samples: 10\n",
      "\u001b[34m\u001b[1mwandb\u001b[0m: \tmin_split_gain: 0\n",
      "\u001b[34m\u001b[1mwandb\u001b[0m: \tmodel: lightgbm\n",
      "\u001b[34m\u001b[1mwandb\u001b[0m: \tmultiple_series: False\n",
      "\u001b[34m\u001b[1mwandb\u001b[0m: \tn_estimators: 500\n",
      "\u001b[34m\u001b[1mwandb\u001b[0m: \tnum_leaves: 20\n",
      "\u001b[34m\u001b[1mwandb\u001b[0m: \treg_alpha: 0.5\n",
      "\u001b[34m\u001b[1mwandb\u001b[0m: \treg_lambda: 0\n",
      "\u001b[34m\u001b[1mwandb\u001b[0m: \tsample_weight: linear\n",
      "\u001b[34m\u001b[1mwandb\u001b[0m: \tsubsample: 0.8\n",
      "\u001b[34m\u001b[1mwandb\u001b[0m: \tsubsample_freq: 1\n",
      "\u001b[34m\u001b[1mwandb\u001b[0m: \tuse_covariates: True\n",
      "\u001b[34m\u001b[1mwandb\u001b[0m: \tuse_encoders: True\n",
      "\u001b[34m\u001b[1mwandb\u001b[0m: \tuse_features: False\n",
      "\u001b[34m\u001b[1mwandb\u001b[0m: \tuse_static_covariates: False\n",
      "Failed to detect the name of this notebook, you can set it manually with the WANDB_NOTEBOOK_NAME environment variable to enable code saving.\n"
     ]
    },
    {
     "data": {
      "text/html": [
       "Tracking run with wandb version 0.18.0"
      ],
      "text/plain": [
       "<IPython.core.display.HTML object>"
      ]
     },
     "metadata": {},
     "output_type": "display_data"
    },
    {
     "data": {
      "text/html": [
       "Run data is saved locally in <code>/home/wolffram/SARI-ML/realtime/wandb/run-20241218_163654-z6wn39ki</code>"
      ],
      "text/plain": [
       "<IPython.core.display.HTML object>"
      ]
     },
     "metadata": {},
     "output_type": "display_data"
    },
    {
     "data": {
      "text/html": [
       "Syncing run <strong><a href='https://wandb.ai/dwolffram-karlsruhe-institute-of-technology/sari-lightgbm/runs/z6wn39ki' target=\"_blank\">frosty-sweep-13</a></strong> to <a href='https://wandb.ai/dwolffram-karlsruhe-institute-of-technology/sari-lightgbm' target=\"_blank\">Weights & Biases</a> (<a href='https://wandb.me/run' target=\"_blank\">docs</a>)<br/>Sweep page: <a href='https://wandb.ai/dwolffram-karlsruhe-institute-of-technology/sari-lightgbm/sweeps/04mzwpfu' target=\"_blank\">https://wandb.ai/dwolffram-karlsruhe-institute-of-technology/sari-lightgbm/sweeps/04mzwpfu</a>"
      ],
      "text/plain": [
       "<IPython.core.display.HTML object>"
      ]
     },
     "metadata": {},
     "output_type": "display_data"
    },
    {
     "data": {
      "text/html": [
       " View project at <a href='https://wandb.ai/dwolffram-karlsruhe-institute-of-technology/sari-lightgbm' target=\"_blank\">https://wandb.ai/dwolffram-karlsruhe-institute-of-technology/sari-lightgbm</a>"
      ],
      "text/plain": [
       "<IPython.core.display.HTML object>"
      ]
     },
     "metadata": {},
     "output_type": "display_data"
    },
    {
     "data": {
      "text/html": [
       " View sweep at <a href='https://wandb.ai/dwolffram-karlsruhe-institute-of-technology/sari-lightgbm/sweeps/04mzwpfu' target=\"_blank\">https://wandb.ai/dwolffram-karlsruhe-institute-of-technology/sari-lightgbm/sweeps/04mzwpfu</a>"
      ],
      "text/plain": [
       "<IPython.core.display.HTML object>"
      ]
     },
     "metadata": {},
     "output_type": "display_data"
    },
    {
     "data": {
      "text/html": [
       " View run at <a href='https://wandb.ai/dwolffram-karlsruhe-institute-of-technology/sari-lightgbm/runs/z6wn39ki' target=\"_blank\">https://wandb.ai/dwolffram-karlsruhe-institute-of-technology/sari-lightgbm/runs/z6wn39ki</a>"
      ],
      "text/plain": [
       "<IPython.core.display.HTML object>"
      ]
     },
     "metadata": {},
     "output_type": "display_data"
    },
    {
     "data": {
      "application/vnd.jupyter.widget-view+json": {
       "model_id": "0b10392abb4042b9a6b15d7ff888c581",
       "version_major": 2,
       "version_minor": 0
      },
      "text/plain": [
       "VBox(children=(Label(value='0.006 MB of 0.006 MB uploaded\\r'), FloatProgress(value=1.0, max=1.0)))"
      ]
     },
     "metadata": {},
     "output_type": "display_data"
    },
    {
     "data": {
      "text/html": [
       "<style>\n",
       "    table.wandb td:nth-child(1) { padding: 0 10px; text-align: left ; width: auto;} td:nth-child(2) {text-align: left ; width: 100%}\n",
       "    .wandb-row { display: flex; flex-direction: row; flex-wrap: wrap; justify-content: flex-start; width: 100% }\n",
       "    .wandb-col { display: flex; flex-direction: column; flex-basis: 100%; flex: 1; padding: 10px; }\n",
       "    </style>\n",
       "<div class=\"wandb-row\"><div class=\"wandb-col\"><h3>Run history:</h3><br/><table class=\"wandb\"><tr><td>WIS</td><td>▁</td></tr><tr><td>WIS_2022</td><td>▁</td></tr><tr><td>WIS_2022_1</td><td>▁</td></tr><tr><td>WIS_std</td><td>▁</td></tr><tr><td>WIS_std_2022</td><td>▁</td></tr></table><br/></div><div class=\"wandb-col\"><h3>Run summary:</h3><br/><table class=\"wandb\"><tr><td>WIS</td><td>455.56943</td></tr><tr><td>WIS_2022</td><td>455.56943</td></tr><tr><td>WIS_2022_1</td><td>455.56943</td></tr><tr><td>WIS_std</td><td>0</td></tr><tr><td>WIS_std_2022</td><td>0</td></tr></table><br/></div></div>"
      ],
      "text/plain": [
       "<IPython.core.display.HTML object>"
      ]
     },
     "metadata": {},
     "output_type": "display_data"
    },
    {
     "data": {
      "text/html": [
       " View run <strong style=\"color:#cdcd00\">frosty-sweep-13</strong> at: <a href='https://wandb.ai/dwolffram-karlsruhe-institute-of-technology/sari-lightgbm/runs/z6wn39ki' target=\"_blank\">https://wandb.ai/dwolffram-karlsruhe-institute-of-technology/sari-lightgbm/runs/z6wn39ki</a><br/> View project at: <a href='https://wandb.ai/dwolffram-karlsruhe-institute-of-technology/sari-lightgbm' target=\"_blank\">https://wandb.ai/dwolffram-karlsruhe-institute-of-technology/sari-lightgbm</a><br/>Synced 5 W&B file(s), 0 media file(s), 0 artifact file(s) and 0 other file(s)"
      ],
      "text/plain": [
       "<IPython.core.display.HTML object>"
      ]
     },
     "metadata": {},
     "output_type": "display_data"
    },
    {
     "data": {
      "text/html": [
       "Find logs at: <code>./wandb/run-20241218_163654-z6wn39ki/logs</code>"
      ],
      "text/plain": [
       "<IPython.core.display.HTML object>"
      ]
     },
     "metadata": {},
     "output_type": "display_data"
    },
    {
     "data": {
      "text/html": [
       "There is a new version of wandb available. Please upgrade to wandb==0.19.0"
      ],
      "text/plain": [
       "<IPython.core.display.HTML object>"
      ]
     },
     "metadata": {},
     "output_type": "display_data"
    },
    {
     "name": "stderr",
     "output_type": "stream",
     "text": [
      "\u001b[34m\u001b[1mwandb\u001b[0m: Agent Starting Run: i7cqlwpo with config:\n",
      "\u001b[34m\u001b[1mwandb\u001b[0m: \tcolsample_bytree: 0.8\n",
      "\u001b[34m\u001b[1mwandb\u001b[0m: \tlags: 8\n",
      "\u001b[34m\u001b[1mwandb\u001b[0m: \tlags_future_covariates: [0, 1]\n",
      "\u001b[34m\u001b[1mwandb\u001b[0m: \tlags_past_covariates: {'agi-are-00-04': 8, 'agi-are-05-14': 8, 'agi-are-15-34': 8, 'agi-are-35-59': 8, 'agi-are-60+': 8, 'agi-are-DE': 8, 'default_lags': 1}\n",
      "\u001b[34m\u001b[1mwandb\u001b[0m: \tlearning_rate: 0.01\n",
      "\u001b[34m\u001b[1mwandb\u001b[0m: \tmax_bin: 1024\n",
      "\u001b[34m\u001b[1mwandb\u001b[0m: \tmax_depth: -1\n",
      "\u001b[34m\u001b[1mwandb\u001b[0m: \tmin_child_samples: 10\n",
      "\u001b[34m\u001b[1mwandb\u001b[0m: \tmin_split_gain: 0\n",
      "\u001b[34m\u001b[1mwandb\u001b[0m: \tmodel: lightgbm\n",
      "\u001b[34m\u001b[1mwandb\u001b[0m: \tmultiple_series: False\n",
      "\u001b[34m\u001b[1mwandb\u001b[0m: \tn_estimators: 500\n",
      "\u001b[34m\u001b[1mwandb\u001b[0m: \tnum_leaves: 20\n",
      "\u001b[34m\u001b[1mwandb\u001b[0m: \treg_alpha: 0.5\n",
      "\u001b[34m\u001b[1mwandb\u001b[0m: \treg_lambda: 0\n",
      "\u001b[34m\u001b[1mwandb\u001b[0m: \tsample_weight: linear\n",
      "\u001b[34m\u001b[1mwandb\u001b[0m: \tsubsample: 0.8\n",
      "\u001b[34m\u001b[1mwandb\u001b[0m: \tsubsample_freq: 1\n",
      "\u001b[34m\u001b[1mwandb\u001b[0m: \tuse_covariates: False\n",
      "\u001b[34m\u001b[1mwandb\u001b[0m: \tuse_encoders: True\n",
      "\u001b[34m\u001b[1mwandb\u001b[0m: \tuse_features: False\n",
      "\u001b[34m\u001b[1mwandb\u001b[0m: \tuse_static_covariates: False\n",
      "Failed to detect the name of this notebook, you can set it manually with the WANDB_NOTEBOOK_NAME environment variable to enable code saving.\n"
     ]
    },
    {
     "data": {
      "text/html": [
       "Tracking run with wandb version 0.18.0"
      ],
      "text/plain": [
       "<IPython.core.display.HTML object>"
      ]
     },
     "metadata": {},
     "output_type": "display_data"
    },
    {
     "data": {
      "text/html": [
       "Run data is saved locally in <code>/home/wolffram/SARI-ML/realtime/wandb/run-20241218_163751-i7cqlwpo</code>"
      ],
      "text/plain": [
       "<IPython.core.display.HTML object>"
      ]
     },
     "metadata": {},
     "output_type": "display_data"
    },
    {
     "data": {
      "text/html": [
       "Syncing run <strong><a href='https://wandb.ai/dwolffram-karlsruhe-institute-of-technology/sari-lightgbm/runs/i7cqlwpo' target=\"_blank\">volcanic-sweep-14</a></strong> to <a href='https://wandb.ai/dwolffram-karlsruhe-institute-of-technology/sari-lightgbm' target=\"_blank\">Weights & Biases</a> (<a href='https://wandb.me/run' target=\"_blank\">docs</a>)<br/>Sweep page: <a href='https://wandb.ai/dwolffram-karlsruhe-institute-of-technology/sari-lightgbm/sweeps/04mzwpfu' target=\"_blank\">https://wandb.ai/dwolffram-karlsruhe-institute-of-technology/sari-lightgbm/sweeps/04mzwpfu</a>"
      ],
      "text/plain": [
       "<IPython.core.display.HTML object>"
      ]
     },
     "metadata": {},
     "output_type": "display_data"
    },
    {
     "data": {
      "text/html": [
       " View project at <a href='https://wandb.ai/dwolffram-karlsruhe-institute-of-technology/sari-lightgbm' target=\"_blank\">https://wandb.ai/dwolffram-karlsruhe-institute-of-technology/sari-lightgbm</a>"
      ],
      "text/plain": [
       "<IPython.core.display.HTML object>"
      ]
     },
     "metadata": {},
     "output_type": "display_data"
    },
    {
     "data": {
      "text/html": [
       " View sweep at <a href='https://wandb.ai/dwolffram-karlsruhe-institute-of-technology/sari-lightgbm/sweeps/04mzwpfu' target=\"_blank\">https://wandb.ai/dwolffram-karlsruhe-institute-of-technology/sari-lightgbm/sweeps/04mzwpfu</a>"
      ],
      "text/plain": [
       "<IPython.core.display.HTML object>"
      ]
     },
     "metadata": {},
     "output_type": "display_data"
    },
    {
     "data": {
      "text/html": [
       " View run at <a href='https://wandb.ai/dwolffram-karlsruhe-institute-of-technology/sari-lightgbm/runs/i7cqlwpo' target=\"_blank\">https://wandb.ai/dwolffram-karlsruhe-institute-of-technology/sari-lightgbm/runs/i7cqlwpo</a>"
      ],
      "text/plain": [
       "<IPython.core.display.HTML object>"
      ]
     },
     "metadata": {},
     "output_type": "display_data"
    },
    {
     "data": {
      "application/vnd.jupyter.widget-view+json": {
       "model_id": "99dbb27a60e845f4b5b9165794ef6cb0",
       "version_major": 2,
       "version_minor": 0
      },
      "text/plain": [
       "VBox(children=(Label(value='0.006 MB of 0.006 MB uploaded\\r'), FloatProgress(value=1.0, max=1.0)))"
      ]
     },
     "metadata": {},
     "output_type": "display_data"
    },
    {
     "data": {
      "text/html": [
       "<style>\n",
       "    table.wandb td:nth-child(1) { padding: 0 10px; text-align: left ; width: auto;} td:nth-child(2) {text-align: left ; width: 100%}\n",
       "    .wandb-row { display: flex; flex-direction: row; flex-wrap: wrap; justify-content: flex-start; width: 100% }\n",
       "    .wandb-col { display: flex; flex-direction: column; flex-basis: 100%; flex: 1; padding: 10px; }\n",
       "    </style>\n",
       "<div class=\"wandb-row\"><div class=\"wandb-col\"><h3>Run history:</h3><br/><table class=\"wandb\"><tr><td>WIS</td><td>▁</td></tr><tr><td>WIS_2022</td><td>▁</td></tr><tr><td>WIS_2022_1</td><td>▁</td></tr><tr><td>WIS_std</td><td>▁</td></tr><tr><td>WIS_std_2022</td><td>▁</td></tr></table><br/></div><div class=\"wandb-col\"><h3>Run summary:</h3><br/><table class=\"wandb\"><tr><td>WIS</td><td>469.701</td></tr><tr><td>WIS_2022</td><td>469.701</td></tr><tr><td>WIS_2022_1</td><td>469.701</td></tr><tr><td>WIS_std</td><td>0</td></tr><tr><td>WIS_std_2022</td><td>0</td></tr></table><br/></div></div>"
      ],
      "text/plain": [
       "<IPython.core.display.HTML object>"
      ]
     },
     "metadata": {},
     "output_type": "display_data"
    },
    {
     "data": {
      "text/html": [
       " View run <strong style=\"color:#cdcd00\">volcanic-sweep-14</strong> at: <a href='https://wandb.ai/dwolffram-karlsruhe-institute-of-technology/sari-lightgbm/runs/i7cqlwpo' target=\"_blank\">https://wandb.ai/dwolffram-karlsruhe-institute-of-technology/sari-lightgbm/runs/i7cqlwpo</a><br/> View project at: <a href='https://wandb.ai/dwolffram-karlsruhe-institute-of-technology/sari-lightgbm' target=\"_blank\">https://wandb.ai/dwolffram-karlsruhe-institute-of-technology/sari-lightgbm</a><br/>Synced 5 W&B file(s), 0 media file(s), 0 artifact file(s) and 0 other file(s)"
      ],
      "text/plain": [
       "<IPython.core.display.HTML object>"
      ]
     },
     "metadata": {},
     "output_type": "display_data"
    },
    {
     "data": {
      "text/html": [
       "Find logs at: <code>./wandb/run-20241218_163751-i7cqlwpo/logs</code>"
      ],
      "text/plain": [
       "<IPython.core.display.HTML object>"
      ]
     },
     "metadata": {},
     "output_type": "display_data"
    },
    {
     "data": {
      "text/html": [
       "There is a new version of wandb available. Please upgrade to wandb==0.19.0"
      ],
      "text/plain": [
       "<IPython.core.display.HTML object>"
      ]
     },
     "metadata": {},
     "output_type": "display_data"
    },
    {
     "name": "stderr",
     "output_type": "stream",
     "text": [
      "\u001b[34m\u001b[1mwandb\u001b[0m: Agent Starting Run: 44ho3g2c with config:\n",
      "\u001b[34m\u001b[1mwandb\u001b[0m: \tcolsample_bytree: 0.8\n",
      "\u001b[34m\u001b[1mwandb\u001b[0m: \tlags: 8\n",
      "\u001b[34m\u001b[1mwandb\u001b[0m: \tlags_future_covariates: [0, 1]\n",
      "\u001b[34m\u001b[1mwandb\u001b[0m: \tlags_past_covariates: {'agi-are-00-04': 8, 'agi-are-05-14': 8, 'agi-are-15-34': 8, 'agi-are-35-59': 8, 'agi-are-60+': 8, 'agi-are-DE': 8, 'default_lags': 1}\n",
      "\u001b[34m\u001b[1mwandb\u001b[0m: \tlearning_rate: 0.01\n",
      "\u001b[34m\u001b[1mwandb\u001b[0m: \tmax_bin: 1024\n",
      "\u001b[34m\u001b[1mwandb\u001b[0m: \tmax_depth: -1\n",
      "\u001b[34m\u001b[1mwandb\u001b[0m: \tmin_child_samples: 10\n",
      "\u001b[34m\u001b[1mwandb\u001b[0m: \tmin_split_gain: 0\n",
      "\u001b[34m\u001b[1mwandb\u001b[0m: \tmodel: lightgbm\n",
      "\u001b[34m\u001b[1mwandb\u001b[0m: \tmultiple_series: False\n",
      "\u001b[34m\u001b[1mwandb\u001b[0m: \tn_estimators: 500\n",
      "\u001b[34m\u001b[1mwandb\u001b[0m: \tnum_leaves: 20\n",
      "\u001b[34m\u001b[1mwandb\u001b[0m: \treg_alpha: 0.5\n",
      "\u001b[34m\u001b[1mwandb\u001b[0m: \treg_lambda: 0\n",
      "\u001b[34m\u001b[1mwandb\u001b[0m: \tsample_weight: no-covid\n",
      "\u001b[34m\u001b[1mwandb\u001b[0m: \tsubsample: 0.8\n",
      "\u001b[34m\u001b[1mwandb\u001b[0m: \tsubsample_freq: 1\n",
      "\u001b[34m\u001b[1mwandb\u001b[0m: \tuse_covariates: True\n",
      "\u001b[34m\u001b[1mwandb\u001b[0m: \tuse_encoders: True\n",
      "\u001b[34m\u001b[1mwandb\u001b[0m: \tuse_features: False\n",
      "\u001b[34m\u001b[1mwandb\u001b[0m: \tuse_static_covariates: False\n",
      "Failed to detect the name of this notebook, you can set it manually with the WANDB_NOTEBOOK_NAME environment variable to enable code saving.\n"
     ]
    },
    {
     "data": {
      "text/html": [
       "Tracking run with wandb version 0.18.0"
      ],
      "text/plain": [
       "<IPython.core.display.HTML object>"
      ]
     },
     "metadata": {},
     "output_type": "display_data"
    },
    {
     "data": {
      "text/html": [
       "Run data is saved locally in <code>/home/wolffram/SARI-ML/realtime/wandb/run-20241218_163842-44ho3g2c</code>"
      ],
      "text/plain": [
       "<IPython.core.display.HTML object>"
      ]
     },
     "metadata": {},
     "output_type": "display_data"
    },
    {
     "data": {
      "text/html": [
       "Syncing run <strong><a href='https://wandb.ai/dwolffram-karlsruhe-institute-of-technology/sari-lightgbm/runs/44ho3g2c' target=\"_blank\">absurd-sweep-15</a></strong> to <a href='https://wandb.ai/dwolffram-karlsruhe-institute-of-technology/sari-lightgbm' target=\"_blank\">Weights & Biases</a> (<a href='https://wandb.me/run' target=\"_blank\">docs</a>)<br/>Sweep page: <a href='https://wandb.ai/dwolffram-karlsruhe-institute-of-technology/sari-lightgbm/sweeps/04mzwpfu' target=\"_blank\">https://wandb.ai/dwolffram-karlsruhe-institute-of-technology/sari-lightgbm/sweeps/04mzwpfu</a>"
      ],
      "text/plain": [
       "<IPython.core.display.HTML object>"
      ]
     },
     "metadata": {},
     "output_type": "display_data"
    },
    {
     "data": {
      "text/html": [
       " View project at <a href='https://wandb.ai/dwolffram-karlsruhe-institute-of-technology/sari-lightgbm' target=\"_blank\">https://wandb.ai/dwolffram-karlsruhe-institute-of-technology/sari-lightgbm</a>"
      ],
      "text/plain": [
       "<IPython.core.display.HTML object>"
      ]
     },
     "metadata": {},
     "output_type": "display_data"
    },
    {
     "data": {
      "text/html": [
       " View sweep at <a href='https://wandb.ai/dwolffram-karlsruhe-institute-of-technology/sari-lightgbm/sweeps/04mzwpfu' target=\"_blank\">https://wandb.ai/dwolffram-karlsruhe-institute-of-technology/sari-lightgbm/sweeps/04mzwpfu</a>"
      ],
      "text/plain": [
       "<IPython.core.display.HTML object>"
      ]
     },
     "metadata": {},
     "output_type": "display_data"
    },
    {
     "data": {
      "text/html": [
       " View run at <a href='https://wandb.ai/dwolffram-karlsruhe-institute-of-technology/sari-lightgbm/runs/44ho3g2c' target=\"_blank\">https://wandb.ai/dwolffram-karlsruhe-institute-of-technology/sari-lightgbm/runs/44ho3g2c</a>"
      ],
      "text/plain": [
       "<IPython.core.display.HTML object>"
      ]
     },
     "metadata": {},
     "output_type": "display_data"
    },
    {
     "data": {
      "application/vnd.jupyter.widget-view+json": {
       "model_id": "d94a814810ba40cbbe1e5308ebd90e1f",
       "version_major": 2,
       "version_minor": 0
      },
      "text/plain": [
       "VBox(children=(Label(value='0.006 MB of 0.006 MB uploaded\\r'), FloatProgress(value=1.0, max=1.0)))"
      ]
     },
     "metadata": {},
     "output_type": "display_data"
    },
    {
     "data": {
      "text/html": [
       "<style>\n",
       "    table.wandb td:nth-child(1) { padding: 0 10px; text-align: left ; width: auto;} td:nth-child(2) {text-align: left ; width: 100%}\n",
       "    .wandb-row { display: flex; flex-direction: row; flex-wrap: wrap; justify-content: flex-start; width: 100% }\n",
       "    .wandb-col { display: flex; flex-direction: column; flex-basis: 100%; flex: 1; padding: 10px; }\n",
       "    </style>\n",
       "<div class=\"wandb-row\"><div class=\"wandb-col\"><h3>Run history:</h3><br/><table class=\"wandb\"><tr><td>WIS</td><td>▁</td></tr><tr><td>WIS_2022</td><td>▁</td></tr><tr><td>WIS_2022_1</td><td>▁</td></tr><tr><td>WIS_std</td><td>▁</td></tr><tr><td>WIS_std_2022</td><td>▁</td></tr></table><br/></div><div class=\"wandb-col\"><h3>Run summary:</h3><br/><table class=\"wandb\"><tr><td>WIS</td><td>465.38951</td></tr><tr><td>WIS_2022</td><td>465.38951</td></tr><tr><td>WIS_2022_1</td><td>465.38951</td></tr><tr><td>WIS_std</td><td>0</td></tr><tr><td>WIS_std_2022</td><td>0</td></tr></table><br/></div></div>"
      ],
      "text/plain": [
       "<IPython.core.display.HTML object>"
      ]
     },
     "metadata": {},
     "output_type": "display_data"
    },
    {
     "data": {
      "text/html": [
       " View run <strong style=\"color:#cdcd00\">absurd-sweep-15</strong> at: <a href='https://wandb.ai/dwolffram-karlsruhe-institute-of-technology/sari-lightgbm/runs/44ho3g2c' target=\"_blank\">https://wandb.ai/dwolffram-karlsruhe-institute-of-technology/sari-lightgbm/runs/44ho3g2c</a><br/> View project at: <a href='https://wandb.ai/dwolffram-karlsruhe-institute-of-technology/sari-lightgbm' target=\"_blank\">https://wandb.ai/dwolffram-karlsruhe-institute-of-technology/sari-lightgbm</a><br/>Synced 5 W&B file(s), 0 media file(s), 0 artifact file(s) and 0 other file(s)"
      ],
      "text/plain": [
       "<IPython.core.display.HTML object>"
      ]
     },
     "metadata": {},
     "output_type": "display_data"
    },
    {
     "data": {
      "text/html": [
       "Find logs at: <code>./wandb/run-20241218_163842-44ho3g2c/logs</code>"
      ],
      "text/plain": [
       "<IPython.core.display.HTML object>"
      ]
     },
     "metadata": {},
     "output_type": "display_data"
    },
    {
     "data": {
      "text/html": [
       "There is a new version of wandb available. Please upgrade to wandb==0.19.0"
      ],
      "text/plain": [
       "<IPython.core.display.HTML object>"
      ]
     },
     "metadata": {},
     "output_type": "display_data"
    },
    {
     "name": "stderr",
     "output_type": "stream",
     "text": [
      "\u001b[34m\u001b[1mwandb\u001b[0m: Agent Starting Run: i3cdas6w with config:\n",
      "\u001b[34m\u001b[1mwandb\u001b[0m: \tcolsample_bytree: 0.8\n",
      "\u001b[34m\u001b[1mwandb\u001b[0m: \tlags: 8\n",
      "\u001b[34m\u001b[1mwandb\u001b[0m: \tlags_future_covariates: [0, 1]\n",
      "\u001b[34m\u001b[1mwandb\u001b[0m: \tlags_past_covariates: {'agi-are-00-04': 8, 'agi-are-05-14': 8, 'agi-are-15-34': 8, 'agi-are-35-59': 8, 'agi-are-60+': 8, 'agi-are-DE': 8, 'default_lags': 1}\n",
      "\u001b[34m\u001b[1mwandb\u001b[0m: \tlearning_rate: 0.01\n",
      "\u001b[34m\u001b[1mwandb\u001b[0m: \tmax_bin: 1024\n",
      "\u001b[34m\u001b[1mwandb\u001b[0m: \tmax_depth: -1\n",
      "\u001b[34m\u001b[1mwandb\u001b[0m: \tmin_child_samples: 10\n",
      "\u001b[34m\u001b[1mwandb\u001b[0m: \tmin_split_gain: 0\n",
      "\u001b[34m\u001b[1mwandb\u001b[0m: \tmodel: lightgbm\n",
      "\u001b[34m\u001b[1mwandb\u001b[0m: \tmultiple_series: False\n",
      "\u001b[34m\u001b[1mwandb\u001b[0m: \tn_estimators: 500\n",
      "\u001b[34m\u001b[1mwandb\u001b[0m: \tnum_leaves: 20\n",
      "\u001b[34m\u001b[1mwandb\u001b[0m: \treg_alpha: 0.5\n",
      "\u001b[34m\u001b[1mwandb\u001b[0m: \treg_lambda: 0\n",
      "\u001b[34m\u001b[1mwandb\u001b[0m: \tsample_weight: no-covid\n",
      "\u001b[34m\u001b[1mwandb\u001b[0m: \tsubsample: 0.8\n",
      "\u001b[34m\u001b[1mwandb\u001b[0m: \tsubsample_freq: 1\n",
      "\u001b[34m\u001b[1mwandb\u001b[0m: \tuse_covariates: False\n",
      "\u001b[34m\u001b[1mwandb\u001b[0m: \tuse_encoders: True\n",
      "\u001b[34m\u001b[1mwandb\u001b[0m: \tuse_features: False\n",
      "\u001b[34m\u001b[1mwandb\u001b[0m: \tuse_static_covariates: False\n",
      "Failed to detect the name of this notebook, you can set it manually with the WANDB_NOTEBOOK_NAME environment variable to enable code saving.\n"
     ]
    },
    {
     "data": {
      "text/html": [
       "Tracking run with wandb version 0.18.0"
      ],
      "text/plain": [
       "<IPython.core.display.HTML object>"
      ]
     },
     "metadata": {},
     "output_type": "display_data"
    },
    {
     "data": {
      "text/html": [
       "Run data is saved locally in <code>/home/wolffram/SARI-ML/realtime/wandb/run-20241218_163929-i3cdas6w</code>"
      ],
      "text/plain": [
       "<IPython.core.display.HTML object>"
      ]
     },
     "metadata": {},
     "output_type": "display_data"
    },
    {
     "data": {
      "text/html": [
       "Syncing run <strong><a href='https://wandb.ai/dwolffram-karlsruhe-institute-of-technology/sari-lightgbm/runs/i3cdas6w' target=\"_blank\">dutiful-sweep-16</a></strong> to <a href='https://wandb.ai/dwolffram-karlsruhe-institute-of-technology/sari-lightgbm' target=\"_blank\">Weights & Biases</a> (<a href='https://wandb.me/run' target=\"_blank\">docs</a>)<br/>Sweep page: <a href='https://wandb.ai/dwolffram-karlsruhe-institute-of-technology/sari-lightgbm/sweeps/04mzwpfu' target=\"_blank\">https://wandb.ai/dwolffram-karlsruhe-institute-of-technology/sari-lightgbm/sweeps/04mzwpfu</a>"
      ],
      "text/plain": [
       "<IPython.core.display.HTML object>"
      ]
     },
     "metadata": {},
     "output_type": "display_data"
    },
    {
     "data": {
      "text/html": [
       " View project at <a href='https://wandb.ai/dwolffram-karlsruhe-institute-of-technology/sari-lightgbm' target=\"_blank\">https://wandb.ai/dwolffram-karlsruhe-institute-of-technology/sari-lightgbm</a>"
      ],
      "text/plain": [
       "<IPython.core.display.HTML object>"
      ]
     },
     "metadata": {},
     "output_type": "display_data"
    },
    {
     "data": {
      "text/html": [
       " View sweep at <a href='https://wandb.ai/dwolffram-karlsruhe-institute-of-technology/sari-lightgbm/sweeps/04mzwpfu' target=\"_blank\">https://wandb.ai/dwolffram-karlsruhe-institute-of-technology/sari-lightgbm/sweeps/04mzwpfu</a>"
      ],
      "text/plain": [
       "<IPython.core.display.HTML object>"
      ]
     },
     "metadata": {},
     "output_type": "display_data"
    },
    {
     "data": {
      "text/html": [
       " View run at <a href='https://wandb.ai/dwolffram-karlsruhe-institute-of-technology/sari-lightgbm/runs/i3cdas6w' target=\"_blank\">https://wandb.ai/dwolffram-karlsruhe-institute-of-technology/sari-lightgbm/runs/i3cdas6w</a>"
      ],
      "text/plain": [
       "<IPython.core.display.HTML object>"
      ]
     },
     "metadata": {},
     "output_type": "display_data"
    },
    {
     "data": {
      "application/vnd.jupyter.widget-view+json": {
       "model_id": "263b81d1ee4e487b97dc0ff52b8c40dc",
       "version_major": 2,
       "version_minor": 0
      },
      "text/plain": [
       "VBox(children=(Label(value='0.006 MB of 0.006 MB uploaded\\r'), FloatProgress(value=1.0, max=1.0)))"
      ]
     },
     "metadata": {},
     "output_type": "display_data"
    },
    {
     "data": {
      "text/html": [
       "<style>\n",
       "    table.wandb td:nth-child(1) { padding: 0 10px; text-align: left ; width: auto;} td:nth-child(2) {text-align: left ; width: 100%}\n",
       "    .wandb-row { display: flex; flex-direction: row; flex-wrap: wrap; justify-content: flex-start; width: 100% }\n",
       "    .wandb-col { display: flex; flex-direction: column; flex-basis: 100%; flex: 1; padding: 10px; }\n",
       "    </style>\n",
       "<div class=\"wandb-row\"><div class=\"wandb-col\"><h3>Run history:</h3><br/><table class=\"wandb\"><tr><td>WIS</td><td>▁</td></tr><tr><td>WIS_2022</td><td>▁</td></tr><tr><td>WIS_2022_1</td><td>▁</td></tr><tr><td>WIS_std</td><td>▁</td></tr><tr><td>WIS_std_2022</td><td>▁</td></tr></table><br/></div><div class=\"wandb-col\"><h3>Run summary:</h3><br/><table class=\"wandb\"><tr><td>WIS</td><td>515.78191</td></tr><tr><td>WIS_2022</td><td>515.78191</td></tr><tr><td>WIS_2022_1</td><td>515.78191</td></tr><tr><td>WIS_std</td><td>0</td></tr><tr><td>WIS_std_2022</td><td>0</td></tr></table><br/></div></div>"
      ],
      "text/plain": [
       "<IPython.core.display.HTML object>"
      ]
     },
     "metadata": {},
     "output_type": "display_data"
    },
    {
     "data": {
      "text/html": [
       " View run <strong style=\"color:#cdcd00\">dutiful-sweep-16</strong> at: <a href='https://wandb.ai/dwolffram-karlsruhe-institute-of-technology/sari-lightgbm/runs/i3cdas6w' target=\"_blank\">https://wandb.ai/dwolffram-karlsruhe-institute-of-technology/sari-lightgbm/runs/i3cdas6w</a><br/> View project at: <a href='https://wandb.ai/dwolffram-karlsruhe-institute-of-technology/sari-lightgbm' target=\"_blank\">https://wandb.ai/dwolffram-karlsruhe-institute-of-technology/sari-lightgbm</a><br/>Synced 5 W&B file(s), 0 media file(s), 0 artifact file(s) and 0 other file(s)"
      ],
      "text/plain": [
       "<IPython.core.display.HTML object>"
      ]
     },
     "metadata": {},
     "output_type": "display_data"
    },
    {
     "data": {
      "text/html": [
       "Find logs at: <code>./wandb/run-20241218_163929-i3cdas6w/logs</code>"
      ],
      "text/plain": [
       "<IPython.core.display.HTML object>"
      ]
     },
     "metadata": {},
     "output_type": "display_data"
    },
    {
     "data": {
      "text/html": [
       "There is a new version of wandb available. Please upgrade to wandb==0.19.0"
      ],
      "text/plain": [
       "<IPython.core.display.HTML object>"
      ]
     },
     "metadata": {},
     "output_type": "display_data"
    },
    {
     "name": "stderr",
     "output_type": "stream",
     "text": [
      "\u001b[34m\u001b[1mwandb\u001b[0m: Agent Starting Run: bk5v06ve with config:\n",
      "\u001b[34m\u001b[1mwandb\u001b[0m: \tcolsample_bytree: 0.8\n",
      "\u001b[34m\u001b[1mwandb\u001b[0m: \tlags: 8\n",
      "\u001b[34m\u001b[1mwandb\u001b[0m: \tlags_future_covariates: [0, 1]\n",
      "\u001b[34m\u001b[1mwandb\u001b[0m: \tlags_past_covariates: {'agi-are-00-04': 8, 'agi-are-05-14': 8, 'agi-are-15-34': 8, 'agi-are-35-59': 8, 'agi-are-60+': 8, 'agi-are-DE': 8, 'default_lags': 1}\n",
      "\u001b[34m\u001b[1mwandb\u001b[0m: \tlearning_rate: 0.01\n",
      "\u001b[34m\u001b[1mwandb\u001b[0m: \tmax_bin: 1024\n",
      "\u001b[34m\u001b[1mwandb\u001b[0m: \tmax_depth: -1\n",
      "\u001b[34m\u001b[1mwandb\u001b[0m: \tmin_child_samples: 10\n",
      "\u001b[34m\u001b[1mwandb\u001b[0m: \tmin_split_gain: 0\n",
      "\u001b[34m\u001b[1mwandb\u001b[0m: \tmodel: lightgbm\n",
      "\u001b[34m\u001b[1mwandb\u001b[0m: \tmultiple_series: False\n",
      "\u001b[34m\u001b[1mwandb\u001b[0m: \tn_estimators: 500\n",
      "\u001b[34m\u001b[1mwandb\u001b[0m: \tnum_leaves: 20\n",
      "\u001b[34m\u001b[1mwandb\u001b[0m: \treg_alpha: 0.5\n",
      "\u001b[34m\u001b[1mwandb\u001b[0m: \treg_lambda: 0.5\n",
      "\u001b[34m\u001b[1mwandb\u001b[0m: \tsample_weight: linear\n",
      "\u001b[34m\u001b[1mwandb\u001b[0m: \tsubsample: 0.8\n",
      "\u001b[34m\u001b[1mwandb\u001b[0m: \tsubsample_freq: 1\n",
      "\u001b[34m\u001b[1mwandb\u001b[0m: \tuse_covariates: True\n",
      "\u001b[34m\u001b[1mwandb\u001b[0m: \tuse_encoders: True\n",
      "\u001b[34m\u001b[1mwandb\u001b[0m: \tuse_features: False\n",
      "\u001b[34m\u001b[1mwandb\u001b[0m: \tuse_static_covariates: False\n",
      "Failed to detect the name of this notebook, you can set it manually with the WANDB_NOTEBOOK_NAME environment variable to enable code saving.\n"
     ]
    },
    {
     "data": {
      "text/html": [
       "Tracking run with wandb version 0.18.0"
      ],
      "text/plain": [
       "<IPython.core.display.HTML object>"
      ]
     },
     "metadata": {},
     "output_type": "display_data"
    },
    {
     "data": {
      "text/html": [
       "Run data is saved locally in <code>/home/wolffram/SARI-ML/realtime/wandb/run-20241218_164010-bk5v06ve</code>"
      ],
      "text/plain": [
       "<IPython.core.display.HTML object>"
      ]
     },
     "metadata": {},
     "output_type": "display_data"
    },
    {
     "data": {
      "text/html": [
       "Syncing run <strong><a href='https://wandb.ai/dwolffram-karlsruhe-institute-of-technology/sari-lightgbm/runs/bk5v06ve' target=\"_blank\">glamorous-sweep-17</a></strong> to <a href='https://wandb.ai/dwolffram-karlsruhe-institute-of-technology/sari-lightgbm' target=\"_blank\">Weights & Biases</a> (<a href='https://wandb.me/run' target=\"_blank\">docs</a>)<br/>Sweep page: <a href='https://wandb.ai/dwolffram-karlsruhe-institute-of-technology/sari-lightgbm/sweeps/04mzwpfu' target=\"_blank\">https://wandb.ai/dwolffram-karlsruhe-institute-of-technology/sari-lightgbm/sweeps/04mzwpfu</a>"
      ],
      "text/plain": [
       "<IPython.core.display.HTML object>"
      ]
     },
     "metadata": {},
     "output_type": "display_data"
    },
    {
     "data": {
      "text/html": [
       " View project at <a href='https://wandb.ai/dwolffram-karlsruhe-institute-of-technology/sari-lightgbm' target=\"_blank\">https://wandb.ai/dwolffram-karlsruhe-institute-of-technology/sari-lightgbm</a>"
      ],
      "text/plain": [
       "<IPython.core.display.HTML object>"
      ]
     },
     "metadata": {},
     "output_type": "display_data"
    },
    {
     "data": {
      "text/html": [
       " View sweep at <a href='https://wandb.ai/dwolffram-karlsruhe-institute-of-technology/sari-lightgbm/sweeps/04mzwpfu' target=\"_blank\">https://wandb.ai/dwolffram-karlsruhe-institute-of-technology/sari-lightgbm/sweeps/04mzwpfu</a>"
      ],
      "text/plain": [
       "<IPython.core.display.HTML object>"
      ]
     },
     "metadata": {},
     "output_type": "display_data"
    },
    {
     "data": {
      "text/html": [
       " View run at <a href='https://wandb.ai/dwolffram-karlsruhe-institute-of-technology/sari-lightgbm/runs/bk5v06ve' target=\"_blank\">https://wandb.ai/dwolffram-karlsruhe-institute-of-technology/sari-lightgbm/runs/bk5v06ve</a>"
      ],
      "text/plain": [
       "<IPython.core.display.HTML object>"
      ]
     },
     "metadata": {},
     "output_type": "display_data"
    },
    {
     "data": {
      "application/vnd.jupyter.widget-view+json": {
       "model_id": "e9f2796c1eca440f95091078477444a2",
       "version_major": 2,
       "version_minor": 0
      },
      "text/plain": [
       "VBox(children=(Label(value='0.006 MB of 0.006 MB uploaded\\r'), FloatProgress(value=1.0, max=1.0)))"
      ]
     },
     "metadata": {},
     "output_type": "display_data"
    },
    {
     "data": {
      "text/html": [
       "<style>\n",
       "    table.wandb td:nth-child(1) { padding: 0 10px; text-align: left ; width: auto;} td:nth-child(2) {text-align: left ; width: 100%}\n",
       "    .wandb-row { display: flex; flex-direction: row; flex-wrap: wrap; justify-content: flex-start; width: 100% }\n",
       "    .wandb-col { display: flex; flex-direction: column; flex-basis: 100%; flex: 1; padding: 10px; }\n",
       "    </style>\n",
       "<div class=\"wandb-row\"><div class=\"wandb-col\"><h3>Run history:</h3><br/><table class=\"wandb\"><tr><td>WIS</td><td>▁</td></tr><tr><td>WIS_2022</td><td>▁</td></tr><tr><td>WIS_2022_1</td><td>▁</td></tr><tr><td>WIS_std</td><td>▁</td></tr><tr><td>WIS_std_2022</td><td>▁</td></tr></table><br/></div><div class=\"wandb-col\"><h3>Run summary:</h3><br/><table class=\"wandb\"><tr><td>WIS</td><td>457.16333</td></tr><tr><td>WIS_2022</td><td>457.16333</td></tr><tr><td>WIS_2022_1</td><td>457.16333</td></tr><tr><td>WIS_std</td><td>0</td></tr><tr><td>WIS_std_2022</td><td>0</td></tr></table><br/></div></div>"
      ],
      "text/plain": [
       "<IPython.core.display.HTML object>"
      ]
     },
     "metadata": {},
     "output_type": "display_data"
    },
    {
     "data": {
      "text/html": [
       " View run <strong style=\"color:#cdcd00\">glamorous-sweep-17</strong> at: <a href='https://wandb.ai/dwolffram-karlsruhe-institute-of-technology/sari-lightgbm/runs/bk5v06ve' target=\"_blank\">https://wandb.ai/dwolffram-karlsruhe-institute-of-technology/sari-lightgbm/runs/bk5v06ve</a><br/> View project at: <a href='https://wandb.ai/dwolffram-karlsruhe-institute-of-technology/sari-lightgbm' target=\"_blank\">https://wandb.ai/dwolffram-karlsruhe-institute-of-technology/sari-lightgbm</a><br/>Synced 5 W&B file(s), 0 media file(s), 0 artifact file(s) and 0 other file(s)"
      ],
      "text/plain": [
       "<IPython.core.display.HTML object>"
      ]
     },
     "metadata": {},
     "output_type": "display_data"
    },
    {
     "data": {
      "text/html": [
       "Find logs at: <code>./wandb/run-20241218_164010-bk5v06ve/logs</code>"
      ],
      "text/plain": [
       "<IPython.core.display.HTML object>"
      ]
     },
     "metadata": {},
     "output_type": "display_data"
    },
    {
     "data": {
      "text/html": [
       "There is a new version of wandb available. Please upgrade to wandb==0.19.0"
      ],
      "text/plain": [
       "<IPython.core.display.HTML object>"
      ]
     },
     "metadata": {},
     "output_type": "display_data"
    },
    {
     "name": "stderr",
     "output_type": "stream",
     "text": [
      "\u001b[34m\u001b[1mwandb\u001b[0m: Agent Starting Run: bpaug8oy with config:\n",
      "\u001b[34m\u001b[1mwandb\u001b[0m: \tcolsample_bytree: 0.8\n",
      "\u001b[34m\u001b[1mwandb\u001b[0m: \tlags: 8\n",
      "\u001b[34m\u001b[1mwandb\u001b[0m: \tlags_future_covariates: [0, 1]\n",
      "\u001b[34m\u001b[1mwandb\u001b[0m: \tlags_past_covariates: {'agi-are-00-04': 8, 'agi-are-05-14': 8, 'agi-are-15-34': 8, 'agi-are-35-59': 8, 'agi-are-60+': 8, 'agi-are-DE': 8, 'default_lags': 1}\n",
      "\u001b[34m\u001b[1mwandb\u001b[0m: \tlearning_rate: 0.01\n",
      "\u001b[34m\u001b[1mwandb\u001b[0m: \tmax_bin: 1024\n",
      "\u001b[34m\u001b[1mwandb\u001b[0m: \tmax_depth: -1\n",
      "\u001b[34m\u001b[1mwandb\u001b[0m: \tmin_child_samples: 10\n",
      "\u001b[34m\u001b[1mwandb\u001b[0m: \tmin_split_gain: 0\n",
      "\u001b[34m\u001b[1mwandb\u001b[0m: \tmodel: lightgbm\n",
      "\u001b[34m\u001b[1mwandb\u001b[0m: \tmultiple_series: False\n",
      "\u001b[34m\u001b[1mwandb\u001b[0m: \tn_estimators: 500\n",
      "\u001b[34m\u001b[1mwandb\u001b[0m: \tnum_leaves: 20\n",
      "\u001b[34m\u001b[1mwandb\u001b[0m: \treg_alpha: 0.5\n",
      "\u001b[34m\u001b[1mwandb\u001b[0m: \treg_lambda: 0.5\n",
      "\u001b[34m\u001b[1mwandb\u001b[0m: \tsample_weight: linear\n",
      "\u001b[34m\u001b[1mwandb\u001b[0m: \tsubsample: 0.8\n",
      "\u001b[34m\u001b[1mwandb\u001b[0m: \tsubsample_freq: 1\n",
      "\u001b[34m\u001b[1mwandb\u001b[0m: \tuse_covariates: False\n",
      "\u001b[34m\u001b[1mwandb\u001b[0m: \tuse_encoders: True\n",
      "\u001b[34m\u001b[1mwandb\u001b[0m: \tuse_features: False\n",
      "\u001b[34m\u001b[1mwandb\u001b[0m: \tuse_static_covariates: False\n",
      "Failed to detect the name of this notebook, you can set it manually with the WANDB_NOTEBOOK_NAME environment variable to enable code saving.\n"
     ]
    },
    {
     "data": {
      "text/html": [
       "Tracking run with wandb version 0.18.0"
      ],
      "text/plain": [
       "<IPython.core.display.HTML object>"
      ]
     },
     "metadata": {},
     "output_type": "display_data"
    },
    {
     "data": {
      "text/html": [
       "Run data is saved locally in <code>/home/wolffram/SARI-ML/realtime/wandb/run-20241218_164107-bpaug8oy</code>"
      ],
      "text/plain": [
       "<IPython.core.display.HTML object>"
      ]
     },
     "metadata": {},
     "output_type": "display_data"
    },
    {
     "data": {
      "text/html": [
       "Syncing run <strong><a href='https://wandb.ai/dwolffram-karlsruhe-institute-of-technology/sari-lightgbm/runs/bpaug8oy' target=\"_blank\">wobbly-sweep-18</a></strong> to <a href='https://wandb.ai/dwolffram-karlsruhe-institute-of-technology/sari-lightgbm' target=\"_blank\">Weights & Biases</a> (<a href='https://wandb.me/run' target=\"_blank\">docs</a>)<br/>Sweep page: <a href='https://wandb.ai/dwolffram-karlsruhe-institute-of-technology/sari-lightgbm/sweeps/04mzwpfu' target=\"_blank\">https://wandb.ai/dwolffram-karlsruhe-institute-of-technology/sari-lightgbm/sweeps/04mzwpfu</a>"
      ],
      "text/plain": [
       "<IPython.core.display.HTML object>"
      ]
     },
     "metadata": {},
     "output_type": "display_data"
    },
    {
     "data": {
      "text/html": [
       " View project at <a href='https://wandb.ai/dwolffram-karlsruhe-institute-of-technology/sari-lightgbm' target=\"_blank\">https://wandb.ai/dwolffram-karlsruhe-institute-of-technology/sari-lightgbm</a>"
      ],
      "text/plain": [
       "<IPython.core.display.HTML object>"
      ]
     },
     "metadata": {},
     "output_type": "display_data"
    },
    {
     "data": {
      "text/html": [
       " View sweep at <a href='https://wandb.ai/dwolffram-karlsruhe-institute-of-technology/sari-lightgbm/sweeps/04mzwpfu' target=\"_blank\">https://wandb.ai/dwolffram-karlsruhe-institute-of-technology/sari-lightgbm/sweeps/04mzwpfu</a>"
      ],
      "text/plain": [
       "<IPython.core.display.HTML object>"
      ]
     },
     "metadata": {},
     "output_type": "display_data"
    },
    {
     "data": {
      "text/html": [
       " View run at <a href='https://wandb.ai/dwolffram-karlsruhe-institute-of-technology/sari-lightgbm/runs/bpaug8oy' target=\"_blank\">https://wandb.ai/dwolffram-karlsruhe-institute-of-technology/sari-lightgbm/runs/bpaug8oy</a>"
      ],
      "text/plain": [
       "<IPython.core.display.HTML object>"
      ]
     },
     "metadata": {},
     "output_type": "display_data"
    },
    {
     "data": {
      "application/vnd.jupyter.widget-view+json": {
       "model_id": "f3651515f71a4515814a6a486b1c700a",
       "version_major": 2,
       "version_minor": 0
      },
      "text/plain": [
       "VBox(children=(Label(value='0.006 MB of 0.006 MB uploaded\\r'), FloatProgress(value=1.0, max=1.0)))"
      ]
     },
     "metadata": {},
     "output_type": "display_data"
    },
    {
     "data": {
      "text/html": [
       "<style>\n",
       "    table.wandb td:nth-child(1) { padding: 0 10px; text-align: left ; width: auto;} td:nth-child(2) {text-align: left ; width: 100%}\n",
       "    .wandb-row { display: flex; flex-direction: row; flex-wrap: wrap; justify-content: flex-start; width: 100% }\n",
       "    .wandb-col { display: flex; flex-direction: column; flex-basis: 100%; flex: 1; padding: 10px; }\n",
       "    </style>\n",
       "<div class=\"wandb-row\"><div class=\"wandb-col\"><h3>Run history:</h3><br/><table class=\"wandb\"><tr><td>WIS</td><td>▁</td></tr><tr><td>WIS_2022</td><td>▁</td></tr><tr><td>WIS_2022_1</td><td>▁</td></tr><tr><td>WIS_std</td><td>▁</td></tr><tr><td>WIS_std_2022</td><td>▁</td></tr></table><br/></div><div class=\"wandb-col\"><h3>Run summary:</h3><br/><table class=\"wandb\"><tr><td>WIS</td><td>468.58366</td></tr><tr><td>WIS_2022</td><td>468.58366</td></tr><tr><td>WIS_2022_1</td><td>468.58366</td></tr><tr><td>WIS_std</td><td>0</td></tr><tr><td>WIS_std_2022</td><td>0</td></tr></table><br/></div></div>"
      ],
      "text/plain": [
       "<IPython.core.display.HTML object>"
      ]
     },
     "metadata": {},
     "output_type": "display_data"
    },
    {
     "data": {
      "text/html": [
       " View run <strong style=\"color:#cdcd00\">wobbly-sweep-18</strong> at: <a href='https://wandb.ai/dwolffram-karlsruhe-institute-of-technology/sari-lightgbm/runs/bpaug8oy' target=\"_blank\">https://wandb.ai/dwolffram-karlsruhe-institute-of-technology/sari-lightgbm/runs/bpaug8oy</a><br/> View project at: <a href='https://wandb.ai/dwolffram-karlsruhe-institute-of-technology/sari-lightgbm' target=\"_blank\">https://wandb.ai/dwolffram-karlsruhe-institute-of-technology/sari-lightgbm</a><br/>Synced 5 W&B file(s), 0 media file(s), 0 artifact file(s) and 0 other file(s)"
      ],
      "text/plain": [
       "<IPython.core.display.HTML object>"
      ]
     },
     "metadata": {},
     "output_type": "display_data"
    },
    {
     "data": {
      "text/html": [
       "Find logs at: <code>./wandb/run-20241218_164107-bpaug8oy/logs</code>"
      ],
      "text/plain": [
       "<IPython.core.display.HTML object>"
      ]
     },
     "metadata": {},
     "output_type": "display_data"
    },
    {
     "data": {
      "text/html": [
       "There is a new version of wandb available. Please upgrade to wandb==0.19.0"
      ],
      "text/plain": [
       "<IPython.core.display.HTML object>"
      ]
     },
     "metadata": {},
     "output_type": "display_data"
    },
    {
     "name": "stderr",
     "output_type": "stream",
     "text": [
      "\u001b[34m\u001b[1mwandb\u001b[0m: Agent Starting Run: jr1vfggg with config:\n",
      "\u001b[34m\u001b[1mwandb\u001b[0m: \tcolsample_bytree: 0.8\n",
      "\u001b[34m\u001b[1mwandb\u001b[0m: \tlags: 8\n",
      "\u001b[34m\u001b[1mwandb\u001b[0m: \tlags_future_covariates: [0, 1]\n",
      "\u001b[34m\u001b[1mwandb\u001b[0m: \tlags_past_covariates: {'agi-are-00-04': 8, 'agi-are-05-14': 8, 'agi-are-15-34': 8, 'agi-are-35-59': 8, 'agi-are-60+': 8, 'agi-are-DE': 8, 'default_lags': 1}\n",
      "\u001b[34m\u001b[1mwandb\u001b[0m: \tlearning_rate: 0.01\n",
      "\u001b[34m\u001b[1mwandb\u001b[0m: \tmax_bin: 1024\n",
      "\u001b[34m\u001b[1mwandb\u001b[0m: \tmax_depth: -1\n",
      "\u001b[34m\u001b[1mwandb\u001b[0m: \tmin_child_samples: 10\n",
      "\u001b[34m\u001b[1mwandb\u001b[0m: \tmin_split_gain: 0\n",
      "\u001b[34m\u001b[1mwandb\u001b[0m: \tmodel: lightgbm\n",
      "\u001b[34m\u001b[1mwandb\u001b[0m: \tmultiple_series: False\n",
      "\u001b[34m\u001b[1mwandb\u001b[0m: \tn_estimators: 500\n",
      "\u001b[34m\u001b[1mwandb\u001b[0m: \tnum_leaves: 20\n",
      "\u001b[34m\u001b[1mwandb\u001b[0m: \treg_alpha: 0.5\n",
      "\u001b[34m\u001b[1mwandb\u001b[0m: \treg_lambda: 0.5\n",
      "\u001b[34m\u001b[1mwandb\u001b[0m: \tsample_weight: no-covid\n",
      "\u001b[34m\u001b[1mwandb\u001b[0m: \tsubsample: 0.8\n",
      "\u001b[34m\u001b[1mwandb\u001b[0m: \tsubsample_freq: 1\n",
      "\u001b[34m\u001b[1mwandb\u001b[0m: \tuse_covariates: True\n",
      "\u001b[34m\u001b[1mwandb\u001b[0m: \tuse_encoders: True\n",
      "\u001b[34m\u001b[1mwandb\u001b[0m: \tuse_features: False\n",
      "\u001b[34m\u001b[1mwandb\u001b[0m: \tuse_static_covariates: False\n",
      "Failed to detect the name of this notebook, you can set it manually with the WANDB_NOTEBOOK_NAME environment variable to enable code saving.\n"
     ]
    },
    {
     "data": {
      "text/html": [
       "Tracking run with wandb version 0.18.0"
      ],
      "text/plain": [
       "<IPython.core.display.HTML object>"
      ]
     },
     "metadata": {},
     "output_type": "display_data"
    },
    {
     "data": {
      "text/html": [
       "Run data is saved locally in <code>/home/wolffram/SARI-ML/realtime/wandb/run-20241218_164203-jr1vfggg</code>"
      ],
      "text/plain": [
       "<IPython.core.display.HTML object>"
      ]
     },
     "metadata": {},
     "output_type": "display_data"
    },
    {
     "data": {
      "text/html": [
       "Syncing run <strong><a href='https://wandb.ai/dwolffram-karlsruhe-institute-of-technology/sari-lightgbm/runs/jr1vfggg' target=\"_blank\">vague-sweep-19</a></strong> to <a href='https://wandb.ai/dwolffram-karlsruhe-institute-of-technology/sari-lightgbm' target=\"_blank\">Weights & Biases</a> (<a href='https://wandb.me/run' target=\"_blank\">docs</a>)<br/>Sweep page: <a href='https://wandb.ai/dwolffram-karlsruhe-institute-of-technology/sari-lightgbm/sweeps/04mzwpfu' target=\"_blank\">https://wandb.ai/dwolffram-karlsruhe-institute-of-technology/sari-lightgbm/sweeps/04mzwpfu</a>"
      ],
      "text/plain": [
       "<IPython.core.display.HTML object>"
      ]
     },
     "metadata": {},
     "output_type": "display_data"
    },
    {
     "data": {
      "text/html": [
       " View project at <a href='https://wandb.ai/dwolffram-karlsruhe-institute-of-technology/sari-lightgbm' target=\"_blank\">https://wandb.ai/dwolffram-karlsruhe-institute-of-technology/sari-lightgbm</a>"
      ],
      "text/plain": [
       "<IPython.core.display.HTML object>"
      ]
     },
     "metadata": {},
     "output_type": "display_data"
    },
    {
     "data": {
      "text/html": [
       " View sweep at <a href='https://wandb.ai/dwolffram-karlsruhe-institute-of-technology/sari-lightgbm/sweeps/04mzwpfu' target=\"_blank\">https://wandb.ai/dwolffram-karlsruhe-institute-of-technology/sari-lightgbm/sweeps/04mzwpfu</a>"
      ],
      "text/plain": [
       "<IPython.core.display.HTML object>"
      ]
     },
     "metadata": {},
     "output_type": "display_data"
    },
    {
     "data": {
      "text/html": [
       " View run at <a href='https://wandb.ai/dwolffram-karlsruhe-institute-of-technology/sari-lightgbm/runs/jr1vfggg' target=\"_blank\">https://wandb.ai/dwolffram-karlsruhe-institute-of-technology/sari-lightgbm/runs/jr1vfggg</a>"
      ],
      "text/plain": [
       "<IPython.core.display.HTML object>"
      ]
     },
     "metadata": {},
     "output_type": "display_data"
    },
    {
     "data": {
      "application/vnd.jupyter.widget-view+json": {
       "model_id": "d0daa3d7ac45417e9b45bbbd1f90557f",
       "version_major": 2,
       "version_minor": 0
      },
      "text/plain": [
       "VBox(children=(Label(value='0.006 MB of 0.006 MB uploaded\\r'), FloatProgress(value=1.0, max=1.0)))"
      ]
     },
     "metadata": {},
     "output_type": "display_data"
    },
    {
     "data": {
      "text/html": [
       "<style>\n",
       "    table.wandb td:nth-child(1) { padding: 0 10px; text-align: left ; width: auto;} td:nth-child(2) {text-align: left ; width: 100%}\n",
       "    .wandb-row { display: flex; flex-direction: row; flex-wrap: wrap; justify-content: flex-start; width: 100% }\n",
       "    .wandb-col { display: flex; flex-direction: column; flex-basis: 100%; flex: 1; padding: 10px; }\n",
       "    </style>\n",
       "<div class=\"wandb-row\"><div class=\"wandb-col\"><h3>Run history:</h3><br/><table class=\"wandb\"><tr><td>WIS</td><td>▁</td></tr><tr><td>WIS_2022</td><td>▁</td></tr><tr><td>WIS_2022_1</td><td>▁</td></tr><tr><td>WIS_std</td><td>▁</td></tr><tr><td>WIS_std_2022</td><td>▁</td></tr></table><br/></div><div class=\"wandb-col\"><h3>Run summary:</h3><br/><table class=\"wandb\"><tr><td>WIS</td><td>464.67867</td></tr><tr><td>WIS_2022</td><td>464.67867</td></tr><tr><td>WIS_2022_1</td><td>464.67867</td></tr><tr><td>WIS_std</td><td>0</td></tr><tr><td>WIS_std_2022</td><td>0</td></tr></table><br/></div></div>"
      ],
      "text/plain": [
       "<IPython.core.display.HTML object>"
      ]
     },
     "metadata": {},
     "output_type": "display_data"
    },
    {
     "data": {
      "text/html": [
       " View run <strong style=\"color:#cdcd00\">vague-sweep-19</strong> at: <a href='https://wandb.ai/dwolffram-karlsruhe-institute-of-technology/sari-lightgbm/runs/jr1vfggg' target=\"_blank\">https://wandb.ai/dwolffram-karlsruhe-institute-of-technology/sari-lightgbm/runs/jr1vfggg</a><br/> View project at: <a href='https://wandb.ai/dwolffram-karlsruhe-institute-of-technology/sari-lightgbm' target=\"_blank\">https://wandb.ai/dwolffram-karlsruhe-institute-of-technology/sari-lightgbm</a><br/>Synced 5 W&B file(s), 0 media file(s), 0 artifact file(s) and 0 other file(s)"
      ],
      "text/plain": [
       "<IPython.core.display.HTML object>"
      ]
     },
     "metadata": {},
     "output_type": "display_data"
    },
    {
     "data": {
      "text/html": [
       "Find logs at: <code>./wandb/run-20241218_164203-jr1vfggg/logs</code>"
      ],
      "text/plain": [
       "<IPython.core.display.HTML object>"
      ]
     },
     "metadata": {},
     "output_type": "display_data"
    },
    {
     "data": {
      "text/html": [
       "There is a new version of wandb available. Please upgrade to wandb==0.19.0"
      ],
      "text/plain": [
       "<IPython.core.display.HTML object>"
      ]
     },
     "metadata": {},
     "output_type": "display_data"
    },
    {
     "name": "stderr",
     "output_type": "stream",
     "text": [
      "\u001b[34m\u001b[1mwandb\u001b[0m: Agent Starting Run: 9qjsc5je with config:\n",
      "\u001b[34m\u001b[1mwandb\u001b[0m: \tcolsample_bytree: 0.8\n",
      "\u001b[34m\u001b[1mwandb\u001b[0m: \tlags: 8\n",
      "\u001b[34m\u001b[1mwandb\u001b[0m: \tlags_future_covariates: [0, 1]\n",
      "\u001b[34m\u001b[1mwandb\u001b[0m: \tlags_past_covariates: {'agi-are-00-04': 8, 'agi-are-05-14': 8, 'agi-are-15-34': 8, 'agi-are-35-59': 8, 'agi-are-60+': 8, 'agi-are-DE': 8, 'default_lags': 1}\n",
      "\u001b[34m\u001b[1mwandb\u001b[0m: \tlearning_rate: 0.01\n",
      "\u001b[34m\u001b[1mwandb\u001b[0m: \tmax_bin: 1024\n",
      "\u001b[34m\u001b[1mwandb\u001b[0m: \tmax_depth: -1\n",
      "\u001b[34m\u001b[1mwandb\u001b[0m: \tmin_child_samples: 10\n",
      "\u001b[34m\u001b[1mwandb\u001b[0m: \tmin_split_gain: 0\n",
      "\u001b[34m\u001b[1mwandb\u001b[0m: \tmodel: lightgbm\n",
      "\u001b[34m\u001b[1mwandb\u001b[0m: \tmultiple_series: False\n",
      "\u001b[34m\u001b[1mwandb\u001b[0m: \tn_estimators: 500\n",
      "\u001b[34m\u001b[1mwandb\u001b[0m: \tnum_leaves: 20\n",
      "\u001b[34m\u001b[1mwandb\u001b[0m: \treg_alpha: 0.5\n",
      "\u001b[34m\u001b[1mwandb\u001b[0m: \treg_lambda: 0.5\n",
      "\u001b[34m\u001b[1mwandb\u001b[0m: \tsample_weight: no-covid\n",
      "\u001b[34m\u001b[1mwandb\u001b[0m: \tsubsample: 0.8\n",
      "\u001b[34m\u001b[1mwandb\u001b[0m: \tsubsample_freq: 1\n",
      "\u001b[34m\u001b[1mwandb\u001b[0m: \tuse_covariates: False\n",
      "\u001b[34m\u001b[1mwandb\u001b[0m: \tuse_encoders: True\n",
      "\u001b[34m\u001b[1mwandb\u001b[0m: \tuse_features: False\n",
      "\u001b[34m\u001b[1mwandb\u001b[0m: \tuse_static_covariates: False\n",
      "Failed to detect the name of this notebook, you can set it manually with the WANDB_NOTEBOOK_NAME environment variable to enable code saving.\n"
     ]
    },
    {
     "data": {
      "text/html": [
       "Tracking run with wandb version 0.18.0"
      ],
      "text/plain": [
       "<IPython.core.display.HTML object>"
      ]
     },
     "metadata": {},
     "output_type": "display_data"
    },
    {
     "data": {
      "text/html": [
       "Run data is saved locally in <code>/home/wolffram/SARI-ML/realtime/wandb/run-20241218_164255-9qjsc5je</code>"
      ],
      "text/plain": [
       "<IPython.core.display.HTML object>"
      ]
     },
     "metadata": {},
     "output_type": "display_data"
    },
    {
     "data": {
      "text/html": [
       "Syncing run <strong><a href='https://wandb.ai/dwolffram-karlsruhe-institute-of-technology/sari-lightgbm/runs/9qjsc5je' target=\"_blank\">elated-sweep-20</a></strong> to <a href='https://wandb.ai/dwolffram-karlsruhe-institute-of-technology/sari-lightgbm' target=\"_blank\">Weights & Biases</a> (<a href='https://wandb.me/run' target=\"_blank\">docs</a>)<br/>Sweep page: <a href='https://wandb.ai/dwolffram-karlsruhe-institute-of-technology/sari-lightgbm/sweeps/04mzwpfu' target=\"_blank\">https://wandb.ai/dwolffram-karlsruhe-institute-of-technology/sari-lightgbm/sweeps/04mzwpfu</a>"
      ],
      "text/plain": [
       "<IPython.core.display.HTML object>"
      ]
     },
     "metadata": {},
     "output_type": "display_data"
    },
    {
     "data": {
      "text/html": [
       " View project at <a href='https://wandb.ai/dwolffram-karlsruhe-institute-of-technology/sari-lightgbm' target=\"_blank\">https://wandb.ai/dwolffram-karlsruhe-institute-of-technology/sari-lightgbm</a>"
      ],
      "text/plain": [
       "<IPython.core.display.HTML object>"
      ]
     },
     "metadata": {},
     "output_type": "display_data"
    },
    {
     "data": {
      "text/html": [
       " View sweep at <a href='https://wandb.ai/dwolffram-karlsruhe-institute-of-technology/sari-lightgbm/sweeps/04mzwpfu' target=\"_blank\">https://wandb.ai/dwolffram-karlsruhe-institute-of-technology/sari-lightgbm/sweeps/04mzwpfu</a>"
      ],
      "text/plain": [
       "<IPython.core.display.HTML object>"
      ]
     },
     "metadata": {},
     "output_type": "display_data"
    },
    {
     "data": {
      "text/html": [
       " View run at <a href='https://wandb.ai/dwolffram-karlsruhe-institute-of-technology/sari-lightgbm/runs/9qjsc5je' target=\"_blank\">https://wandb.ai/dwolffram-karlsruhe-institute-of-technology/sari-lightgbm/runs/9qjsc5je</a>"
      ],
      "text/plain": [
       "<IPython.core.display.HTML object>"
      ]
     },
     "metadata": {},
     "output_type": "display_data"
    },
    {
     "data": {
      "application/vnd.jupyter.widget-view+json": {
       "model_id": "64477eb66c444326a5b6d8d829e5ed03",
       "version_major": 2,
       "version_minor": 0
      },
      "text/plain": [
       "VBox(children=(Label(value='0.006 MB of 0.006 MB uploaded\\r'), FloatProgress(value=1.0, max=1.0)))"
      ]
     },
     "metadata": {},
     "output_type": "display_data"
    },
    {
     "data": {
      "text/html": [
       "<style>\n",
       "    table.wandb td:nth-child(1) { padding: 0 10px; text-align: left ; width: auto;} td:nth-child(2) {text-align: left ; width: 100%}\n",
       "    .wandb-row { display: flex; flex-direction: row; flex-wrap: wrap; justify-content: flex-start; width: 100% }\n",
       "    .wandb-col { display: flex; flex-direction: column; flex-basis: 100%; flex: 1; padding: 10px; }\n",
       "    </style>\n",
       "<div class=\"wandb-row\"><div class=\"wandb-col\"><h3>Run history:</h3><br/><table class=\"wandb\"><tr><td>WIS</td><td>▁</td></tr><tr><td>WIS_2022</td><td>▁</td></tr><tr><td>WIS_2022_1</td><td>▁</td></tr><tr><td>WIS_std</td><td>▁</td></tr><tr><td>WIS_std_2022</td><td>▁</td></tr></table><br/></div><div class=\"wandb-col\"><h3>Run summary:</h3><br/><table class=\"wandb\"><tr><td>WIS</td><td>517.7433</td></tr><tr><td>WIS_2022</td><td>517.7433</td></tr><tr><td>WIS_2022_1</td><td>517.7433</td></tr><tr><td>WIS_std</td><td>0</td></tr><tr><td>WIS_std_2022</td><td>0</td></tr></table><br/></div></div>"
      ],
      "text/plain": [
       "<IPython.core.display.HTML object>"
      ]
     },
     "metadata": {},
     "output_type": "display_data"
    },
    {
     "data": {
      "text/html": [
       " View run <strong style=\"color:#cdcd00\">elated-sweep-20</strong> at: <a href='https://wandb.ai/dwolffram-karlsruhe-institute-of-technology/sari-lightgbm/runs/9qjsc5je' target=\"_blank\">https://wandb.ai/dwolffram-karlsruhe-institute-of-technology/sari-lightgbm/runs/9qjsc5je</a><br/> View project at: <a href='https://wandb.ai/dwolffram-karlsruhe-institute-of-technology/sari-lightgbm' target=\"_blank\">https://wandb.ai/dwolffram-karlsruhe-institute-of-technology/sari-lightgbm</a><br/>Synced 5 W&B file(s), 0 media file(s), 0 artifact file(s) and 0 other file(s)"
      ],
      "text/plain": [
       "<IPython.core.display.HTML object>"
      ]
     },
     "metadata": {},
     "output_type": "display_data"
    },
    {
     "data": {
      "text/html": [
       "Find logs at: <code>./wandb/run-20241218_164255-9qjsc5je/logs</code>"
      ],
      "text/plain": [
       "<IPython.core.display.HTML object>"
      ]
     },
     "metadata": {},
     "output_type": "display_data"
    },
    {
     "data": {
      "text/html": [
       "There is a new version of wandb available. Please upgrade to wandb==0.19.0"
      ],
      "text/plain": [
       "<IPython.core.display.HTML object>"
      ]
     },
     "metadata": {},
     "output_type": "display_data"
    },
    {
     "name": "stderr",
     "output_type": "stream",
     "text": [
      "\u001b[34m\u001b[1mwandb\u001b[0m: Agent Starting Run: 5nlpfqg3 with config:\n",
      "\u001b[34m\u001b[1mwandb\u001b[0m: \tcolsample_bytree: 0.8\n",
      "\u001b[34m\u001b[1mwandb\u001b[0m: \tlags: 8\n",
      "\u001b[34m\u001b[1mwandb\u001b[0m: \tlags_future_covariates: [0, 1]\n",
      "\u001b[34m\u001b[1mwandb\u001b[0m: \tlags_past_covariates: {'agi-are-00-04': 8, 'agi-are-05-14': 8, 'agi-are-15-34': 8, 'agi-are-35-59': 8, 'agi-are-60+': 8, 'agi-are-DE': 8, 'default_lags': 1}\n",
      "\u001b[34m\u001b[1mwandb\u001b[0m: \tlearning_rate: 0.01\n",
      "\u001b[34m\u001b[1mwandb\u001b[0m: \tmax_bin: 1024\n",
      "\u001b[34m\u001b[1mwandb\u001b[0m: \tmax_depth: -1\n",
      "\u001b[34m\u001b[1mwandb\u001b[0m: \tmin_child_samples: 10\n",
      "\u001b[34m\u001b[1mwandb\u001b[0m: \tmin_split_gain: 0\n",
      "\u001b[34m\u001b[1mwandb\u001b[0m: \tmodel: lightgbm\n",
      "\u001b[34m\u001b[1mwandb\u001b[0m: \tmultiple_series: False\n",
      "\u001b[34m\u001b[1mwandb\u001b[0m: \tn_estimators: 500\n",
      "\u001b[34m\u001b[1mwandb\u001b[0m: \tnum_leaves: 20\n",
      "\u001b[34m\u001b[1mwandb\u001b[0m: \treg_alpha: 0.5\n",
      "\u001b[34m\u001b[1mwandb\u001b[0m: \treg_lambda: 1\n",
      "\u001b[34m\u001b[1mwandb\u001b[0m: \tsample_weight: linear\n",
      "\u001b[34m\u001b[1mwandb\u001b[0m: \tsubsample: 0.8\n",
      "\u001b[34m\u001b[1mwandb\u001b[0m: \tsubsample_freq: 1\n",
      "\u001b[34m\u001b[1mwandb\u001b[0m: \tuse_covariates: True\n",
      "\u001b[34m\u001b[1mwandb\u001b[0m: \tuse_encoders: True\n",
      "\u001b[34m\u001b[1mwandb\u001b[0m: \tuse_features: False\n",
      "\u001b[34m\u001b[1mwandb\u001b[0m: \tuse_static_covariates: False\n",
      "Failed to detect the name of this notebook, you can set it manually with the WANDB_NOTEBOOK_NAME environment variable to enable code saving.\n"
     ]
    },
    {
     "data": {
      "text/html": [
       "Tracking run with wandb version 0.18.0"
      ],
      "text/plain": [
       "<IPython.core.display.HTML object>"
      ]
     },
     "metadata": {},
     "output_type": "display_data"
    },
    {
     "data": {
      "text/html": [
       "Run data is saved locally in <code>/home/wolffram/SARI-ML/realtime/wandb/run-20241218_164341-5nlpfqg3</code>"
      ],
      "text/plain": [
       "<IPython.core.display.HTML object>"
      ]
     },
     "metadata": {},
     "output_type": "display_data"
    },
    {
     "data": {
      "text/html": [
       "Syncing run <strong><a href='https://wandb.ai/dwolffram-karlsruhe-institute-of-technology/sari-lightgbm/runs/5nlpfqg3' target=\"_blank\">sandy-sweep-21</a></strong> to <a href='https://wandb.ai/dwolffram-karlsruhe-institute-of-technology/sari-lightgbm' target=\"_blank\">Weights & Biases</a> (<a href='https://wandb.me/run' target=\"_blank\">docs</a>)<br/>Sweep page: <a href='https://wandb.ai/dwolffram-karlsruhe-institute-of-technology/sari-lightgbm/sweeps/04mzwpfu' target=\"_blank\">https://wandb.ai/dwolffram-karlsruhe-institute-of-technology/sari-lightgbm/sweeps/04mzwpfu</a>"
      ],
      "text/plain": [
       "<IPython.core.display.HTML object>"
      ]
     },
     "metadata": {},
     "output_type": "display_data"
    },
    {
     "data": {
      "text/html": [
       " View project at <a href='https://wandb.ai/dwolffram-karlsruhe-institute-of-technology/sari-lightgbm' target=\"_blank\">https://wandb.ai/dwolffram-karlsruhe-institute-of-technology/sari-lightgbm</a>"
      ],
      "text/plain": [
       "<IPython.core.display.HTML object>"
      ]
     },
     "metadata": {},
     "output_type": "display_data"
    },
    {
     "data": {
      "text/html": [
       " View sweep at <a href='https://wandb.ai/dwolffram-karlsruhe-institute-of-technology/sari-lightgbm/sweeps/04mzwpfu' target=\"_blank\">https://wandb.ai/dwolffram-karlsruhe-institute-of-technology/sari-lightgbm/sweeps/04mzwpfu</a>"
      ],
      "text/plain": [
       "<IPython.core.display.HTML object>"
      ]
     },
     "metadata": {},
     "output_type": "display_data"
    },
    {
     "data": {
      "text/html": [
       " View run at <a href='https://wandb.ai/dwolffram-karlsruhe-institute-of-technology/sari-lightgbm/runs/5nlpfqg3' target=\"_blank\">https://wandb.ai/dwolffram-karlsruhe-institute-of-technology/sari-lightgbm/runs/5nlpfqg3</a>"
      ],
      "text/plain": [
       "<IPython.core.display.HTML object>"
      ]
     },
     "metadata": {},
     "output_type": "display_data"
    },
    {
     "data": {
      "application/vnd.jupyter.widget-view+json": {
       "model_id": "54a69ce68526433dbd3246818ea72a24",
       "version_major": 2,
       "version_minor": 0
      },
      "text/plain": [
       "VBox(children=(Label(value='0.006 MB of 0.006 MB uploaded\\r'), FloatProgress(value=1.0, max=1.0)))"
      ]
     },
     "metadata": {},
     "output_type": "display_data"
    },
    {
     "data": {
      "text/html": [
       "<style>\n",
       "    table.wandb td:nth-child(1) { padding: 0 10px; text-align: left ; width: auto;} td:nth-child(2) {text-align: left ; width: 100%}\n",
       "    .wandb-row { display: flex; flex-direction: row; flex-wrap: wrap; justify-content: flex-start; width: 100% }\n",
       "    .wandb-col { display: flex; flex-direction: column; flex-basis: 100%; flex: 1; padding: 10px; }\n",
       "    </style>\n",
       "<div class=\"wandb-row\"><div class=\"wandb-col\"><h3>Run history:</h3><br/><table class=\"wandb\"><tr><td>WIS</td><td>▁</td></tr><tr><td>WIS_2022</td><td>▁</td></tr><tr><td>WIS_2022_1</td><td>▁</td></tr><tr><td>WIS_std</td><td>▁</td></tr><tr><td>WIS_std_2022</td><td>▁</td></tr></table><br/></div><div class=\"wandb-col\"><h3>Run summary:</h3><br/><table class=\"wandb\"><tr><td>WIS</td><td>456.06593</td></tr><tr><td>WIS_2022</td><td>456.06593</td></tr><tr><td>WIS_2022_1</td><td>456.06593</td></tr><tr><td>WIS_std</td><td>0</td></tr><tr><td>WIS_std_2022</td><td>0</td></tr></table><br/></div></div>"
      ],
      "text/plain": [
       "<IPython.core.display.HTML object>"
      ]
     },
     "metadata": {},
     "output_type": "display_data"
    },
    {
     "data": {
      "text/html": [
       " View run <strong style=\"color:#cdcd00\">sandy-sweep-21</strong> at: <a href='https://wandb.ai/dwolffram-karlsruhe-institute-of-technology/sari-lightgbm/runs/5nlpfqg3' target=\"_blank\">https://wandb.ai/dwolffram-karlsruhe-institute-of-technology/sari-lightgbm/runs/5nlpfqg3</a><br/> View project at: <a href='https://wandb.ai/dwolffram-karlsruhe-institute-of-technology/sari-lightgbm' target=\"_blank\">https://wandb.ai/dwolffram-karlsruhe-institute-of-technology/sari-lightgbm</a><br/>Synced 5 W&B file(s), 0 media file(s), 0 artifact file(s) and 0 other file(s)"
      ],
      "text/plain": [
       "<IPython.core.display.HTML object>"
      ]
     },
     "metadata": {},
     "output_type": "display_data"
    },
    {
     "data": {
      "text/html": [
       "Find logs at: <code>./wandb/run-20241218_164341-5nlpfqg3/logs</code>"
      ],
      "text/plain": [
       "<IPython.core.display.HTML object>"
      ]
     },
     "metadata": {},
     "output_type": "display_data"
    },
    {
     "data": {
      "text/html": [
       "There is a new version of wandb available. Please upgrade to wandb==0.19.0"
      ],
      "text/plain": [
       "<IPython.core.display.HTML object>"
      ]
     },
     "metadata": {},
     "output_type": "display_data"
    },
    {
     "name": "stderr",
     "output_type": "stream",
     "text": [
      "\u001b[34m\u001b[1mwandb\u001b[0m: Agent Starting Run: fvq6vqep with config:\n",
      "\u001b[34m\u001b[1mwandb\u001b[0m: \tcolsample_bytree: 0.8\n",
      "\u001b[34m\u001b[1mwandb\u001b[0m: \tlags: 8\n",
      "\u001b[34m\u001b[1mwandb\u001b[0m: \tlags_future_covariates: [0, 1]\n",
      "\u001b[34m\u001b[1mwandb\u001b[0m: \tlags_past_covariates: {'agi-are-00-04': 8, 'agi-are-05-14': 8, 'agi-are-15-34': 8, 'agi-are-35-59': 8, 'agi-are-60+': 8, 'agi-are-DE': 8, 'default_lags': 1}\n",
      "\u001b[34m\u001b[1mwandb\u001b[0m: \tlearning_rate: 0.01\n",
      "\u001b[34m\u001b[1mwandb\u001b[0m: \tmax_bin: 1024\n",
      "\u001b[34m\u001b[1mwandb\u001b[0m: \tmax_depth: -1\n",
      "\u001b[34m\u001b[1mwandb\u001b[0m: \tmin_child_samples: 10\n",
      "\u001b[34m\u001b[1mwandb\u001b[0m: \tmin_split_gain: 0\n",
      "\u001b[34m\u001b[1mwandb\u001b[0m: \tmodel: lightgbm\n",
      "\u001b[34m\u001b[1mwandb\u001b[0m: \tmultiple_series: False\n",
      "\u001b[34m\u001b[1mwandb\u001b[0m: \tn_estimators: 500\n",
      "\u001b[34m\u001b[1mwandb\u001b[0m: \tnum_leaves: 20\n",
      "\u001b[34m\u001b[1mwandb\u001b[0m: \treg_alpha: 0.5\n",
      "\u001b[34m\u001b[1mwandb\u001b[0m: \treg_lambda: 1\n",
      "\u001b[34m\u001b[1mwandb\u001b[0m: \tsample_weight: linear\n",
      "\u001b[34m\u001b[1mwandb\u001b[0m: \tsubsample: 0.8\n",
      "\u001b[34m\u001b[1mwandb\u001b[0m: \tsubsample_freq: 1\n",
      "\u001b[34m\u001b[1mwandb\u001b[0m: \tuse_covariates: False\n",
      "\u001b[34m\u001b[1mwandb\u001b[0m: \tuse_encoders: True\n",
      "\u001b[34m\u001b[1mwandb\u001b[0m: \tuse_features: False\n",
      "\u001b[34m\u001b[1mwandb\u001b[0m: \tuse_static_covariates: False\n",
      "Failed to detect the name of this notebook, you can set it manually with the WANDB_NOTEBOOK_NAME environment variable to enable code saving.\n"
     ]
    },
    {
     "data": {
      "text/html": [
       "Tracking run with wandb version 0.18.0"
      ],
      "text/plain": [
       "<IPython.core.display.HTML object>"
      ]
     },
     "metadata": {},
     "output_type": "display_data"
    },
    {
     "data": {
      "text/html": [
       "Run data is saved locally in <code>/home/wolffram/SARI-ML/realtime/wandb/run-20241218_164443-fvq6vqep</code>"
      ],
      "text/plain": [
       "<IPython.core.display.HTML object>"
      ]
     },
     "metadata": {},
     "output_type": "display_data"
    },
    {
     "data": {
      "text/html": [
       "Syncing run <strong><a href='https://wandb.ai/dwolffram-karlsruhe-institute-of-technology/sari-lightgbm/runs/fvq6vqep' target=\"_blank\">sandy-sweep-22</a></strong> to <a href='https://wandb.ai/dwolffram-karlsruhe-institute-of-technology/sari-lightgbm' target=\"_blank\">Weights & Biases</a> (<a href='https://wandb.me/run' target=\"_blank\">docs</a>)<br/>Sweep page: <a href='https://wandb.ai/dwolffram-karlsruhe-institute-of-technology/sari-lightgbm/sweeps/04mzwpfu' target=\"_blank\">https://wandb.ai/dwolffram-karlsruhe-institute-of-technology/sari-lightgbm/sweeps/04mzwpfu</a>"
      ],
      "text/plain": [
       "<IPython.core.display.HTML object>"
      ]
     },
     "metadata": {},
     "output_type": "display_data"
    },
    {
     "data": {
      "text/html": [
       " View project at <a href='https://wandb.ai/dwolffram-karlsruhe-institute-of-technology/sari-lightgbm' target=\"_blank\">https://wandb.ai/dwolffram-karlsruhe-institute-of-technology/sari-lightgbm</a>"
      ],
      "text/plain": [
       "<IPython.core.display.HTML object>"
      ]
     },
     "metadata": {},
     "output_type": "display_data"
    },
    {
     "data": {
      "text/html": [
       " View sweep at <a href='https://wandb.ai/dwolffram-karlsruhe-institute-of-technology/sari-lightgbm/sweeps/04mzwpfu' target=\"_blank\">https://wandb.ai/dwolffram-karlsruhe-institute-of-technology/sari-lightgbm/sweeps/04mzwpfu</a>"
      ],
      "text/plain": [
       "<IPython.core.display.HTML object>"
      ]
     },
     "metadata": {},
     "output_type": "display_data"
    },
    {
     "data": {
      "text/html": [
       " View run at <a href='https://wandb.ai/dwolffram-karlsruhe-institute-of-technology/sari-lightgbm/runs/fvq6vqep' target=\"_blank\">https://wandb.ai/dwolffram-karlsruhe-institute-of-technology/sari-lightgbm/runs/fvq6vqep</a>"
      ],
      "text/plain": [
       "<IPython.core.display.HTML object>"
      ]
     },
     "metadata": {},
     "output_type": "display_data"
    },
    {
     "data": {
      "application/vnd.jupyter.widget-view+json": {
       "model_id": "126386628ebe485fbe3c095dedfad143",
       "version_major": 2,
       "version_minor": 0
      },
      "text/plain": [
       "VBox(children=(Label(value='0.006 MB of 0.006 MB uploaded\\r'), FloatProgress(value=1.0, max=1.0)))"
      ]
     },
     "metadata": {},
     "output_type": "display_data"
    },
    {
     "data": {
      "text/html": [
       "<style>\n",
       "    table.wandb td:nth-child(1) { padding: 0 10px; text-align: left ; width: auto;} td:nth-child(2) {text-align: left ; width: 100%}\n",
       "    .wandb-row { display: flex; flex-direction: row; flex-wrap: wrap; justify-content: flex-start; width: 100% }\n",
       "    .wandb-col { display: flex; flex-direction: column; flex-basis: 100%; flex: 1; padding: 10px; }\n",
       "    </style>\n",
       "<div class=\"wandb-row\"><div class=\"wandb-col\"><h3>Run history:</h3><br/><table class=\"wandb\"><tr><td>WIS</td><td>▁</td></tr><tr><td>WIS_2022</td><td>▁</td></tr><tr><td>WIS_2022_1</td><td>▁</td></tr><tr><td>WIS_std</td><td>▁</td></tr><tr><td>WIS_std_2022</td><td>▁</td></tr></table><br/></div><div class=\"wandb-col\"><h3>Run summary:</h3><br/><table class=\"wandb\"><tr><td>WIS</td><td>468.80072</td></tr><tr><td>WIS_2022</td><td>468.80072</td></tr><tr><td>WIS_2022_1</td><td>468.80072</td></tr><tr><td>WIS_std</td><td>0</td></tr><tr><td>WIS_std_2022</td><td>0</td></tr></table><br/></div></div>"
      ],
      "text/plain": [
       "<IPython.core.display.HTML object>"
      ]
     },
     "metadata": {},
     "output_type": "display_data"
    },
    {
     "data": {
      "text/html": [
       " View run <strong style=\"color:#cdcd00\">sandy-sweep-22</strong> at: <a href='https://wandb.ai/dwolffram-karlsruhe-institute-of-technology/sari-lightgbm/runs/fvq6vqep' target=\"_blank\">https://wandb.ai/dwolffram-karlsruhe-institute-of-technology/sari-lightgbm/runs/fvq6vqep</a><br/> View project at: <a href='https://wandb.ai/dwolffram-karlsruhe-institute-of-technology/sari-lightgbm' target=\"_blank\">https://wandb.ai/dwolffram-karlsruhe-institute-of-technology/sari-lightgbm</a><br/>Synced 5 W&B file(s), 0 media file(s), 0 artifact file(s) and 0 other file(s)"
      ],
      "text/plain": [
       "<IPython.core.display.HTML object>"
      ]
     },
     "metadata": {},
     "output_type": "display_data"
    },
    {
     "data": {
      "text/html": [
       "Find logs at: <code>./wandb/run-20241218_164443-fvq6vqep/logs</code>"
      ],
      "text/plain": [
       "<IPython.core.display.HTML object>"
      ]
     },
     "metadata": {},
     "output_type": "display_data"
    },
    {
     "data": {
      "text/html": [
       "There is a new version of wandb available. Please upgrade to wandb==0.19.0"
      ],
      "text/plain": [
       "<IPython.core.display.HTML object>"
      ]
     },
     "metadata": {},
     "output_type": "display_data"
    },
    {
     "name": "stderr",
     "output_type": "stream",
     "text": [
      "\u001b[34m\u001b[1mwandb\u001b[0m: Agent Starting Run: d3o57slh with config:\n",
      "\u001b[34m\u001b[1mwandb\u001b[0m: \tcolsample_bytree: 0.8\n",
      "\u001b[34m\u001b[1mwandb\u001b[0m: \tlags: 8\n",
      "\u001b[34m\u001b[1mwandb\u001b[0m: \tlags_future_covariates: [0, 1]\n",
      "\u001b[34m\u001b[1mwandb\u001b[0m: \tlags_past_covariates: {'agi-are-00-04': 8, 'agi-are-05-14': 8, 'agi-are-15-34': 8, 'agi-are-35-59': 8, 'agi-are-60+': 8, 'agi-are-DE': 8, 'default_lags': 1}\n",
      "\u001b[34m\u001b[1mwandb\u001b[0m: \tlearning_rate: 0.01\n",
      "\u001b[34m\u001b[1mwandb\u001b[0m: \tmax_bin: 1024\n",
      "\u001b[34m\u001b[1mwandb\u001b[0m: \tmax_depth: -1\n",
      "\u001b[34m\u001b[1mwandb\u001b[0m: \tmin_child_samples: 10\n",
      "\u001b[34m\u001b[1mwandb\u001b[0m: \tmin_split_gain: 0\n",
      "\u001b[34m\u001b[1mwandb\u001b[0m: \tmodel: lightgbm\n",
      "\u001b[34m\u001b[1mwandb\u001b[0m: \tmultiple_series: False\n",
      "\u001b[34m\u001b[1mwandb\u001b[0m: \tn_estimators: 500\n",
      "\u001b[34m\u001b[1mwandb\u001b[0m: \tnum_leaves: 20\n",
      "\u001b[34m\u001b[1mwandb\u001b[0m: \treg_alpha: 0.5\n",
      "\u001b[34m\u001b[1mwandb\u001b[0m: \treg_lambda: 1\n",
      "\u001b[34m\u001b[1mwandb\u001b[0m: \tsample_weight: no-covid\n",
      "\u001b[34m\u001b[1mwandb\u001b[0m: \tsubsample: 0.8\n",
      "\u001b[34m\u001b[1mwandb\u001b[0m: \tsubsample_freq: 1\n",
      "\u001b[34m\u001b[1mwandb\u001b[0m: \tuse_covariates: True\n",
      "\u001b[34m\u001b[1mwandb\u001b[0m: \tuse_encoders: True\n",
      "\u001b[34m\u001b[1mwandb\u001b[0m: \tuse_features: False\n",
      "\u001b[34m\u001b[1mwandb\u001b[0m: \tuse_static_covariates: False\n",
      "Failed to detect the name of this notebook, you can set it manually with the WANDB_NOTEBOOK_NAME environment variable to enable code saving.\n"
     ]
    },
    {
     "data": {
      "text/html": [
       "Tracking run with wandb version 0.18.0"
      ],
      "text/plain": [
       "<IPython.core.display.HTML object>"
      ]
     },
     "metadata": {},
     "output_type": "display_data"
    },
    {
     "data": {
      "text/html": [
       "Run data is saved locally in <code>/home/wolffram/SARI-ML/realtime/wandb/run-20241218_164540-d3o57slh</code>"
      ],
      "text/plain": [
       "<IPython.core.display.HTML object>"
      ]
     },
     "metadata": {},
     "output_type": "display_data"
    },
    {
     "data": {
      "text/html": [
       "Syncing run <strong><a href='https://wandb.ai/dwolffram-karlsruhe-institute-of-technology/sari-lightgbm/runs/d3o57slh' target=\"_blank\">fluent-sweep-23</a></strong> to <a href='https://wandb.ai/dwolffram-karlsruhe-institute-of-technology/sari-lightgbm' target=\"_blank\">Weights & Biases</a> (<a href='https://wandb.me/run' target=\"_blank\">docs</a>)<br/>Sweep page: <a href='https://wandb.ai/dwolffram-karlsruhe-institute-of-technology/sari-lightgbm/sweeps/04mzwpfu' target=\"_blank\">https://wandb.ai/dwolffram-karlsruhe-institute-of-technology/sari-lightgbm/sweeps/04mzwpfu</a>"
      ],
      "text/plain": [
       "<IPython.core.display.HTML object>"
      ]
     },
     "metadata": {},
     "output_type": "display_data"
    },
    {
     "data": {
      "text/html": [
       " View project at <a href='https://wandb.ai/dwolffram-karlsruhe-institute-of-technology/sari-lightgbm' target=\"_blank\">https://wandb.ai/dwolffram-karlsruhe-institute-of-technology/sari-lightgbm</a>"
      ],
      "text/plain": [
       "<IPython.core.display.HTML object>"
      ]
     },
     "metadata": {},
     "output_type": "display_data"
    },
    {
     "data": {
      "text/html": [
       " View sweep at <a href='https://wandb.ai/dwolffram-karlsruhe-institute-of-technology/sari-lightgbm/sweeps/04mzwpfu' target=\"_blank\">https://wandb.ai/dwolffram-karlsruhe-institute-of-technology/sari-lightgbm/sweeps/04mzwpfu</a>"
      ],
      "text/plain": [
       "<IPython.core.display.HTML object>"
      ]
     },
     "metadata": {},
     "output_type": "display_data"
    },
    {
     "data": {
      "text/html": [
       " View run at <a href='https://wandb.ai/dwolffram-karlsruhe-institute-of-technology/sari-lightgbm/runs/d3o57slh' target=\"_blank\">https://wandb.ai/dwolffram-karlsruhe-institute-of-technology/sari-lightgbm/runs/d3o57slh</a>"
      ],
      "text/plain": [
       "<IPython.core.display.HTML object>"
      ]
     },
     "metadata": {},
     "output_type": "display_data"
    },
    {
     "data": {
      "application/vnd.jupyter.widget-view+json": {
       "model_id": "ea3b91c841744dba8bada7cec8c3ba54",
       "version_major": 2,
       "version_minor": 0
      },
      "text/plain": [
       "VBox(children=(Label(value='0.006 MB of 0.006 MB uploaded\\r'), FloatProgress(value=1.0, max=1.0)))"
      ]
     },
     "metadata": {},
     "output_type": "display_data"
    },
    {
     "data": {
      "text/html": [
       "<style>\n",
       "    table.wandb td:nth-child(1) { padding: 0 10px; text-align: left ; width: auto;} td:nth-child(2) {text-align: left ; width: 100%}\n",
       "    .wandb-row { display: flex; flex-direction: row; flex-wrap: wrap; justify-content: flex-start; width: 100% }\n",
       "    .wandb-col { display: flex; flex-direction: column; flex-basis: 100%; flex: 1; padding: 10px; }\n",
       "    </style>\n",
       "<div class=\"wandb-row\"><div class=\"wandb-col\"><h3>Run history:</h3><br/><table class=\"wandb\"><tr><td>WIS</td><td>▁</td></tr><tr><td>WIS_2022</td><td>▁</td></tr><tr><td>WIS_2022_1</td><td>▁</td></tr><tr><td>WIS_std</td><td>▁</td></tr><tr><td>WIS_std_2022</td><td>▁</td></tr></table><br/></div><div class=\"wandb-col\"><h3>Run summary:</h3><br/><table class=\"wandb\"><tr><td>WIS</td><td>467.42336</td></tr><tr><td>WIS_2022</td><td>467.42336</td></tr><tr><td>WIS_2022_1</td><td>467.42336</td></tr><tr><td>WIS_std</td><td>0</td></tr><tr><td>WIS_std_2022</td><td>0</td></tr></table><br/></div></div>"
      ],
      "text/plain": [
       "<IPython.core.display.HTML object>"
      ]
     },
     "metadata": {},
     "output_type": "display_data"
    },
    {
     "data": {
      "text/html": [
       " View run <strong style=\"color:#cdcd00\">fluent-sweep-23</strong> at: <a href='https://wandb.ai/dwolffram-karlsruhe-institute-of-technology/sari-lightgbm/runs/d3o57slh' target=\"_blank\">https://wandb.ai/dwolffram-karlsruhe-institute-of-technology/sari-lightgbm/runs/d3o57slh</a><br/> View project at: <a href='https://wandb.ai/dwolffram-karlsruhe-institute-of-technology/sari-lightgbm' target=\"_blank\">https://wandb.ai/dwolffram-karlsruhe-institute-of-technology/sari-lightgbm</a><br/>Synced 5 W&B file(s), 0 media file(s), 0 artifact file(s) and 0 other file(s)"
      ],
      "text/plain": [
       "<IPython.core.display.HTML object>"
      ]
     },
     "metadata": {},
     "output_type": "display_data"
    },
    {
     "data": {
      "text/html": [
       "Find logs at: <code>./wandb/run-20241218_164540-d3o57slh/logs</code>"
      ],
      "text/plain": [
       "<IPython.core.display.HTML object>"
      ]
     },
     "metadata": {},
     "output_type": "display_data"
    },
    {
     "data": {
      "text/html": [
       "There is a new version of wandb available. Please upgrade to wandb==0.19.0"
      ],
      "text/plain": [
       "<IPython.core.display.HTML object>"
      ]
     },
     "metadata": {},
     "output_type": "display_data"
    },
    {
     "name": "stderr",
     "output_type": "stream",
     "text": [
      "\u001b[34m\u001b[1mwandb\u001b[0m: Agent Starting Run: djpjq0nz with config:\n",
      "\u001b[34m\u001b[1mwandb\u001b[0m: \tcolsample_bytree: 0.8\n",
      "\u001b[34m\u001b[1mwandb\u001b[0m: \tlags: 8\n",
      "\u001b[34m\u001b[1mwandb\u001b[0m: \tlags_future_covariates: [0, 1]\n",
      "\u001b[34m\u001b[1mwandb\u001b[0m: \tlags_past_covariates: {'agi-are-00-04': 8, 'agi-are-05-14': 8, 'agi-are-15-34': 8, 'agi-are-35-59': 8, 'agi-are-60+': 8, 'agi-are-DE': 8, 'default_lags': 1}\n",
      "\u001b[34m\u001b[1mwandb\u001b[0m: \tlearning_rate: 0.01\n",
      "\u001b[34m\u001b[1mwandb\u001b[0m: \tmax_bin: 1024\n",
      "\u001b[34m\u001b[1mwandb\u001b[0m: \tmax_depth: -1\n",
      "\u001b[34m\u001b[1mwandb\u001b[0m: \tmin_child_samples: 10\n",
      "\u001b[34m\u001b[1mwandb\u001b[0m: \tmin_split_gain: 0\n",
      "\u001b[34m\u001b[1mwandb\u001b[0m: \tmodel: lightgbm\n",
      "\u001b[34m\u001b[1mwandb\u001b[0m: \tmultiple_series: False\n",
      "\u001b[34m\u001b[1mwandb\u001b[0m: \tn_estimators: 500\n",
      "\u001b[34m\u001b[1mwandb\u001b[0m: \tnum_leaves: 20\n",
      "\u001b[34m\u001b[1mwandb\u001b[0m: \treg_alpha: 0.5\n",
      "\u001b[34m\u001b[1mwandb\u001b[0m: \treg_lambda: 1\n",
      "\u001b[34m\u001b[1mwandb\u001b[0m: \tsample_weight: no-covid\n",
      "\u001b[34m\u001b[1mwandb\u001b[0m: \tsubsample: 0.8\n",
      "\u001b[34m\u001b[1mwandb\u001b[0m: \tsubsample_freq: 1\n",
      "\u001b[34m\u001b[1mwandb\u001b[0m: \tuse_covariates: False\n",
      "\u001b[34m\u001b[1mwandb\u001b[0m: \tuse_encoders: True\n",
      "\u001b[34m\u001b[1mwandb\u001b[0m: \tuse_features: False\n",
      "\u001b[34m\u001b[1mwandb\u001b[0m: \tuse_static_covariates: False\n",
      "Failed to detect the name of this notebook, you can set it manually with the WANDB_NOTEBOOK_NAME environment variable to enable code saving.\n"
     ]
    },
    {
     "data": {
      "text/html": [
       "Tracking run with wandb version 0.18.0"
      ],
      "text/plain": [
       "<IPython.core.display.HTML object>"
      ]
     },
     "metadata": {},
     "output_type": "display_data"
    },
    {
     "data": {
      "text/html": [
       "Run data is saved locally in <code>/home/wolffram/SARI-ML/realtime/wandb/run-20241218_164632-djpjq0nz</code>"
      ],
      "text/plain": [
       "<IPython.core.display.HTML object>"
      ]
     },
     "metadata": {},
     "output_type": "display_data"
    },
    {
     "data": {
      "text/html": [
       "Syncing run <strong><a href='https://wandb.ai/dwolffram-karlsruhe-institute-of-technology/sari-lightgbm/runs/djpjq0nz' target=\"_blank\">pleasant-sweep-24</a></strong> to <a href='https://wandb.ai/dwolffram-karlsruhe-institute-of-technology/sari-lightgbm' target=\"_blank\">Weights & Biases</a> (<a href='https://wandb.me/run' target=\"_blank\">docs</a>)<br/>Sweep page: <a href='https://wandb.ai/dwolffram-karlsruhe-institute-of-technology/sari-lightgbm/sweeps/04mzwpfu' target=\"_blank\">https://wandb.ai/dwolffram-karlsruhe-institute-of-technology/sari-lightgbm/sweeps/04mzwpfu</a>"
      ],
      "text/plain": [
       "<IPython.core.display.HTML object>"
      ]
     },
     "metadata": {},
     "output_type": "display_data"
    },
    {
     "data": {
      "text/html": [
       " View project at <a href='https://wandb.ai/dwolffram-karlsruhe-institute-of-technology/sari-lightgbm' target=\"_blank\">https://wandb.ai/dwolffram-karlsruhe-institute-of-technology/sari-lightgbm</a>"
      ],
      "text/plain": [
       "<IPython.core.display.HTML object>"
      ]
     },
     "metadata": {},
     "output_type": "display_data"
    },
    {
     "data": {
      "text/html": [
       " View sweep at <a href='https://wandb.ai/dwolffram-karlsruhe-institute-of-technology/sari-lightgbm/sweeps/04mzwpfu' target=\"_blank\">https://wandb.ai/dwolffram-karlsruhe-institute-of-technology/sari-lightgbm/sweeps/04mzwpfu</a>"
      ],
      "text/plain": [
       "<IPython.core.display.HTML object>"
      ]
     },
     "metadata": {},
     "output_type": "display_data"
    },
    {
     "data": {
      "text/html": [
       " View run at <a href='https://wandb.ai/dwolffram-karlsruhe-institute-of-technology/sari-lightgbm/runs/djpjq0nz' target=\"_blank\">https://wandb.ai/dwolffram-karlsruhe-institute-of-technology/sari-lightgbm/runs/djpjq0nz</a>"
      ],
      "text/plain": [
       "<IPython.core.display.HTML object>"
      ]
     },
     "metadata": {},
     "output_type": "display_data"
    },
    {
     "data": {
      "application/vnd.jupyter.widget-view+json": {
       "model_id": "0129871d4caa452c97e04f2485e3d52a",
       "version_major": 2,
       "version_minor": 0
      },
      "text/plain": [
       "VBox(children=(Label(value='0.006 MB of 0.006 MB uploaded\\r'), FloatProgress(value=1.0, max=1.0)))"
      ]
     },
     "metadata": {},
     "output_type": "display_data"
    },
    {
     "data": {
      "text/html": [
       "<style>\n",
       "    table.wandb td:nth-child(1) { padding: 0 10px; text-align: left ; width: auto;} td:nth-child(2) {text-align: left ; width: 100%}\n",
       "    .wandb-row { display: flex; flex-direction: row; flex-wrap: wrap; justify-content: flex-start; width: 100% }\n",
       "    .wandb-col { display: flex; flex-direction: column; flex-basis: 100%; flex: 1; padding: 10px; }\n",
       "    </style>\n",
       "<div class=\"wandb-row\"><div class=\"wandb-col\"><h3>Run history:</h3><br/><table class=\"wandb\"><tr><td>WIS</td><td>▁</td></tr><tr><td>WIS_2022</td><td>▁</td></tr><tr><td>WIS_2022_1</td><td>▁</td></tr><tr><td>WIS_std</td><td>▁</td></tr><tr><td>WIS_std_2022</td><td>▁</td></tr></table><br/></div><div class=\"wandb-col\"><h3>Run summary:</h3><br/><table class=\"wandb\"><tr><td>WIS</td><td>517.67467</td></tr><tr><td>WIS_2022</td><td>517.67467</td></tr><tr><td>WIS_2022_1</td><td>517.67467</td></tr><tr><td>WIS_std</td><td>0</td></tr><tr><td>WIS_std_2022</td><td>0</td></tr></table><br/></div></div>"
      ],
      "text/plain": [
       "<IPython.core.display.HTML object>"
      ]
     },
     "metadata": {},
     "output_type": "display_data"
    },
    {
     "data": {
      "text/html": [
       " View run <strong style=\"color:#cdcd00\">pleasant-sweep-24</strong> at: <a href='https://wandb.ai/dwolffram-karlsruhe-institute-of-technology/sari-lightgbm/runs/djpjq0nz' target=\"_blank\">https://wandb.ai/dwolffram-karlsruhe-institute-of-technology/sari-lightgbm/runs/djpjq0nz</a><br/> View project at: <a href='https://wandb.ai/dwolffram-karlsruhe-institute-of-technology/sari-lightgbm' target=\"_blank\">https://wandb.ai/dwolffram-karlsruhe-institute-of-technology/sari-lightgbm</a><br/>Synced 5 W&B file(s), 0 media file(s), 0 artifact file(s) and 0 other file(s)"
      ],
      "text/plain": [
       "<IPython.core.display.HTML object>"
      ]
     },
     "metadata": {},
     "output_type": "display_data"
    },
    {
     "data": {
      "text/html": [
       "Find logs at: <code>./wandb/run-20241218_164632-djpjq0nz/logs</code>"
      ],
      "text/plain": [
       "<IPython.core.display.HTML object>"
      ]
     },
     "metadata": {},
     "output_type": "display_data"
    },
    {
     "data": {
      "text/html": [
       "There is a new version of wandb available. Please upgrade to wandb==0.19.0"
      ],
      "text/plain": [
       "<IPython.core.display.HTML object>"
      ]
     },
     "metadata": {},
     "output_type": "display_data"
    },
    {
     "name": "stderr",
     "output_type": "stream",
     "text": [
      "\u001b[34m\u001b[1mwandb\u001b[0m: Agent Starting Run: 1y5y1tcg with config:\n",
      "\u001b[34m\u001b[1mwandb\u001b[0m: \tcolsample_bytree: 0.8\n",
      "\u001b[34m\u001b[1mwandb\u001b[0m: \tlags: 8\n",
      "\u001b[34m\u001b[1mwandb\u001b[0m: \tlags_future_covariates: [0, 1]\n",
      "\u001b[34m\u001b[1mwandb\u001b[0m: \tlags_past_covariates: {'agi-are-00-04': 8, 'agi-are-05-14': 8, 'agi-are-15-34': 8, 'agi-are-35-59': 8, 'agi-are-60+': 8, 'agi-are-DE': 8, 'default_lags': 1}\n",
      "\u001b[34m\u001b[1mwandb\u001b[0m: \tlearning_rate: 0.01\n",
      "\u001b[34m\u001b[1mwandb\u001b[0m: \tmax_bin: 1024\n",
      "\u001b[34m\u001b[1mwandb\u001b[0m: \tmax_depth: -1\n",
      "\u001b[34m\u001b[1mwandb\u001b[0m: \tmin_child_samples: 10\n",
      "\u001b[34m\u001b[1mwandb\u001b[0m: \tmin_split_gain: 0\n",
      "\u001b[34m\u001b[1mwandb\u001b[0m: \tmodel: lightgbm\n",
      "\u001b[34m\u001b[1mwandb\u001b[0m: \tmultiple_series: False\n",
      "\u001b[34m\u001b[1mwandb\u001b[0m: \tn_estimators: 500\n",
      "\u001b[34m\u001b[1mwandb\u001b[0m: \tnum_leaves: 20\n",
      "\u001b[34m\u001b[1mwandb\u001b[0m: \treg_alpha: 1\n",
      "\u001b[34m\u001b[1mwandb\u001b[0m: \treg_lambda: 0\n",
      "\u001b[34m\u001b[1mwandb\u001b[0m: \tsample_weight: linear\n",
      "\u001b[34m\u001b[1mwandb\u001b[0m: \tsubsample: 0.8\n",
      "\u001b[34m\u001b[1mwandb\u001b[0m: \tsubsample_freq: 1\n",
      "\u001b[34m\u001b[1mwandb\u001b[0m: \tuse_covariates: True\n",
      "\u001b[34m\u001b[1mwandb\u001b[0m: \tuse_encoders: True\n",
      "\u001b[34m\u001b[1mwandb\u001b[0m: \tuse_features: False\n",
      "\u001b[34m\u001b[1mwandb\u001b[0m: \tuse_static_covariates: False\n",
      "Failed to detect the name of this notebook, you can set it manually with the WANDB_NOTEBOOK_NAME environment variable to enable code saving.\n"
     ]
    },
    {
     "data": {
      "text/html": [
       "Tracking run with wandb version 0.18.0"
      ],
      "text/plain": [
       "<IPython.core.display.HTML object>"
      ]
     },
     "metadata": {},
     "output_type": "display_data"
    },
    {
     "data": {
      "text/html": [
       "Run data is saved locally in <code>/home/wolffram/SARI-ML/realtime/wandb/run-20241218_164718-1y5y1tcg</code>"
      ],
      "text/plain": [
       "<IPython.core.display.HTML object>"
      ]
     },
     "metadata": {},
     "output_type": "display_data"
    },
    {
     "data": {
      "text/html": [
       "Syncing run <strong><a href='https://wandb.ai/dwolffram-karlsruhe-institute-of-technology/sari-lightgbm/runs/1y5y1tcg' target=\"_blank\">resilient-sweep-25</a></strong> to <a href='https://wandb.ai/dwolffram-karlsruhe-institute-of-technology/sari-lightgbm' target=\"_blank\">Weights & Biases</a> (<a href='https://wandb.me/run' target=\"_blank\">docs</a>)<br/>Sweep page: <a href='https://wandb.ai/dwolffram-karlsruhe-institute-of-technology/sari-lightgbm/sweeps/04mzwpfu' target=\"_blank\">https://wandb.ai/dwolffram-karlsruhe-institute-of-technology/sari-lightgbm/sweeps/04mzwpfu</a>"
      ],
      "text/plain": [
       "<IPython.core.display.HTML object>"
      ]
     },
     "metadata": {},
     "output_type": "display_data"
    },
    {
     "data": {
      "text/html": [
       " View project at <a href='https://wandb.ai/dwolffram-karlsruhe-institute-of-technology/sari-lightgbm' target=\"_blank\">https://wandb.ai/dwolffram-karlsruhe-institute-of-technology/sari-lightgbm</a>"
      ],
      "text/plain": [
       "<IPython.core.display.HTML object>"
      ]
     },
     "metadata": {},
     "output_type": "display_data"
    },
    {
     "data": {
      "text/html": [
       " View sweep at <a href='https://wandb.ai/dwolffram-karlsruhe-institute-of-technology/sari-lightgbm/sweeps/04mzwpfu' target=\"_blank\">https://wandb.ai/dwolffram-karlsruhe-institute-of-technology/sari-lightgbm/sweeps/04mzwpfu</a>"
      ],
      "text/plain": [
       "<IPython.core.display.HTML object>"
      ]
     },
     "metadata": {},
     "output_type": "display_data"
    },
    {
     "data": {
      "text/html": [
       " View run at <a href='https://wandb.ai/dwolffram-karlsruhe-institute-of-technology/sari-lightgbm/runs/1y5y1tcg' target=\"_blank\">https://wandb.ai/dwolffram-karlsruhe-institute-of-technology/sari-lightgbm/runs/1y5y1tcg</a>"
      ],
      "text/plain": [
       "<IPython.core.display.HTML object>"
      ]
     },
     "metadata": {},
     "output_type": "display_data"
    },
    {
     "data": {
      "application/vnd.jupyter.widget-view+json": {
       "model_id": "ba7b0f5d3bff4fa8b7f1138683aaeea5",
       "version_major": 2,
       "version_minor": 0
      },
      "text/plain": [
       "VBox(children=(Label(value='0.006 MB of 0.006 MB uploaded\\r'), FloatProgress(value=1.0, max=1.0)))"
      ]
     },
     "metadata": {},
     "output_type": "display_data"
    },
    {
     "data": {
      "text/html": [
       "<style>\n",
       "    table.wandb td:nth-child(1) { padding: 0 10px; text-align: left ; width: auto;} td:nth-child(2) {text-align: left ; width: 100%}\n",
       "    .wandb-row { display: flex; flex-direction: row; flex-wrap: wrap; justify-content: flex-start; width: 100% }\n",
       "    .wandb-col { display: flex; flex-direction: column; flex-basis: 100%; flex: 1; padding: 10px; }\n",
       "    </style>\n",
       "<div class=\"wandb-row\"><div class=\"wandb-col\"><h3>Run history:</h3><br/><table class=\"wandb\"><tr><td>WIS</td><td>▁</td></tr><tr><td>WIS_2022</td><td>▁</td></tr><tr><td>WIS_2022_1</td><td>▁</td></tr><tr><td>WIS_std</td><td>▁</td></tr><tr><td>WIS_std_2022</td><td>▁</td></tr></table><br/></div><div class=\"wandb-col\"><h3>Run summary:</h3><br/><table class=\"wandb\"><tr><td>WIS</td><td>458.20109</td></tr><tr><td>WIS_2022</td><td>458.20109</td></tr><tr><td>WIS_2022_1</td><td>458.20109</td></tr><tr><td>WIS_std</td><td>0</td></tr><tr><td>WIS_std_2022</td><td>0</td></tr></table><br/></div></div>"
      ],
      "text/plain": [
       "<IPython.core.display.HTML object>"
      ]
     },
     "metadata": {},
     "output_type": "display_data"
    },
    {
     "data": {
      "text/html": [
       " View run <strong style=\"color:#cdcd00\">resilient-sweep-25</strong> at: <a href='https://wandb.ai/dwolffram-karlsruhe-institute-of-technology/sari-lightgbm/runs/1y5y1tcg' target=\"_blank\">https://wandb.ai/dwolffram-karlsruhe-institute-of-technology/sari-lightgbm/runs/1y5y1tcg</a><br/> View project at: <a href='https://wandb.ai/dwolffram-karlsruhe-institute-of-technology/sari-lightgbm' target=\"_blank\">https://wandb.ai/dwolffram-karlsruhe-institute-of-technology/sari-lightgbm</a><br/>Synced 5 W&B file(s), 0 media file(s), 0 artifact file(s) and 0 other file(s)"
      ],
      "text/plain": [
       "<IPython.core.display.HTML object>"
      ]
     },
     "metadata": {},
     "output_type": "display_data"
    },
    {
     "data": {
      "text/html": [
       "Find logs at: <code>./wandb/run-20241218_164718-1y5y1tcg/logs</code>"
      ],
      "text/plain": [
       "<IPython.core.display.HTML object>"
      ]
     },
     "metadata": {},
     "output_type": "display_data"
    },
    {
     "data": {
      "text/html": [
       "There is a new version of wandb available. Please upgrade to wandb==0.19.0"
      ],
      "text/plain": [
       "<IPython.core.display.HTML object>"
      ]
     },
     "metadata": {},
     "output_type": "display_data"
    },
    {
     "name": "stderr",
     "output_type": "stream",
     "text": [
      "\u001b[34m\u001b[1mwandb\u001b[0m: Agent Starting Run: 9dla4myn with config:\n",
      "\u001b[34m\u001b[1mwandb\u001b[0m: \tcolsample_bytree: 0.8\n",
      "\u001b[34m\u001b[1mwandb\u001b[0m: \tlags: 8\n",
      "\u001b[34m\u001b[1mwandb\u001b[0m: \tlags_future_covariates: [0, 1]\n",
      "\u001b[34m\u001b[1mwandb\u001b[0m: \tlags_past_covariates: {'agi-are-00-04': 8, 'agi-are-05-14': 8, 'agi-are-15-34': 8, 'agi-are-35-59': 8, 'agi-are-60+': 8, 'agi-are-DE': 8, 'default_lags': 1}\n",
      "\u001b[34m\u001b[1mwandb\u001b[0m: \tlearning_rate: 0.01\n",
      "\u001b[34m\u001b[1mwandb\u001b[0m: \tmax_bin: 1024\n",
      "\u001b[34m\u001b[1mwandb\u001b[0m: \tmax_depth: -1\n",
      "\u001b[34m\u001b[1mwandb\u001b[0m: \tmin_child_samples: 10\n",
      "\u001b[34m\u001b[1mwandb\u001b[0m: \tmin_split_gain: 0\n",
      "\u001b[34m\u001b[1mwandb\u001b[0m: \tmodel: lightgbm\n",
      "\u001b[34m\u001b[1mwandb\u001b[0m: \tmultiple_series: False\n",
      "\u001b[34m\u001b[1mwandb\u001b[0m: \tn_estimators: 500\n",
      "\u001b[34m\u001b[1mwandb\u001b[0m: \tnum_leaves: 20\n",
      "\u001b[34m\u001b[1mwandb\u001b[0m: \treg_alpha: 1\n",
      "\u001b[34m\u001b[1mwandb\u001b[0m: \treg_lambda: 0\n",
      "\u001b[34m\u001b[1mwandb\u001b[0m: \tsample_weight: linear\n",
      "\u001b[34m\u001b[1mwandb\u001b[0m: \tsubsample: 0.8\n",
      "\u001b[34m\u001b[1mwandb\u001b[0m: \tsubsample_freq: 1\n",
      "\u001b[34m\u001b[1mwandb\u001b[0m: \tuse_covariates: False\n",
      "\u001b[34m\u001b[1mwandb\u001b[0m: \tuse_encoders: True\n",
      "\u001b[34m\u001b[1mwandb\u001b[0m: \tuse_features: False\n",
      "\u001b[34m\u001b[1mwandb\u001b[0m: \tuse_static_covariates: False\n",
      "Failed to detect the name of this notebook, you can set it manually with the WANDB_NOTEBOOK_NAME environment variable to enable code saving.\n"
     ]
    },
    {
     "data": {
      "text/html": [
       "Tracking run with wandb version 0.18.0"
      ],
      "text/plain": [
       "<IPython.core.display.HTML object>"
      ]
     },
     "metadata": {},
     "output_type": "display_data"
    },
    {
     "data": {
      "text/html": [
       "Run data is saved locally in <code>/home/wolffram/SARI-ML/realtime/wandb/run-20241218_164815-9dla4myn</code>"
      ],
      "text/plain": [
       "<IPython.core.display.HTML object>"
      ]
     },
     "metadata": {},
     "output_type": "display_data"
    },
    {
     "data": {
      "text/html": [
       "Syncing run <strong><a href='https://wandb.ai/dwolffram-karlsruhe-institute-of-technology/sari-lightgbm/runs/9dla4myn' target=\"_blank\">graceful-sweep-26</a></strong> to <a href='https://wandb.ai/dwolffram-karlsruhe-institute-of-technology/sari-lightgbm' target=\"_blank\">Weights & Biases</a> (<a href='https://wandb.me/run' target=\"_blank\">docs</a>)<br/>Sweep page: <a href='https://wandb.ai/dwolffram-karlsruhe-institute-of-technology/sari-lightgbm/sweeps/04mzwpfu' target=\"_blank\">https://wandb.ai/dwolffram-karlsruhe-institute-of-technology/sari-lightgbm/sweeps/04mzwpfu</a>"
      ],
      "text/plain": [
       "<IPython.core.display.HTML object>"
      ]
     },
     "metadata": {},
     "output_type": "display_data"
    },
    {
     "data": {
      "text/html": [
       " View project at <a href='https://wandb.ai/dwolffram-karlsruhe-institute-of-technology/sari-lightgbm' target=\"_blank\">https://wandb.ai/dwolffram-karlsruhe-institute-of-technology/sari-lightgbm</a>"
      ],
      "text/plain": [
       "<IPython.core.display.HTML object>"
      ]
     },
     "metadata": {},
     "output_type": "display_data"
    },
    {
     "data": {
      "text/html": [
       " View sweep at <a href='https://wandb.ai/dwolffram-karlsruhe-institute-of-technology/sari-lightgbm/sweeps/04mzwpfu' target=\"_blank\">https://wandb.ai/dwolffram-karlsruhe-institute-of-technology/sari-lightgbm/sweeps/04mzwpfu</a>"
      ],
      "text/plain": [
       "<IPython.core.display.HTML object>"
      ]
     },
     "metadata": {},
     "output_type": "display_data"
    },
    {
     "data": {
      "text/html": [
       " View run at <a href='https://wandb.ai/dwolffram-karlsruhe-institute-of-technology/sari-lightgbm/runs/9dla4myn' target=\"_blank\">https://wandb.ai/dwolffram-karlsruhe-institute-of-technology/sari-lightgbm/runs/9dla4myn</a>"
      ],
      "text/plain": [
       "<IPython.core.display.HTML object>"
      ]
     },
     "metadata": {},
     "output_type": "display_data"
    },
    {
     "data": {
      "application/vnd.jupyter.widget-view+json": {
       "model_id": "20391bd9997c4700b9399fbbae5cd6f0",
       "version_major": 2,
       "version_minor": 0
      },
      "text/plain": [
       "VBox(children=(Label(value='0.006 MB of 0.006 MB uploaded\\r'), FloatProgress(value=1.0, max=1.0)))"
      ]
     },
     "metadata": {},
     "output_type": "display_data"
    },
    {
     "data": {
      "text/html": [
       "<style>\n",
       "    table.wandb td:nth-child(1) { padding: 0 10px; text-align: left ; width: auto;} td:nth-child(2) {text-align: left ; width: 100%}\n",
       "    .wandb-row { display: flex; flex-direction: row; flex-wrap: wrap; justify-content: flex-start; width: 100% }\n",
       "    .wandb-col { display: flex; flex-direction: column; flex-basis: 100%; flex: 1; padding: 10px; }\n",
       "    </style>\n",
       "<div class=\"wandb-row\"><div class=\"wandb-col\"><h3>Run history:</h3><br/><table class=\"wandb\"><tr><td>WIS</td><td>▁</td></tr><tr><td>WIS_2022</td><td>▁</td></tr><tr><td>WIS_2022_1</td><td>▁</td></tr><tr><td>WIS_std</td><td>▁</td></tr><tr><td>WIS_std_2022</td><td>▁</td></tr></table><br/></div><div class=\"wandb-col\"><h3>Run summary:</h3><br/><table class=\"wandb\"><tr><td>WIS</td><td>470.26247</td></tr><tr><td>WIS_2022</td><td>470.26247</td></tr><tr><td>WIS_2022_1</td><td>470.26247</td></tr><tr><td>WIS_std</td><td>0</td></tr><tr><td>WIS_std_2022</td><td>0</td></tr></table><br/></div></div>"
      ],
      "text/plain": [
       "<IPython.core.display.HTML object>"
      ]
     },
     "metadata": {},
     "output_type": "display_data"
    },
    {
     "data": {
      "text/html": [
       " View run <strong style=\"color:#cdcd00\">graceful-sweep-26</strong> at: <a href='https://wandb.ai/dwolffram-karlsruhe-institute-of-technology/sari-lightgbm/runs/9dla4myn' target=\"_blank\">https://wandb.ai/dwolffram-karlsruhe-institute-of-technology/sari-lightgbm/runs/9dla4myn</a><br/> View project at: <a href='https://wandb.ai/dwolffram-karlsruhe-institute-of-technology/sari-lightgbm' target=\"_blank\">https://wandb.ai/dwolffram-karlsruhe-institute-of-technology/sari-lightgbm</a><br/>Synced 5 W&B file(s), 0 media file(s), 0 artifact file(s) and 0 other file(s)"
      ],
      "text/plain": [
       "<IPython.core.display.HTML object>"
      ]
     },
     "metadata": {},
     "output_type": "display_data"
    },
    {
     "data": {
      "text/html": [
       "Find logs at: <code>./wandb/run-20241218_164815-9dla4myn/logs</code>"
      ],
      "text/plain": [
       "<IPython.core.display.HTML object>"
      ]
     },
     "metadata": {},
     "output_type": "display_data"
    },
    {
     "data": {
      "text/html": [
       "There is a new version of wandb available. Please upgrade to wandb==0.19.0"
      ],
      "text/plain": [
       "<IPython.core.display.HTML object>"
      ]
     },
     "metadata": {},
     "output_type": "display_data"
    },
    {
     "name": "stderr",
     "output_type": "stream",
     "text": [
      "\u001b[34m\u001b[1mwandb\u001b[0m: Agent Starting Run: 5fydxos1 with config:\n",
      "\u001b[34m\u001b[1mwandb\u001b[0m: \tcolsample_bytree: 0.8\n",
      "\u001b[34m\u001b[1mwandb\u001b[0m: \tlags: 8\n",
      "\u001b[34m\u001b[1mwandb\u001b[0m: \tlags_future_covariates: [0, 1]\n",
      "\u001b[34m\u001b[1mwandb\u001b[0m: \tlags_past_covariates: {'agi-are-00-04': 8, 'agi-are-05-14': 8, 'agi-are-15-34': 8, 'agi-are-35-59': 8, 'agi-are-60+': 8, 'agi-are-DE': 8, 'default_lags': 1}\n",
      "\u001b[34m\u001b[1mwandb\u001b[0m: \tlearning_rate: 0.01\n",
      "\u001b[34m\u001b[1mwandb\u001b[0m: \tmax_bin: 1024\n",
      "\u001b[34m\u001b[1mwandb\u001b[0m: \tmax_depth: -1\n",
      "\u001b[34m\u001b[1mwandb\u001b[0m: \tmin_child_samples: 10\n",
      "\u001b[34m\u001b[1mwandb\u001b[0m: \tmin_split_gain: 0\n",
      "\u001b[34m\u001b[1mwandb\u001b[0m: \tmodel: lightgbm\n",
      "\u001b[34m\u001b[1mwandb\u001b[0m: \tmultiple_series: False\n",
      "\u001b[34m\u001b[1mwandb\u001b[0m: \tn_estimators: 500\n",
      "\u001b[34m\u001b[1mwandb\u001b[0m: \tnum_leaves: 20\n",
      "\u001b[34m\u001b[1mwandb\u001b[0m: \treg_alpha: 1\n",
      "\u001b[34m\u001b[1mwandb\u001b[0m: \treg_lambda: 0\n",
      "\u001b[34m\u001b[1mwandb\u001b[0m: \tsample_weight: no-covid\n",
      "\u001b[34m\u001b[1mwandb\u001b[0m: \tsubsample: 0.8\n",
      "\u001b[34m\u001b[1mwandb\u001b[0m: \tsubsample_freq: 1\n",
      "\u001b[34m\u001b[1mwandb\u001b[0m: \tuse_covariates: True\n",
      "\u001b[34m\u001b[1mwandb\u001b[0m: \tuse_encoders: True\n",
      "\u001b[34m\u001b[1mwandb\u001b[0m: \tuse_features: False\n",
      "\u001b[34m\u001b[1mwandb\u001b[0m: \tuse_static_covariates: False\n",
      "Failed to detect the name of this notebook, you can set it manually with the WANDB_NOTEBOOK_NAME environment variable to enable code saving.\n"
     ]
    },
    {
     "data": {
      "text/html": [
       "Tracking run with wandb version 0.18.0"
      ],
      "text/plain": [
       "<IPython.core.display.HTML object>"
      ]
     },
     "metadata": {},
     "output_type": "display_data"
    },
    {
     "data": {
      "text/html": [
       "Run data is saved locally in <code>/home/wolffram/SARI-ML/realtime/wandb/run-20241218_164906-5fydxos1</code>"
      ],
      "text/plain": [
       "<IPython.core.display.HTML object>"
      ]
     },
     "metadata": {},
     "output_type": "display_data"
    },
    {
     "data": {
      "text/html": [
       "Syncing run <strong><a href='https://wandb.ai/dwolffram-karlsruhe-institute-of-technology/sari-lightgbm/runs/5fydxos1' target=\"_blank\">golden-sweep-27</a></strong> to <a href='https://wandb.ai/dwolffram-karlsruhe-institute-of-technology/sari-lightgbm' target=\"_blank\">Weights & Biases</a> (<a href='https://wandb.me/run' target=\"_blank\">docs</a>)<br/>Sweep page: <a href='https://wandb.ai/dwolffram-karlsruhe-institute-of-technology/sari-lightgbm/sweeps/04mzwpfu' target=\"_blank\">https://wandb.ai/dwolffram-karlsruhe-institute-of-technology/sari-lightgbm/sweeps/04mzwpfu</a>"
      ],
      "text/plain": [
       "<IPython.core.display.HTML object>"
      ]
     },
     "metadata": {},
     "output_type": "display_data"
    },
    {
     "data": {
      "text/html": [
       " View project at <a href='https://wandb.ai/dwolffram-karlsruhe-institute-of-technology/sari-lightgbm' target=\"_blank\">https://wandb.ai/dwolffram-karlsruhe-institute-of-technology/sari-lightgbm</a>"
      ],
      "text/plain": [
       "<IPython.core.display.HTML object>"
      ]
     },
     "metadata": {},
     "output_type": "display_data"
    },
    {
     "data": {
      "text/html": [
       " View sweep at <a href='https://wandb.ai/dwolffram-karlsruhe-institute-of-technology/sari-lightgbm/sweeps/04mzwpfu' target=\"_blank\">https://wandb.ai/dwolffram-karlsruhe-institute-of-technology/sari-lightgbm/sweeps/04mzwpfu</a>"
      ],
      "text/plain": [
       "<IPython.core.display.HTML object>"
      ]
     },
     "metadata": {},
     "output_type": "display_data"
    },
    {
     "data": {
      "text/html": [
       " View run at <a href='https://wandb.ai/dwolffram-karlsruhe-institute-of-technology/sari-lightgbm/runs/5fydxos1' target=\"_blank\">https://wandb.ai/dwolffram-karlsruhe-institute-of-technology/sari-lightgbm/runs/5fydxos1</a>"
      ],
      "text/plain": [
       "<IPython.core.display.HTML object>"
      ]
     },
     "metadata": {},
     "output_type": "display_data"
    },
    {
     "data": {
      "application/vnd.jupyter.widget-view+json": {
       "model_id": "9c740394cd544d8fb3cc54ddf79d1456",
       "version_major": 2,
       "version_minor": 0
      },
      "text/plain": [
       "VBox(children=(Label(value='0.006 MB of 0.006 MB uploaded\\r'), FloatProgress(value=1.0, max=1.0)))"
      ]
     },
     "metadata": {},
     "output_type": "display_data"
    },
    {
     "data": {
      "text/html": [
       "<style>\n",
       "    table.wandb td:nth-child(1) { padding: 0 10px; text-align: left ; width: auto;} td:nth-child(2) {text-align: left ; width: 100%}\n",
       "    .wandb-row { display: flex; flex-direction: row; flex-wrap: wrap; justify-content: flex-start; width: 100% }\n",
       "    .wandb-col { display: flex; flex-direction: column; flex-basis: 100%; flex: 1; padding: 10px; }\n",
       "    </style>\n",
       "<div class=\"wandb-row\"><div class=\"wandb-col\"><h3>Run history:</h3><br/><table class=\"wandb\"><tr><td>WIS</td><td>▁</td></tr><tr><td>WIS_2022</td><td>▁</td></tr><tr><td>WIS_2022_1</td><td>▁</td></tr><tr><td>WIS_std</td><td>▁</td></tr><tr><td>WIS_std_2022</td><td>▁</td></tr></table><br/></div><div class=\"wandb-col\"><h3>Run summary:</h3><br/><table class=\"wandb\"><tr><td>WIS</td><td>466.11663</td></tr><tr><td>WIS_2022</td><td>466.11663</td></tr><tr><td>WIS_2022_1</td><td>466.11663</td></tr><tr><td>WIS_std</td><td>0</td></tr><tr><td>WIS_std_2022</td><td>0</td></tr></table><br/></div></div>"
      ],
      "text/plain": [
       "<IPython.core.display.HTML object>"
      ]
     },
     "metadata": {},
     "output_type": "display_data"
    },
    {
     "data": {
      "text/html": [
       " View run <strong style=\"color:#cdcd00\">golden-sweep-27</strong> at: <a href='https://wandb.ai/dwolffram-karlsruhe-institute-of-technology/sari-lightgbm/runs/5fydxos1' target=\"_blank\">https://wandb.ai/dwolffram-karlsruhe-institute-of-technology/sari-lightgbm/runs/5fydxos1</a><br/> View project at: <a href='https://wandb.ai/dwolffram-karlsruhe-institute-of-technology/sari-lightgbm' target=\"_blank\">https://wandb.ai/dwolffram-karlsruhe-institute-of-technology/sari-lightgbm</a><br/>Synced 5 W&B file(s), 0 media file(s), 0 artifact file(s) and 0 other file(s)"
      ],
      "text/plain": [
       "<IPython.core.display.HTML object>"
      ]
     },
     "metadata": {},
     "output_type": "display_data"
    },
    {
     "data": {
      "text/html": [
       "Find logs at: <code>./wandb/run-20241218_164906-5fydxos1/logs</code>"
      ],
      "text/plain": [
       "<IPython.core.display.HTML object>"
      ]
     },
     "metadata": {},
     "output_type": "display_data"
    },
    {
     "data": {
      "text/html": [
       "There is a new version of wandb available. Please upgrade to wandb==0.19.0"
      ],
      "text/plain": [
       "<IPython.core.display.HTML object>"
      ]
     },
     "metadata": {},
     "output_type": "display_data"
    },
    {
     "name": "stderr",
     "output_type": "stream",
     "text": [
      "\u001b[34m\u001b[1mwandb\u001b[0m: Agent Starting Run: 24j40jo2 with config:\n",
      "\u001b[34m\u001b[1mwandb\u001b[0m: \tcolsample_bytree: 0.8\n",
      "\u001b[34m\u001b[1mwandb\u001b[0m: \tlags: 8\n",
      "\u001b[34m\u001b[1mwandb\u001b[0m: \tlags_future_covariates: [0, 1]\n",
      "\u001b[34m\u001b[1mwandb\u001b[0m: \tlags_past_covariates: {'agi-are-00-04': 8, 'agi-are-05-14': 8, 'agi-are-15-34': 8, 'agi-are-35-59': 8, 'agi-are-60+': 8, 'agi-are-DE': 8, 'default_lags': 1}\n",
      "\u001b[34m\u001b[1mwandb\u001b[0m: \tlearning_rate: 0.01\n",
      "\u001b[34m\u001b[1mwandb\u001b[0m: \tmax_bin: 1024\n",
      "\u001b[34m\u001b[1mwandb\u001b[0m: \tmax_depth: -1\n",
      "\u001b[34m\u001b[1mwandb\u001b[0m: \tmin_child_samples: 10\n",
      "\u001b[34m\u001b[1mwandb\u001b[0m: \tmin_split_gain: 0\n",
      "\u001b[34m\u001b[1mwandb\u001b[0m: \tmodel: lightgbm\n",
      "\u001b[34m\u001b[1mwandb\u001b[0m: \tmultiple_series: False\n",
      "\u001b[34m\u001b[1mwandb\u001b[0m: \tn_estimators: 500\n",
      "\u001b[34m\u001b[1mwandb\u001b[0m: \tnum_leaves: 20\n",
      "\u001b[34m\u001b[1mwandb\u001b[0m: \treg_alpha: 1\n",
      "\u001b[34m\u001b[1mwandb\u001b[0m: \treg_lambda: 0\n",
      "\u001b[34m\u001b[1mwandb\u001b[0m: \tsample_weight: no-covid\n",
      "\u001b[34m\u001b[1mwandb\u001b[0m: \tsubsample: 0.8\n",
      "\u001b[34m\u001b[1mwandb\u001b[0m: \tsubsample_freq: 1\n",
      "\u001b[34m\u001b[1mwandb\u001b[0m: \tuse_covariates: False\n",
      "\u001b[34m\u001b[1mwandb\u001b[0m: \tuse_encoders: True\n",
      "\u001b[34m\u001b[1mwandb\u001b[0m: \tuse_features: False\n",
      "\u001b[34m\u001b[1mwandb\u001b[0m: \tuse_static_covariates: False\n",
      "Failed to detect the name of this notebook, you can set it manually with the WANDB_NOTEBOOK_NAME environment variable to enable code saving.\n"
     ]
    },
    {
     "data": {
      "text/html": [
       "Tracking run with wandb version 0.18.0"
      ],
      "text/plain": [
       "<IPython.core.display.HTML object>"
      ]
     },
     "metadata": {},
     "output_type": "display_data"
    },
    {
     "data": {
      "text/html": [
       "Run data is saved locally in <code>/home/wolffram/SARI-ML/realtime/wandb/run-20241218_164948-24j40jo2</code>"
      ],
      "text/plain": [
       "<IPython.core.display.HTML object>"
      ]
     },
     "metadata": {},
     "output_type": "display_data"
    },
    {
     "data": {
      "text/html": [
       "Syncing run <strong><a href='https://wandb.ai/dwolffram-karlsruhe-institute-of-technology/sari-lightgbm/runs/24j40jo2' target=\"_blank\">sleek-sweep-28</a></strong> to <a href='https://wandb.ai/dwolffram-karlsruhe-institute-of-technology/sari-lightgbm' target=\"_blank\">Weights & Biases</a> (<a href='https://wandb.me/run' target=\"_blank\">docs</a>)<br/>Sweep page: <a href='https://wandb.ai/dwolffram-karlsruhe-institute-of-technology/sari-lightgbm/sweeps/04mzwpfu' target=\"_blank\">https://wandb.ai/dwolffram-karlsruhe-institute-of-technology/sari-lightgbm/sweeps/04mzwpfu</a>"
      ],
      "text/plain": [
       "<IPython.core.display.HTML object>"
      ]
     },
     "metadata": {},
     "output_type": "display_data"
    },
    {
     "data": {
      "text/html": [
       " View project at <a href='https://wandb.ai/dwolffram-karlsruhe-institute-of-technology/sari-lightgbm' target=\"_blank\">https://wandb.ai/dwolffram-karlsruhe-institute-of-technology/sari-lightgbm</a>"
      ],
      "text/plain": [
       "<IPython.core.display.HTML object>"
      ]
     },
     "metadata": {},
     "output_type": "display_data"
    },
    {
     "data": {
      "text/html": [
       " View sweep at <a href='https://wandb.ai/dwolffram-karlsruhe-institute-of-technology/sari-lightgbm/sweeps/04mzwpfu' target=\"_blank\">https://wandb.ai/dwolffram-karlsruhe-institute-of-technology/sari-lightgbm/sweeps/04mzwpfu</a>"
      ],
      "text/plain": [
       "<IPython.core.display.HTML object>"
      ]
     },
     "metadata": {},
     "output_type": "display_data"
    },
    {
     "data": {
      "text/html": [
       " View run at <a href='https://wandb.ai/dwolffram-karlsruhe-institute-of-technology/sari-lightgbm/runs/24j40jo2' target=\"_blank\">https://wandb.ai/dwolffram-karlsruhe-institute-of-technology/sari-lightgbm/runs/24j40jo2</a>"
      ],
      "text/plain": [
       "<IPython.core.display.HTML object>"
      ]
     },
     "metadata": {},
     "output_type": "display_data"
    },
    {
     "data": {
      "application/vnd.jupyter.widget-view+json": {
       "model_id": "4973133d0c97442c97a90a5587ad6bdf",
       "version_major": 2,
       "version_minor": 0
      },
      "text/plain": [
       "VBox(children=(Label(value='0.006 MB of 0.006 MB uploaded\\r'), FloatProgress(value=1.0, max=1.0)))"
      ]
     },
     "metadata": {},
     "output_type": "display_data"
    },
    {
     "data": {
      "text/html": [
       "<style>\n",
       "    table.wandb td:nth-child(1) { padding: 0 10px; text-align: left ; width: auto;} td:nth-child(2) {text-align: left ; width: 100%}\n",
       "    .wandb-row { display: flex; flex-direction: row; flex-wrap: wrap; justify-content: flex-start; width: 100% }\n",
       "    .wandb-col { display: flex; flex-direction: column; flex-basis: 100%; flex: 1; padding: 10px; }\n",
       "    </style>\n",
       "<div class=\"wandb-row\"><div class=\"wandb-col\"><h3>Run history:</h3><br/><table class=\"wandb\"><tr><td>WIS</td><td>▁</td></tr><tr><td>WIS_2022</td><td>▁</td></tr><tr><td>WIS_2022_1</td><td>▁</td></tr><tr><td>WIS_std</td><td>▁</td></tr><tr><td>WIS_std_2022</td><td>▁</td></tr></table><br/></div><div class=\"wandb-col\"><h3>Run summary:</h3><br/><table class=\"wandb\"><tr><td>WIS</td><td>512.99953</td></tr><tr><td>WIS_2022</td><td>512.99953</td></tr><tr><td>WIS_2022_1</td><td>512.99953</td></tr><tr><td>WIS_std</td><td>0</td></tr><tr><td>WIS_std_2022</td><td>0</td></tr></table><br/></div></div>"
      ],
      "text/plain": [
       "<IPython.core.display.HTML object>"
      ]
     },
     "metadata": {},
     "output_type": "display_data"
    },
    {
     "data": {
      "text/html": [
       " View run <strong style=\"color:#cdcd00\">sleek-sweep-28</strong> at: <a href='https://wandb.ai/dwolffram-karlsruhe-institute-of-technology/sari-lightgbm/runs/24j40jo2' target=\"_blank\">https://wandb.ai/dwolffram-karlsruhe-institute-of-technology/sari-lightgbm/runs/24j40jo2</a><br/> View project at: <a href='https://wandb.ai/dwolffram-karlsruhe-institute-of-technology/sari-lightgbm' target=\"_blank\">https://wandb.ai/dwolffram-karlsruhe-institute-of-technology/sari-lightgbm</a><br/>Synced 5 W&B file(s), 0 media file(s), 0 artifact file(s) and 0 other file(s)"
      ],
      "text/plain": [
       "<IPython.core.display.HTML object>"
      ]
     },
     "metadata": {},
     "output_type": "display_data"
    },
    {
     "data": {
      "text/html": [
       "Find logs at: <code>./wandb/run-20241218_164948-24j40jo2/logs</code>"
      ],
      "text/plain": [
       "<IPython.core.display.HTML object>"
      ]
     },
     "metadata": {},
     "output_type": "display_data"
    },
    {
     "data": {
      "text/html": [
       "There is a new version of wandb available. Please upgrade to wandb==0.19.0"
      ],
      "text/plain": [
       "<IPython.core.display.HTML object>"
      ]
     },
     "metadata": {},
     "output_type": "display_data"
    },
    {
     "name": "stderr",
     "output_type": "stream",
     "text": [
      "\u001b[34m\u001b[1mwandb\u001b[0m: Agent Starting Run: a13yr0gj with config:\n",
      "\u001b[34m\u001b[1mwandb\u001b[0m: \tcolsample_bytree: 0.8\n",
      "\u001b[34m\u001b[1mwandb\u001b[0m: \tlags: 8\n",
      "\u001b[34m\u001b[1mwandb\u001b[0m: \tlags_future_covariates: [0, 1]\n",
      "\u001b[34m\u001b[1mwandb\u001b[0m: \tlags_past_covariates: {'agi-are-00-04': 8, 'agi-are-05-14': 8, 'agi-are-15-34': 8, 'agi-are-35-59': 8, 'agi-are-60+': 8, 'agi-are-DE': 8, 'default_lags': 1}\n",
      "\u001b[34m\u001b[1mwandb\u001b[0m: \tlearning_rate: 0.01\n",
      "\u001b[34m\u001b[1mwandb\u001b[0m: \tmax_bin: 1024\n",
      "\u001b[34m\u001b[1mwandb\u001b[0m: \tmax_depth: -1\n",
      "\u001b[34m\u001b[1mwandb\u001b[0m: \tmin_child_samples: 10\n",
      "\u001b[34m\u001b[1mwandb\u001b[0m: \tmin_split_gain: 0\n",
      "\u001b[34m\u001b[1mwandb\u001b[0m: \tmodel: lightgbm\n",
      "\u001b[34m\u001b[1mwandb\u001b[0m: \tmultiple_series: False\n",
      "\u001b[34m\u001b[1mwandb\u001b[0m: \tn_estimators: 500\n",
      "\u001b[34m\u001b[1mwandb\u001b[0m: \tnum_leaves: 20\n",
      "\u001b[34m\u001b[1mwandb\u001b[0m: \treg_alpha: 1\n",
      "\u001b[34m\u001b[1mwandb\u001b[0m: \treg_lambda: 0.5\n",
      "\u001b[34m\u001b[1mwandb\u001b[0m: \tsample_weight: linear\n",
      "\u001b[34m\u001b[1mwandb\u001b[0m: \tsubsample: 0.8\n",
      "\u001b[34m\u001b[1mwandb\u001b[0m: \tsubsample_freq: 1\n",
      "\u001b[34m\u001b[1mwandb\u001b[0m: \tuse_covariates: True\n",
      "\u001b[34m\u001b[1mwandb\u001b[0m: \tuse_encoders: True\n",
      "\u001b[34m\u001b[1mwandb\u001b[0m: \tuse_features: False\n",
      "\u001b[34m\u001b[1mwandb\u001b[0m: \tuse_static_covariates: False\n",
      "Failed to detect the name of this notebook, you can set it manually with the WANDB_NOTEBOOK_NAME environment variable to enable code saving.\n"
     ]
    },
    {
     "data": {
      "text/html": [
       "Tracking run with wandb version 0.18.0"
      ],
      "text/plain": [
       "<IPython.core.display.HTML object>"
      ]
     },
     "metadata": {},
     "output_type": "display_data"
    },
    {
     "data": {
      "text/html": [
       "Run data is saved locally in <code>/home/wolffram/SARI-ML/realtime/wandb/run-20241218_165024-a13yr0gj</code>"
      ],
      "text/plain": [
       "<IPython.core.display.HTML object>"
      ]
     },
     "metadata": {},
     "output_type": "display_data"
    },
    {
     "data": {
      "text/html": [
       "Syncing run <strong><a href='https://wandb.ai/dwolffram-karlsruhe-institute-of-technology/sari-lightgbm/runs/a13yr0gj' target=\"_blank\">logical-sweep-29</a></strong> to <a href='https://wandb.ai/dwolffram-karlsruhe-institute-of-technology/sari-lightgbm' target=\"_blank\">Weights & Biases</a> (<a href='https://wandb.me/run' target=\"_blank\">docs</a>)<br/>Sweep page: <a href='https://wandb.ai/dwolffram-karlsruhe-institute-of-technology/sari-lightgbm/sweeps/04mzwpfu' target=\"_blank\">https://wandb.ai/dwolffram-karlsruhe-institute-of-technology/sari-lightgbm/sweeps/04mzwpfu</a>"
      ],
      "text/plain": [
       "<IPython.core.display.HTML object>"
      ]
     },
     "metadata": {},
     "output_type": "display_data"
    },
    {
     "data": {
      "text/html": [
       " View project at <a href='https://wandb.ai/dwolffram-karlsruhe-institute-of-technology/sari-lightgbm' target=\"_blank\">https://wandb.ai/dwolffram-karlsruhe-institute-of-technology/sari-lightgbm</a>"
      ],
      "text/plain": [
       "<IPython.core.display.HTML object>"
      ]
     },
     "metadata": {},
     "output_type": "display_data"
    },
    {
     "data": {
      "text/html": [
       " View sweep at <a href='https://wandb.ai/dwolffram-karlsruhe-institute-of-technology/sari-lightgbm/sweeps/04mzwpfu' target=\"_blank\">https://wandb.ai/dwolffram-karlsruhe-institute-of-technology/sari-lightgbm/sweeps/04mzwpfu</a>"
      ],
      "text/plain": [
       "<IPython.core.display.HTML object>"
      ]
     },
     "metadata": {},
     "output_type": "display_data"
    },
    {
     "data": {
      "text/html": [
       " View run at <a href='https://wandb.ai/dwolffram-karlsruhe-institute-of-technology/sari-lightgbm/runs/a13yr0gj' target=\"_blank\">https://wandb.ai/dwolffram-karlsruhe-institute-of-technology/sari-lightgbm/runs/a13yr0gj</a>"
      ],
      "text/plain": [
       "<IPython.core.display.HTML object>"
      ]
     },
     "metadata": {},
     "output_type": "display_data"
    },
    {
     "data": {
      "application/vnd.jupyter.widget-view+json": {
       "model_id": "d49f90906a514d9c857c05c6f115bd6d",
       "version_major": 2,
       "version_minor": 0
      },
      "text/plain": [
       "VBox(children=(Label(value='0.006 MB of 0.006 MB uploaded\\r'), FloatProgress(value=1.0, max=1.0)))"
      ]
     },
     "metadata": {},
     "output_type": "display_data"
    },
    {
     "data": {
      "text/html": [
       "<style>\n",
       "    table.wandb td:nth-child(1) { padding: 0 10px; text-align: left ; width: auto;} td:nth-child(2) {text-align: left ; width: 100%}\n",
       "    .wandb-row { display: flex; flex-direction: row; flex-wrap: wrap; justify-content: flex-start; width: 100% }\n",
       "    .wandb-col { display: flex; flex-direction: column; flex-basis: 100%; flex: 1; padding: 10px; }\n",
       "    </style>\n",
       "<div class=\"wandb-row\"><div class=\"wandb-col\"><h3>Run history:</h3><br/><table class=\"wandb\"><tr><td>WIS</td><td>▁</td></tr><tr><td>WIS_2022</td><td>▁</td></tr><tr><td>WIS_2022_1</td><td>▁</td></tr><tr><td>WIS_std</td><td>▁</td></tr><tr><td>WIS_std_2022</td><td>▁</td></tr></table><br/></div><div class=\"wandb-col\"><h3>Run summary:</h3><br/><table class=\"wandb\"><tr><td>WIS</td><td>458.47812</td></tr><tr><td>WIS_2022</td><td>458.47812</td></tr><tr><td>WIS_2022_1</td><td>458.47812</td></tr><tr><td>WIS_std</td><td>0</td></tr><tr><td>WIS_std_2022</td><td>0</td></tr></table><br/></div></div>"
      ],
      "text/plain": [
       "<IPython.core.display.HTML object>"
      ]
     },
     "metadata": {},
     "output_type": "display_data"
    },
    {
     "data": {
      "text/html": [
       " View run <strong style=\"color:#cdcd00\">logical-sweep-29</strong> at: <a href='https://wandb.ai/dwolffram-karlsruhe-institute-of-technology/sari-lightgbm/runs/a13yr0gj' target=\"_blank\">https://wandb.ai/dwolffram-karlsruhe-institute-of-technology/sari-lightgbm/runs/a13yr0gj</a><br/> View project at: <a href='https://wandb.ai/dwolffram-karlsruhe-institute-of-technology/sari-lightgbm' target=\"_blank\">https://wandb.ai/dwolffram-karlsruhe-institute-of-technology/sari-lightgbm</a><br/>Synced 5 W&B file(s), 0 media file(s), 0 artifact file(s) and 0 other file(s)"
      ],
      "text/plain": [
       "<IPython.core.display.HTML object>"
      ]
     },
     "metadata": {},
     "output_type": "display_data"
    },
    {
     "data": {
      "text/html": [
       "Find logs at: <code>./wandb/run-20241218_165024-a13yr0gj/logs</code>"
      ],
      "text/plain": [
       "<IPython.core.display.HTML object>"
      ]
     },
     "metadata": {},
     "output_type": "display_data"
    },
    {
     "data": {
      "text/html": [
       "There is a new version of wandb available. Please upgrade to wandb==0.19.0"
      ],
      "text/plain": [
       "<IPython.core.display.HTML object>"
      ]
     },
     "metadata": {},
     "output_type": "display_data"
    },
    {
     "name": "stderr",
     "output_type": "stream",
     "text": [
      "\u001b[34m\u001b[1mwandb\u001b[0m: Agent Starting Run: 1cj890km with config:\n",
      "\u001b[34m\u001b[1mwandb\u001b[0m: \tcolsample_bytree: 0.8\n",
      "\u001b[34m\u001b[1mwandb\u001b[0m: \tlags: 8\n",
      "\u001b[34m\u001b[1mwandb\u001b[0m: \tlags_future_covariates: [0, 1]\n",
      "\u001b[34m\u001b[1mwandb\u001b[0m: \tlags_past_covariates: {'agi-are-00-04': 8, 'agi-are-05-14': 8, 'agi-are-15-34': 8, 'agi-are-35-59': 8, 'agi-are-60+': 8, 'agi-are-DE': 8, 'default_lags': 1}\n",
      "\u001b[34m\u001b[1mwandb\u001b[0m: \tlearning_rate: 0.01\n",
      "\u001b[34m\u001b[1mwandb\u001b[0m: \tmax_bin: 1024\n",
      "\u001b[34m\u001b[1mwandb\u001b[0m: \tmax_depth: -1\n",
      "\u001b[34m\u001b[1mwandb\u001b[0m: \tmin_child_samples: 10\n",
      "\u001b[34m\u001b[1mwandb\u001b[0m: \tmin_split_gain: 0\n",
      "\u001b[34m\u001b[1mwandb\u001b[0m: \tmodel: lightgbm\n",
      "\u001b[34m\u001b[1mwandb\u001b[0m: \tmultiple_series: False\n",
      "\u001b[34m\u001b[1mwandb\u001b[0m: \tn_estimators: 500\n",
      "\u001b[34m\u001b[1mwandb\u001b[0m: \tnum_leaves: 20\n",
      "\u001b[34m\u001b[1mwandb\u001b[0m: \treg_alpha: 1\n",
      "\u001b[34m\u001b[1mwandb\u001b[0m: \treg_lambda: 0.5\n",
      "\u001b[34m\u001b[1mwandb\u001b[0m: \tsample_weight: linear\n",
      "\u001b[34m\u001b[1mwandb\u001b[0m: \tsubsample: 0.8\n",
      "\u001b[34m\u001b[1mwandb\u001b[0m: \tsubsample_freq: 1\n",
      "\u001b[34m\u001b[1mwandb\u001b[0m: \tuse_covariates: False\n",
      "\u001b[34m\u001b[1mwandb\u001b[0m: \tuse_encoders: True\n",
      "\u001b[34m\u001b[1mwandb\u001b[0m: \tuse_features: False\n",
      "\u001b[34m\u001b[1mwandb\u001b[0m: \tuse_static_covariates: False\n",
      "Failed to detect the name of this notebook, you can set it manually with the WANDB_NOTEBOOK_NAME environment variable to enable code saving.\n"
     ]
    },
    {
     "data": {
      "text/html": [
       "Tracking run with wandb version 0.18.0"
      ],
      "text/plain": [
       "<IPython.core.display.HTML object>"
      ]
     },
     "metadata": {},
     "output_type": "display_data"
    },
    {
     "data": {
      "text/html": [
       "Run data is saved locally in <code>/home/wolffram/SARI-ML/realtime/wandb/run-20241218_165120-1cj890km</code>"
      ],
      "text/plain": [
       "<IPython.core.display.HTML object>"
      ]
     },
     "metadata": {},
     "output_type": "display_data"
    },
    {
     "data": {
      "text/html": [
       "Syncing run <strong><a href='https://wandb.ai/dwolffram-karlsruhe-institute-of-technology/sari-lightgbm/runs/1cj890km' target=\"_blank\">azure-sweep-30</a></strong> to <a href='https://wandb.ai/dwolffram-karlsruhe-institute-of-technology/sari-lightgbm' target=\"_blank\">Weights & Biases</a> (<a href='https://wandb.me/run' target=\"_blank\">docs</a>)<br/>Sweep page: <a href='https://wandb.ai/dwolffram-karlsruhe-institute-of-technology/sari-lightgbm/sweeps/04mzwpfu' target=\"_blank\">https://wandb.ai/dwolffram-karlsruhe-institute-of-technology/sari-lightgbm/sweeps/04mzwpfu</a>"
      ],
      "text/plain": [
       "<IPython.core.display.HTML object>"
      ]
     },
     "metadata": {},
     "output_type": "display_data"
    },
    {
     "data": {
      "text/html": [
       " View project at <a href='https://wandb.ai/dwolffram-karlsruhe-institute-of-technology/sari-lightgbm' target=\"_blank\">https://wandb.ai/dwolffram-karlsruhe-institute-of-technology/sari-lightgbm</a>"
      ],
      "text/plain": [
       "<IPython.core.display.HTML object>"
      ]
     },
     "metadata": {},
     "output_type": "display_data"
    },
    {
     "data": {
      "text/html": [
       " View sweep at <a href='https://wandb.ai/dwolffram-karlsruhe-institute-of-technology/sari-lightgbm/sweeps/04mzwpfu' target=\"_blank\">https://wandb.ai/dwolffram-karlsruhe-institute-of-technology/sari-lightgbm/sweeps/04mzwpfu</a>"
      ],
      "text/plain": [
       "<IPython.core.display.HTML object>"
      ]
     },
     "metadata": {},
     "output_type": "display_data"
    },
    {
     "data": {
      "text/html": [
       " View run at <a href='https://wandb.ai/dwolffram-karlsruhe-institute-of-technology/sari-lightgbm/runs/1cj890km' target=\"_blank\">https://wandb.ai/dwolffram-karlsruhe-institute-of-technology/sari-lightgbm/runs/1cj890km</a>"
      ],
      "text/plain": [
       "<IPython.core.display.HTML object>"
      ]
     },
     "metadata": {},
     "output_type": "display_data"
    },
    {
     "data": {
      "application/vnd.jupyter.widget-view+json": {
       "model_id": "0f88fc0ce23c497cb2513e7cc36088f2",
       "version_major": 2,
       "version_minor": 0
      },
      "text/plain": [
       "VBox(children=(Label(value='0.006 MB of 0.006 MB uploaded\\r'), FloatProgress(value=1.0, max=1.0)))"
      ]
     },
     "metadata": {},
     "output_type": "display_data"
    },
    {
     "data": {
      "text/html": [
       "<style>\n",
       "    table.wandb td:nth-child(1) { padding: 0 10px; text-align: left ; width: auto;} td:nth-child(2) {text-align: left ; width: 100%}\n",
       "    .wandb-row { display: flex; flex-direction: row; flex-wrap: wrap; justify-content: flex-start; width: 100% }\n",
       "    .wandb-col { display: flex; flex-direction: column; flex-basis: 100%; flex: 1; padding: 10px; }\n",
       "    </style>\n",
       "<div class=\"wandb-row\"><div class=\"wandb-col\"><h3>Run history:</h3><br/><table class=\"wandb\"><tr><td>WIS</td><td>▁</td></tr><tr><td>WIS_2022</td><td>▁</td></tr><tr><td>WIS_2022_1</td><td>▁</td></tr><tr><td>WIS_std</td><td>▁</td></tr><tr><td>WIS_std_2022</td><td>▁</td></tr></table><br/></div><div class=\"wandb-col\"><h3>Run summary:</h3><br/><table class=\"wandb\"><tr><td>WIS</td><td>470.42673</td></tr><tr><td>WIS_2022</td><td>470.42673</td></tr><tr><td>WIS_2022_1</td><td>470.42673</td></tr><tr><td>WIS_std</td><td>0</td></tr><tr><td>WIS_std_2022</td><td>0</td></tr></table><br/></div></div>"
      ],
      "text/plain": [
       "<IPython.core.display.HTML object>"
      ]
     },
     "metadata": {},
     "output_type": "display_data"
    },
    {
     "data": {
      "text/html": [
       " View run <strong style=\"color:#cdcd00\">azure-sweep-30</strong> at: <a href='https://wandb.ai/dwolffram-karlsruhe-institute-of-technology/sari-lightgbm/runs/1cj890km' target=\"_blank\">https://wandb.ai/dwolffram-karlsruhe-institute-of-technology/sari-lightgbm/runs/1cj890km</a><br/> View project at: <a href='https://wandb.ai/dwolffram-karlsruhe-institute-of-technology/sari-lightgbm' target=\"_blank\">https://wandb.ai/dwolffram-karlsruhe-institute-of-technology/sari-lightgbm</a><br/>Synced 5 W&B file(s), 0 media file(s), 0 artifact file(s) and 0 other file(s)"
      ],
      "text/plain": [
       "<IPython.core.display.HTML object>"
      ]
     },
     "metadata": {},
     "output_type": "display_data"
    },
    {
     "data": {
      "text/html": [
       "Find logs at: <code>./wandb/run-20241218_165120-1cj890km/logs</code>"
      ],
      "text/plain": [
       "<IPython.core.display.HTML object>"
      ]
     },
     "metadata": {},
     "output_type": "display_data"
    },
    {
     "data": {
      "text/html": [
       "There is a new version of wandb available. Please upgrade to wandb==0.19.0"
      ],
      "text/plain": [
       "<IPython.core.display.HTML object>"
      ]
     },
     "metadata": {},
     "output_type": "display_data"
    },
    {
     "name": "stderr",
     "output_type": "stream",
     "text": [
      "\u001b[34m\u001b[1mwandb\u001b[0m: Agent Starting Run: h8mnmlzz with config:\n",
      "\u001b[34m\u001b[1mwandb\u001b[0m: \tcolsample_bytree: 0.8\n",
      "\u001b[34m\u001b[1mwandb\u001b[0m: \tlags: 8\n",
      "\u001b[34m\u001b[1mwandb\u001b[0m: \tlags_future_covariates: [0, 1]\n",
      "\u001b[34m\u001b[1mwandb\u001b[0m: \tlags_past_covariates: {'agi-are-00-04': 8, 'agi-are-05-14': 8, 'agi-are-15-34': 8, 'agi-are-35-59': 8, 'agi-are-60+': 8, 'agi-are-DE': 8, 'default_lags': 1}\n",
      "\u001b[34m\u001b[1mwandb\u001b[0m: \tlearning_rate: 0.01\n",
      "\u001b[34m\u001b[1mwandb\u001b[0m: \tmax_bin: 1024\n",
      "\u001b[34m\u001b[1mwandb\u001b[0m: \tmax_depth: -1\n",
      "\u001b[34m\u001b[1mwandb\u001b[0m: \tmin_child_samples: 10\n",
      "\u001b[34m\u001b[1mwandb\u001b[0m: \tmin_split_gain: 0\n",
      "\u001b[34m\u001b[1mwandb\u001b[0m: \tmodel: lightgbm\n",
      "\u001b[34m\u001b[1mwandb\u001b[0m: \tmultiple_series: False\n",
      "\u001b[34m\u001b[1mwandb\u001b[0m: \tn_estimators: 500\n",
      "\u001b[34m\u001b[1mwandb\u001b[0m: \tnum_leaves: 20\n",
      "\u001b[34m\u001b[1mwandb\u001b[0m: \treg_alpha: 1\n",
      "\u001b[34m\u001b[1mwandb\u001b[0m: \treg_lambda: 0.5\n",
      "\u001b[34m\u001b[1mwandb\u001b[0m: \tsample_weight: no-covid\n",
      "\u001b[34m\u001b[1mwandb\u001b[0m: \tsubsample: 0.8\n",
      "\u001b[34m\u001b[1mwandb\u001b[0m: \tsubsample_freq: 1\n",
      "\u001b[34m\u001b[1mwandb\u001b[0m: \tuse_covariates: True\n",
      "\u001b[34m\u001b[1mwandb\u001b[0m: \tuse_encoders: True\n",
      "\u001b[34m\u001b[1mwandb\u001b[0m: \tuse_features: False\n",
      "\u001b[34m\u001b[1mwandb\u001b[0m: \tuse_static_covariates: False\n",
      "Failed to detect the name of this notebook, you can set it manually with the WANDB_NOTEBOOK_NAME environment variable to enable code saving.\n"
     ]
    },
    {
     "data": {
      "text/html": [
       "Tracking run with wandb version 0.18.0"
      ],
      "text/plain": [
       "<IPython.core.display.HTML object>"
      ]
     },
     "metadata": {},
     "output_type": "display_data"
    },
    {
     "data": {
      "text/html": [
       "Run data is saved locally in <code>/home/wolffram/SARI-ML/realtime/wandb/run-20241218_165212-h8mnmlzz</code>"
      ],
      "text/plain": [
       "<IPython.core.display.HTML object>"
      ]
     },
     "metadata": {},
     "output_type": "display_data"
    },
    {
     "data": {
      "text/html": [
       "Syncing run <strong><a href='https://wandb.ai/dwolffram-karlsruhe-institute-of-technology/sari-lightgbm/runs/h8mnmlzz' target=\"_blank\">earnest-sweep-31</a></strong> to <a href='https://wandb.ai/dwolffram-karlsruhe-institute-of-technology/sari-lightgbm' target=\"_blank\">Weights & Biases</a> (<a href='https://wandb.me/run' target=\"_blank\">docs</a>)<br/>Sweep page: <a href='https://wandb.ai/dwolffram-karlsruhe-institute-of-technology/sari-lightgbm/sweeps/04mzwpfu' target=\"_blank\">https://wandb.ai/dwolffram-karlsruhe-institute-of-technology/sari-lightgbm/sweeps/04mzwpfu</a>"
      ],
      "text/plain": [
       "<IPython.core.display.HTML object>"
      ]
     },
     "metadata": {},
     "output_type": "display_data"
    },
    {
     "data": {
      "text/html": [
       " View project at <a href='https://wandb.ai/dwolffram-karlsruhe-institute-of-technology/sari-lightgbm' target=\"_blank\">https://wandb.ai/dwolffram-karlsruhe-institute-of-technology/sari-lightgbm</a>"
      ],
      "text/plain": [
       "<IPython.core.display.HTML object>"
      ]
     },
     "metadata": {},
     "output_type": "display_data"
    },
    {
     "data": {
      "text/html": [
       " View sweep at <a href='https://wandb.ai/dwolffram-karlsruhe-institute-of-technology/sari-lightgbm/sweeps/04mzwpfu' target=\"_blank\">https://wandb.ai/dwolffram-karlsruhe-institute-of-technology/sari-lightgbm/sweeps/04mzwpfu</a>"
      ],
      "text/plain": [
       "<IPython.core.display.HTML object>"
      ]
     },
     "metadata": {},
     "output_type": "display_data"
    },
    {
     "data": {
      "text/html": [
       " View run at <a href='https://wandb.ai/dwolffram-karlsruhe-institute-of-technology/sari-lightgbm/runs/h8mnmlzz' target=\"_blank\">https://wandb.ai/dwolffram-karlsruhe-institute-of-technology/sari-lightgbm/runs/h8mnmlzz</a>"
      ],
      "text/plain": [
       "<IPython.core.display.HTML object>"
      ]
     },
     "metadata": {},
     "output_type": "display_data"
    },
    {
     "data": {
      "application/vnd.jupyter.widget-view+json": {
       "model_id": "a4aec8c80a8842eda717a9c5b8448972",
       "version_major": 2,
       "version_minor": 0
      },
      "text/plain": [
       "VBox(children=(Label(value='0.006 MB of 0.006 MB uploaded\\r'), FloatProgress(value=1.0, max=1.0)))"
      ]
     },
     "metadata": {},
     "output_type": "display_data"
    },
    {
     "data": {
      "text/html": [
       "<style>\n",
       "    table.wandb td:nth-child(1) { padding: 0 10px; text-align: left ; width: auto;} td:nth-child(2) {text-align: left ; width: 100%}\n",
       "    .wandb-row { display: flex; flex-direction: row; flex-wrap: wrap; justify-content: flex-start; width: 100% }\n",
       "    .wandb-col { display: flex; flex-direction: column; flex-basis: 100%; flex: 1; padding: 10px; }\n",
       "    </style>\n",
       "<div class=\"wandb-row\"><div class=\"wandb-col\"><h3>Run history:</h3><br/><table class=\"wandb\"><tr><td>WIS</td><td>▁</td></tr><tr><td>WIS_2022</td><td>▁</td></tr><tr><td>WIS_2022_1</td><td>▁</td></tr><tr><td>WIS_std</td><td>▁</td></tr><tr><td>WIS_std_2022</td><td>▁</td></tr></table><br/></div><div class=\"wandb-col\"><h3>Run summary:</h3><br/><table class=\"wandb\"><tr><td>WIS</td><td>466.68515</td></tr><tr><td>WIS_2022</td><td>466.68515</td></tr><tr><td>WIS_2022_1</td><td>466.68515</td></tr><tr><td>WIS_std</td><td>0</td></tr><tr><td>WIS_std_2022</td><td>0</td></tr></table><br/></div></div>"
      ],
      "text/plain": [
       "<IPython.core.display.HTML object>"
      ]
     },
     "metadata": {},
     "output_type": "display_data"
    },
    {
     "data": {
      "text/html": [
       " View run <strong style=\"color:#cdcd00\">earnest-sweep-31</strong> at: <a href='https://wandb.ai/dwolffram-karlsruhe-institute-of-technology/sari-lightgbm/runs/h8mnmlzz' target=\"_blank\">https://wandb.ai/dwolffram-karlsruhe-institute-of-technology/sari-lightgbm/runs/h8mnmlzz</a><br/> View project at: <a href='https://wandb.ai/dwolffram-karlsruhe-institute-of-technology/sari-lightgbm' target=\"_blank\">https://wandb.ai/dwolffram-karlsruhe-institute-of-technology/sari-lightgbm</a><br/>Synced 5 W&B file(s), 0 media file(s), 0 artifact file(s) and 0 other file(s)"
      ],
      "text/plain": [
       "<IPython.core.display.HTML object>"
      ]
     },
     "metadata": {},
     "output_type": "display_data"
    },
    {
     "data": {
      "text/html": [
       "Find logs at: <code>./wandb/run-20241218_165212-h8mnmlzz/logs</code>"
      ],
      "text/plain": [
       "<IPython.core.display.HTML object>"
      ]
     },
     "metadata": {},
     "output_type": "display_data"
    },
    {
     "data": {
      "text/html": [
       "There is a new version of wandb available. Please upgrade to wandb==0.19.0"
      ],
      "text/plain": [
       "<IPython.core.display.HTML object>"
      ]
     },
     "metadata": {},
     "output_type": "display_data"
    },
    {
     "name": "stderr",
     "output_type": "stream",
     "text": [
      "\u001b[34m\u001b[1mwandb\u001b[0m: Agent Starting Run: rbflha40 with config:\n",
      "\u001b[34m\u001b[1mwandb\u001b[0m: \tcolsample_bytree: 0.8\n",
      "\u001b[34m\u001b[1mwandb\u001b[0m: \tlags: 8\n",
      "\u001b[34m\u001b[1mwandb\u001b[0m: \tlags_future_covariates: [0, 1]\n",
      "\u001b[34m\u001b[1mwandb\u001b[0m: \tlags_past_covariates: {'agi-are-00-04': 8, 'agi-are-05-14': 8, 'agi-are-15-34': 8, 'agi-are-35-59': 8, 'agi-are-60+': 8, 'agi-are-DE': 8, 'default_lags': 1}\n",
      "\u001b[34m\u001b[1mwandb\u001b[0m: \tlearning_rate: 0.01\n",
      "\u001b[34m\u001b[1mwandb\u001b[0m: \tmax_bin: 1024\n",
      "\u001b[34m\u001b[1mwandb\u001b[0m: \tmax_depth: -1\n",
      "\u001b[34m\u001b[1mwandb\u001b[0m: \tmin_child_samples: 10\n",
      "\u001b[34m\u001b[1mwandb\u001b[0m: \tmin_split_gain: 0\n",
      "\u001b[34m\u001b[1mwandb\u001b[0m: \tmodel: lightgbm\n",
      "\u001b[34m\u001b[1mwandb\u001b[0m: \tmultiple_series: False\n",
      "\u001b[34m\u001b[1mwandb\u001b[0m: \tn_estimators: 500\n",
      "\u001b[34m\u001b[1mwandb\u001b[0m: \tnum_leaves: 20\n",
      "\u001b[34m\u001b[1mwandb\u001b[0m: \treg_alpha: 1\n",
      "\u001b[34m\u001b[1mwandb\u001b[0m: \treg_lambda: 0.5\n",
      "\u001b[34m\u001b[1mwandb\u001b[0m: \tsample_weight: no-covid\n",
      "\u001b[34m\u001b[1mwandb\u001b[0m: \tsubsample: 0.8\n",
      "\u001b[34m\u001b[1mwandb\u001b[0m: \tsubsample_freq: 1\n",
      "\u001b[34m\u001b[1mwandb\u001b[0m: \tuse_covariates: False\n",
      "\u001b[34m\u001b[1mwandb\u001b[0m: \tuse_encoders: True\n",
      "\u001b[34m\u001b[1mwandb\u001b[0m: \tuse_features: False\n",
      "\u001b[34m\u001b[1mwandb\u001b[0m: \tuse_static_covariates: False\n",
      "Failed to detect the name of this notebook, you can set it manually with the WANDB_NOTEBOOK_NAME environment variable to enable code saving.\n"
     ]
    },
    {
     "data": {
      "text/html": [
       "Tracking run with wandb version 0.18.0"
      ],
      "text/plain": [
       "<IPython.core.display.HTML object>"
      ]
     },
     "metadata": {},
     "output_type": "display_data"
    },
    {
     "data": {
      "text/html": [
       "Run data is saved locally in <code>/home/wolffram/SARI-ML/realtime/wandb/run-20241218_165254-rbflha40</code>"
      ],
      "text/plain": [
       "<IPython.core.display.HTML object>"
      ]
     },
     "metadata": {},
     "output_type": "display_data"
    },
    {
     "data": {
      "text/html": [
       "Syncing run <strong><a href='https://wandb.ai/dwolffram-karlsruhe-institute-of-technology/sari-lightgbm/runs/rbflha40' target=\"_blank\">feasible-sweep-32</a></strong> to <a href='https://wandb.ai/dwolffram-karlsruhe-institute-of-technology/sari-lightgbm' target=\"_blank\">Weights & Biases</a> (<a href='https://wandb.me/run' target=\"_blank\">docs</a>)<br/>Sweep page: <a href='https://wandb.ai/dwolffram-karlsruhe-institute-of-technology/sari-lightgbm/sweeps/04mzwpfu' target=\"_blank\">https://wandb.ai/dwolffram-karlsruhe-institute-of-technology/sari-lightgbm/sweeps/04mzwpfu</a>"
      ],
      "text/plain": [
       "<IPython.core.display.HTML object>"
      ]
     },
     "metadata": {},
     "output_type": "display_data"
    },
    {
     "data": {
      "text/html": [
       " View project at <a href='https://wandb.ai/dwolffram-karlsruhe-institute-of-technology/sari-lightgbm' target=\"_blank\">https://wandb.ai/dwolffram-karlsruhe-institute-of-technology/sari-lightgbm</a>"
      ],
      "text/plain": [
       "<IPython.core.display.HTML object>"
      ]
     },
     "metadata": {},
     "output_type": "display_data"
    },
    {
     "data": {
      "text/html": [
       " View sweep at <a href='https://wandb.ai/dwolffram-karlsruhe-institute-of-technology/sari-lightgbm/sweeps/04mzwpfu' target=\"_blank\">https://wandb.ai/dwolffram-karlsruhe-institute-of-technology/sari-lightgbm/sweeps/04mzwpfu</a>"
      ],
      "text/plain": [
       "<IPython.core.display.HTML object>"
      ]
     },
     "metadata": {},
     "output_type": "display_data"
    },
    {
     "data": {
      "text/html": [
       " View run at <a href='https://wandb.ai/dwolffram-karlsruhe-institute-of-technology/sari-lightgbm/runs/rbflha40' target=\"_blank\">https://wandb.ai/dwolffram-karlsruhe-institute-of-technology/sari-lightgbm/runs/rbflha40</a>"
      ],
      "text/plain": [
       "<IPython.core.display.HTML object>"
      ]
     },
     "metadata": {},
     "output_type": "display_data"
    },
    {
     "data": {
      "application/vnd.jupyter.widget-view+json": {
       "model_id": "34f4988928894b65a7ad2a4154bdd348",
       "version_major": 2,
       "version_minor": 0
      },
      "text/plain": [
       "VBox(children=(Label(value='0.006 MB of 0.006 MB uploaded\\r'), FloatProgress(value=1.0, max=1.0)))"
      ]
     },
     "metadata": {},
     "output_type": "display_data"
    },
    {
     "data": {
      "text/html": [
       "<style>\n",
       "    table.wandb td:nth-child(1) { padding: 0 10px; text-align: left ; width: auto;} td:nth-child(2) {text-align: left ; width: 100%}\n",
       "    .wandb-row { display: flex; flex-direction: row; flex-wrap: wrap; justify-content: flex-start; width: 100% }\n",
       "    .wandb-col { display: flex; flex-direction: column; flex-basis: 100%; flex: 1; padding: 10px; }\n",
       "    </style>\n",
       "<div class=\"wandb-row\"><div class=\"wandb-col\"><h3>Run history:</h3><br/><table class=\"wandb\"><tr><td>WIS</td><td>▁</td></tr><tr><td>WIS_2022</td><td>▁</td></tr><tr><td>WIS_2022_1</td><td>▁</td></tr><tr><td>WIS_std</td><td>▁</td></tr><tr><td>WIS_std_2022</td><td>▁</td></tr></table><br/></div><div class=\"wandb-col\"><h3>Run summary:</h3><br/><table class=\"wandb\"><tr><td>WIS</td><td>513.36206</td></tr><tr><td>WIS_2022</td><td>513.36206</td></tr><tr><td>WIS_2022_1</td><td>513.36206</td></tr><tr><td>WIS_std</td><td>0</td></tr><tr><td>WIS_std_2022</td><td>0</td></tr></table><br/></div></div>"
      ],
      "text/plain": [
       "<IPython.core.display.HTML object>"
      ]
     },
     "metadata": {},
     "output_type": "display_data"
    },
    {
     "data": {
      "text/html": [
       " View run <strong style=\"color:#cdcd00\">feasible-sweep-32</strong> at: <a href='https://wandb.ai/dwolffram-karlsruhe-institute-of-technology/sari-lightgbm/runs/rbflha40' target=\"_blank\">https://wandb.ai/dwolffram-karlsruhe-institute-of-technology/sari-lightgbm/runs/rbflha40</a><br/> View project at: <a href='https://wandb.ai/dwolffram-karlsruhe-institute-of-technology/sari-lightgbm' target=\"_blank\">https://wandb.ai/dwolffram-karlsruhe-institute-of-technology/sari-lightgbm</a><br/>Synced 5 W&B file(s), 0 media file(s), 0 artifact file(s) and 0 other file(s)"
      ],
      "text/plain": [
       "<IPython.core.display.HTML object>"
      ]
     },
     "metadata": {},
     "output_type": "display_data"
    },
    {
     "data": {
      "text/html": [
       "Find logs at: <code>./wandb/run-20241218_165254-rbflha40/logs</code>"
      ],
      "text/plain": [
       "<IPython.core.display.HTML object>"
      ]
     },
     "metadata": {},
     "output_type": "display_data"
    },
    {
     "data": {
      "text/html": [
       "There is a new version of wandb available. Please upgrade to wandb==0.19.0"
      ],
      "text/plain": [
       "<IPython.core.display.HTML object>"
      ]
     },
     "metadata": {},
     "output_type": "display_data"
    },
    {
     "name": "stderr",
     "output_type": "stream",
     "text": [
      "\u001b[34m\u001b[1mwandb\u001b[0m: Agent Starting Run: ie6505o6 with config:\n",
      "\u001b[34m\u001b[1mwandb\u001b[0m: \tcolsample_bytree: 0.8\n",
      "\u001b[34m\u001b[1mwandb\u001b[0m: \tlags: 8\n",
      "\u001b[34m\u001b[1mwandb\u001b[0m: \tlags_future_covariates: [0, 1]\n",
      "\u001b[34m\u001b[1mwandb\u001b[0m: \tlags_past_covariates: {'agi-are-00-04': 8, 'agi-are-05-14': 8, 'agi-are-15-34': 8, 'agi-are-35-59': 8, 'agi-are-60+': 8, 'agi-are-DE': 8, 'default_lags': 1}\n",
      "\u001b[34m\u001b[1mwandb\u001b[0m: \tlearning_rate: 0.01\n",
      "\u001b[34m\u001b[1mwandb\u001b[0m: \tmax_bin: 1024\n",
      "\u001b[34m\u001b[1mwandb\u001b[0m: \tmax_depth: -1\n",
      "\u001b[34m\u001b[1mwandb\u001b[0m: \tmin_child_samples: 10\n",
      "\u001b[34m\u001b[1mwandb\u001b[0m: \tmin_split_gain: 0\n",
      "\u001b[34m\u001b[1mwandb\u001b[0m: \tmodel: lightgbm\n",
      "\u001b[34m\u001b[1mwandb\u001b[0m: \tmultiple_series: False\n",
      "\u001b[34m\u001b[1mwandb\u001b[0m: \tn_estimators: 500\n",
      "\u001b[34m\u001b[1mwandb\u001b[0m: \tnum_leaves: 20\n",
      "\u001b[34m\u001b[1mwandb\u001b[0m: \treg_alpha: 1\n",
      "\u001b[34m\u001b[1mwandb\u001b[0m: \treg_lambda: 1\n",
      "\u001b[34m\u001b[1mwandb\u001b[0m: \tsample_weight: linear\n",
      "\u001b[34m\u001b[1mwandb\u001b[0m: \tsubsample: 0.8\n",
      "\u001b[34m\u001b[1mwandb\u001b[0m: \tsubsample_freq: 1\n",
      "\u001b[34m\u001b[1mwandb\u001b[0m: \tuse_covariates: True\n",
      "\u001b[34m\u001b[1mwandb\u001b[0m: \tuse_encoders: True\n",
      "\u001b[34m\u001b[1mwandb\u001b[0m: \tuse_features: False\n",
      "\u001b[34m\u001b[1mwandb\u001b[0m: \tuse_static_covariates: False\n",
      "Failed to detect the name of this notebook, you can set it manually with the WANDB_NOTEBOOK_NAME environment variable to enable code saving.\n"
     ]
    },
    {
     "data": {
      "text/html": [
       "Tracking run with wandb version 0.18.0"
      ],
      "text/plain": [
       "<IPython.core.display.HTML object>"
      ]
     },
     "metadata": {},
     "output_type": "display_data"
    },
    {
     "data": {
      "text/html": [
       "Run data is saved locally in <code>/home/wolffram/SARI-ML/realtime/wandb/run-20241218_165330-ie6505o6</code>"
      ],
      "text/plain": [
       "<IPython.core.display.HTML object>"
      ]
     },
     "metadata": {},
     "output_type": "display_data"
    },
    {
     "data": {
      "text/html": [
       "Syncing run <strong><a href='https://wandb.ai/dwolffram-karlsruhe-institute-of-technology/sari-lightgbm/runs/ie6505o6' target=\"_blank\">absurd-sweep-33</a></strong> to <a href='https://wandb.ai/dwolffram-karlsruhe-institute-of-technology/sari-lightgbm' target=\"_blank\">Weights & Biases</a> (<a href='https://wandb.me/run' target=\"_blank\">docs</a>)<br/>Sweep page: <a href='https://wandb.ai/dwolffram-karlsruhe-institute-of-technology/sari-lightgbm/sweeps/04mzwpfu' target=\"_blank\">https://wandb.ai/dwolffram-karlsruhe-institute-of-technology/sari-lightgbm/sweeps/04mzwpfu</a>"
      ],
      "text/plain": [
       "<IPython.core.display.HTML object>"
      ]
     },
     "metadata": {},
     "output_type": "display_data"
    },
    {
     "data": {
      "text/html": [
       " View project at <a href='https://wandb.ai/dwolffram-karlsruhe-institute-of-technology/sari-lightgbm' target=\"_blank\">https://wandb.ai/dwolffram-karlsruhe-institute-of-technology/sari-lightgbm</a>"
      ],
      "text/plain": [
       "<IPython.core.display.HTML object>"
      ]
     },
     "metadata": {},
     "output_type": "display_data"
    },
    {
     "data": {
      "text/html": [
       " View sweep at <a href='https://wandb.ai/dwolffram-karlsruhe-institute-of-technology/sari-lightgbm/sweeps/04mzwpfu' target=\"_blank\">https://wandb.ai/dwolffram-karlsruhe-institute-of-technology/sari-lightgbm/sweeps/04mzwpfu</a>"
      ],
      "text/plain": [
       "<IPython.core.display.HTML object>"
      ]
     },
     "metadata": {},
     "output_type": "display_data"
    },
    {
     "data": {
      "text/html": [
       " View run at <a href='https://wandb.ai/dwolffram-karlsruhe-institute-of-technology/sari-lightgbm/runs/ie6505o6' target=\"_blank\">https://wandb.ai/dwolffram-karlsruhe-institute-of-technology/sari-lightgbm/runs/ie6505o6</a>"
      ],
      "text/plain": [
       "<IPython.core.display.HTML object>"
      ]
     },
     "metadata": {},
     "output_type": "display_data"
    },
    {
     "data": {
      "application/vnd.jupyter.widget-view+json": {
       "model_id": "126c68a08454436aaf0c16ec36baa176",
       "version_major": 2,
       "version_minor": 0
      },
      "text/plain": [
       "VBox(children=(Label(value='0.006 MB of 0.006 MB uploaded\\r'), FloatProgress(value=1.0, max=1.0)))"
      ]
     },
     "metadata": {},
     "output_type": "display_data"
    },
    {
     "data": {
      "text/html": [
       "<style>\n",
       "    table.wandb td:nth-child(1) { padding: 0 10px; text-align: left ; width: auto;} td:nth-child(2) {text-align: left ; width: 100%}\n",
       "    .wandb-row { display: flex; flex-direction: row; flex-wrap: wrap; justify-content: flex-start; width: 100% }\n",
       "    .wandb-col { display: flex; flex-direction: column; flex-basis: 100%; flex: 1; padding: 10px; }\n",
       "    </style>\n",
       "<div class=\"wandb-row\"><div class=\"wandb-col\"><h3>Run history:</h3><br/><table class=\"wandb\"><tr><td>WIS</td><td>▁</td></tr><tr><td>WIS_2022</td><td>▁</td></tr><tr><td>WIS_2022_1</td><td>▁</td></tr><tr><td>WIS_std</td><td>▁</td></tr><tr><td>WIS_std_2022</td><td>▁</td></tr></table><br/></div><div class=\"wandb-col\"><h3>Run summary:</h3><br/><table class=\"wandb\"><tr><td>WIS</td><td>459.06749</td></tr><tr><td>WIS_2022</td><td>459.06749</td></tr><tr><td>WIS_2022_1</td><td>459.06749</td></tr><tr><td>WIS_std</td><td>0</td></tr><tr><td>WIS_std_2022</td><td>0</td></tr></table><br/></div></div>"
      ],
      "text/plain": [
       "<IPython.core.display.HTML object>"
      ]
     },
     "metadata": {},
     "output_type": "display_data"
    },
    {
     "data": {
      "text/html": [
       " View run <strong style=\"color:#cdcd00\">absurd-sweep-33</strong> at: <a href='https://wandb.ai/dwolffram-karlsruhe-institute-of-technology/sari-lightgbm/runs/ie6505o6' target=\"_blank\">https://wandb.ai/dwolffram-karlsruhe-institute-of-technology/sari-lightgbm/runs/ie6505o6</a><br/> View project at: <a href='https://wandb.ai/dwolffram-karlsruhe-institute-of-technology/sari-lightgbm' target=\"_blank\">https://wandb.ai/dwolffram-karlsruhe-institute-of-technology/sari-lightgbm</a><br/>Synced 5 W&B file(s), 0 media file(s), 0 artifact file(s) and 0 other file(s)"
      ],
      "text/plain": [
       "<IPython.core.display.HTML object>"
      ]
     },
     "metadata": {},
     "output_type": "display_data"
    },
    {
     "data": {
      "text/html": [
       "Find logs at: <code>./wandb/run-20241218_165330-ie6505o6/logs</code>"
      ],
      "text/plain": [
       "<IPython.core.display.HTML object>"
      ]
     },
     "metadata": {},
     "output_type": "display_data"
    },
    {
     "data": {
      "text/html": [
       "There is a new version of wandb available. Please upgrade to wandb==0.19.0"
      ],
      "text/plain": [
       "<IPython.core.display.HTML object>"
      ]
     },
     "metadata": {},
     "output_type": "display_data"
    },
    {
     "name": "stderr",
     "output_type": "stream",
     "text": [
      "\u001b[34m\u001b[1mwandb\u001b[0m: Agent Starting Run: 0emhkz5h with config:\n",
      "\u001b[34m\u001b[1mwandb\u001b[0m: \tcolsample_bytree: 0.8\n",
      "\u001b[34m\u001b[1mwandb\u001b[0m: \tlags: 8\n",
      "\u001b[34m\u001b[1mwandb\u001b[0m: \tlags_future_covariates: [0, 1]\n",
      "\u001b[34m\u001b[1mwandb\u001b[0m: \tlags_past_covariates: {'agi-are-00-04': 8, 'agi-are-05-14': 8, 'agi-are-15-34': 8, 'agi-are-35-59': 8, 'agi-are-60+': 8, 'agi-are-DE': 8, 'default_lags': 1}\n",
      "\u001b[34m\u001b[1mwandb\u001b[0m: \tlearning_rate: 0.01\n",
      "\u001b[34m\u001b[1mwandb\u001b[0m: \tmax_bin: 1024\n",
      "\u001b[34m\u001b[1mwandb\u001b[0m: \tmax_depth: -1\n",
      "\u001b[34m\u001b[1mwandb\u001b[0m: \tmin_child_samples: 10\n",
      "\u001b[34m\u001b[1mwandb\u001b[0m: \tmin_split_gain: 0\n",
      "\u001b[34m\u001b[1mwandb\u001b[0m: \tmodel: lightgbm\n",
      "\u001b[34m\u001b[1mwandb\u001b[0m: \tmultiple_series: False\n",
      "\u001b[34m\u001b[1mwandb\u001b[0m: \tn_estimators: 500\n",
      "\u001b[34m\u001b[1mwandb\u001b[0m: \tnum_leaves: 20\n",
      "\u001b[34m\u001b[1mwandb\u001b[0m: \treg_alpha: 1\n",
      "\u001b[34m\u001b[1mwandb\u001b[0m: \treg_lambda: 1\n",
      "\u001b[34m\u001b[1mwandb\u001b[0m: \tsample_weight: linear\n",
      "\u001b[34m\u001b[1mwandb\u001b[0m: \tsubsample: 0.8\n",
      "\u001b[34m\u001b[1mwandb\u001b[0m: \tsubsample_freq: 1\n",
      "\u001b[34m\u001b[1mwandb\u001b[0m: \tuse_covariates: False\n",
      "\u001b[34m\u001b[1mwandb\u001b[0m: \tuse_encoders: True\n",
      "\u001b[34m\u001b[1mwandb\u001b[0m: \tuse_features: False\n",
      "\u001b[34m\u001b[1mwandb\u001b[0m: \tuse_static_covariates: False\n",
      "Failed to detect the name of this notebook, you can set it manually with the WANDB_NOTEBOOK_NAME environment variable to enable code saving.\n"
     ]
    },
    {
     "data": {
      "text/html": [
       "Tracking run with wandb version 0.18.0"
      ],
      "text/plain": [
       "<IPython.core.display.HTML object>"
      ]
     },
     "metadata": {},
     "output_type": "display_data"
    },
    {
     "data": {
      "text/html": [
       "Run data is saved locally in <code>/home/wolffram/SARI-ML/realtime/wandb/run-20241218_165426-0emhkz5h</code>"
      ],
      "text/plain": [
       "<IPython.core.display.HTML object>"
      ]
     },
     "metadata": {},
     "output_type": "display_data"
    },
    {
     "data": {
      "text/html": [
       "Syncing run <strong><a href='https://wandb.ai/dwolffram-karlsruhe-institute-of-technology/sari-lightgbm/runs/0emhkz5h' target=\"_blank\">polished-sweep-34</a></strong> to <a href='https://wandb.ai/dwolffram-karlsruhe-institute-of-technology/sari-lightgbm' target=\"_blank\">Weights & Biases</a> (<a href='https://wandb.me/run' target=\"_blank\">docs</a>)<br/>Sweep page: <a href='https://wandb.ai/dwolffram-karlsruhe-institute-of-technology/sari-lightgbm/sweeps/04mzwpfu' target=\"_blank\">https://wandb.ai/dwolffram-karlsruhe-institute-of-technology/sari-lightgbm/sweeps/04mzwpfu</a>"
      ],
      "text/plain": [
       "<IPython.core.display.HTML object>"
      ]
     },
     "metadata": {},
     "output_type": "display_data"
    },
    {
     "data": {
      "text/html": [
       " View project at <a href='https://wandb.ai/dwolffram-karlsruhe-institute-of-technology/sari-lightgbm' target=\"_blank\">https://wandb.ai/dwolffram-karlsruhe-institute-of-technology/sari-lightgbm</a>"
      ],
      "text/plain": [
       "<IPython.core.display.HTML object>"
      ]
     },
     "metadata": {},
     "output_type": "display_data"
    },
    {
     "data": {
      "text/html": [
       " View sweep at <a href='https://wandb.ai/dwolffram-karlsruhe-institute-of-technology/sari-lightgbm/sweeps/04mzwpfu' target=\"_blank\">https://wandb.ai/dwolffram-karlsruhe-institute-of-technology/sari-lightgbm/sweeps/04mzwpfu</a>"
      ],
      "text/plain": [
       "<IPython.core.display.HTML object>"
      ]
     },
     "metadata": {},
     "output_type": "display_data"
    },
    {
     "data": {
      "text/html": [
       " View run at <a href='https://wandb.ai/dwolffram-karlsruhe-institute-of-technology/sari-lightgbm/runs/0emhkz5h' target=\"_blank\">https://wandb.ai/dwolffram-karlsruhe-institute-of-technology/sari-lightgbm/runs/0emhkz5h</a>"
      ],
      "text/plain": [
       "<IPython.core.display.HTML object>"
      ]
     },
     "metadata": {},
     "output_type": "display_data"
    },
    {
     "data": {
      "application/vnd.jupyter.widget-view+json": {
       "model_id": "c1d67bc1a3174d8c8be6707d39382d73",
       "version_major": 2,
       "version_minor": 0
      },
      "text/plain": [
       "VBox(children=(Label(value='0.006 MB of 0.006 MB uploaded\\r'), FloatProgress(value=1.0, max=1.0)))"
      ]
     },
     "metadata": {},
     "output_type": "display_data"
    },
    {
     "data": {
      "text/html": [
       "<style>\n",
       "    table.wandb td:nth-child(1) { padding: 0 10px; text-align: left ; width: auto;} td:nth-child(2) {text-align: left ; width: 100%}\n",
       "    .wandb-row { display: flex; flex-direction: row; flex-wrap: wrap; justify-content: flex-start; width: 100% }\n",
       "    .wandb-col { display: flex; flex-direction: column; flex-basis: 100%; flex: 1; padding: 10px; }\n",
       "    </style>\n",
       "<div class=\"wandb-row\"><div class=\"wandb-col\"><h3>Run history:</h3><br/><table class=\"wandb\"><tr><td>WIS</td><td>▁</td></tr><tr><td>WIS_2022</td><td>▁</td></tr><tr><td>WIS_2022_1</td><td>▁</td></tr><tr><td>WIS_std</td><td>▁</td></tr><tr><td>WIS_std_2022</td><td>▁</td></tr></table><br/></div><div class=\"wandb-col\"><h3>Run summary:</h3><br/><table class=\"wandb\"><tr><td>WIS</td><td>471.41643</td></tr><tr><td>WIS_2022</td><td>471.41643</td></tr><tr><td>WIS_2022_1</td><td>471.41643</td></tr><tr><td>WIS_std</td><td>0</td></tr><tr><td>WIS_std_2022</td><td>0</td></tr></table><br/></div></div>"
      ],
      "text/plain": [
       "<IPython.core.display.HTML object>"
      ]
     },
     "metadata": {},
     "output_type": "display_data"
    },
    {
     "data": {
      "text/html": [
       " View run <strong style=\"color:#cdcd00\">polished-sweep-34</strong> at: <a href='https://wandb.ai/dwolffram-karlsruhe-institute-of-technology/sari-lightgbm/runs/0emhkz5h' target=\"_blank\">https://wandb.ai/dwolffram-karlsruhe-institute-of-technology/sari-lightgbm/runs/0emhkz5h</a><br/> View project at: <a href='https://wandb.ai/dwolffram-karlsruhe-institute-of-technology/sari-lightgbm' target=\"_blank\">https://wandb.ai/dwolffram-karlsruhe-institute-of-technology/sari-lightgbm</a><br/>Synced 5 W&B file(s), 0 media file(s), 0 artifact file(s) and 0 other file(s)"
      ],
      "text/plain": [
       "<IPython.core.display.HTML object>"
      ]
     },
     "metadata": {},
     "output_type": "display_data"
    },
    {
     "data": {
      "text/html": [
       "Find logs at: <code>./wandb/run-20241218_165426-0emhkz5h/logs</code>"
      ],
      "text/plain": [
       "<IPython.core.display.HTML object>"
      ]
     },
     "metadata": {},
     "output_type": "display_data"
    },
    {
     "data": {
      "text/html": [
       "There is a new version of wandb available. Please upgrade to wandb==0.19.0"
      ],
      "text/plain": [
       "<IPython.core.display.HTML object>"
      ]
     },
     "metadata": {},
     "output_type": "display_data"
    },
    {
     "name": "stderr",
     "output_type": "stream",
     "text": [
      "\u001b[34m\u001b[1mwandb\u001b[0m: Agent Starting Run: vwwvq3qu with config:\n",
      "\u001b[34m\u001b[1mwandb\u001b[0m: \tcolsample_bytree: 0.8\n",
      "\u001b[34m\u001b[1mwandb\u001b[0m: \tlags: 8\n",
      "\u001b[34m\u001b[1mwandb\u001b[0m: \tlags_future_covariates: [0, 1]\n",
      "\u001b[34m\u001b[1mwandb\u001b[0m: \tlags_past_covariates: {'agi-are-00-04': 8, 'agi-are-05-14': 8, 'agi-are-15-34': 8, 'agi-are-35-59': 8, 'agi-are-60+': 8, 'agi-are-DE': 8, 'default_lags': 1}\n",
      "\u001b[34m\u001b[1mwandb\u001b[0m: \tlearning_rate: 0.01\n",
      "\u001b[34m\u001b[1mwandb\u001b[0m: \tmax_bin: 1024\n",
      "\u001b[34m\u001b[1mwandb\u001b[0m: \tmax_depth: -1\n",
      "\u001b[34m\u001b[1mwandb\u001b[0m: \tmin_child_samples: 10\n",
      "\u001b[34m\u001b[1mwandb\u001b[0m: \tmin_split_gain: 0\n",
      "\u001b[34m\u001b[1mwandb\u001b[0m: \tmodel: lightgbm\n",
      "\u001b[34m\u001b[1mwandb\u001b[0m: \tmultiple_series: False\n",
      "\u001b[34m\u001b[1mwandb\u001b[0m: \tn_estimators: 500\n",
      "\u001b[34m\u001b[1mwandb\u001b[0m: \tnum_leaves: 20\n",
      "\u001b[34m\u001b[1mwandb\u001b[0m: \treg_alpha: 1\n",
      "\u001b[34m\u001b[1mwandb\u001b[0m: \treg_lambda: 1\n",
      "\u001b[34m\u001b[1mwandb\u001b[0m: \tsample_weight: no-covid\n",
      "\u001b[34m\u001b[1mwandb\u001b[0m: \tsubsample: 0.8\n",
      "\u001b[34m\u001b[1mwandb\u001b[0m: \tsubsample_freq: 1\n",
      "\u001b[34m\u001b[1mwandb\u001b[0m: \tuse_covariates: True\n",
      "\u001b[34m\u001b[1mwandb\u001b[0m: \tuse_encoders: True\n",
      "\u001b[34m\u001b[1mwandb\u001b[0m: \tuse_features: False\n",
      "\u001b[34m\u001b[1mwandb\u001b[0m: \tuse_static_covariates: False\n",
      "Failed to detect the name of this notebook, you can set it manually with the WANDB_NOTEBOOK_NAME environment variable to enable code saving.\n"
     ]
    },
    {
     "data": {
      "text/html": [
       "Tracking run with wandb version 0.18.0"
      ],
      "text/plain": [
       "<IPython.core.display.HTML object>"
      ]
     },
     "metadata": {},
     "output_type": "display_data"
    },
    {
     "data": {
      "text/html": [
       "Run data is saved locally in <code>/home/wolffram/SARI-ML/realtime/wandb/run-20241218_165518-vwwvq3qu</code>"
      ],
      "text/plain": [
       "<IPython.core.display.HTML object>"
      ]
     },
     "metadata": {},
     "output_type": "display_data"
    },
    {
     "data": {
      "text/html": [
       "Syncing run <strong><a href='https://wandb.ai/dwolffram-karlsruhe-institute-of-technology/sari-lightgbm/runs/vwwvq3qu' target=\"_blank\">classic-sweep-35</a></strong> to <a href='https://wandb.ai/dwolffram-karlsruhe-institute-of-technology/sari-lightgbm' target=\"_blank\">Weights & Biases</a> (<a href='https://wandb.me/run' target=\"_blank\">docs</a>)<br/>Sweep page: <a href='https://wandb.ai/dwolffram-karlsruhe-institute-of-technology/sari-lightgbm/sweeps/04mzwpfu' target=\"_blank\">https://wandb.ai/dwolffram-karlsruhe-institute-of-technology/sari-lightgbm/sweeps/04mzwpfu</a>"
      ],
      "text/plain": [
       "<IPython.core.display.HTML object>"
      ]
     },
     "metadata": {},
     "output_type": "display_data"
    },
    {
     "data": {
      "text/html": [
       " View project at <a href='https://wandb.ai/dwolffram-karlsruhe-institute-of-technology/sari-lightgbm' target=\"_blank\">https://wandb.ai/dwolffram-karlsruhe-institute-of-technology/sari-lightgbm</a>"
      ],
      "text/plain": [
       "<IPython.core.display.HTML object>"
      ]
     },
     "metadata": {},
     "output_type": "display_data"
    },
    {
     "data": {
      "text/html": [
       " View sweep at <a href='https://wandb.ai/dwolffram-karlsruhe-institute-of-technology/sari-lightgbm/sweeps/04mzwpfu' target=\"_blank\">https://wandb.ai/dwolffram-karlsruhe-institute-of-technology/sari-lightgbm/sweeps/04mzwpfu</a>"
      ],
      "text/plain": [
       "<IPython.core.display.HTML object>"
      ]
     },
     "metadata": {},
     "output_type": "display_data"
    },
    {
     "data": {
      "text/html": [
       " View run at <a href='https://wandb.ai/dwolffram-karlsruhe-institute-of-technology/sari-lightgbm/runs/vwwvq3qu' target=\"_blank\">https://wandb.ai/dwolffram-karlsruhe-institute-of-technology/sari-lightgbm/runs/vwwvq3qu</a>"
      ],
      "text/plain": [
       "<IPython.core.display.HTML object>"
      ]
     },
     "metadata": {},
     "output_type": "display_data"
    },
    {
     "data": {
      "application/vnd.jupyter.widget-view+json": {
       "model_id": "ee825f183cab42f6a237cb149ed55c9b",
       "version_major": 2,
       "version_minor": 0
      },
      "text/plain": [
       "VBox(children=(Label(value='0.006 MB of 0.006 MB uploaded\\r'), FloatProgress(value=1.0, max=1.0)))"
      ]
     },
     "metadata": {},
     "output_type": "display_data"
    },
    {
     "data": {
      "text/html": [
       "<style>\n",
       "    table.wandb td:nth-child(1) { padding: 0 10px; text-align: left ; width: auto;} td:nth-child(2) {text-align: left ; width: 100%}\n",
       "    .wandb-row { display: flex; flex-direction: row; flex-wrap: wrap; justify-content: flex-start; width: 100% }\n",
       "    .wandb-col { display: flex; flex-direction: column; flex-basis: 100%; flex: 1; padding: 10px; }\n",
       "    </style>\n",
       "<div class=\"wandb-row\"><div class=\"wandb-col\"><h3>Run history:</h3><br/><table class=\"wandb\"><tr><td>WIS</td><td>▁</td></tr><tr><td>WIS_2022</td><td>▁</td></tr><tr><td>WIS_2022_1</td><td>▁</td></tr><tr><td>WIS_std</td><td>▁</td></tr><tr><td>WIS_std_2022</td><td>▁</td></tr></table><br/></div><div class=\"wandb-col\"><h3>Run summary:</h3><br/><table class=\"wandb\"><tr><td>WIS</td><td>468.74703</td></tr><tr><td>WIS_2022</td><td>468.74703</td></tr><tr><td>WIS_2022_1</td><td>468.74703</td></tr><tr><td>WIS_std</td><td>0</td></tr><tr><td>WIS_std_2022</td><td>0</td></tr></table><br/></div></div>"
      ],
      "text/plain": [
       "<IPython.core.display.HTML object>"
      ]
     },
     "metadata": {},
     "output_type": "display_data"
    },
    {
     "data": {
      "text/html": [
       " View run <strong style=\"color:#cdcd00\">classic-sweep-35</strong> at: <a href='https://wandb.ai/dwolffram-karlsruhe-institute-of-technology/sari-lightgbm/runs/vwwvq3qu' target=\"_blank\">https://wandb.ai/dwolffram-karlsruhe-institute-of-technology/sari-lightgbm/runs/vwwvq3qu</a><br/> View project at: <a href='https://wandb.ai/dwolffram-karlsruhe-institute-of-technology/sari-lightgbm' target=\"_blank\">https://wandb.ai/dwolffram-karlsruhe-institute-of-technology/sari-lightgbm</a><br/>Synced 5 W&B file(s), 0 media file(s), 0 artifact file(s) and 0 other file(s)"
      ],
      "text/plain": [
       "<IPython.core.display.HTML object>"
      ]
     },
     "metadata": {},
     "output_type": "display_data"
    },
    {
     "data": {
      "text/html": [
       "Find logs at: <code>./wandb/run-20241218_165518-vwwvq3qu/logs</code>"
      ],
      "text/plain": [
       "<IPython.core.display.HTML object>"
      ]
     },
     "metadata": {},
     "output_type": "display_data"
    },
    {
     "data": {
      "text/html": [
       "There is a new version of wandb available. Please upgrade to wandb==0.19.0"
      ],
      "text/plain": [
       "<IPython.core.display.HTML object>"
      ]
     },
     "metadata": {},
     "output_type": "display_data"
    },
    {
     "name": "stderr",
     "output_type": "stream",
     "text": [
      "\u001b[34m\u001b[1mwandb\u001b[0m: Agent Starting Run: jznbswwx with config:\n",
      "\u001b[34m\u001b[1mwandb\u001b[0m: \tcolsample_bytree: 0.8\n",
      "\u001b[34m\u001b[1mwandb\u001b[0m: \tlags: 8\n",
      "\u001b[34m\u001b[1mwandb\u001b[0m: \tlags_future_covariates: [0, 1]\n",
      "\u001b[34m\u001b[1mwandb\u001b[0m: \tlags_past_covariates: {'agi-are-00-04': 8, 'agi-are-05-14': 8, 'agi-are-15-34': 8, 'agi-are-35-59': 8, 'agi-are-60+': 8, 'agi-are-DE': 8, 'default_lags': 1}\n",
      "\u001b[34m\u001b[1mwandb\u001b[0m: \tlearning_rate: 0.01\n",
      "\u001b[34m\u001b[1mwandb\u001b[0m: \tmax_bin: 1024\n",
      "\u001b[34m\u001b[1mwandb\u001b[0m: \tmax_depth: -1\n",
      "\u001b[34m\u001b[1mwandb\u001b[0m: \tmin_child_samples: 10\n",
      "\u001b[34m\u001b[1mwandb\u001b[0m: \tmin_split_gain: 0\n",
      "\u001b[34m\u001b[1mwandb\u001b[0m: \tmodel: lightgbm\n",
      "\u001b[34m\u001b[1mwandb\u001b[0m: \tmultiple_series: False\n",
      "\u001b[34m\u001b[1mwandb\u001b[0m: \tn_estimators: 500\n",
      "\u001b[34m\u001b[1mwandb\u001b[0m: \tnum_leaves: 20\n",
      "\u001b[34m\u001b[1mwandb\u001b[0m: \treg_alpha: 1\n",
      "\u001b[34m\u001b[1mwandb\u001b[0m: \treg_lambda: 1\n",
      "\u001b[34m\u001b[1mwandb\u001b[0m: \tsample_weight: no-covid\n",
      "\u001b[34m\u001b[1mwandb\u001b[0m: \tsubsample: 0.8\n",
      "\u001b[34m\u001b[1mwandb\u001b[0m: \tsubsample_freq: 1\n",
      "\u001b[34m\u001b[1mwandb\u001b[0m: \tuse_covariates: False\n",
      "\u001b[34m\u001b[1mwandb\u001b[0m: \tuse_encoders: True\n",
      "\u001b[34m\u001b[1mwandb\u001b[0m: \tuse_features: False\n",
      "\u001b[34m\u001b[1mwandb\u001b[0m: \tuse_static_covariates: False\n",
      "Failed to detect the name of this notebook, you can set it manually with the WANDB_NOTEBOOK_NAME environment variable to enable code saving.\n"
     ]
    },
    {
     "data": {
      "text/html": [
       "Tracking run with wandb version 0.18.0"
      ],
      "text/plain": [
       "<IPython.core.display.HTML object>"
      ]
     },
     "metadata": {},
     "output_type": "display_data"
    },
    {
     "data": {
      "text/html": [
       "Run data is saved locally in <code>/home/wolffram/SARI-ML/realtime/wandb/run-20241218_165559-jznbswwx</code>"
      ],
      "text/plain": [
       "<IPython.core.display.HTML object>"
      ]
     },
     "metadata": {},
     "output_type": "display_data"
    },
    {
     "data": {
      "text/html": [
       "Syncing run <strong><a href='https://wandb.ai/dwolffram-karlsruhe-institute-of-technology/sari-lightgbm/runs/jznbswwx' target=\"_blank\">genial-sweep-36</a></strong> to <a href='https://wandb.ai/dwolffram-karlsruhe-institute-of-technology/sari-lightgbm' target=\"_blank\">Weights & Biases</a> (<a href='https://wandb.me/run' target=\"_blank\">docs</a>)<br/>Sweep page: <a href='https://wandb.ai/dwolffram-karlsruhe-institute-of-technology/sari-lightgbm/sweeps/04mzwpfu' target=\"_blank\">https://wandb.ai/dwolffram-karlsruhe-institute-of-technology/sari-lightgbm/sweeps/04mzwpfu</a>"
      ],
      "text/plain": [
       "<IPython.core.display.HTML object>"
      ]
     },
     "metadata": {},
     "output_type": "display_data"
    },
    {
     "data": {
      "text/html": [
       " View project at <a href='https://wandb.ai/dwolffram-karlsruhe-institute-of-technology/sari-lightgbm' target=\"_blank\">https://wandb.ai/dwolffram-karlsruhe-institute-of-technology/sari-lightgbm</a>"
      ],
      "text/plain": [
       "<IPython.core.display.HTML object>"
      ]
     },
     "metadata": {},
     "output_type": "display_data"
    },
    {
     "data": {
      "text/html": [
       " View sweep at <a href='https://wandb.ai/dwolffram-karlsruhe-institute-of-technology/sari-lightgbm/sweeps/04mzwpfu' target=\"_blank\">https://wandb.ai/dwolffram-karlsruhe-institute-of-technology/sari-lightgbm/sweeps/04mzwpfu</a>"
      ],
      "text/plain": [
       "<IPython.core.display.HTML object>"
      ]
     },
     "metadata": {},
     "output_type": "display_data"
    },
    {
     "data": {
      "text/html": [
       " View run at <a href='https://wandb.ai/dwolffram-karlsruhe-institute-of-technology/sari-lightgbm/runs/jznbswwx' target=\"_blank\">https://wandb.ai/dwolffram-karlsruhe-institute-of-technology/sari-lightgbm/runs/jznbswwx</a>"
      ],
      "text/plain": [
       "<IPython.core.display.HTML object>"
      ]
     },
     "metadata": {},
     "output_type": "display_data"
    },
    {
     "data": {
      "application/vnd.jupyter.widget-view+json": {
       "model_id": "83af2dbb7f7f47e78d578804db1ff89e",
       "version_major": 2,
       "version_minor": 0
      },
      "text/plain": [
       "VBox(children=(Label(value='0.006 MB of 0.006 MB uploaded\\r'), FloatProgress(value=1.0, max=1.0)))"
      ]
     },
     "metadata": {},
     "output_type": "display_data"
    },
    {
     "data": {
      "text/html": [
       "<style>\n",
       "    table.wandb td:nth-child(1) { padding: 0 10px; text-align: left ; width: auto;} td:nth-child(2) {text-align: left ; width: 100%}\n",
       "    .wandb-row { display: flex; flex-direction: row; flex-wrap: wrap; justify-content: flex-start; width: 100% }\n",
       "    .wandb-col { display: flex; flex-direction: column; flex-basis: 100%; flex: 1; padding: 10px; }\n",
       "    </style>\n",
       "<div class=\"wandb-row\"><div class=\"wandb-col\"><h3>Run history:</h3><br/><table class=\"wandb\"><tr><td>WIS</td><td>▁</td></tr><tr><td>WIS_2022</td><td>▁</td></tr><tr><td>WIS_2022_1</td><td>▁</td></tr><tr><td>WIS_std</td><td>▁</td></tr><tr><td>WIS_std_2022</td><td>▁</td></tr></table><br/></div><div class=\"wandb-col\"><h3>Run summary:</h3><br/><table class=\"wandb\"><tr><td>WIS</td><td>512.41947</td></tr><tr><td>WIS_2022</td><td>512.41947</td></tr><tr><td>WIS_2022_1</td><td>512.41947</td></tr><tr><td>WIS_std</td><td>0</td></tr><tr><td>WIS_std_2022</td><td>0</td></tr></table><br/></div></div>"
      ],
      "text/plain": [
       "<IPython.core.display.HTML object>"
      ]
     },
     "metadata": {},
     "output_type": "display_data"
    },
    {
     "data": {
      "text/html": [
       " View run <strong style=\"color:#cdcd00\">genial-sweep-36</strong> at: <a href='https://wandb.ai/dwolffram-karlsruhe-institute-of-technology/sari-lightgbm/runs/jznbswwx' target=\"_blank\">https://wandb.ai/dwolffram-karlsruhe-institute-of-technology/sari-lightgbm/runs/jznbswwx</a><br/> View project at: <a href='https://wandb.ai/dwolffram-karlsruhe-institute-of-technology/sari-lightgbm' target=\"_blank\">https://wandb.ai/dwolffram-karlsruhe-institute-of-technology/sari-lightgbm</a><br/>Synced 5 W&B file(s), 0 media file(s), 0 artifact file(s) and 0 other file(s)"
      ],
      "text/plain": [
       "<IPython.core.display.HTML object>"
      ]
     },
     "metadata": {},
     "output_type": "display_data"
    },
    {
     "data": {
      "text/html": [
       "Find logs at: <code>./wandb/run-20241218_165559-jznbswwx/logs</code>"
      ],
      "text/plain": [
       "<IPython.core.display.HTML object>"
      ]
     },
     "metadata": {},
     "output_type": "display_data"
    },
    {
     "data": {
      "text/html": [
       "There is a new version of wandb available. Please upgrade to wandb==0.19.0"
      ],
      "text/plain": [
       "<IPython.core.display.HTML object>"
      ]
     },
     "metadata": {},
     "output_type": "display_data"
    },
    {
     "name": "stderr",
     "output_type": "stream",
     "text": [
      "\u001b[34m\u001b[1mwandb\u001b[0m: Agent Starting Run: kien1skv with config:\n",
      "\u001b[34m\u001b[1mwandb\u001b[0m: \tcolsample_bytree: 0.8\n",
      "\u001b[34m\u001b[1mwandb\u001b[0m: \tlags: 8\n",
      "\u001b[34m\u001b[1mwandb\u001b[0m: \tlags_future_covariates: [0, 1]\n",
      "\u001b[34m\u001b[1mwandb\u001b[0m: \tlags_past_covariates: {'agi-are-00-04': 8, 'agi-are-05-14': 8, 'agi-are-15-34': 8, 'agi-are-35-59': 8, 'agi-are-60+': 8, 'agi-are-DE': 8, 'default_lags': 1}\n",
      "\u001b[34m\u001b[1mwandb\u001b[0m: \tlearning_rate: 0.01\n",
      "\u001b[34m\u001b[1mwandb\u001b[0m: \tmax_bin: 1024\n",
      "\u001b[34m\u001b[1mwandb\u001b[0m: \tmax_depth: -1\n",
      "\u001b[34m\u001b[1mwandb\u001b[0m: \tmin_child_samples: 10\n",
      "\u001b[34m\u001b[1mwandb\u001b[0m: \tmin_split_gain: 0\n",
      "\u001b[34m\u001b[1mwandb\u001b[0m: \tmodel: lightgbm\n",
      "\u001b[34m\u001b[1mwandb\u001b[0m: \tmultiple_series: False\n",
      "\u001b[34m\u001b[1mwandb\u001b[0m: \tn_estimators: 500\n",
      "\u001b[34m\u001b[1mwandb\u001b[0m: \tnum_leaves: 31\n",
      "\u001b[34m\u001b[1mwandb\u001b[0m: \treg_alpha: 0\n",
      "\u001b[34m\u001b[1mwandb\u001b[0m: \treg_lambda: 0\n",
      "\u001b[34m\u001b[1mwandb\u001b[0m: \tsample_weight: linear\n",
      "\u001b[34m\u001b[1mwandb\u001b[0m: \tsubsample: 0.8\n",
      "\u001b[34m\u001b[1mwandb\u001b[0m: \tsubsample_freq: 1\n",
      "\u001b[34m\u001b[1mwandb\u001b[0m: \tuse_covariates: True\n",
      "\u001b[34m\u001b[1mwandb\u001b[0m: \tuse_encoders: True\n",
      "\u001b[34m\u001b[1mwandb\u001b[0m: \tuse_features: False\n",
      "\u001b[34m\u001b[1mwandb\u001b[0m: \tuse_static_covariates: False\n",
      "Failed to detect the name of this notebook, you can set it manually with the WANDB_NOTEBOOK_NAME environment variable to enable code saving.\n"
     ]
    },
    {
     "data": {
      "text/html": [
       "Tracking run with wandb version 0.18.0"
      ],
      "text/plain": [
       "<IPython.core.display.HTML object>"
      ]
     },
     "metadata": {},
     "output_type": "display_data"
    },
    {
     "data": {
      "text/html": [
       "Run data is saved locally in <code>/home/wolffram/SARI-ML/realtime/wandb/run-20241218_165641-kien1skv</code>"
      ],
      "text/plain": [
       "<IPython.core.display.HTML object>"
      ]
     },
     "metadata": {},
     "output_type": "display_data"
    },
    {
     "data": {
      "text/html": [
       "Syncing run <strong><a href='https://wandb.ai/dwolffram-karlsruhe-institute-of-technology/sari-lightgbm/runs/kien1skv' target=\"_blank\">spring-sweep-37</a></strong> to <a href='https://wandb.ai/dwolffram-karlsruhe-institute-of-technology/sari-lightgbm' target=\"_blank\">Weights & Biases</a> (<a href='https://wandb.me/run' target=\"_blank\">docs</a>)<br/>Sweep page: <a href='https://wandb.ai/dwolffram-karlsruhe-institute-of-technology/sari-lightgbm/sweeps/04mzwpfu' target=\"_blank\">https://wandb.ai/dwolffram-karlsruhe-institute-of-technology/sari-lightgbm/sweeps/04mzwpfu</a>"
      ],
      "text/plain": [
       "<IPython.core.display.HTML object>"
      ]
     },
     "metadata": {},
     "output_type": "display_data"
    },
    {
     "data": {
      "text/html": [
       " View project at <a href='https://wandb.ai/dwolffram-karlsruhe-institute-of-technology/sari-lightgbm' target=\"_blank\">https://wandb.ai/dwolffram-karlsruhe-institute-of-technology/sari-lightgbm</a>"
      ],
      "text/plain": [
       "<IPython.core.display.HTML object>"
      ]
     },
     "metadata": {},
     "output_type": "display_data"
    },
    {
     "data": {
      "text/html": [
       " View sweep at <a href='https://wandb.ai/dwolffram-karlsruhe-institute-of-technology/sari-lightgbm/sweeps/04mzwpfu' target=\"_blank\">https://wandb.ai/dwolffram-karlsruhe-institute-of-technology/sari-lightgbm/sweeps/04mzwpfu</a>"
      ],
      "text/plain": [
       "<IPython.core.display.HTML object>"
      ]
     },
     "metadata": {},
     "output_type": "display_data"
    },
    {
     "data": {
      "text/html": [
       " View run at <a href='https://wandb.ai/dwolffram-karlsruhe-institute-of-technology/sari-lightgbm/runs/kien1skv' target=\"_blank\">https://wandb.ai/dwolffram-karlsruhe-institute-of-technology/sari-lightgbm/runs/kien1skv</a>"
      ],
      "text/plain": [
       "<IPython.core.display.HTML object>"
      ]
     },
     "metadata": {},
     "output_type": "display_data"
    },
    {
     "data": {
      "application/vnd.jupyter.widget-view+json": {
       "model_id": "0d5111c2c41a46c4a6697e99136c6a9f",
       "version_major": 2,
       "version_minor": 0
      },
      "text/plain": [
       "VBox(children=(Label(value='0.006 MB of 0.006 MB uploaded\\r'), FloatProgress(value=1.0, max=1.0)))"
      ]
     },
     "metadata": {},
     "output_type": "display_data"
    },
    {
     "data": {
      "text/html": [
       "<style>\n",
       "    table.wandb td:nth-child(1) { padding: 0 10px; text-align: left ; width: auto;} td:nth-child(2) {text-align: left ; width: 100%}\n",
       "    .wandb-row { display: flex; flex-direction: row; flex-wrap: wrap; justify-content: flex-start; width: 100% }\n",
       "    .wandb-col { display: flex; flex-direction: column; flex-basis: 100%; flex: 1; padding: 10px; }\n",
       "    </style>\n",
       "<div class=\"wandb-row\"><div class=\"wandb-col\"><h3>Run history:</h3><br/><table class=\"wandb\"><tr><td>WIS</td><td>▁</td></tr><tr><td>WIS_2022</td><td>▁</td></tr><tr><td>WIS_2022_1</td><td>▁</td></tr><tr><td>WIS_std</td><td>▁</td></tr><tr><td>WIS_std_2022</td><td>▁</td></tr></table><br/></div><div class=\"wandb-col\"><h3>Run summary:</h3><br/><table class=\"wandb\"><tr><td>WIS</td><td>466.12102</td></tr><tr><td>WIS_2022</td><td>466.12102</td></tr><tr><td>WIS_2022_1</td><td>466.12102</td></tr><tr><td>WIS_std</td><td>0</td></tr><tr><td>WIS_std_2022</td><td>0</td></tr></table><br/></div></div>"
      ],
      "text/plain": [
       "<IPython.core.display.HTML object>"
      ]
     },
     "metadata": {},
     "output_type": "display_data"
    },
    {
     "data": {
      "text/html": [
       " View run <strong style=\"color:#cdcd00\">spring-sweep-37</strong> at: <a href='https://wandb.ai/dwolffram-karlsruhe-institute-of-technology/sari-lightgbm/runs/kien1skv' target=\"_blank\">https://wandb.ai/dwolffram-karlsruhe-institute-of-technology/sari-lightgbm/runs/kien1skv</a><br/> View project at: <a href='https://wandb.ai/dwolffram-karlsruhe-institute-of-technology/sari-lightgbm' target=\"_blank\">https://wandb.ai/dwolffram-karlsruhe-institute-of-technology/sari-lightgbm</a><br/>Synced 5 W&B file(s), 0 media file(s), 0 artifact file(s) and 0 other file(s)"
      ],
      "text/plain": [
       "<IPython.core.display.HTML object>"
      ]
     },
     "metadata": {},
     "output_type": "display_data"
    },
    {
     "data": {
      "text/html": [
       "Find logs at: <code>./wandb/run-20241218_165641-kien1skv/logs</code>"
      ],
      "text/plain": [
       "<IPython.core.display.HTML object>"
      ]
     },
     "metadata": {},
     "output_type": "display_data"
    },
    {
     "data": {
      "text/html": [
       "There is a new version of wandb available. Please upgrade to wandb==0.19.0"
      ],
      "text/plain": [
       "<IPython.core.display.HTML object>"
      ]
     },
     "metadata": {},
     "output_type": "display_data"
    },
    {
     "name": "stderr",
     "output_type": "stream",
     "text": [
      "\u001b[34m\u001b[1mwandb\u001b[0m: Agent Starting Run: erlzb0dx with config:\n",
      "\u001b[34m\u001b[1mwandb\u001b[0m: \tcolsample_bytree: 0.8\n",
      "\u001b[34m\u001b[1mwandb\u001b[0m: \tlags: 8\n",
      "\u001b[34m\u001b[1mwandb\u001b[0m: \tlags_future_covariates: [0, 1]\n",
      "\u001b[34m\u001b[1mwandb\u001b[0m: \tlags_past_covariates: {'agi-are-00-04': 8, 'agi-are-05-14': 8, 'agi-are-15-34': 8, 'agi-are-35-59': 8, 'agi-are-60+': 8, 'agi-are-DE': 8, 'default_lags': 1}\n",
      "\u001b[34m\u001b[1mwandb\u001b[0m: \tlearning_rate: 0.01\n",
      "\u001b[34m\u001b[1mwandb\u001b[0m: \tmax_bin: 1024\n",
      "\u001b[34m\u001b[1mwandb\u001b[0m: \tmax_depth: -1\n",
      "\u001b[34m\u001b[1mwandb\u001b[0m: \tmin_child_samples: 10\n",
      "\u001b[34m\u001b[1mwandb\u001b[0m: \tmin_split_gain: 0\n",
      "\u001b[34m\u001b[1mwandb\u001b[0m: \tmodel: lightgbm\n",
      "\u001b[34m\u001b[1mwandb\u001b[0m: \tmultiple_series: False\n",
      "\u001b[34m\u001b[1mwandb\u001b[0m: \tn_estimators: 500\n",
      "\u001b[34m\u001b[1mwandb\u001b[0m: \tnum_leaves: 31\n",
      "\u001b[34m\u001b[1mwandb\u001b[0m: \treg_alpha: 0\n",
      "\u001b[34m\u001b[1mwandb\u001b[0m: \treg_lambda: 0\n",
      "\u001b[34m\u001b[1mwandb\u001b[0m: \tsample_weight: linear\n",
      "\u001b[34m\u001b[1mwandb\u001b[0m: \tsubsample: 0.8\n",
      "\u001b[34m\u001b[1mwandb\u001b[0m: \tsubsample_freq: 1\n",
      "\u001b[34m\u001b[1mwandb\u001b[0m: \tuse_covariates: False\n",
      "\u001b[34m\u001b[1mwandb\u001b[0m: \tuse_encoders: True\n",
      "\u001b[34m\u001b[1mwandb\u001b[0m: \tuse_features: False\n",
      "\u001b[34m\u001b[1mwandb\u001b[0m: \tuse_static_covariates: False\n",
      "Failed to detect the name of this notebook, you can set it manually with the WANDB_NOTEBOOK_NAME environment variable to enable code saving.\n"
     ]
    },
    {
     "data": {
      "text/html": [
       "Tracking run with wandb version 0.18.0"
      ],
      "text/plain": [
       "<IPython.core.display.HTML object>"
      ]
     },
     "metadata": {},
     "output_type": "display_data"
    },
    {
     "data": {
      "text/html": [
       "Run data is saved locally in <code>/home/wolffram/SARI-ML/realtime/wandb/run-20241218_165753-erlzb0dx</code>"
      ],
      "text/plain": [
       "<IPython.core.display.HTML object>"
      ]
     },
     "metadata": {},
     "output_type": "display_data"
    },
    {
     "data": {
      "text/html": [
       "Syncing run <strong><a href='https://wandb.ai/dwolffram-karlsruhe-institute-of-technology/sari-lightgbm/runs/erlzb0dx' target=\"_blank\">silvery-sweep-38</a></strong> to <a href='https://wandb.ai/dwolffram-karlsruhe-institute-of-technology/sari-lightgbm' target=\"_blank\">Weights & Biases</a> (<a href='https://wandb.me/run' target=\"_blank\">docs</a>)<br/>Sweep page: <a href='https://wandb.ai/dwolffram-karlsruhe-institute-of-technology/sari-lightgbm/sweeps/04mzwpfu' target=\"_blank\">https://wandb.ai/dwolffram-karlsruhe-institute-of-technology/sari-lightgbm/sweeps/04mzwpfu</a>"
      ],
      "text/plain": [
       "<IPython.core.display.HTML object>"
      ]
     },
     "metadata": {},
     "output_type": "display_data"
    },
    {
     "data": {
      "text/html": [
       " View project at <a href='https://wandb.ai/dwolffram-karlsruhe-institute-of-technology/sari-lightgbm' target=\"_blank\">https://wandb.ai/dwolffram-karlsruhe-institute-of-technology/sari-lightgbm</a>"
      ],
      "text/plain": [
       "<IPython.core.display.HTML object>"
      ]
     },
     "metadata": {},
     "output_type": "display_data"
    },
    {
     "data": {
      "text/html": [
       " View sweep at <a href='https://wandb.ai/dwolffram-karlsruhe-institute-of-technology/sari-lightgbm/sweeps/04mzwpfu' target=\"_blank\">https://wandb.ai/dwolffram-karlsruhe-institute-of-technology/sari-lightgbm/sweeps/04mzwpfu</a>"
      ],
      "text/plain": [
       "<IPython.core.display.HTML object>"
      ]
     },
     "metadata": {},
     "output_type": "display_data"
    },
    {
     "data": {
      "text/html": [
       " View run at <a href='https://wandb.ai/dwolffram-karlsruhe-institute-of-technology/sari-lightgbm/runs/erlzb0dx' target=\"_blank\">https://wandb.ai/dwolffram-karlsruhe-institute-of-technology/sari-lightgbm/runs/erlzb0dx</a>"
      ],
      "text/plain": [
       "<IPython.core.display.HTML object>"
      ]
     },
     "metadata": {},
     "output_type": "display_data"
    },
    {
     "data": {
      "application/vnd.jupyter.widget-view+json": {
       "model_id": "b1a5ea21c8924d64913cb237de2b17d6",
       "version_major": 2,
       "version_minor": 0
      },
      "text/plain": [
       "VBox(children=(Label(value='0.006 MB of 0.006 MB uploaded\\r'), FloatProgress(value=1.0, max=1.0)))"
      ]
     },
     "metadata": {},
     "output_type": "display_data"
    },
    {
     "data": {
      "text/html": [
       "<style>\n",
       "    table.wandb td:nth-child(1) { padding: 0 10px; text-align: left ; width: auto;} td:nth-child(2) {text-align: left ; width: 100%}\n",
       "    .wandb-row { display: flex; flex-direction: row; flex-wrap: wrap; justify-content: flex-start; width: 100% }\n",
       "    .wandb-col { display: flex; flex-direction: column; flex-basis: 100%; flex: 1; padding: 10px; }\n",
       "    </style>\n",
       "<div class=\"wandb-row\"><div class=\"wandb-col\"><h3>Run history:</h3><br/><table class=\"wandb\"><tr><td>WIS</td><td>▁</td></tr><tr><td>WIS_2022</td><td>▁</td></tr><tr><td>WIS_2022_1</td><td>▁</td></tr><tr><td>WIS_std</td><td>▁</td></tr><tr><td>WIS_std_2022</td><td>▁</td></tr></table><br/></div><div class=\"wandb-col\"><h3>Run summary:</h3><br/><table class=\"wandb\"><tr><td>WIS</td><td>489.69969</td></tr><tr><td>WIS_2022</td><td>489.69969</td></tr><tr><td>WIS_2022_1</td><td>489.69969</td></tr><tr><td>WIS_std</td><td>0</td></tr><tr><td>WIS_std_2022</td><td>0</td></tr></table><br/></div></div>"
      ],
      "text/plain": [
       "<IPython.core.display.HTML object>"
      ]
     },
     "metadata": {},
     "output_type": "display_data"
    },
    {
     "data": {
      "text/html": [
       " View run <strong style=\"color:#cdcd00\">silvery-sweep-38</strong> at: <a href='https://wandb.ai/dwolffram-karlsruhe-institute-of-technology/sari-lightgbm/runs/erlzb0dx' target=\"_blank\">https://wandb.ai/dwolffram-karlsruhe-institute-of-technology/sari-lightgbm/runs/erlzb0dx</a><br/> View project at: <a href='https://wandb.ai/dwolffram-karlsruhe-institute-of-technology/sari-lightgbm' target=\"_blank\">https://wandb.ai/dwolffram-karlsruhe-institute-of-technology/sari-lightgbm</a><br/>Synced 5 W&B file(s), 0 media file(s), 0 artifact file(s) and 0 other file(s)"
      ],
      "text/plain": [
       "<IPython.core.display.HTML object>"
      ]
     },
     "metadata": {},
     "output_type": "display_data"
    },
    {
     "data": {
      "text/html": [
       "Find logs at: <code>./wandb/run-20241218_165753-erlzb0dx/logs</code>"
      ],
      "text/plain": [
       "<IPython.core.display.HTML object>"
      ]
     },
     "metadata": {},
     "output_type": "display_data"
    },
    {
     "data": {
      "text/html": [
       "There is a new version of wandb available. Please upgrade to wandb==0.19.0"
      ],
      "text/plain": [
       "<IPython.core.display.HTML object>"
      ]
     },
     "metadata": {},
     "output_type": "display_data"
    },
    {
     "name": "stderr",
     "output_type": "stream",
     "text": [
      "\u001b[34m\u001b[1mwandb\u001b[0m: Agent Starting Run: yniu6cz6 with config:\n",
      "\u001b[34m\u001b[1mwandb\u001b[0m: \tcolsample_bytree: 0.8\n",
      "\u001b[34m\u001b[1mwandb\u001b[0m: \tlags: 8\n",
      "\u001b[34m\u001b[1mwandb\u001b[0m: \tlags_future_covariates: [0, 1]\n",
      "\u001b[34m\u001b[1mwandb\u001b[0m: \tlags_past_covariates: {'agi-are-00-04': 8, 'agi-are-05-14': 8, 'agi-are-15-34': 8, 'agi-are-35-59': 8, 'agi-are-60+': 8, 'agi-are-DE': 8, 'default_lags': 1}\n",
      "\u001b[34m\u001b[1mwandb\u001b[0m: \tlearning_rate: 0.01\n",
      "\u001b[34m\u001b[1mwandb\u001b[0m: \tmax_bin: 1024\n",
      "\u001b[34m\u001b[1mwandb\u001b[0m: \tmax_depth: -1\n",
      "\u001b[34m\u001b[1mwandb\u001b[0m: \tmin_child_samples: 10\n",
      "\u001b[34m\u001b[1mwandb\u001b[0m: \tmin_split_gain: 0\n",
      "\u001b[34m\u001b[1mwandb\u001b[0m: \tmodel: lightgbm\n",
      "\u001b[34m\u001b[1mwandb\u001b[0m: \tmultiple_series: False\n",
      "\u001b[34m\u001b[1mwandb\u001b[0m: \tn_estimators: 500\n",
      "\u001b[34m\u001b[1mwandb\u001b[0m: \tnum_leaves: 31\n",
      "\u001b[34m\u001b[1mwandb\u001b[0m: \treg_alpha: 0\n",
      "\u001b[34m\u001b[1mwandb\u001b[0m: \treg_lambda: 0\n",
      "\u001b[34m\u001b[1mwandb\u001b[0m: \tsample_weight: no-covid\n",
      "\u001b[34m\u001b[1mwandb\u001b[0m: \tsubsample: 0.8\n",
      "\u001b[34m\u001b[1mwandb\u001b[0m: \tsubsample_freq: 1\n",
      "\u001b[34m\u001b[1mwandb\u001b[0m: \tuse_covariates: True\n",
      "\u001b[34m\u001b[1mwandb\u001b[0m: \tuse_encoders: True\n",
      "\u001b[34m\u001b[1mwandb\u001b[0m: \tuse_features: False\n",
      "\u001b[34m\u001b[1mwandb\u001b[0m: \tuse_static_covariates: False\n",
      "Failed to detect the name of this notebook, you can set it manually with the WANDB_NOTEBOOK_NAME environment variable to enable code saving.\n"
     ]
    },
    {
     "data": {
      "text/html": [
       "Tracking run with wandb version 0.18.0"
      ],
      "text/plain": [
       "<IPython.core.display.HTML object>"
      ]
     },
     "metadata": {},
     "output_type": "display_data"
    },
    {
     "data": {
      "text/html": [
       "Run data is saved locally in <code>/home/wolffram/SARI-ML/realtime/wandb/run-20241218_165900-yniu6cz6</code>"
      ],
      "text/plain": [
       "<IPython.core.display.HTML object>"
      ]
     },
     "metadata": {},
     "output_type": "display_data"
    },
    {
     "data": {
      "text/html": [
       "Syncing run <strong><a href='https://wandb.ai/dwolffram-karlsruhe-institute-of-technology/sari-lightgbm/runs/yniu6cz6' target=\"_blank\">expert-sweep-39</a></strong> to <a href='https://wandb.ai/dwolffram-karlsruhe-institute-of-technology/sari-lightgbm' target=\"_blank\">Weights & Biases</a> (<a href='https://wandb.me/run' target=\"_blank\">docs</a>)<br/>Sweep page: <a href='https://wandb.ai/dwolffram-karlsruhe-institute-of-technology/sari-lightgbm/sweeps/04mzwpfu' target=\"_blank\">https://wandb.ai/dwolffram-karlsruhe-institute-of-technology/sari-lightgbm/sweeps/04mzwpfu</a>"
      ],
      "text/plain": [
       "<IPython.core.display.HTML object>"
      ]
     },
     "metadata": {},
     "output_type": "display_data"
    },
    {
     "data": {
      "text/html": [
       " View project at <a href='https://wandb.ai/dwolffram-karlsruhe-institute-of-technology/sari-lightgbm' target=\"_blank\">https://wandb.ai/dwolffram-karlsruhe-institute-of-technology/sari-lightgbm</a>"
      ],
      "text/plain": [
       "<IPython.core.display.HTML object>"
      ]
     },
     "metadata": {},
     "output_type": "display_data"
    },
    {
     "data": {
      "text/html": [
       " View sweep at <a href='https://wandb.ai/dwolffram-karlsruhe-institute-of-technology/sari-lightgbm/sweeps/04mzwpfu' target=\"_blank\">https://wandb.ai/dwolffram-karlsruhe-institute-of-technology/sari-lightgbm/sweeps/04mzwpfu</a>"
      ],
      "text/plain": [
       "<IPython.core.display.HTML object>"
      ]
     },
     "metadata": {},
     "output_type": "display_data"
    },
    {
     "data": {
      "text/html": [
       " View run at <a href='https://wandb.ai/dwolffram-karlsruhe-institute-of-technology/sari-lightgbm/runs/yniu6cz6' target=\"_blank\">https://wandb.ai/dwolffram-karlsruhe-institute-of-technology/sari-lightgbm/runs/yniu6cz6</a>"
      ],
      "text/plain": [
       "<IPython.core.display.HTML object>"
      ]
     },
     "metadata": {},
     "output_type": "display_data"
    },
    {
     "data": {
      "application/vnd.jupyter.widget-view+json": {
       "model_id": "a0ed0461af8146f3a33372f975e858ba",
       "version_major": 2,
       "version_minor": 0
      },
      "text/plain": [
       "VBox(children=(Label(value='0.006 MB of 0.006 MB uploaded\\r'), FloatProgress(value=1.0, max=1.0)))"
      ]
     },
     "metadata": {},
     "output_type": "display_data"
    },
    {
     "data": {
      "text/html": [
       "<style>\n",
       "    table.wandb td:nth-child(1) { padding: 0 10px; text-align: left ; width: auto;} td:nth-child(2) {text-align: left ; width: 100%}\n",
       "    .wandb-row { display: flex; flex-direction: row; flex-wrap: wrap; justify-content: flex-start; width: 100% }\n",
       "    .wandb-col { display: flex; flex-direction: column; flex-basis: 100%; flex: 1; padding: 10px; }\n",
       "    </style>\n",
       "<div class=\"wandb-row\"><div class=\"wandb-col\"><h3>Run history:</h3><br/><table class=\"wandb\"><tr><td>WIS</td><td>▁</td></tr><tr><td>WIS_2022</td><td>▁</td></tr><tr><td>WIS_2022_1</td><td>▁</td></tr><tr><td>WIS_std</td><td>▁</td></tr><tr><td>WIS_std_2022</td><td>▁</td></tr></table><br/></div><div class=\"wandb-col\"><h3>Run summary:</h3><br/><table class=\"wandb\"><tr><td>WIS</td><td>460.50677</td></tr><tr><td>WIS_2022</td><td>460.50677</td></tr><tr><td>WIS_2022_1</td><td>460.50677</td></tr><tr><td>WIS_std</td><td>0</td></tr><tr><td>WIS_std_2022</td><td>0</td></tr></table><br/></div></div>"
      ],
      "text/plain": [
       "<IPython.core.display.HTML object>"
      ]
     },
     "metadata": {},
     "output_type": "display_data"
    },
    {
     "data": {
      "text/html": [
       " View run <strong style=\"color:#cdcd00\">expert-sweep-39</strong> at: <a href='https://wandb.ai/dwolffram-karlsruhe-institute-of-technology/sari-lightgbm/runs/yniu6cz6' target=\"_blank\">https://wandb.ai/dwolffram-karlsruhe-institute-of-technology/sari-lightgbm/runs/yniu6cz6</a><br/> View project at: <a href='https://wandb.ai/dwolffram-karlsruhe-institute-of-technology/sari-lightgbm' target=\"_blank\">https://wandb.ai/dwolffram-karlsruhe-institute-of-technology/sari-lightgbm</a><br/>Synced 5 W&B file(s), 0 media file(s), 0 artifact file(s) and 0 other file(s)"
      ],
      "text/plain": [
       "<IPython.core.display.HTML object>"
      ]
     },
     "metadata": {},
     "output_type": "display_data"
    },
    {
     "data": {
      "text/html": [
       "Find logs at: <code>./wandb/run-20241218_165900-yniu6cz6/logs</code>"
      ],
      "text/plain": [
       "<IPython.core.display.HTML object>"
      ]
     },
     "metadata": {},
     "output_type": "display_data"
    },
    {
     "data": {
      "text/html": [
       "There is a new version of wandb available. Please upgrade to wandb==0.19.0"
      ],
      "text/plain": [
       "<IPython.core.display.HTML object>"
      ]
     },
     "metadata": {},
     "output_type": "display_data"
    },
    {
     "name": "stderr",
     "output_type": "stream",
     "text": [
      "\u001b[34m\u001b[1mwandb\u001b[0m: Agent Starting Run: 9m8enapr with config:\n",
      "\u001b[34m\u001b[1mwandb\u001b[0m: \tcolsample_bytree: 0.8\n",
      "\u001b[34m\u001b[1mwandb\u001b[0m: \tlags: 8\n",
      "\u001b[34m\u001b[1mwandb\u001b[0m: \tlags_future_covariates: [0, 1]\n",
      "\u001b[34m\u001b[1mwandb\u001b[0m: \tlags_past_covariates: {'agi-are-00-04': 8, 'agi-are-05-14': 8, 'agi-are-15-34': 8, 'agi-are-35-59': 8, 'agi-are-60+': 8, 'agi-are-DE': 8, 'default_lags': 1}\n",
      "\u001b[34m\u001b[1mwandb\u001b[0m: \tlearning_rate: 0.01\n",
      "\u001b[34m\u001b[1mwandb\u001b[0m: \tmax_bin: 1024\n",
      "\u001b[34m\u001b[1mwandb\u001b[0m: \tmax_depth: -1\n",
      "\u001b[34m\u001b[1mwandb\u001b[0m: \tmin_child_samples: 10\n",
      "\u001b[34m\u001b[1mwandb\u001b[0m: \tmin_split_gain: 0\n",
      "\u001b[34m\u001b[1mwandb\u001b[0m: \tmodel: lightgbm\n",
      "\u001b[34m\u001b[1mwandb\u001b[0m: \tmultiple_series: False\n",
      "\u001b[34m\u001b[1mwandb\u001b[0m: \tn_estimators: 500\n",
      "\u001b[34m\u001b[1mwandb\u001b[0m: \tnum_leaves: 31\n",
      "\u001b[34m\u001b[1mwandb\u001b[0m: \treg_alpha: 0\n",
      "\u001b[34m\u001b[1mwandb\u001b[0m: \treg_lambda: 0\n",
      "\u001b[34m\u001b[1mwandb\u001b[0m: \tsample_weight: no-covid\n",
      "\u001b[34m\u001b[1mwandb\u001b[0m: \tsubsample: 0.8\n",
      "\u001b[34m\u001b[1mwandb\u001b[0m: \tsubsample_freq: 1\n",
      "\u001b[34m\u001b[1mwandb\u001b[0m: \tuse_covariates: False\n",
      "\u001b[34m\u001b[1mwandb\u001b[0m: \tuse_encoders: True\n",
      "\u001b[34m\u001b[1mwandb\u001b[0m: \tuse_features: False\n",
      "\u001b[34m\u001b[1mwandb\u001b[0m: \tuse_static_covariates: False\n",
      "Failed to detect the name of this notebook, you can set it manually with the WANDB_NOTEBOOK_NAME environment variable to enable code saving.\n"
     ]
    },
    {
     "data": {
      "text/html": [
       "Tracking run with wandb version 0.18.0"
      ],
      "text/plain": [
       "<IPython.core.display.HTML object>"
      ]
     },
     "metadata": {},
     "output_type": "display_data"
    },
    {
     "data": {
      "text/html": [
       "Run data is saved locally in <code>/home/wolffram/SARI-ML/realtime/wandb/run-20241218_170007-9m8enapr</code>"
      ],
      "text/plain": [
       "<IPython.core.display.HTML object>"
      ]
     },
     "metadata": {},
     "output_type": "display_data"
    },
    {
     "data": {
      "text/html": [
       "Syncing run <strong><a href='https://wandb.ai/dwolffram-karlsruhe-institute-of-technology/sari-lightgbm/runs/9m8enapr' target=\"_blank\">noble-sweep-40</a></strong> to <a href='https://wandb.ai/dwolffram-karlsruhe-institute-of-technology/sari-lightgbm' target=\"_blank\">Weights & Biases</a> (<a href='https://wandb.me/run' target=\"_blank\">docs</a>)<br/>Sweep page: <a href='https://wandb.ai/dwolffram-karlsruhe-institute-of-technology/sari-lightgbm/sweeps/04mzwpfu' target=\"_blank\">https://wandb.ai/dwolffram-karlsruhe-institute-of-technology/sari-lightgbm/sweeps/04mzwpfu</a>"
      ],
      "text/plain": [
       "<IPython.core.display.HTML object>"
      ]
     },
     "metadata": {},
     "output_type": "display_data"
    },
    {
     "data": {
      "text/html": [
       " View project at <a href='https://wandb.ai/dwolffram-karlsruhe-institute-of-technology/sari-lightgbm' target=\"_blank\">https://wandb.ai/dwolffram-karlsruhe-institute-of-technology/sari-lightgbm</a>"
      ],
      "text/plain": [
       "<IPython.core.display.HTML object>"
      ]
     },
     "metadata": {},
     "output_type": "display_data"
    },
    {
     "data": {
      "text/html": [
       " View sweep at <a href='https://wandb.ai/dwolffram-karlsruhe-institute-of-technology/sari-lightgbm/sweeps/04mzwpfu' target=\"_blank\">https://wandb.ai/dwolffram-karlsruhe-institute-of-technology/sari-lightgbm/sweeps/04mzwpfu</a>"
      ],
      "text/plain": [
       "<IPython.core.display.HTML object>"
      ]
     },
     "metadata": {},
     "output_type": "display_data"
    },
    {
     "data": {
      "text/html": [
       " View run at <a href='https://wandb.ai/dwolffram-karlsruhe-institute-of-technology/sari-lightgbm/runs/9m8enapr' target=\"_blank\">https://wandb.ai/dwolffram-karlsruhe-institute-of-technology/sari-lightgbm/runs/9m8enapr</a>"
      ],
      "text/plain": [
       "<IPython.core.display.HTML object>"
      ]
     },
     "metadata": {},
     "output_type": "display_data"
    },
    {
     "data": {
      "application/vnd.jupyter.widget-view+json": {
       "model_id": "33b7980fa4a540528a67b83c058dd459",
       "version_major": 2,
       "version_minor": 0
      },
      "text/plain": [
       "VBox(children=(Label(value='0.006 MB of 0.006 MB uploaded\\r'), FloatProgress(value=1.0, max=1.0)))"
      ]
     },
     "metadata": {},
     "output_type": "display_data"
    },
    {
     "data": {
      "text/html": [
       "<style>\n",
       "    table.wandb td:nth-child(1) { padding: 0 10px; text-align: left ; width: auto;} td:nth-child(2) {text-align: left ; width: 100%}\n",
       "    .wandb-row { display: flex; flex-direction: row; flex-wrap: wrap; justify-content: flex-start; width: 100% }\n",
       "    .wandb-col { display: flex; flex-direction: column; flex-basis: 100%; flex: 1; padding: 10px; }\n",
       "    </style>\n",
       "<div class=\"wandb-row\"><div class=\"wandb-col\"><h3>Run history:</h3><br/><table class=\"wandb\"><tr><td>WIS</td><td>▁</td></tr><tr><td>WIS_2022</td><td>▁</td></tr><tr><td>WIS_2022_1</td><td>▁</td></tr><tr><td>WIS_std</td><td>▁</td></tr><tr><td>WIS_std_2022</td><td>▁</td></tr></table><br/></div><div class=\"wandb-col\"><h3>Run summary:</h3><br/><table class=\"wandb\"><tr><td>WIS</td><td>527.82197</td></tr><tr><td>WIS_2022</td><td>527.82197</td></tr><tr><td>WIS_2022_1</td><td>527.82197</td></tr><tr><td>WIS_std</td><td>0</td></tr><tr><td>WIS_std_2022</td><td>0</td></tr></table><br/></div></div>"
      ],
      "text/plain": [
       "<IPython.core.display.HTML object>"
      ]
     },
     "metadata": {},
     "output_type": "display_data"
    },
    {
     "data": {
      "text/html": [
       " View run <strong style=\"color:#cdcd00\">noble-sweep-40</strong> at: <a href='https://wandb.ai/dwolffram-karlsruhe-institute-of-technology/sari-lightgbm/runs/9m8enapr' target=\"_blank\">https://wandb.ai/dwolffram-karlsruhe-institute-of-technology/sari-lightgbm/runs/9m8enapr</a><br/> View project at: <a href='https://wandb.ai/dwolffram-karlsruhe-institute-of-technology/sari-lightgbm' target=\"_blank\">https://wandb.ai/dwolffram-karlsruhe-institute-of-technology/sari-lightgbm</a><br/>Synced 5 W&B file(s), 0 media file(s), 0 artifact file(s) and 0 other file(s)"
      ],
      "text/plain": [
       "<IPython.core.display.HTML object>"
      ]
     },
     "metadata": {},
     "output_type": "display_data"
    },
    {
     "data": {
      "text/html": [
       "Find logs at: <code>./wandb/run-20241218_170007-9m8enapr/logs</code>"
      ],
      "text/plain": [
       "<IPython.core.display.HTML object>"
      ]
     },
     "metadata": {},
     "output_type": "display_data"
    },
    {
     "data": {
      "text/html": [
       "There is a new version of wandb available. Please upgrade to wandb==0.19.0"
      ],
      "text/plain": [
       "<IPython.core.display.HTML object>"
      ]
     },
     "metadata": {},
     "output_type": "display_data"
    },
    {
     "name": "stderr",
     "output_type": "stream",
     "text": [
      "\u001b[34m\u001b[1mwandb\u001b[0m: Agent Starting Run: ss842nmq with config:\n",
      "\u001b[34m\u001b[1mwandb\u001b[0m: \tcolsample_bytree: 0.8\n",
      "\u001b[34m\u001b[1mwandb\u001b[0m: \tlags: 8\n",
      "\u001b[34m\u001b[1mwandb\u001b[0m: \tlags_future_covariates: [0, 1]\n",
      "\u001b[34m\u001b[1mwandb\u001b[0m: \tlags_past_covariates: {'agi-are-00-04': 8, 'agi-are-05-14': 8, 'agi-are-15-34': 8, 'agi-are-35-59': 8, 'agi-are-60+': 8, 'agi-are-DE': 8, 'default_lags': 1}\n",
      "\u001b[34m\u001b[1mwandb\u001b[0m: \tlearning_rate: 0.01\n",
      "\u001b[34m\u001b[1mwandb\u001b[0m: \tmax_bin: 1024\n",
      "\u001b[34m\u001b[1mwandb\u001b[0m: \tmax_depth: -1\n",
      "\u001b[34m\u001b[1mwandb\u001b[0m: \tmin_child_samples: 10\n",
      "\u001b[34m\u001b[1mwandb\u001b[0m: \tmin_split_gain: 0\n",
      "\u001b[34m\u001b[1mwandb\u001b[0m: \tmodel: lightgbm\n",
      "\u001b[34m\u001b[1mwandb\u001b[0m: \tmultiple_series: False\n",
      "\u001b[34m\u001b[1mwandb\u001b[0m: \tn_estimators: 500\n",
      "\u001b[34m\u001b[1mwandb\u001b[0m: \tnum_leaves: 31\n",
      "\u001b[34m\u001b[1mwandb\u001b[0m: \treg_alpha: 0\n",
      "\u001b[34m\u001b[1mwandb\u001b[0m: \treg_lambda: 0.5\n",
      "\u001b[34m\u001b[1mwandb\u001b[0m: \tsample_weight: linear\n",
      "\u001b[34m\u001b[1mwandb\u001b[0m: \tsubsample: 0.8\n",
      "\u001b[34m\u001b[1mwandb\u001b[0m: \tsubsample_freq: 1\n",
      "\u001b[34m\u001b[1mwandb\u001b[0m: \tuse_covariates: True\n",
      "\u001b[34m\u001b[1mwandb\u001b[0m: \tuse_encoders: True\n",
      "\u001b[34m\u001b[1mwandb\u001b[0m: \tuse_features: False\n",
      "\u001b[34m\u001b[1mwandb\u001b[0m: \tuse_static_covariates: False\n",
      "Failed to detect the name of this notebook, you can set it manually with the WANDB_NOTEBOOK_NAME environment variable to enable code saving.\n"
     ]
    },
    {
     "data": {
      "text/html": [
       "Tracking run with wandb version 0.18.0"
      ],
      "text/plain": [
       "<IPython.core.display.HTML object>"
      ]
     },
     "metadata": {},
     "output_type": "display_data"
    },
    {
     "data": {
      "text/html": [
       "Run data is saved locally in <code>/home/wolffram/SARI-ML/realtime/wandb/run-20241218_170114-ss842nmq</code>"
      ],
      "text/plain": [
       "<IPython.core.display.HTML object>"
      ]
     },
     "metadata": {},
     "output_type": "display_data"
    },
    {
     "data": {
      "text/html": [
       "Syncing run <strong><a href='https://wandb.ai/dwolffram-karlsruhe-institute-of-technology/sari-lightgbm/runs/ss842nmq' target=\"_blank\">sandy-sweep-41</a></strong> to <a href='https://wandb.ai/dwolffram-karlsruhe-institute-of-technology/sari-lightgbm' target=\"_blank\">Weights & Biases</a> (<a href='https://wandb.me/run' target=\"_blank\">docs</a>)<br/>Sweep page: <a href='https://wandb.ai/dwolffram-karlsruhe-institute-of-technology/sari-lightgbm/sweeps/04mzwpfu' target=\"_blank\">https://wandb.ai/dwolffram-karlsruhe-institute-of-technology/sari-lightgbm/sweeps/04mzwpfu</a>"
      ],
      "text/plain": [
       "<IPython.core.display.HTML object>"
      ]
     },
     "metadata": {},
     "output_type": "display_data"
    },
    {
     "data": {
      "text/html": [
       " View project at <a href='https://wandb.ai/dwolffram-karlsruhe-institute-of-technology/sari-lightgbm' target=\"_blank\">https://wandb.ai/dwolffram-karlsruhe-institute-of-technology/sari-lightgbm</a>"
      ],
      "text/plain": [
       "<IPython.core.display.HTML object>"
      ]
     },
     "metadata": {},
     "output_type": "display_data"
    },
    {
     "data": {
      "text/html": [
       " View sweep at <a href='https://wandb.ai/dwolffram-karlsruhe-institute-of-technology/sari-lightgbm/sweeps/04mzwpfu' target=\"_blank\">https://wandb.ai/dwolffram-karlsruhe-institute-of-technology/sari-lightgbm/sweeps/04mzwpfu</a>"
      ],
      "text/plain": [
       "<IPython.core.display.HTML object>"
      ]
     },
     "metadata": {},
     "output_type": "display_data"
    },
    {
     "data": {
      "text/html": [
       " View run at <a href='https://wandb.ai/dwolffram-karlsruhe-institute-of-technology/sari-lightgbm/runs/ss842nmq' target=\"_blank\">https://wandb.ai/dwolffram-karlsruhe-institute-of-technology/sari-lightgbm/runs/ss842nmq</a>"
      ],
      "text/plain": [
       "<IPython.core.display.HTML object>"
      ]
     },
     "metadata": {},
     "output_type": "display_data"
    },
    {
     "data": {
      "application/vnd.jupyter.widget-view+json": {
       "model_id": "10e3d1b5e7be4e648db5412aaa070cee",
       "version_major": 2,
       "version_minor": 0
      },
      "text/plain": [
       "VBox(children=(Label(value='0.006 MB of 0.006 MB uploaded\\r'), FloatProgress(value=1.0, max=1.0)))"
      ]
     },
     "metadata": {},
     "output_type": "display_data"
    },
    {
     "data": {
      "text/html": [
       "<style>\n",
       "    table.wandb td:nth-child(1) { padding: 0 10px; text-align: left ; width: auto;} td:nth-child(2) {text-align: left ; width: 100%}\n",
       "    .wandb-row { display: flex; flex-direction: row; flex-wrap: wrap; justify-content: flex-start; width: 100% }\n",
       "    .wandb-col { display: flex; flex-direction: column; flex-basis: 100%; flex: 1; padding: 10px; }\n",
       "    </style>\n",
       "<div class=\"wandb-row\"><div class=\"wandb-col\"><h3>Run history:</h3><br/><table class=\"wandb\"><tr><td>WIS</td><td>▁</td></tr><tr><td>WIS_2022</td><td>▁</td></tr><tr><td>WIS_2022_1</td><td>▁</td></tr><tr><td>WIS_std</td><td>▁</td></tr><tr><td>WIS_std_2022</td><td>▁</td></tr></table><br/></div><div class=\"wandb-col\"><h3>Run summary:</h3><br/><table class=\"wandb\"><tr><td>WIS</td><td>455.50491</td></tr><tr><td>WIS_2022</td><td>455.50491</td></tr><tr><td>WIS_2022_1</td><td>455.50491</td></tr><tr><td>WIS_std</td><td>0</td></tr><tr><td>WIS_std_2022</td><td>0</td></tr></table><br/></div></div>"
      ],
      "text/plain": [
       "<IPython.core.display.HTML object>"
      ]
     },
     "metadata": {},
     "output_type": "display_data"
    },
    {
     "data": {
      "text/html": [
       " View run <strong style=\"color:#cdcd00\">sandy-sweep-41</strong> at: <a href='https://wandb.ai/dwolffram-karlsruhe-institute-of-technology/sari-lightgbm/runs/ss842nmq' target=\"_blank\">https://wandb.ai/dwolffram-karlsruhe-institute-of-technology/sari-lightgbm/runs/ss842nmq</a><br/> View project at: <a href='https://wandb.ai/dwolffram-karlsruhe-institute-of-technology/sari-lightgbm' target=\"_blank\">https://wandb.ai/dwolffram-karlsruhe-institute-of-technology/sari-lightgbm</a><br/>Synced 5 W&B file(s), 0 media file(s), 0 artifact file(s) and 0 other file(s)"
      ],
      "text/plain": [
       "<IPython.core.display.HTML object>"
      ]
     },
     "metadata": {},
     "output_type": "display_data"
    },
    {
     "data": {
      "text/html": [
       "Find logs at: <code>./wandb/run-20241218_170114-ss842nmq/logs</code>"
      ],
      "text/plain": [
       "<IPython.core.display.HTML object>"
      ]
     },
     "metadata": {},
     "output_type": "display_data"
    },
    {
     "data": {
      "text/html": [
       "There is a new version of wandb available. Please upgrade to wandb==0.19.0"
      ],
      "text/plain": [
       "<IPython.core.display.HTML object>"
      ]
     },
     "metadata": {},
     "output_type": "display_data"
    },
    {
     "name": "stderr",
     "output_type": "stream",
     "text": [
      "\u001b[34m\u001b[1mwandb\u001b[0m: Agent Starting Run: vo483wwh with config:\n",
      "\u001b[34m\u001b[1mwandb\u001b[0m: \tcolsample_bytree: 0.8\n",
      "\u001b[34m\u001b[1mwandb\u001b[0m: \tlags: 8\n",
      "\u001b[34m\u001b[1mwandb\u001b[0m: \tlags_future_covariates: [0, 1]\n",
      "\u001b[34m\u001b[1mwandb\u001b[0m: \tlags_past_covariates: {'agi-are-00-04': 8, 'agi-are-05-14': 8, 'agi-are-15-34': 8, 'agi-are-35-59': 8, 'agi-are-60+': 8, 'agi-are-DE': 8, 'default_lags': 1}\n",
      "\u001b[34m\u001b[1mwandb\u001b[0m: \tlearning_rate: 0.01\n",
      "\u001b[34m\u001b[1mwandb\u001b[0m: \tmax_bin: 1024\n",
      "\u001b[34m\u001b[1mwandb\u001b[0m: \tmax_depth: -1\n",
      "\u001b[34m\u001b[1mwandb\u001b[0m: \tmin_child_samples: 10\n",
      "\u001b[34m\u001b[1mwandb\u001b[0m: \tmin_split_gain: 0\n",
      "\u001b[34m\u001b[1mwandb\u001b[0m: \tmodel: lightgbm\n",
      "\u001b[34m\u001b[1mwandb\u001b[0m: \tmultiple_series: False\n",
      "\u001b[34m\u001b[1mwandb\u001b[0m: \tn_estimators: 500\n",
      "\u001b[34m\u001b[1mwandb\u001b[0m: \tnum_leaves: 31\n",
      "\u001b[34m\u001b[1mwandb\u001b[0m: \treg_alpha: 0\n",
      "\u001b[34m\u001b[1mwandb\u001b[0m: \treg_lambda: 0.5\n",
      "\u001b[34m\u001b[1mwandb\u001b[0m: \tsample_weight: linear\n",
      "\u001b[34m\u001b[1mwandb\u001b[0m: \tsubsample: 0.8\n",
      "\u001b[34m\u001b[1mwandb\u001b[0m: \tsubsample_freq: 1\n",
      "\u001b[34m\u001b[1mwandb\u001b[0m: \tuse_covariates: False\n",
      "\u001b[34m\u001b[1mwandb\u001b[0m: \tuse_encoders: True\n",
      "\u001b[34m\u001b[1mwandb\u001b[0m: \tuse_features: False\n",
      "\u001b[34m\u001b[1mwandb\u001b[0m: \tuse_static_covariates: False\n",
      "Failed to detect the name of this notebook, you can set it manually with the WANDB_NOTEBOOK_NAME environment variable to enable code saving.\n"
     ]
    },
    {
     "data": {
      "text/html": [
       "Tracking run with wandb version 0.18.0"
      ],
      "text/plain": [
       "<IPython.core.display.HTML object>"
      ]
     },
     "metadata": {},
     "output_type": "display_data"
    },
    {
     "data": {
      "text/html": [
       "Run data is saved locally in <code>/home/wolffram/SARI-ML/realtime/wandb/run-20241218_170221-vo483wwh</code>"
      ],
      "text/plain": [
       "<IPython.core.display.HTML object>"
      ]
     },
     "metadata": {},
     "output_type": "display_data"
    },
    {
     "data": {
      "text/html": [
       "Syncing run <strong><a href='https://wandb.ai/dwolffram-karlsruhe-institute-of-technology/sari-lightgbm/runs/vo483wwh' target=\"_blank\">sleek-sweep-42</a></strong> to <a href='https://wandb.ai/dwolffram-karlsruhe-institute-of-technology/sari-lightgbm' target=\"_blank\">Weights & Biases</a> (<a href='https://wandb.me/run' target=\"_blank\">docs</a>)<br/>Sweep page: <a href='https://wandb.ai/dwolffram-karlsruhe-institute-of-technology/sari-lightgbm/sweeps/04mzwpfu' target=\"_blank\">https://wandb.ai/dwolffram-karlsruhe-institute-of-technology/sari-lightgbm/sweeps/04mzwpfu</a>"
      ],
      "text/plain": [
       "<IPython.core.display.HTML object>"
      ]
     },
     "metadata": {},
     "output_type": "display_data"
    },
    {
     "data": {
      "text/html": [
       " View project at <a href='https://wandb.ai/dwolffram-karlsruhe-institute-of-technology/sari-lightgbm' target=\"_blank\">https://wandb.ai/dwolffram-karlsruhe-institute-of-technology/sari-lightgbm</a>"
      ],
      "text/plain": [
       "<IPython.core.display.HTML object>"
      ]
     },
     "metadata": {},
     "output_type": "display_data"
    },
    {
     "data": {
      "text/html": [
       " View sweep at <a href='https://wandb.ai/dwolffram-karlsruhe-institute-of-technology/sari-lightgbm/sweeps/04mzwpfu' target=\"_blank\">https://wandb.ai/dwolffram-karlsruhe-institute-of-technology/sari-lightgbm/sweeps/04mzwpfu</a>"
      ],
      "text/plain": [
       "<IPython.core.display.HTML object>"
      ]
     },
     "metadata": {},
     "output_type": "display_data"
    },
    {
     "data": {
      "text/html": [
       " View run at <a href='https://wandb.ai/dwolffram-karlsruhe-institute-of-technology/sari-lightgbm/runs/vo483wwh' target=\"_blank\">https://wandb.ai/dwolffram-karlsruhe-institute-of-technology/sari-lightgbm/runs/vo483wwh</a>"
      ],
      "text/plain": [
       "<IPython.core.display.HTML object>"
      ]
     },
     "metadata": {},
     "output_type": "display_data"
    },
    {
     "data": {
      "application/vnd.jupyter.widget-view+json": {
       "model_id": "d8720095c855477d959c6a36864e76b1",
       "version_major": 2,
       "version_minor": 0
      },
      "text/plain": [
       "VBox(children=(Label(value='0.006 MB of 0.006 MB uploaded\\r'), FloatProgress(value=1.0, max=1.0)))"
      ]
     },
     "metadata": {},
     "output_type": "display_data"
    },
    {
     "data": {
      "text/html": [
       "<style>\n",
       "    table.wandb td:nth-child(1) { padding: 0 10px; text-align: left ; width: auto;} td:nth-child(2) {text-align: left ; width: 100%}\n",
       "    .wandb-row { display: flex; flex-direction: row; flex-wrap: wrap; justify-content: flex-start; width: 100% }\n",
       "    .wandb-col { display: flex; flex-direction: column; flex-basis: 100%; flex: 1; padding: 10px; }\n",
       "    </style>\n",
       "<div class=\"wandb-row\"><div class=\"wandb-col\"><h3>Run history:</h3><br/><table class=\"wandb\"><tr><td>WIS</td><td>▁</td></tr><tr><td>WIS_2022</td><td>▁</td></tr><tr><td>WIS_2022_1</td><td>▁</td></tr><tr><td>WIS_std</td><td>▁</td></tr><tr><td>WIS_std_2022</td><td>▁</td></tr></table><br/></div><div class=\"wandb-col\"><h3>Run summary:</h3><br/><table class=\"wandb\"><tr><td>WIS</td><td>469.18955</td></tr><tr><td>WIS_2022</td><td>469.18955</td></tr><tr><td>WIS_2022_1</td><td>469.18955</td></tr><tr><td>WIS_std</td><td>0</td></tr><tr><td>WIS_std_2022</td><td>0</td></tr></table><br/></div></div>"
      ],
      "text/plain": [
       "<IPython.core.display.HTML object>"
      ]
     },
     "metadata": {},
     "output_type": "display_data"
    },
    {
     "data": {
      "text/html": [
       " View run <strong style=\"color:#cdcd00\">sleek-sweep-42</strong> at: <a href='https://wandb.ai/dwolffram-karlsruhe-institute-of-technology/sari-lightgbm/runs/vo483wwh' target=\"_blank\">https://wandb.ai/dwolffram-karlsruhe-institute-of-technology/sari-lightgbm/runs/vo483wwh</a><br/> View project at: <a href='https://wandb.ai/dwolffram-karlsruhe-institute-of-technology/sari-lightgbm' target=\"_blank\">https://wandb.ai/dwolffram-karlsruhe-institute-of-technology/sari-lightgbm</a><br/>Synced 5 W&B file(s), 0 media file(s), 0 artifact file(s) and 0 other file(s)"
      ],
      "text/plain": [
       "<IPython.core.display.HTML object>"
      ]
     },
     "metadata": {},
     "output_type": "display_data"
    },
    {
     "data": {
      "text/html": [
       "Find logs at: <code>./wandb/run-20241218_170221-vo483wwh/logs</code>"
      ],
      "text/plain": [
       "<IPython.core.display.HTML object>"
      ]
     },
     "metadata": {},
     "output_type": "display_data"
    },
    {
     "data": {
      "text/html": [
       "There is a new version of wandb available. Please upgrade to wandb==0.19.0"
      ],
      "text/plain": [
       "<IPython.core.display.HTML object>"
      ]
     },
     "metadata": {},
     "output_type": "display_data"
    },
    {
     "name": "stderr",
     "output_type": "stream",
     "text": [
      "\u001b[34m\u001b[1mwandb\u001b[0m: Agent Starting Run: zdenstld with config:\n",
      "\u001b[34m\u001b[1mwandb\u001b[0m: \tcolsample_bytree: 0.8\n",
      "\u001b[34m\u001b[1mwandb\u001b[0m: \tlags: 8\n",
      "\u001b[34m\u001b[1mwandb\u001b[0m: \tlags_future_covariates: [0, 1]\n",
      "\u001b[34m\u001b[1mwandb\u001b[0m: \tlags_past_covariates: {'agi-are-00-04': 8, 'agi-are-05-14': 8, 'agi-are-15-34': 8, 'agi-are-35-59': 8, 'agi-are-60+': 8, 'agi-are-DE': 8, 'default_lags': 1}\n",
      "\u001b[34m\u001b[1mwandb\u001b[0m: \tlearning_rate: 0.01\n",
      "\u001b[34m\u001b[1mwandb\u001b[0m: \tmax_bin: 1024\n",
      "\u001b[34m\u001b[1mwandb\u001b[0m: \tmax_depth: -1\n",
      "\u001b[34m\u001b[1mwandb\u001b[0m: \tmin_child_samples: 10\n",
      "\u001b[34m\u001b[1mwandb\u001b[0m: \tmin_split_gain: 0\n",
      "\u001b[34m\u001b[1mwandb\u001b[0m: \tmodel: lightgbm\n",
      "\u001b[34m\u001b[1mwandb\u001b[0m: \tmultiple_series: False\n",
      "\u001b[34m\u001b[1mwandb\u001b[0m: \tn_estimators: 500\n",
      "\u001b[34m\u001b[1mwandb\u001b[0m: \tnum_leaves: 31\n",
      "\u001b[34m\u001b[1mwandb\u001b[0m: \treg_alpha: 0\n",
      "\u001b[34m\u001b[1mwandb\u001b[0m: \treg_lambda: 0.5\n",
      "\u001b[34m\u001b[1mwandb\u001b[0m: \tsample_weight: no-covid\n",
      "\u001b[34m\u001b[1mwandb\u001b[0m: \tsubsample: 0.8\n",
      "\u001b[34m\u001b[1mwandb\u001b[0m: \tsubsample_freq: 1\n",
      "\u001b[34m\u001b[1mwandb\u001b[0m: \tuse_covariates: True\n",
      "\u001b[34m\u001b[1mwandb\u001b[0m: \tuse_encoders: True\n",
      "\u001b[34m\u001b[1mwandb\u001b[0m: \tuse_features: False\n",
      "\u001b[34m\u001b[1mwandb\u001b[0m: \tuse_static_covariates: False\n",
      "Failed to detect the name of this notebook, you can set it manually with the WANDB_NOTEBOOK_NAME environment variable to enable code saving.\n"
     ]
    },
    {
     "data": {
      "text/html": [
       "Tracking run with wandb version 0.18.0"
      ],
      "text/plain": [
       "<IPython.core.display.HTML object>"
      ]
     },
     "metadata": {},
     "output_type": "display_data"
    },
    {
     "data": {
      "text/html": [
       "Run data is saved locally in <code>/home/wolffram/SARI-ML/realtime/wandb/run-20241218_170318-zdenstld</code>"
      ],
      "text/plain": [
       "<IPython.core.display.HTML object>"
      ]
     },
     "metadata": {},
     "output_type": "display_data"
    },
    {
     "data": {
      "text/html": [
       "Syncing run <strong><a href='https://wandb.ai/dwolffram-karlsruhe-institute-of-technology/sari-lightgbm/runs/zdenstld' target=\"_blank\">denim-sweep-43</a></strong> to <a href='https://wandb.ai/dwolffram-karlsruhe-institute-of-technology/sari-lightgbm' target=\"_blank\">Weights & Biases</a> (<a href='https://wandb.me/run' target=\"_blank\">docs</a>)<br/>Sweep page: <a href='https://wandb.ai/dwolffram-karlsruhe-institute-of-technology/sari-lightgbm/sweeps/04mzwpfu' target=\"_blank\">https://wandb.ai/dwolffram-karlsruhe-institute-of-technology/sari-lightgbm/sweeps/04mzwpfu</a>"
      ],
      "text/plain": [
       "<IPython.core.display.HTML object>"
      ]
     },
     "metadata": {},
     "output_type": "display_data"
    },
    {
     "data": {
      "text/html": [
       " View project at <a href='https://wandb.ai/dwolffram-karlsruhe-institute-of-technology/sari-lightgbm' target=\"_blank\">https://wandb.ai/dwolffram-karlsruhe-institute-of-technology/sari-lightgbm</a>"
      ],
      "text/plain": [
       "<IPython.core.display.HTML object>"
      ]
     },
     "metadata": {},
     "output_type": "display_data"
    },
    {
     "data": {
      "text/html": [
       " View sweep at <a href='https://wandb.ai/dwolffram-karlsruhe-institute-of-technology/sari-lightgbm/sweeps/04mzwpfu' target=\"_blank\">https://wandb.ai/dwolffram-karlsruhe-institute-of-technology/sari-lightgbm/sweeps/04mzwpfu</a>"
      ],
      "text/plain": [
       "<IPython.core.display.HTML object>"
      ]
     },
     "metadata": {},
     "output_type": "display_data"
    },
    {
     "data": {
      "text/html": [
       " View run at <a href='https://wandb.ai/dwolffram-karlsruhe-institute-of-technology/sari-lightgbm/runs/zdenstld' target=\"_blank\">https://wandb.ai/dwolffram-karlsruhe-institute-of-technology/sari-lightgbm/runs/zdenstld</a>"
      ],
      "text/plain": [
       "<IPython.core.display.HTML object>"
      ]
     },
     "metadata": {},
     "output_type": "display_data"
    },
    {
     "data": {
      "application/vnd.jupyter.widget-view+json": {
       "model_id": "0f5835717a32402fa2bd3be4dc096b62",
       "version_major": 2,
       "version_minor": 0
      },
      "text/plain": [
       "VBox(children=(Label(value='0.006 MB of 0.006 MB uploaded\\r'), FloatProgress(value=1.0, max=1.0)))"
      ]
     },
     "metadata": {},
     "output_type": "display_data"
    },
    {
     "data": {
      "text/html": [
       "<style>\n",
       "    table.wandb td:nth-child(1) { padding: 0 10px; text-align: left ; width: auto;} td:nth-child(2) {text-align: left ; width: 100%}\n",
       "    .wandb-row { display: flex; flex-direction: row; flex-wrap: wrap; justify-content: flex-start; width: 100% }\n",
       "    .wandb-col { display: flex; flex-direction: column; flex-basis: 100%; flex: 1; padding: 10px; }\n",
       "    </style>\n",
       "<div class=\"wandb-row\"><div class=\"wandb-col\"><h3>Run history:</h3><br/><table class=\"wandb\"><tr><td>WIS</td><td>▁</td></tr><tr><td>WIS_2022</td><td>▁</td></tr><tr><td>WIS_2022_1</td><td>▁</td></tr><tr><td>WIS_std</td><td>▁</td></tr><tr><td>WIS_std_2022</td><td>▁</td></tr></table><br/></div><div class=\"wandb-col\"><h3>Run summary:</h3><br/><table class=\"wandb\"><tr><td>WIS</td><td>459.02275</td></tr><tr><td>WIS_2022</td><td>459.02275</td></tr><tr><td>WIS_2022_1</td><td>459.02275</td></tr><tr><td>WIS_std</td><td>0</td></tr><tr><td>WIS_std_2022</td><td>0</td></tr></table><br/></div></div>"
      ],
      "text/plain": [
       "<IPython.core.display.HTML object>"
      ]
     },
     "metadata": {},
     "output_type": "display_data"
    },
    {
     "data": {
      "text/html": [
       " View run <strong style=\"color:#cdcd00\">denim-sweep-43</strong> at: <a href='https://wandb.ai/dwolffram-karlsruhe-institute-of-technology/sari-lightgbm/runs/zdenstld' target=\"_blank\">https://wandb.ai/dwolffram-karlsruhe-institute-of-technology/sari-lightgbm/runs/zdenstld</a><br/> View project at: <a href='https://wandb.ai/dwolffram-karlsruhe-institute-of-technology/sari-lightgbm' target=\"_blank\">https://wandb.ai/dwolffram-karlsruhe-institute-of-technology/sari-lightgbm</a><br/>Synced 5 W&B file(s), 0 media file(s), 0 artifact file(s) and 0 other file(s)"
      ],
      "text/plain": [
       "<IPython.core.display.HTML object>"
      ]
     },
     "metadata": {},
     "output_type": "display_data"
    },
    {
     "data": {
      "text/html": [
       "Find logs at: <code>./wandb/run-20241218_170318-zdenstld/logs</code>"
      ],
      "text/plain": [
       "<IPython.core.display.HTML object>"
      ]
     },
     "metadata": {},
     "output_type": "display_data"
    },
    {
     "data": {
      "text/html": [
       "There is a new version of wandb available. Please upgrade to wandb==0.19.0"
      ],
      "text/plain": [
       "<IPython.core.display.HTML object>"
      ]
     },
     "metadata": {},
     "output_type": "display_data"
    },
    {
     "name": "stderr",
     "output_type": "stream",
     "text": [
      "\u001b[34m\u001b[1mwandb\u001b[0m: Agent Starting Run: xr2w0sjt with config:\n",
      "\u001b[34m\u001b[1mwandb\u001b[0m: \tcolsample_bytree: 0.8\n",
      "\u001b[34m\u001b[1mwandb\u001b[0m: \tlags: 8\n",
      "\u001b[34m\u001b[1mwandb\u001b[0m: \tlags_future_covariates: [0, 1]\n",
      "\u001b[34m\u001b[1mwandb\u001b[0m: \tlags_past_covariates: {'agi-are-00-04': 8, 'agi-are-05-14': 8, 'agi-are-15-34': 8, 'agi-are-35-59': 8, 'agi-are-60+': 8, 'agi-are-DE': 8, 'default_lags': 1}\n",
      "\u001b[34m\u001b[1mwandb\u001b[0m: \tlearning_rate: 0.01\n",
      "\u001b[34m\u001b[1mwandb\u001b[0m: \tmax_bin: 1024\n",
      "\u001b[34m\u001b[1mwandb\u001b[0m: \tmax_depth: -1\n",
      "\u001b[34m\u001b[1mwandb\u001b[0m: \tmin_child_samples: 10\n",
      "\u001b[34m\u001b[1mwandb\u001b[0m: \tmin_split_gain: 0\n",
      "\u001b[34m\u001b[1mwandb\u001b[0m: \tmodel: lightgbm\n",
      "\u001b[34m\u001b[1mwandb\u001b[0m: \tmultiple_series: False\n",
      "\u001b[34m\u001b[1mwandb\u001b[0m: \tn_estimators: 500\n",
      "\u001b[34m\u001b[1mwandb\u001b[0m: \tnum_leaves: 31\n",
      "\u001b[34m\u001b[1mwandb\u001b[0m: \treg_alpha: 0\n",
      "\u001b[34m\u001b[1mwandb\u001b[0m: \treg_lambda: 0.5\n",
      "\u001b[34m\u001b[1mwandb\u001b[0m: \tsample_weight: no-covid\n",
      "\u001b[34m\u001b[1mwandb\u001b[0m: \tsubsample: 0.8\n",
      "\u001b[34m\u001b[1mwandb\u001b[0m: \tsubsample_freq: 1\n",
      "\u001b[34m\u001b[1mwandb\u001b[0m: \tuse_covariates: False\n",
      "\u001b[34m\u001b[1mwandb\u001b[0m: \tuse_encoders: True\n",
      "\u001b[34m\u001b[1mwandb\u001b[0m: \tuse_features: False\n",
      "\u001b[34m\u001b[1mwandb\u001b[0m: \tuse_static_covariates: False\n",
      "Failed to detect the name of this notebook, you can set it manually with the WANDB_NOTEBOOK_NAME environment variable to enable code saving.\n"
     ]
    },
    {
     "data": {
      "text/html": [
       "Tracking run with wandb version 0.18.0"
      ],
      "text/plain": [
       "<IPython.core.display.HTML object>"
      ]
     },
     "metadata": {},
     "output_type": "display_data"
    },
    {
     "data": {
      "text/html": [
       "Run data is saved locally in <code>/home/wolffram/SARI-ML/realtime/wandb/run-20241218_170415-xr2w0sjt</code>"
      ],
      "text/plain": [
       "<IPython.core.display.HTML object>"
      ]
     },
     "metadata": {},
     "output_type": "display_data"
    },
    {
     "data": {
      "text/html": [
       "Syncing run <strong><a href='https://wandb.ai/dwolffram-karlsruhe-institute-of-technology/sari-lightgbm/runs/xr2w0sjt' target=\"_blank\">gallant-sweep-44</a></strong> to <a href='https://wandb.ai/dwolffram-karlsruhe-institute-of-technology/sari-lightgbm' target=\"_blank\">Weights & Biases</a> (<a href='https://wandb.me/run' target=\"_blank\">docs</a>)<br/>Sweep page: <a href='https://wandb.ai/dwolffram-karlsruhe-institute-of-technology/sari-lightgbm/sweeps/04mzwpfu' target=\"_blank\">https://wandb.ai/dwolffram-karlsruhe-institute-of-technology/sari-lightgbm/sweeps/04mzwpfu</a>"
      ],
      "text/plain": [
       "<IPython.core.display.HTML object>"
      ]
     },
     "metadata": {},
     "output_type": "display_data"
    },
    {
     "data": {
      "text/html": [
       " View project at <a href='https://wandb.ai/dwolffram-karlsruhe-institute-of-technology/sari-lightgbm' target=\"_blank\">https://wandb.ai/dwolffram-karlsruhe-institute-of-technology/sari-lightgbm</a>"
      ],
      "text/plain": [
       "<IPython.core.display.HTML object>"
      ]
     },
     "metadata": {},
     "output_type": "display_data"
    },
    {
     "data": {
      "text/html": [
       " View sweep at <a href='https://wandb.ai/dwolffram-karlsruhe-institute-of-technology/sari-lightgbm/sweeps/04mzwpfu' target=\"_blank\">https://wandb.ai/dwolffram-karlsruhe-institute-of-technology/sari-lightgbm/sweeps/04mzwpfu</a>"
      ],
      "text/plain": [
       "<IPython.core.display.HTML object>"
      ]
     },
     "metadata": {},
     "output_type": "display_data"
    },
    {
     "data": {
      "text/html": [
       " View run at <a href='https://wandb.ai/dwolffram-karlsruhe-institute-of-technology/sari-lightgbm/runs/xr2w0sjt' target=\"_blank\">https://wandb.ai/dwolffram-karlsruhe-institute-of-technology/sari-lightgbm/runs/xr2w0sjt</a>"
      ],
      "text/plain": [
       "<IPython.core.display.HTML object>"
      ]
     },
     "metadata": {},
     "output_type": "display_data"
    },
    {
     "data": {
      "application/vnd.jupyter.widget-view+json": {
       "model_id": "58a0a995eddf4efba4a7e417d9e5c8f4",
       "version_major": 2,
       "version_minor": 0
      },
      "text/plain": [
       "VBox(children=(Label(value='0.006 MB of 0.006 MB uploaded\\r'), FloatProgress(value=1.0, max=1.0)))"
      ]
     },
     "metadata": {},
     "output_type": "display_data"
    },
    {
     "data": {
      "text/html": [
       "<style>\n",
       "    table.wandb td:nth-child(1) { padding: 0 10px; text-align: left ; width: auto;} td:nth-child(2) {text-align: left ; width: 100%}\n",
       "    .wandb-row { display: flex; flex-direction: row; flex-wrap: wrap; justify-content: flex-start; width: 100% }\n",
       "    .wandb-col { display: flex; flex-direction: column; flex-basis: 100%; flex: 1; padding: 10px; }\n",
       "    </style>\n",
       "<div class=\"wandb-row\"><div class=\"wandb-col\"><h3>Run history:</h3><br/><table class=\"wandb\"><tr><td>WIS</td><td>▁</td></tr><tr><td>WIS_2022</td><td>▁</td></tr><tr><td>WIS_2022_1</td><td>▁</td></tr><tr><td>WIS_std</td><td>▁</td></tr><tr><td>WIS_std_2022</td><td>▁</td></tr></table><br/></div><div class=\"wandb-col\"><h3>Run summary:</h3><br/><table class=\"wandb\"><tr><td>WIS</td><td>518.2587</td></tr><tr><td>WIS_2022</td><td>518.2587</td></tr><tr><td>WIS_2022_1</td><td>518.2587</td></tr><tr><td>WIS_std</td><td>0</td></tr><tr><td>WIS_std_2022</td><td>0</td></tr></table><br/></div></div>"
      ],
      "text/plain": [
       "<IPython.core.display.HTML object>"
      ]
     },
     "metadata": {},
     "output_type": "display_data"
    },
    {
     "data": {
      "text/html": [
       " View run <strong style=\"color:#cdcd00\">gallant-sweep-44</strong> at: <a href='https://wandb.ai/dwolffram-karlsruhe-institute-of-technology/sari-lightgbm/runs/xr2w0sjt' target=\"_blank\">https://wandb.ai/dwolffram-karlsruhe-institute-of-technology/sari-lightgbm/runs/xr2w0sjt</a><br/> View project at: <a href='https://wandb.ai/dwolffram-karlsruhe-institute-of-technology/sari-lightgbm' target=\"_blank\">https://wandb.ai/dwolffram-karlsruhe-institute-of-technology/sari-lightgbm</a><br/>Synced 5 W&B file(s), 0 media file(s), 0 artifact file(s) and 0 other file(s)"
      ],
      "text/plain": [
       "<IPython.core.display.HTML object>"
      ]
     },
     "metadata": {},
     "output_type": "display_data"
    },
    {
     "data": {
      "text/html": [
       "Find logs at: <code>./wandb/run-20241218_170415-xr2w0sjt/logs</code>"
      ],
      "text/plain": [
       "<IPython.core.display.HTML object>"
      ]
     },
     "metadata": {},
     "output_type": "display_data"
    },
    {
     "data": {
      "text/html": [
       "There is a new version of wandb available. Please upgrade to wandb==0.19.0"
      ],
      "text/plain": [
       "<IPython.core.display.HTML object>"
      ]
     },
     "metadata": {},
     "output_type": "display_data"
    },
    {
     "name": "stderr",
     "output_type": "stream",
     "text": [
      "\u001b[34m\u001b[1mwandb\u001b[0m: Agent Starting Run: unril17a with config:\n",
      "\u001b[34m\u001b[1mwandb\u001b[0m: \tcolsample_bytree: 0.8\n",
      "\u001b[34m\u001b[1mwandb\u001b[0m: \tlags: 8\n",
      "\u001b[34m\u001b[1mwandb\u001b[0m: \tlags_future_covariates: [0, 1]\n",
      "\u001b[34m\u001b[1mwandb\u001b[0m: \tlags_past_covariates: {'agi-are-00-04': 8, 'agi-are-05-14': 8, 'agi-are-15-34': 8, 'agi-are-35-59': 8, 'agi-are-60+': 8, 'agi-are-DE': 8, 'default_lags': 1}\n",
      "\u001b[34m\u001b[1mwandb\u001b[0m: \tlearning_rate: 0.01\n",
      "\u001b[34m\u001b[1mwandb\u001b[0m: \tmax_bin: 1024\n",
      "\u001b[34m\u001b[1mwandb\u001b[0m: \tmax_depth: -1\n",
      "\u001b[34m\u001b[1mwandb\u001b[0m: \tmin_child_samples: 10\n",
      "\u001b[34m\u001b[1mwandb\u001b[0m: \tmin_split_gain: 0\n",
      "\u001b[34m\u001b[1mwandb\u001b[0m: \tmodel: lightgbm\n",
      "\u001b[34m\u001b[1mwandb\u001b[0m: \tmultiple_series: False\n",
      "\u001b[34m\u001b[1mwandb\u001b[0m: \tn_estimators: 500\n",
      "\u001b[34m\u001b[1mwandb\u001b[0m: \tnum_leaves: 31\n",
      "\u001b[34m\u001b[1mwandb\u001b[0m: \treg_alpha: 0\n",
      "\u001b[34m\u001b[1mwandb\u001b[0m: \treg_lambda: 1\n",
      "\u001b[34m\u001b[1mwandb\u001b[0m: \tsample_weight: linear\n",
      "\u001b[34m\u001b[1mwandb\u001b[0m: \tsubsample: 0.8\n",
      "\u001b[34m\u001b[1mwandb\u001b[0m: \tsubsample_freq: 1\n",
      "\u001b[34m\u001b[1mwandb\u001b[0m: \tuse_covariates: True\n",
      "\u001b[34m\u001b[1mwandb\u001b[0m: \tuse_encoders: True\n",
      "\u001b[34m\u001b[1mwandb\u001b[0m: \tuse_features: False\n",
      "\u001b[34m\u001b[1mwandb\u001b[0m: \tuse_static_covariates: False\n",
      "Failed to detect the name of this notebook, you can set it manually with the WANDB_NOTEBOOK_NAME environment variable to enable code saving.\n"
     ]
    },
    {
     "data": {
      "text/html": [
       "Tracking run with wandb version 0.18.0"
      ],
      "text/plain": [
       "<IPython.core.display.HTML object>"
      ]
     },
     "metadata": {},
     "output_type": "display_data"
    },
    {
     "data": {
      "text/html": [
       "Run data is saved locally in <code>/home/wolffram/SARI-ML/realtime/wandb/run-20241218_170511-unril17a</code>"
      ],
      "text/plain": [
       "<IPython.core.display.HTML object>"
      ]
     },
     "metadata": {},
     "output_type": "display_data"
    },
    {
     "data": {
      "text/html": [
       "Syncing run <strong><a href='https://wandb.ai/dwolffram-karlsruhe-institute-of-technology/sari-lightgbm/runs/unril17a' target=\"_blank\">neat-sweep-45</a></strong> to <a href='https://wandb.ai/dwolffram-karlsruhe-institute-of-technology/sari-lightgbm' target=\"_blank\">Weights & Biases</a> (<a href='https://wandb.me/run' target=\"_blank\">docs</a>)<br/>Sweep page: <a href='https://wandb.ai/dwolffram-karlsruhe-institute-of-technology/sari-lightgbm/sweeps/04mzwpfu' target=\"_blank\">https://wandb.ai/dwolffram-karlsruhe-institute-of-technology/sari-lightgbm/sweeps/04mzwpfu</a>"
      ],
      "text/plain": [
       "<IPython.core.display.HTML object>"
      ]
     },
     "metadata": {},
     "output_type": "display_data"
    },
    {
     "data": {
      "text/html": [
       " View project at <a href='https://wandb.ai/dwolffram-karlsruhe-institute-of-technology/sari-lightgbm' target=\"_blank\">https://wandb.ai/dwolffram-karlsruhe-institute-of-technology/sari-lightgbm</a>"
      ],
      "text/plain": [
       "<IPython.core.display.HTML object>"
      ]
     },
     "metadata": {},
     "output_type": "display_data"
    },
    {
     "data": {
      "text/html": [
       " View sweep at <a href='https://wandb.ai/dwolffram-karlsruhe-institute-of-technology/sari-lightgbm/sweeps/04mzwpfu' target=\"_blank\">https://wandb.ai/dwolffram-karlsruhe-institute-of-technology/sari-lightgbm/sweeps/04mzwpfu</a>"
      ],
      "text/plain": [
       "<IPython.core.display.HTML object>"
      ]
     },
     "metadata": {},
     "output_type": "display_data"
    },
    {
     "data": {
      "text/html": [
       " View run at <a href='https://wandb.ai/dwolffram-karlsruhe-institute-of-technology/sari-lightgbm/runs/unril17a' target=\"_blank\">https://wandb.ai/dwolffram-karlsruhe-institute-of-technology/sari-lightgbm/runs/unril17a</a>"
      ],
      "text/plain": [
       "<IPython.core.display.HTML object>"
      ]
     },
     "metadata": {},
     "output_type": "display_data"
    },
    {
     "data": {
      "application/vnd.jupyter.widget-view+json": {
       "model_id": "223a3fe5c94f43d19ea3e9866d948067",
       "version_major": 2,
       "version_minor": 0
      },
      "text/plain": [
       "VBox(children=(Label(value='0.006 MB of 0.006 MB uploaded\\r'), FloatProgress(value=1.0, max=1.0)))"
      ]
     },
     "metadata": {},
     "output_type": "display_data"
    },
    {
     "data": {
      "text/html": [
       "<style>\n",
       "    table.wandb td:nth-child(1) { padding: 0 10px; text-align: left ; width: auto;} td:nth-child(2) {text-align: left ; width: 100%}\n",
       "    .wandb-row { display: flex; flex-direction: row; flex-wrap: wrap; justify-content: flex-start; width: 100% }\n",
       "    .wandb-col { display: flex; flex-direction: column; flex-basis: 100%; flex: 1; padding: 10px; }\n",
       "    </style>\n",
       "<div class=\"wandb-row\"><div class=\"wandb-col\"><h3>Run history:</h3><br/><table class=\"wandb\"><tr><td>WIS</td><td>▁</td></tr><tr><td>WIS_2022</td><td>▁</td></tr><tr><td>WIS_2022_1</td><td>▁</td></tr><tr><td>WIS_std</td><td>▁</td></tr><tr><td>WIS_std_2022</td><td>▁</td></tr></table><br/></div><div class=\"wandb-col\"><h3>Run summary:</h3><br/><table class=\"wandb\"><tr><td>WIS</td><td>455.783</td></tr><tr><td>WIS_2022</td><td>455.783</td></tr><tr><td>WIS_2022_1</td><td>455.783</td></tr><tr><td>WIS_std</td><td>0</td></tr><tr><td>WIS_std_2022</td><td>0</td></tr></table><br/></div></div>"
      ],
      "text/plain": [
       "<IPython.core.display.HTML object>"
      ]
     },
     "metadata": {},
     "output_type": "display_data"
    },
    {
     "data": {
      "text/html": [
       " View run <strong style=\"color:#cdcd00\">neat-sweep-45</strong> at: <a href='https://wandb.ai/dwolffram-karlsruhe-institute-of-technology/sari-lightgbm/runs/unril17a' target=\"_blank\">https://wandb.ai/dwolffram-karlsruhe-institute-of-technology/sari-lightgbm/runs/unril17a</a><br/> View project at: <a href='https://wandb.ai/dwolffram-karlsruhe-institute-of-technology/sari-lightgbm' target=\"_blank\">https://wandb.ai/dwolffram-karlsruhe-institute-of-technology/sari-lightgbm</a><br/>Synced 5 W&B file(s), 0 media file(s), 0 artifact file(s) and 0 other file(s)"
      ],
      "text/plain": [
       "<IPython.core.display.HTML object>"
      ]
     },
     "metadata": {},
     "output_type": "display_data"
    },
    {
     "data": {
      "text/html": [
       "Find logs at: <code>./wandb/run-20241218_170511-unril17a/logs</code>"
      ],
      "text/plain": [
       "<IPython.core.display.HTML object>"
      ]
     },
     "metadata": {},
     "output_type": "display_data"
    },
    {
     "data": {
      "text/html": [
       "There is a new version of wandb available. Please upgrade to wandb==0.19.0"
      ],
      "text/plain": [
       "<IPython.core.display.HTML object>"
      ]
     },
     "metadata": {},
     "output_type": "display_data"
    },
    {
     "name": "stderr",
     "output_type": "stream",
     "text": [
      "\u001b[34m\u001b[1mwandb\u001b[0m: Agent Starting Run: ji8n3951 with config:\n",
      "\u001b[34m\u001b[1mwandb\u001b[0m: \tcolsample_bytree: 0.8\n",
      "\u001b[34m\u001b[1mwandb\u001b[0m: \tlags: 8\n",
      "\u001b[34m\u001b[1mwandb\u001b[0m: \tlags_future_covariates: [0, 1]\n",
      "\u001b[34m\u001b[1mwandb\u001b[0m: \tlags_past_covariates: {'agi-are-00-04': 8, 'agi-are-05-14': 8, 'agi-are-15-34': 8, 'agi-are-35-59': 8, 'agi-are-60+': 8, 'agi-are-DE': 8, 'default_lags': 1}\n",
      "\u001b[34m\u001b[1mwandb\u001b[0m: \tlearning_rate: 0.01\n",
      "\u001b[34m\u001b[1mwandb\u001b[0m: \tmax_bin: 1024\n",
      "\u001b[34m\u001b[1mwandb\u001b[0m: \tmax_depth: -1\n",
      "\u001b[34m\u001b[1mwandb\u001b[0m: \tmin_child_samples: 10\n",
      "\u001b[34m\u001b[1mwandb\u001b[0m: \tmin_split_gain: 0\n",
      "\u001b[34m\u001b[1mwandb\u001b[0m: \tmodel: lightgbm\n",
      "\u001b[34m\u001b[1mwandb\u001b[0m: \tmultiple_series: False\n",
      "\u001b[34m\u001b[1mwandb\u001b[0m: \tn_estimators: 500\n",
      "\u001b[34m\u001b[1mwandb\u001b[0m: \tnum_leaves: 31\n",
      "\u001b[34m\u001b[1mwandb\u001b[0m: \treg_alpha: 0\n",
      "\u001b[34m\u001b[1mwandb\u001b[0m: \treg_lambda: 1\n",
      "\u001b[34m\u001b[1mwandb\u001b[0m: \tsample_weight: linear\n",
      "\u001b[34m\u001b[1mwandb\u001b[0m: \tsubsample: 0.8\n",
      "\u001b[34m\u001b[1mwandb\u001b[0m: \tsubsample_freq: 1\n",
      "\u001b[34m\u001b[1mwandb\u001b[0m: \tuse_covariates: False\n",
      "\u001b[34m\u001b[1mwandb\u001b[0m: \tuse_encoders: True\n",
      "\u001b[34m\u001b[1mwandb\u001b[0m: \tuse_features: False\n",
      "\u001b[34m\u001b[1mwandb\u001b[0m: \tuse_static_covariates: False\n",
      "Failed to detect the name of this notebook, you can set it manually with the WANDB_NOTEBOOK_NAME environment variable to enable code saving.\n"
     ]
    },
    {
     "data": {
      "text/html": [
       "Tracking run with wandb version 0.18.0"
      ],
      "text/plain": [
       "<IPython.core.display.HTML object>"
      ]
     },
     "metadata": {},
     "output_type": "display_data"
    },
    {
     "data": {
      "text/html": [
       "Run data is saved locally in <code>/home/wolffram/SARI-ML/realtime/wandb/run-20241218_170619-ji8n3951</code>"
      ],
      "text/plain": [
       "<IPython.core.display.HTML object>"
      ]
     },
     "metadata": {},
     "output_type": "display_data"
    },
    {
     "data": {
      "text/html": [
       "Syncing run <strong><a href='https://wandb.ai/dwolffram-karlsruhe-institute-of-technology/sari-lightgbm/runs/ji8n3951' target=\"_blank\">distinctive-sweep-46</a></strong> to <a href='https://wandb.ai/dwolffram-karlsruhe-institute-of-technology/sari-lightgbm' target=\"_blank\">Weights & Biases</a> (<a href='https://wandb.me/run' target=\"_blank\">docs</a>)<br/>Sweep page: <a href='https://wandb.ai/dwolffram-karlsruhe-institute-of-technology/sari-lightgbm/sweeps/04mzwpfu' target=\"_blank\">https://wandb.ai/dwolffram-karlsruhe-institute-of-technology/sari-lightgbm/sweeps/04mzwpfu</a>"
      ],
      "text/plain": [
       "<IPython.core.display.HTML object>"
      ]
     },
     "metadata": {},
     "output_type": "display_data"
    },
    {
     "data": {
      "text/html": [
       " View project at <a href='https://wandb.ai/dwolffram-karlsruhe-institute-of-technology/sari-lightgbm' target=\"_blank\">https://wandb.ai/dwolffram-karlsruhe-institute-of-technology/sari-lightgbm</a>"
      ],
      "text/plain": [
       "<IPython.core.display.HTML object>"
      ]
     },
     "metadata": {},
     "output_type": "display_data"
    },
    {
     "data": {
      "text/html": [
       " View sweep at <a href='https://wandb.ai/dwolffram-karlsruhe-institute-of-technology/sari-lightgbm/sweeps/04mzwpfu' target=\"_blank\">https://wandb.ai/dwolffram-karlsruhe-institute-of-technology/sari-lightgbm/sweeps/04mzwpfu</a>"
      ],
      "text/plain": [
       "<IPython.core.display.HTML object>"
      ]
     },
     "metadata": {},
     "output_type": "display_data"
    },
    {
     "data": {
      "text/html": [
       " View run at <a href='https://wandb.ai/dwolffram-karlsruhe-institute-of-technology/sari-lightgbm/runs/ji8n3951' target=\"_blank\">https://wandb.ai/dwolffram-karlsruhe-institute-of-technology/sari-lightgbm/runs/ji8n3951</a>"
      ],
      "text/plain": [
       "<IPython.core.display.HTML object>"
      ]
     },
     "metadata": {},
     "output_type": "display_data"
    },
    {
     "data": {
      "application/vnd.jupyter.widget-view+json": {
       "model_id": "d660dbcec23a457ea7dc36790f572bc6",
       "version_major": 2,
       "version_minor": 0
      },
      "text/plain": [
       "VBox(children=(Label(value='0.006 MB of 0.006 MB uploaded\\r'), FloatProgress(value=1.0, max=1.0)))"
      ]
     },
     "metadata": {},
     "output_type": "display_data"
    },
    {
     "data": {
      "text/html": [
       "<style>\n",
       "    table.wandb td:nth-child(1) { padding: 0 10px; text-align: left ; width: auto;} td:nth-child(2) {text-align: left ; width: 100%}\n",
       "    .wandb-row { display: flex; flex-direction: row; flex-wrap: wrap; justify-content: flex-start; width: 100% }\n",
       "    .wandb-col { display: flex; flex-direction: column; flex-basis: 100%; flex: 1; padding: 10px; }\n",
       "    </style>\n",
       "<div class=\"wandb-row\"><div class=\"wandb-col\"><h3>Run history:</h3><br/><table class=\"wandb\"><tr><td>WIS</td><td>▁</td></tr><tr><td>WIS_2022</td><td>▁</td></tr><tr><td>WIS_2022_1</td><td>▁</td></tr><tr><td>WIS_std</td><td>▁</td></tr><tr><td>WIS_std_2022</td><td>▁</td></tr></table><br/></div><div class=\"wandb-col\"><h3>Run summary:</h3><br/><table class=\"wandb\"><tr><td>WIS</td><td>469.95797</td></tr><tr><td>WIS_2022</td><td>469.95797</td></tr><tr><td>WIS_2022_1</td><td>469.95797</td></tr><tr><td>WIS_std</td><td>0</td></tr><tr><td>WIS_std_2022</td><td>0</td></tr></table><br/></div></div>"
      ],
      "text/plain": [
       "<IPython.core.display.HTML object>"
      ]
     },
     "metadata": {},
     "output_type": "display_data"
    },
    {
     "data": {
      "text/html": [
       " View run <strong style=\"color:#cdcd00\">distinctive-sweep-46</strong> at: <a href='https://wandb.ai/dwolffram-karlsruhe-institute-of-technology/sari-lightgbm/runs/ji8n3951' target=\"_blank\">https://wandb.ai/dwolffram-karlsruhe-institute-of-technology/sari-lightgbm/runs/ji8n3951</a><br/> View project at: <a href='https://wandb.ai/dwolffram-karlsruhe-institute-of-technology/sari-lightgbm' target=\"_blank\">https://wandb.ai/dwolffram-karlsruhe-institute-of-technology/sari-lightgbm</a><br/>Synced 5 W&B file(s), 0 media file(s), 0 artifact file(s) and 0 other file(s)"
      ],
      "text/plain": [
       "<IPython.core.display.HTML object>"
      ]
     },
     "metadata": {},
     "output_type": "display_data"
    },
    {
     "data": {
      "text/html": [
       "Find logs at: <code>./wandb/run-20241218_170619-ji8n3951/logs</code>"
      ],
      "text/plain": [
       "<IPython.core.display.HTML object>"
      ]
     },
     "metadata": {},
     "output_type": "display_data"
    },
    {
     "data": {
      "text/html": [
       "There is a new version of wandb available. Please upgrade to wandb==0.19.0"
      ],
      "text/plain": [
       "<IPython.core.display.HTML object>"
      ]
     },
     "metadata": {},
     "output_type": "display_data"
    },
    {
     "name": "stderr",
     "output_type": "stream",
     "text": [
      "\u001b[34m\u001b[1mwandb\u001b[0m: Agent Starting Run: na6ovcuh with config:\n",
      "\u001b[34m\u001b[1mwandb\u001b[0m: \tcolsample_bytree: 0.8\n",
      "\u001b[34m\u001b[1mwandb\u001b[0m: \tlags: 8\n",
      "\u001b[34m\u001b[1mwandb\u001b[0m: \tlags_future_covariates: [0, 1]\n",
      "\u001b[34m\u001b[1mwandb\u001b[0m: \tlags_past_covariates: {'agi-are-00-04': 8, 'agi-are-05-14': 8, 'agi-are-15-34': 8, 'agi-are-35-59': 8, 'agi-are-60+': 8, 'agi-are-DE': 8, 'default_lags': 1}\n",
      "\u001b[34m\u001b[1mwandb\u001b[0m: \tlearning_rate: 0.01\n",
      "\u001b[34m\u001b[1mwandb\u001b[0m: \tmax_bin: 1024\n",
      "\u001b[34m\u001b[1mwandb\u001b[0m: \tmax_depth: -1\n",
      "\u001b[34m\u001b[1mwandb\u001b[0m: \tmin_child_samples: 10\n",
      "\u001b[34m\u001b[1mwandb\u001b[0m: \tmin_split_gain: 0\n",
      "\u001b[34m\u001b[1mwandb\u001b[0m: \tmodel: lightgbm\n",
      "\u001b[34m\u001b[1mwandb\u001b[0m: \tmultiple_series: False\n",
      "\u001b[34m\u001b[1mwandb\u001b[0m: \tn_estimators: 500\n",
      "\u001b[34m\u001b[1mwandb\u001b[0m: \tnum_leaves: 31\n",
      "\u001b[34m\u001b[1mwandb\u001b[0m: \treg_alpha: 0\n",
      "\u001b[34m\u001b[1mwandb\u001b[0m: \treg_lambda: 1\n",
      "\u001b[34m\u001b[1mwandb\u001b[0m: \tsample_weight: no-covid\n",
      "\u001b[34m\u001b[1mwandb\u001b[0m: \tsubsample: 0.8\n",
      "\u001b[34m\u001b[1mwandb\u001b[0m: \tsubsample_freq: 1\n",
      "\u001b[34m\u001b[1mwandb\u001b[0m: \tuse_covariates: True\n",
      "\u001b[34m\u001b[1mwandb\u001b[0m: \tuse_encoders: True\n",
      "\u001b[34m\u001b[1mwandb\u001b[0m: \tuse_features: False\n",
      "\u001b[34m\u001b[1mwandb\u001b[0m: \tuse_static_covariates: False\n",
      "Failed to detect the name of this notebook, you can set it manually with the WANDB_NOTEBOOK_NAME environment variable to enable code saving.\n"
     ]
    },
    {
     "data": {
      "text/html": [
       "Tracking run with wandb version 0.18.0"
      ],
      "text/plain": [
       "<IPython.core.display.HTML object>"
      ]
     },
     "metadata": {},
     "output_type": "display_data"
    },
    {
     "data": {
      "text/html": [
       "Run data is saved locally in <code>/home/wolffram/SARI-ML/realtime/wandb/run-20241218_170715-na6ovcuh</code>"
      ],
      "text/plain": [
       "<IPython.core.display.HTML object>"
      ]
     },
     "metadata": {},
     "output_type": "display_data"
    },
    {
     "data": {
      "text/html": [
       "Syncing run <strong><a href='https://wandb.ai/dwolffram-karlsruhe-institute-of-technology/sari-lightgbm/runs/na6ovcuh' target=\"_blank\">floral-sweep-47</a></strong> to <a href='https://wandb.ai/dwolffram-karlsruhe-institute-of-technology/sari-lightgbm' target=\"_blank\">Weights & Biases</a> (<a href='https://wandb.me/run' target=\"_blank\">docs</a>)<br/>Sweep page: <a href='https://wandb.ai/dwolffram-karlsruhe-institute-of-technology/sari-lightgbm/sweeps/04mzwpfu' target=\"_blank\">https://wandb.ai/dwolffram-karlsruhe-institute-of-technology/sari-lightgbm/sweeps/04mzwpfu</a>"
      ],
      "text/plain": [
       "<IPython.core.display.HTML object>"
      ]
     },
     "metadata": {},
     "output_type": "display_data"
    },
    {
     "data": {
      "text/html": [
       " View project at <a href='https://wandb.ai/dwolffram-karlsruhe-institute-of-technology/sari-lightgbm' target=\"_blank\">https://wandb.ai/dwolffram-karlsruhe-institute-of-technology/sari-lightgbm</a>"
      ],
      "text/plain": [
       "<IPython.core.display.HTML object>"
      ]
     },
     "metadata": {},
     "output_type": "display_data"
    },
    {
     "data": {
      "text/html": [
       " View sweep at <a href='https://wandb.ai/dwolffram-karlsruhe-institute-of-technology/sari-lightgbm/sweeps/04mzwpfu' target=\"_blank\">https://wandb.ai/dwolffram-karlsruhe-institute-of-technology/sari-lightgbm/sweeps/04mzwpfu</a>"
      ],
      "text/plain": [
       "<IPython.core.display.HTML object>"
      ]
     },
     "metadata": {},
     "output_type": "display_data"
    },
    {
     "data": {
      "text/html": [
       " View run at <a href='https://wandb.ai/dwolffram-karlsruhe-institute-of-technology/sari-lightgbm/runs/na6ovcuh' target=\"_blank\">https://wandb.ai/dwolffram-karlsruhe-institute-of-technology/sari-lightgbm/runs/na6ovcuh</a>"
      ],
      "text/plain": [
       "<IPython.core.display.HTML object>"
      ]
     },
     "metadata": {},
     "output_type": "display_data"
    },
    {
     "data": {
      "application/vnd.jupyter.widget-view+json": {
       "model_id": "95a0dfd3acf54395aa9ec6c42559e912",
       "version_major": 2,
       "version_minor": 0
      },
      "text/plain": [
       "VBox(children=(Label(value='0.006 MB of 0.006 MB uploaded\\r'), FloatProgress(value=1.0, max=1.0)))"
      ]
     },
     "metadata": {},
     "output_type": "display_data"
    },
    {
     "data": {
      "text/html": [
       "<style>\n",
       "    table.wandb td:nth-child(1) { padding: 0 10px; text-align: left ; width: auto;} td:nth-child(2) {text-align: left ; width: 100%}\n",
       "    .wandb-row { display: flex; flex-direction: row; flex-wrap: wrap; justify-content: flex-start; width: 100% }\n",
       "    .wandb-col { display: flex; flex-direction: column; flex-basis: 100%; flex: 1; padding: 10px; }\n",
       "    </style>\n",
       "<div class=\"wandb-row\"><div class=\"wandb-col\"><h3>Run history:</h3><br/><table class=\"wandb\"><tr><td>WIS</td><td>▁</td></tr><tr><td>WIS_2022</td><td>▁</td></tr><tr><td>WIS_2022_1</td><td>▁</td></tr><tr><td>WIS_std</td><td>▁</td></tr><tr><td>WIS_std_2022</td><td>▁</td></tr></table><br/></div><div class=\"wandb-col\"><h3>Run summary:</h3><br/><table class=\"wandb\"><tr><td>WIS</td><td>460.62625</td></tr><tr><td>WIS_2022</td><td>460.62625</td></tr><tr><td>WIS_2022_1</td><td>460.62625</td></tr><tr><td>WIS_std</td><td>0</td></tr><tr><td>WIS_std_2022</td><td>0</td></tr></table><br/></div></div>"
      ],
      "text/plain": [
       "<IPython.core.display.HTML object>"
      ]
     },
     "metadata": {},
     "output_type": "display_data"
    },
    {
     "data": {
      "text/html": [
       " View run <strong style=\"color:#cdcd00\">floral-sweep-47</strong> at: <a href='https://wandb.ai/dwolffram-karlsruhe-institute-of-technology/sari-lightgbm/runs/na6ovcuh' target=\"_blank\">https://wandb.ai/dwolffram-karlsruhe-institute-of-technology/sari-lightgbm/runs/na6ovcuh</a><br/> View project at: <a href='https://wandb.ai/dwolffram-karlsruhe-institute-of-technology/sari-lightgbm' target=\"_blank\">https://wandb.ai/dwolffram-karlsruhe-institute-of-technology/sari-lightgbm</a><br/>Synced 5 W&B file(s), 0 media file(s), 0 artifact file(s) and 0 other file(s)"
      ],
      "text/plain": [
       "<IPython.core.display.HTML object>"
      ]
     },
     "metadata": {},
     "output_type": "display_data"
    },
    {
     "data": {
      "text/html": [
       "Find logs at: <code>./wandb/run-20241218_170715-na6ovcuh/logs</code>"
      ],
      "text/plain": [
       "<IPython.core.display.HTML object>"
      ]
     },
     "metadata": {},
     "output_type": "display_data"
    },
    {
     "data": {
      "text/html": [
       "There is a new version of wandb available. Please upgrade to wandb==0.19.0"
      ],
      "text/plain": [
       "<IPython.core.display.HTML object>"
      ]
     },
     "metadata": {},
     "output_type": "display_data"
    },
    {
     "name": "stderr",
     "output_type": "stream",
     "text": [
      "\u001b[34m\u001b[1mwandb\u001b[0m: Agent Starting Run: s3wamfhf with config:\n",
      "\u001b[34m\u001b[1mwandb\u001b[0m: \tcolsample_bytree: 0.8\n",
      "\u001b[34m\u001b[1mwandb\u001b[0m: \tlags: 8\n",
      "\u001b[34m\u001b[1mwandb\u001b[0m: \tlags_future_covariates: [0, 1]\n",
      "\u001b[34m\u001b[1mwandb\u001b[0m: \tlags_past_covariates: {'agi-are-00-04': 8, 'agi-are-05-14': 8, 'agi-are-15-34': 8, 'agi-are-35-59': 8, 'agi-are-60+': 8, 'agi-are-DE': 8, 'default_lags': 1}\n",
      "\u001b[34m\u001b[1mwandb\u001b[0m: \tlearning_rate: 0.01\n",
      "\u001b[34m\u001b[1mwandb\u001b[0m: \tmax_bin: 1024\n",
      "\u001b[34m\u001b[1mwandb\u001b[0m: \tmax_depth: -1\n",
      "\u001b[34m\u001b[1mwandb\u001b[0m: \tmin_child_samples: 10\n",
      "\u001b[34m\u001b[1mwandb\u001b[0m: \tmin_split_gain: 0\n",
      "\u001b[34m\u001b[1mwandb\u001b[0m: \tmodel: lightgbm\n",
      "\u001b[34m\u001b[1mwandb\u001b[0m: \tmultiple_series: False\n",
      "\u001b[34m\u001b[1mwandb\u001b[0m: \tn_estimators: 500\n",
      "\u001b[34m\u001b[1mwandb\u001b[0m: \tnum_leaves: 31\n",
      "\u001b[34m\u001b[1mwandb\u001b[0m: \treg_alpha: 0\n",
      "\u001b[34m\u001b[1mwandb\u001b[0m: \treg_lambda: 1\n",
      "\u001b[34m\u001b[1mwandb\u001b[0m: \tsample_weight: no-covid\n",
      "\u001b[34m\u001b[1mwandb\u001b[0m: \tsubsample: 0.8\n",
      "\u001b[34m\u001b[1mwandb\u001b[0m: \tsubsample_freq: 1\n",
      "\u001b[34m\u001b[1mwandb\u001b[0m: \tuse_covariates: False\n",
      "\u001b[34m\u001b[1mwandb\u001b[0m: \tuse_encoders: True\n",
      "\u001b[34m\u001b[1mwandb\u001b[0m: \tuse_features: False\n",
      "\u001b[34m\u001b[1mwandb\u001b[0m: \tuse_static_covariates: False\n",
      "Failed to detect the name of this notebook, you can set it manually with the WANDB_NOTEBOOK_NAME environment variable to enable code saving.\n"
     ]
    },
    {
     "data": {
      "text/html": [
       "Tracking run with wandb version 0.18.0"
      ],
      "text/plain": [
       "<IPython.core.display.HTML object>"
      ]
     },
     "metadata": {},
     "output_type": "display_data"
    },
    {
     "data": {
      "text/html": [
       "Run data is saved locally in <code>/home/wolffram/SARI-ML/realtime/wandb/run-20241218_170807-s3wamfhf</code>"
      ],
      "text/plain": [
       "<IPython.core.display.HTML object>"
      ]
     },
     "metadata": {},
     "output_type": "display_data"
    },
    {
     "data": {
      "text/html": [
       "Syncing run <strong><a href='https://wandb.ai/dwolffram-karlsruhe-institute-of-technology/sari-lightgbm/runs/s3wamfhf' target=\"_blank\">hardy-sweep-48</a></strong> to <a href='https://wandb.ai/dwolffram-karlsruhe-institute-of-technology/sari-lightgbm' target=\"_blank\">Weights & Biases</a> (<a href='https://wandb.me/run' target=\"_blank\">docs</a>)<br/>Sweep page: <a href='https://wandb.ai/dwolffram-karlsruhe-institute-of-technology/sari-lightgbm/sweeps/04mzwpfu' target=\"_blank\">https://wandb.ai/dwolffram-karlsruhe-institute-of-technology/sari-lightgbm/sweeps/04mzwpfu</a>"
      ],
      "text/plain": [
       "<IPython.core.display.HTML object>"
      ]
     },
     "metadata": {},
     "output_type": "display_data"
    },
    {
     "data": {
      "text/html": [
       " View project at <a href='https://wandb.ai/dwolffram-karlsruhe-institute-of-technology/sari-lightgbm' target=\"_blank\">https://wandb.ai/dwolffram-karlsruhe-institute-of-technology/sari-lightgbm</a>"
      ],
      "text/plain": [
       "<IPython.core.display.HTML object>"
      ]
     },
     "metadata": {},
     "output_type": "display_data"
    },
    {
     "data": {
      "text/html": [
       " View sweep at <a href='https://wandb.ai/dwolffram-karlsruhe-institute-of-technology/sari-lightgbm/sweeps/04mzwpfu' target=\"_blank\">https://wandb.ai/dwolffram-karlsruhe-institute-of-technology/sari-lightgbm/sweeps/04mzwpfu</a>"
      ],
      "text/plain": [
       "<IPython.core.display.HTML object>"
      ]
     },
     "metadata": {},
     "output_type": "display_data"
    },
    {
     "data": {
      "text/html": [
       " View run at <a href='https://wandb.ai/dwolffram-karlsruhe-institute-of-technology/sari-lightgbm/runs/s3wamfhf' target=\"_blank\">https://wandb.ai/dwolffram-karlsruhe-institute-of-technology/sari-lightgbm/runs/s3wamfhf</a>"
      ],
      "text/plain": [
       "<IPython.core.display.HTML object>"
      ]
     },
     "metadata": {},
     "output_type": "display_data"
    },
    {
     "data": {
      "application/vnd.jupyter.widget-view+json": {
       "model_id": "1741e9dbe9fb4ea4997369fe950b485a",
       "version_major": 2,
       "version_minor": 0
      },
      "text/plain": [
       "VBox(children=(Label(value='0.006 MB of 0.006 MB uploaded\\r'), FloatProgress(value=1.0, max=1.0)))"
      ]
     },
     "metadata": {},
     "output_type": "display_data"
    },
    {
     "data": {
      "text/html": [
       "<style>\n",
       "    table.wandb td:nth-child(1) { padding: 0 10px; text-align: left ; width: auto;} td:nth-child(2) {text-align: left ; width: 100%}\n",
       "    .wandb-row { display: flex; flex-direction: row; flex-wrap: wrap; justify-content: flex-start; width: 100% }\n",
       "    .wandb-col { display: flex; flex-direction: column; flex-basis: 100%; flex: 1; padding: 10px; }\n",
       "    </style>\n",
       "<div class=\"wandb-row\"><div class=\"wandb-col\"><h3>Run history:</h3><br/><table class=\"wandb\"><tr><td>WIS</td><td>▁</td></tr><tr><td>WIS_2022</td><td>▁</td></tr><tr><td>WIS_2022_1</td><td>▁</td></tr><tr><td>WIS_std</td><td>▁</td></tr><tr><td>WIS_std_2022</td><td>▁</td></tr></table><br/></div><div class=\"wandb-col\"><h3>Run summary:</h3><br/><table class=\"wandb\"><tr><td>WIS</td><td>517.42949</td></tr><tr><td>WIS_2022</td><td>517.42949</td></tr><tr><td>WIS_2022_1</td><td>517.42949</td></tr><tr><td>WIS_std</td><td>0</td></tr><tr><td>WIS_std_2022</td><td>0</td></tr></table><br/></div></div>"
      ],
      "text/plain": [
       "<IPython.core.display.HTML object>"
      ]
     },
     "metadata": {},
     "output_type": "display_data"
    },
    {
     "data": {
      "text/html": [
       " View run <strong style=\"color:#cdcd00\">hardy-sweep-48</strong> at: <a href='https://wandb.ai/dwolffram-karlsruhe-institute-of-technology/sari-lightgbm/runs/s3wamfhf' target=\"_blank\">https://wandb.ai/dwolffram-karlsruhe-institute-of-technology/sari-lightgbm/runs/s3wamfhf</a><br/> View project at: <a href='https://wandb.ai/dwolffram-karlsruhe-institute-of-technology/sari-lightgbm' target=\"_blank\">https://wandb.ai/dwolffram-karlsruhe-institute-of-technology/sari-lightgbm</a><br/>Synced 5 W&B file(s), 0 media file(s), 0 artifact file(s) and 0 other file(s)"
      ],
      "text/plain": [
       "<IPython.core.display.HTML object>"
      ]
     },
     "metadata": {},
     "output_type": "display_data"
    },
    {
     "data": {
      "text/html": [
       "Find logs at: <code>./wandb/run-20241218_170807-s3wamfhf/logs</code>"
      ],
      "text/plain": [
       "<IPython.core.display.HTML object>"
      ]
     },
     "metadata": {},
     "output_type": "display_data"
    },
    {
     "data": {
      "text/html": [
       "There is a new version of wandb available. Please upgrade to wandb==0.19.0"
      ],
      "text/plain": [
       "<IPython.core.display.HTML object>"
      ]
     },
     "metadata": {},
     "output_type": "display_data"
    },
    {
     "name": "stderr",
     "output_type": "stream",
     "text": [
      "\u001b[34m\u001b[1mwandb\u001b[0m: Sweep Agent: Waiting for job.\n",
      "\u001b[34m\u001b[1mwandb\u001b[0m: Job received.\n",
      "\u001b[34m\u001b[1mwandb\u001b[0m: Agent Starting Run: mt7utgl2 with config:\n",
      "\u001b[34m\u001b[1mwandb\u001b[0m: \tcolsample_bytree: 0.8\n",
      "\u001b[34m\u001b[1mwandb\u001b[0m: \tlags: 8\n",
      "\u001b[34m\u001b[1mwandb\u001b[0m: \tlags_future_covariates: [0, 1]\n",
      "\u001b[34m\u001b[1mwandb\u001b[0m: \tlags_past_covariates: {'agi-are-00-04': 8, 'agi-are-05-14': 8, 'agi-are-15-34': 8, 'agi-are-35-59': 8, 'agi-are-60+': 8, 'agi-are-DE': 8, 'default_lags': 1}\n",
      "\u001b[34m\u001b[1mwandb\u001b[0m: \tlearning_rate: 0.01\n",
      "\u001b[34m\u001b[1mwandb\u001b[0m: \tmax_bin: 1024\n",
      "\u001b[34m\u001b[1mwandb\u001b[0m: \tmax_depth: -1\n",
      "\u001b[34m\u001b[1mwandb\u001b[0m: \tmin_child_samples: 10\n",
      "\u001b[34m\u001b[1mwandb\u001b[0m: \tmin_split_gain: 0\n",
      "\u001b[34m\u001b[1mwandb\u001b[0m: \tmodel: lightgbm\n",
      "\u001b[34m\u001b[1mwandb\u001b[0m: \tmultiple_series: False\n",
      "\u001b[34m\u001b[1mwandb\u001b[0m: \tn_estimators: 500\n",
      "\u001b[34m\u001b[1mwandb\u001b[0m: \tnum_leaves: 31\n",
      "\u001b[34m\u001b[1mwandb\u001b[0m: \treg_alpha: 0.5\n",
      "\u001b[34m\u001b[1mwandb\u001b[0m: \treg_lambda: 0\n",
      "\u001b[34m\u001b[1mwandb\u001b[0m: \tsample_weight: linear\n",
      "\u001b[34m\u001b[1mwandb\u001b[0m: \tsubsample: 0.8\n",
      "\u001b[34m\u001b[1mwandb\u001b[0m: \tsubsample_freq: 1\n",
      "\u001b[34m\u001b[1mwandb\u001b[0m: \tuse_covariates: True\n",
      "\u001b[34m\u001b[1mwandb\u001b[0m: \tuse_encoders: True\n",
      "\u001b[34m\u001b[1mwandb\u001b[0m: \tuse_features: False\n",
      "\u001b[34m\u001b[1mwandb\u001b[0m: \tuse_static_covariates: False\n",
      "Failed to detect the name of this notebook, you can set it manually with the WANDB_NOTEBOOK_NAME environment variable to enable code saving.\n"
     ]
    },
    {
     "data": {
      "text/html": [
       "Tracking run with wandb version 0.18.0"
      ],
      "text/plain": [
       "<IPython.core.display.HTML object>"
      ]
     },
     "metadata": {},
     "output_type": "display_data"
    },
    {
     "data": {
      "text/html": [
       "Run data is saved locally in <code>/home/wolffram/SARI-ML/realtime/wandb/run-20241218_170903-mt7utgl2</code>"
      ],
      "text/plain": [
       "<IPython.core.display.HTML object>"
      ]
     },
     "metadata": {},
     "output_type": "display_data"
    },
    {
     "data": {
      "text/html": [
       "Syncing run <strong><a href='https://wandb.ai/dwolffram-karlsruhe-institute-of-technology/sari-lightgbm/runs/mt7utgl2' target=\"_blank\">fanciful-sweep-49</a></strong> to <a href='https://wandb.ai/dwolffram-karlsruhe-institute-of-technology/sari-lightgbm' target=\"_blank\">Weights & Biases</a> (<a href='https://wandb.me/run' target=\"_blank\">docs</a>)<br/>Sweep page: <a href='https://wandb.ai/dwolffram-karlsruhe-institute-of-technology/sari-lightgbm/sweeps/04mzwpfu' target=\"_blank\">https://wandb.ai/dwolffram-karlsruhe-institute-of-technology/sari-lightgbm/sweeps/04mzwpfu</a>"
      ],
      "text/plain": [
       "<IPython.core.display.HTML object>"
      ]
     },
     "metadata": {},
     "output_type": "display_data"
    },
    {
     "data": {
      "text/html": [
       " View project at <a href='https://wandb.ai/dwolffram-karlsruhe-institute-of-technology/sari-lightgbm' target=\"_blank\">https://wandb.ai/dwolffram-karlsruhe-institute-of-technology/sari-lightgbm</a>"
      ],
      "text/plain": [
       "<IPython.core.display.HTML object>"
      ]
     },
     "metadata": {},
     "output_type": "display_data"
    },
    {
     "data": {
      "text/html": [
       " View sweep at <a href='https://wandb.ai/dwolffram-karlsruhe-institute-of-technology/sari-lightgbm/sweeps/04mzwpfu' target=\"_blank\">https://wandb.ai/dwolffram-karlsruhe-institute-of-technology/sari-lightgbm/sweeps/04mzwpfu</a>"
      ],
      "text/plain": [
       "<IPython.core.display.HTML object>"
      ]
     },
     "metadata": {},
     "output_type": "display_data"
    },
    {
     "data": {
      "text/html": [
       " View run at <a href='https://wandb.ai/dwolffram-karlsruhe-institute-of-technology/sari-lightgbm/runs/mt7utgl2' target=\"_blank\">https://wandb.ai/dwolffram-karlsruhe-institute-of-technology/sari-lightgbm/runs/mt7utgl2</a>"
      ],
      "text/plain": [
       "<IPython.core.display.HTML object>"
      ]
     },
     "metadata": {},
     "output_type": "display_data"
    },
    {
     "data": {
      "application/vnd.jupyter.widget-view+json": {
       "model_id": "d1d32eb37f9744a2bc3215bda0b12ae3",
       "version_major": 2,
       "version_minor": 0
      },
      "text/plain": [
       "VBox(children=(Label(value='0.006 MB of 0.006 MB uploaded\\r'), FloatProgress(value=1.0, max=1.0)))"
      ]
     },
     "metadata": {},
     "output_type": "display_data"
    },
    {
     "data": {
      "text/html": [
       "<style>\n",
       "    table.wandb td:nth-child(1) { padding: 0 10px; text-align: left ; width: auto;} td:nth-child(2) {text-align: left ; width: 100%}\n",
       "    .wandb-row { display: flex; flex-direction: row; flex-wrap: wrap; justify-content: flex-start; width: 100% }\n",
       "    .wandb-col { display: flex; flex-direction: column; flex-basis: 100%; flex: 1; padding: 10px; }\n",
       "    </style>\n",
       "<div class=\"wandb-row\"><div class=\"wandb-col\"><h3>Run history:</h3><br/><table class=\"wandb\"><tr><td>WIS</td><td>▁</td></tr><tr><td>WIS_2022</td><td>▁</td></tr><tr><td>WIS_2022_1</td><td>▁</td></tr><tr><td>WIS_std</td><td>▁</td></tr><tr><td>WIS_std_2022</td><td>▁</td></tr></table><br/></div><div class=\"wandb-col\"><h3>Run summary:</h3><br/><table class=\"wandb\"><tr><td>WIS</td><td>455.44411</td></tr><tr><td>WIS_2022</td><td>455.44411</td></tr><tr><td>WIS_2022_1</td><td>455.44411</td></tr><tr><td>WIS_std</td><td>0</td></tr><tr><td>WIS_std_2022</td><td>0</td></tr></table><br/></div></div>"
      ],
      "text/plain": [
       "<IPython.core.display.HTML object>"
      ]
     },
     "metadata": {},
     "output_type": "display_data"
    },
    {
     "data": {
      "text/html": [
       " View run <strong style=\"color:#cdcd00\">fanciful-sweep-49</strong> at: <a href='https://wandb.ai/dwolffram-karlsruhe-institute-of-technology/sari-lightgbm/runs/mt7utgl2' target=\"_blank\">https://wandb.ai/dwolffram-karlsruhe-institute-of-technology/sari-lightgbm/runs/mt7utgl2</a><br/> View project at: <a href='https://wandb.ai/dwolffram-karlsruhe-institute-of-technology/sari-lightgbm' target=\"_blank\">https://wandb.ai/dwolffram-karlsruhe-institute-of-technology/sari-lightgbm</a><br/>Synced 5 W&B file(s), 0 media file(s), 0 artifact file(s) and 0 other file(s)"
      ],
      "text/plain": [
       "<IPython.core.display.HTML object>"
      ]
     },
     "metadata": {},
     "output_type": "display_data"
    },
    {
     "data": {
      "text/html": [
       "Find logs at: <code>./wandb/run-20241218_170903-mt7utgl2/logs</code>"
      ],
      "text/plain": [
       "<IPython.core.display.HTML object>"
      ]
     },
     "metadata": {},
     "output_type": "display_data"
    },
    {
     "data": {
      "text/html": [
       "There is a new version of wandb available. Please upgrade to wandb==0.19.0"
      ],
      "text/plain": [
       "<IPython.core.display.HTML object>"
      ]
     },
     "metadata": {},
     "output_type": "display_data"
    },
    {
     "name": "stderr",
     "output_type": "stream",
     "text": [
      "\u001b[34m\u001b[1mwandb\u001b[0m: Agent Starting Run: u8pdap2c with config:\n",
      "\u001b[34m\u001b[1mwandb\u001b[0m: \tcolsample_bytree: 0.8\n",
      "\u001b[34m\u001b[1mwandb\u001b[0m: \tlags: 8\n",
      "\u001b[34m\u001b[1mwandb\u001b[0m: \tlags_future_covariates: [0, 1]\n",
      "\u001b[34m\u001b[1mwandb\u001b[0m: \tlags_past_covariates: {'agi-are-00-04': 8, 'agi-are-05-14': 8, 'agi-are-15-34': 8, 'agi-are-35-59': 8, 'agi-are-60+': 8, 'agi-are-DE': 8, 'default_lags': 1}\n",
      "\u001b[34m\u001b[1mwandb\u001b[0m: \tlearning_rate: 0.01\n",
      "\u001b[34m\u001b[1mwandb\u001b[0m: \tmax_bin: 1024\n",
      "\u001b[34m\u001b[1mwandb\u001b[0m: \tmax_depth: -1\n",
      "\u001b[34m\u001b[1mwandb\u001b[0m: \tmin_child_samples: 10\n",
      "\u001b[34m\u001b[1mwandb\u001b[0m: \tmin_split_gain: 0\n",
      "\u001b[34m\u001b[1mwandb\u001b[0m: \tmodel: lightgbm\n",
      "\u001b[34m\u001b[1mwandb\u001b[0m: \tmultiple_series: False\n",
      "\u001b[34m\u001b[1mwandb\u001b[0m: \tn_estimators: 500\n",
      "\u001b[34m\u001b[1mwandb\u001b[0m: \tnum_leaves: 31\n",
      "\u001b[34m\u001b[1mwandb\u001b[0m: \treg_alpha: 0.5\n",
      "\u001b[34m\u001b[1mwandb\u001b[0m: \treg_lambda: 0\n",
      "\u001b[34m\u001b[1mwandb\u001b[0m: \tsample_weight: linear\n",
      "\u001b[34m\u001b[1mwandb\u001b[0m: \tsubsample: 0.8\n",
      "\u001b[34m\u001b[1mwandb\u001b[0m: \tsubsample_freq: 1\n",
      "\u001b[34m\u001b[1mwandb\u001b[0m: \tuse_covariates: False\n",
      "\u001b[34m\u001b[1mwandb\u001b[0m: \tuse_encoders: True\n",
      "\u001b[34m\u001b[1mwandb\u001b[0m: \tuse_features: False\n",
      "\u001b[34m\u001b[1mwandb\u001b[0m: \tuse_static_covariates: False\n",
      "Failed to detect the name of this notebook, you can set it manually with the WANDB_NOTEBOOK_NAME environment variable to enable code saving.\n"
     ]
    },
    {
     "data": {
      "text/html": [
       "Tracking run with wandb version 0.18.0"
      ],
      "text/plain": [
       "<IPython.core.display.HTML object>"
      ]
     },
     "metadata": {},
     "output_type": "display_data"
    },
    {
     "data": {
      "text/html": [
       "Run data is saved locally in <code>/home/wolffram/SARI-ML/realtime/wandb/run-20241218_171000-u8pdap2c</code>"
      ],
      "text/plain": [
       "<IPython.core.display.HTML object>"
      ]
     },
     "metadata": {},
     "output_type": "display_data"
    },
    {
     "data": {
      "text/html": [
       "Syncing run <strong><a href='https://wandb.ai/dwolffram-karlsruhe-institute-of-technology/sari-lightgbm/runs/u8pdap2c' target=\"_blank\">exalted-sweep-50</a></strong> to <a href='https://wandb.ai/dwolffram-karlsruhe-institute-of-technology/sari-lightgbm' target=\"_blank\">Weights & Biases</a> (<a href='https://wandb.me/run' target=\"_blank\">docs</a>)<br/>Sweep page: <a href='https://wandb.ai/dwolffram-karlsruhe-institute-of-technology/sari-lightgbm/sweeps/04mzwpfu' target=\"_blank\">https://wandb.ai/dwolffram-karlsruhe-institute-of-technology/sari-lightgbm/sweeps/04mzwpfu</a>"
      ],
      "text/plain": [
       "<IPython.core.display.HTML object>"
      ]
     },
     "metadata": {},
     "output_type": "display_data"
    },
    {
     "data": {
      "text/html": [
       " View project at <a href='https://wandb.ai/dwolffram-karlsruhe-institute-of-technology/sari-lightgbm' target=\"_blank\">https://wandb.ai/dwolffram-karlsruhe-institute-of-technology/sari-lightgbm</a>"
      ],
      "text/plain": [
       "<IPython.core.display.HTML object>"
      ]
     },
     "metadata": {},
     "output_type": "display_data"
    },
    {
     "data": {
      "text/html": [
       " View sweep at <a href='https://wandb.ai/dwolffram-karlsruhe-institute-of-technology/sari-lightgbm/sweeps/04mzwpfu' target=\"_blank\">https://wandb.ai/dwolffram-karlsruhe-institute-of-technology/sari-lightgbm/sweeps/04mzwpfu</a>"
      ],
      "text/plain": [
       "<IPython.core.display.HTML object>"
      ]
     },
     "metadata": {},
     "output_type": "display_data"
    },
    {
     "data": {
      "text/html": [
       " View run at <a href='https://wandb.ai/dwolffram-karlsruhe-institute-of-technology/sari-lightgbm/runs/u8pdap2c' target=\"_blank\">https://wandb.ai/dwolffram-karlsruhe-institute-of-technology/sari-lightgbm/runs/u8pdap2c</a>"
      ],
      "text/plain": [
       "<IPython.core.display.HTML object>"
      ]
     },
     "metadata": {},
     "output_type": "display_data"
    },
    {
     "data": {
      "application/vnd.jupyter.widget-view+json": {
       "model_id": "9c682bd2d73942c5b29ffc11644ffd6b",
       "version_major": 2,
       "version_minor": 0
      },
      "text/plain": [
       "VBox(children=(Label(value='0.006 MB of 0.006 MB uploaded\\r'), FloatProgress(value=1.0, max=1.0)))"
      ]
     },
     "metadata": {},
     "output_type": "display_data"
    },
    {
     "data": {
      "text/html": [
       "<style>\n",
       "    table.wandb td:nth-child(1) { padding: 0 10px; text-align: left ; width: auto;} td:nth-child(2) {text-align: left ; width: 100%}\n",
       "    .wandb-row { display: flex; flex-direction: row; flex-wrap: wrap; justify-content: flex-start; width: 100% }\n",
       "    .wandb-col { display: flex; flex-direction: column; flex-basis: 100%; flex: 1; padding: 10px; }\n",
       "    </style>\n",
       "<div class=\"wandb-row\"><div class=\"wandb-col\"><h3>Run history:</h3><br/><table class=\"wandb\"><tr><td>WIS</td><td>▁</td></tr><tr><td>WIS_2022</td><td>▁</td></tr><tr><td>WIS_2022_1</td><td>▁</td></tr><tr><td>WIS_std</td><td>▁</td></tr><tr><td>WIS_std_2022</td><td>▁</td></tr></table><br/></div><div class=\"wandb-col\"><h3>Run summary:</h3><br/><table class=\"wandb\"><tr><td>WIS</td><td>469.66366</td></tr><tr><td>WIS_2022</td><td>469.66366</td></tr><tr><td>WIS_2022_1</td><td>469.66366</td></tr><tr><td>WIS_std</td><td>0</td></tr><tr><td>WIS_std_2022</td><td>0</td></tr></table><br/></div></div>"
      ],
      "text/plain": [
       "<IPython.core.display.HTML object>"
      ]
     },
     "metadata": {},
     "output_type": "display_data"
    },
    {
     "data": {
      "text/html": [
       " View run <strong style=\"color:#cdcd00\">exalted-sweep-50</strong> at: <a href='https://wandb.ai/dwolffram-karlsruhe-institute-of-technology/sari-lightgbm/runs/u8pdap2c' target=\"_blank\">https://wandb.ai/dwolffram-karlsruhe-institute-of-technology/sari-lightgbm/runs/u8pdap2c</a><br/> View project at: <a href='https://wandb.ai/dwolffram-karlsruhe-institute-of-technology/sari-lightgbm' target=\"_blank\">https://wandb.ai/dwolffram-karlsruhe-institute-of-technology/sari-lightgbm</a><br/>Synced 5 W&B file(s), 0 media file(s), 0 artifact file(s) and 0 other file(s)"
      ],
      "text/plain": [
       "<IPython.core.display.HTML object>"
      ]
     },
     "metadata": {},
     "output_type": "display_data"
    },
    {
     "data": {
      "text/html": [
       "Find logs at: <code>./wandb/run-20241218_171000-u8pdap2c/logs</code>"
      ],
      "text/plain": [
       "<IPython.core.display.HTML object>"
      ]
     },
     "metadata": {},
     "output_type": "display_data"
    },
    {
     "data": {
      "text/html": [
       "There is a new version of wandb available. Please upgrade to wandb==0.19.0"
      ],
      "text/plain": [
       "<IPython.core.display.HTML object>"
      ]
     },
     "metadata": {},
     "output_type": "display_data"
    },
    {
     "name": "stderr",
     "output_type": "stream",
     "text": [
      "\u001b[34m\u001b[1mwandb\u001b[0m: Agent Starting Run: mjur4ll4 with config:\n",
      "\u001b[34m\u001b[1mwandb\u001b[0m: \tcolsample_bytree: 0.8\n",
      "\u001b[34m\u001b[1mwandb\u001b[0m: \tlags: 8\n",
      "\u001b[34m\u001b[1mwandb\u001b[0m: \tlags_future_covariates: [0, 1]\n",
      "\u001b[34m\u001b[1mwandb\u001b[0m: \tlags_past_covariates: {'agi-are-00-04': 8, 'agi-are-05-14': 8, 'agi-are-15-34': 8, 'agi-are-35-59': 8, 'agi-are-60+': 8, 'agi-are-DE': 8, 'default_lags': 1}\n",
      "\u001b[34m\u001b[1mwandb\u001b[0m: \tlearning_rate: 0.01\n",
      "\u001b[34m\u001b[1mwandb\u001b[0m: \tmax_bin: 1024\n",
      "\u001b[34m\u001b[1mwandb\u001b[0m: \tmax_depth: -1\n",
      "\u001b[34m\u001b[1mwandb\u001b[0m: \tmin_child_samples: 10\n",
      "\u001b[34m\u001b[1mwandb\u001b[0m: \tmin_split_gain: 0\n",
      "\u001b[34m\u001b[1mwandb\u001b[0m: \tmodel: lightgbm\n",
      "\u001b[34m\u001b[1mwandb\u001b[0m: \tmultiple_series: False\n",
      "\u001b[34m\u001b[1mwandb\u001b[0m: \tn_estimators: 500\n",
      "\u001b[34m\u001b[1mwandb\u001b[0m: \tnum_leaves: 31\n",
      "\u001b[34m\u001b[1mwandb\u001b[0m: \treg_alpha: 0.5\n",
      "\u001b[34m\u001b[1mwandb\u001b[0m: \treg_lambda: 0\n",
      "\u001b[34m\u001b[1mwandb\u001b[0m: \tsample_weight: no-covid\n",
      "\u001b[34m\u001b[1mwandb\u001b[0m: \tsubsample: 0.8\n",
      "\u001b[34m\u001b[1mwandb\u001b[0m: \tsubsample_freq: 1\n",
      "\u001b[34m\u001b[1mwandb\u001b[0m: \tuse_covariates: True\n",
      "\u001b[34m\u001b[1mwandb\u001b[0m: \tuse_encoders: True\n",
      "\u001b[34m\u001b[1mwandb\u001b[0m: \tuse_features: False\n",
      "\u001b[34m\u001b[1mwandb\u001b[0m: \tuse_static_covariates: False\n",
      "Failed to detect the name of this notebook, you can set it manually with the WANDB_NOTEBOOK_NAME environment variable to enable code saving.\n"
     ]
    },
    {
     "data": {
      "text/html": [
       "Tracking run with wandb version 0.18.0"
      ],
      "text/plain": [
       "<IPython.core.display.HTML object>"
      ]
     },
     "metadata": {},
     "output_type": "display_data"
    },
    {
     "data": {
      "text/html": [
       "Run data is saved locally in <code>/home/wolffram/SARI-ML/realtime/wandb/run-20241218_171052-mjur4ll4</code>"
      ],
      "text/plain": [
       "<IPython.core.display.HTML object>"
      ]
     },
     "metadata": {},
     "output_type": "display_data"
    },
    {
     "data": {
      "text/html": [
       "Syncing run <strong><a href='https://wandb.ai/dwolffram-karlsruhe-institute-of-technology/sari-lightgbm/runs/mjur4ll4' target=\"_blank\">expert-sweep-51</a></strong> to <a href='https://wandb.ai/dwolffram-karlsruhe-institute-of-technology/sari-lightgbm' target=\"_blank\">Weights & Biases</a> (<a href='https://wandb.me/run' target=\"_blank\">docs</a>)<br/>Sweep page: <a href='https://wandb.ai/dwolffram-karlsruhe-institute-of-technology/sari-lightgbm/sweeps/04mzwpfu' target=\"_blank\">https://wandb.ai/dwolffram-karlsruhe-institute-of-technology/sari-lightgbm/sweeps/04mzwpfu</a>"
      ],
      "text/plain": [
       "<IPython.core.display.HTML object>"
      ]
     },
     "metadata": {},
     "output_type": "display_data"
    },
    {
     "data": {
      "text/html": [
       " View project at <a href='https://wandb.ai/dwolffram-karlsruhe-institute-of-technology/sari-lightgbm' target=\"_blank\">https://wandb.ai/dwolffram-karlsruhe-institute-of-technology/sari-lightgbm</a>"
      ],
      "text/plain": [
       "<IPython.core.display.HTML object>"
      ]
     },
     "metadata": {},
     "output_type": "display_data"
    },
    {
     "data": {
      "text/html": [
       " View sweep at <a href='https://wandb.ai/dwolffram-karlsruhe-institute-of-technology/sari-lightgbm/sweeps/04mzwpfu' target=\"_blank\">https://wandb.ai/dwolffram-karlsruhe-institute-of-technology/sari-lightgbm/sweeps/04mzwpfu</a>"
      ],
      "text/plain": [
       "<IPython.core.display.HTML object>"
      ]
     },
     "metadata": {},
     "output_type": "display_data"
    },
    {
     "data": {
      "text/html": [
       " View run at <a href='https://wandb.ai/dwolffram-karlsruhe-institute-of-technology/sari-lightgbm/runs/mjur4ll4' target=\"_blank\">https://wandb.ai/dwolffram-karlsruhe-institute-of-technology/sari-lightgbm/runs/mjur4ll4</a>"
      ],
      "text/plain": [
       "<IPython.core.display.HTML object>"
      ]
     },
     "metadata": {},
     "output_type": "display_data"
    },
    {
     "data": {
      "application/vnd.jupyter.widget-view+json": {
       "model_id": "e974c2031eaf4bd4925917ecd460571a",
       "version_major": 2,
       "version_minor": 0
      },
      "text/plain": [
       "VBox(children=(Label(value='0.006 MB of 0.006 MB uploaded\\r'), FloatProgress(value=1.0, max=1.0)))"
      ]
     },
     "metadata": {},
     "output_type": "display_data"
    },
    {
     "data": {
      "text/html": [
       "<style>\n",
       "    table.wandb td:nth-child(1) { padding: 0 10px; text-align: left ; width: auto;} td:nth-child(2) {text-align: left ; width: 100%}\n",
       "    .wandb-row { display: flex; flex-direction: row; flex-wrap: wrap; justify-content: flex-start; width: 100% }\n",
       "    .wandb-col { display: flex; flex-direction: column; flex-basis: 100%; flex: 1; padding: 10px; }\n",
       "    </style>\n",
       "<div class=\"wandb-row\"><div class=\"wandb-col\"><h3>Run history:</h3><br/><table class=\"wandb\"><tr><td>WIS</td><td>▁</td></tr><tr><td>WIS_2022</td><td>▁</td></tr><tr><td>WIS_2022_1</td><td>▁</td></tr><tr><td>WIS_std</td><td>▁</td></tr><tr><td>WIS_std_2022</td><td>▁</td></tr></table><br/></div><div class=\"wandb-col\"><h3>Run summary:</h3><br/><table class=\"wandb\"><tr><td>WIS</td><td>465.38951</td></tr><tr><td>WIS_2022</td><td>465.38951</td></tr><tr><td>WIS_2022_1</td><td>465.38951</td></tr><tr><td>WIS_std</td><td>0</td></tr><tr><td>WIS_std_2022</td><td>0</td></tr></table><br/></div></div>"
      ],
      "text/plain": [
       "<IPython.core.display.HTML object>"
      ]
     },
     "metadata": {},
     "output_type": "display_data"
    },
    {
     "data": {
      "text/html": [
       " View run <strong style=\"color:#cdcd00\">expert-sweep-51</strong> at: <a href='https://wandb.ai/dwolffram-karlsruhe-institute-of-technology/sari-lightgbm/runs/mjur4ll4' target=\"_blank\">https://wandb.ai/dwolffram-karlsruhe-institute-of-technology/sari-lightgbm/runs/mjur4ll4</a><br/> View project at: <a href='https://wandb.ai/dwolffram-karlsruhe-institute-of-technology/sari-lightgbm' target=\"_blank\">https://wandb.ai/dwolffram-karlsruhe-institute-of-technology/sari-lightgbm</a><br/>Synced 5 W&B file(s), 0 media file(s), 0 artifact file(s) and 0 other file(s)"
      ],
      "text/plain": [
       "<IPython.core.display.HTML object>"
      ]
     },
     "metadata": {},
     "output_type": "display_data"
    },
    {
     "data": {
      "text/html": [
       "Find logs at: <code>./wandb/run-20241218_171052-mjur4ll4/logs</code>"
      ],
      "text/plain": [
       "<IPython.core.display.HTML object>"
      ]
     },
     "metadata": {},
     "output_type": "display_data"
    },
    {
     "data": {
      "text/html": [
       "There is a new version of wandb available. Please upgrade to wandb==0.19.0"
      ],
      "text/plain": [
       "<IPython.core.display.HTML object>"
      ]
     },
     "metadata": {},
     "output_type": "display_data"
    },
    {
     "name": "stderr",
     "output_type": "stream",
     "text": [
      "\u001b[34m\u001b[1mwandb\u001b[0m: Agent Starting Run: uwoibf9z with config:\n",
      "\u001b[34m\u001b[1mwandb\u001b[0m: \tcolsample_bytree: 0.8\n",
      "\u001b[34m\u001b[1mwandb\u001b[0m: \tlags: 8\n",
      "\u001b[34m\u001b[1mwandb\u001b[0m: \tlags_future_covariates: [0, 1]\n",
      "\u001b[34m\u001b[1mwandb\u001b[0m: \tlags_past_covariates: {'agi-are-00-04': 8, 'agi-are-05-14': 8, 'agi-are-15-34': 8, 'agi-are-35-59': 8, 'agi-are-60+': 8, 'agi-are-DE': 8, 'default_lags': 1}\n",
      "\u001b[34m\u001b[1mwandb\u001b[0m: \tlearning_rate: 0.01\n",
      "\u001b[34m\u001b[1mwandb\u001b[0m: \tmax_bin: 1024\n",
      "\u001b[34m\u001b[1mwandb\u001b[0m: \tmax_depth: -1\n",
      "\u001b[34m\u001b[1mwandb\u001b[0m: \tmin_child_samples: 10\n",
      "\u001b[34m\u001b[1mwandb\u001b[0m: \tmin_split_gain: 0\n",
      "\u001b[34m\u001b[1mwandb\u001b[0m: \tmodel: lightgbm\n",
      "\u001b[34m\u001b[1mwandb\u001b[0m: \tmultiple_series: False\n",
      "\u001b[34m\u001b[1mwandb\u001b[0m: \tn_estimators: 500\n",
      "\u001b[34m\u001b[1mwandb\u001b[0m: \tnum_leaves: 31\n",
      "\u001b[34m\u001b[1mwandb\u001b[0m: \treg_alpha: 0.5\n",
      "\u001b[34m\u001b[1mwandb\u001b[0m: \treg_lambda: 0\n",
      "\u001b[34m\u001b[1mwandb\u001b[0m: \tsample_weight: no-covid\n",
      "\u001b[34m\u001b[1mwandb\u001b[0m: \tsubsample: 0.8\n",
      "\u001b[34m\u001b[1mwandb\u001b[0m: \tsubsample_freq: 1\n",
      "\u001b[34m\u001b[1mwandb\u001b[0m: \tuse_covariates: False\n",
      "\u001b[34m\u001b[1mwandb\u001b[0m: \tuse_encoders: True\n",
      "\u001b[34m\u001b[1mwandb\u001b[0m: \tuse_features: False\n",
      "\u001b[34m\u001b[1mwandb\u001b[0m: \tuse_static_covariates: False\n",
      "Failed to detect the name of this notebook, you can set it manually with the WANDB_NOTEBOOK_NAME environment variable to enable code saving.\n"
     ]
    },
    {
     "data": {
      "text/html": [
       "Tracking run with wandb version 0.18.0"
      ],
      "text/plain": [
       "<IPython.core.display.HTML object>"
      ]
     },
     "metadata": {},
     "output_type": "display_data"
    },
    {
     "data": {
      "text/html": [
       "Run data is saved locally in <code>/home/wolffram/SARI-ML/realtime/wandb/run-20241218_171139-uwoibf9z</code>"
      ],
      "text/plain": [
       "<IPython.core.display.HTML object>"
      ]
     },
     "metadata": {},
     "output_type": "display_data"
    },
    {
     "data": {
      "text/html": [
       "Syncing run <strong><a href='https://wandb.ai/dwolffram-karlsruhe-institute-of-technology/sari-lightgbm/runs/uwoibf9z' target=\"_blank\">happy-sweep-52</a></strong> to <a href='https://wandb.ai/dwolffram-karlsruhe-institute-of-technology/sari-lightgbm' target=\"_blank\">Weights & Biases</a> (<a href='https://wandb.me/run' target=\"_blank\">docs</a>)<br/>Sweep page: <a href='https://wandb.ai/dwolffram-karlsruhe-institute-of-technology/sari-lightgbm/sweeps/04mzwpfu' target=\"_blank\">https://wandb.ai/dwolffram-karlsruhe-institute-of-technology/sari-lightgbm/sweeps/04mzwpfu</a>"
      ],
      "text/plain": [
       "<IPython.core.display.HTML object>"
      ]
     },
     "metadata": {},
     "output_type": "display_data"
    },
    {
     "data": {
      "text/html": [
       " View project at <a href='https://wandb.ai/dwolffram-karlsruhe-institute-of-technology/sari-lightgbm' target=\"_blank\">https://wandb.ai/dwolffram-karlsruhe-institute-of-technology/sari-lightgbm</a>"
      ],
      "text/plain": [
       "<IPython.core.display.HTML object>"
      ]
     },
     "metadata": {},
     "output_type": "display_data"
    },
    {
     "data": {
      "text/html": [
       " View sweep at <a href='https://wandb.ai/dwolffram-karlsruhe-institute-of-technology/sari-lightgbm/sweeps/04mzwpfu' target=\"_blank\">https://wandb.ai/dwolffram-karlsruhe-institute-of-technology/sari-lightgbm/sweeps/04mzwpfu</a>"
      ],
      "text/plain": [
       "<IPython.core.display.HTML object>"
      ]
     },
     "metadata": {},
     "output_type": "display_data"
    },
    {
     "data": {
      "text/html": [
       " View run at <a href='https://wandb.ai/dwolffram-karlsruhe-institute-of-technology/sari-lightgbm/runs/uwoibf9z' target=\"_blank\">https://wandb.ai/dwolffram-karlsruhe-institute-of-technology/sari-lightgbm/runs/uwoibf9z</a>"
      ],
      "text/plain": [
       "<IPython.core.display.HTML object>"
      ]
     },
     "metadata": {},
     "output_type": "display_data"
    },
    {
     "data": {
      "application/vnd.jupyter.widget-view+json": {
       "model_id": "c4532761913049ee9b9a8e3b3b43618f",
       "version_major": 2,
       "version_minor": 0
      },
      "text/plain": [
       "VBox(children=(Label(value='0.006 MB of 0.006 MB uploaded\\r'), FloatProgress(value=1.0, max=1.0)))"
      ]
     },
     "metadata": {},
     "output_type": "display_data"
    },
    {
     "data": {
      "text/html": [
       "<style>\n",
       "    table.wandb td:nth-child(1) { padding: 0 10px; text-align: left ; width: auto;} td:nth-child(2) {text-align: left ; width: 100%}\n",
       "    .wandb-row { display: flex; flex-direction: row; flex-wrap: wrap; justify-content: flex-start; width: 100% }\n",
       "    .wandb-col { display: flex; flex-direction: column; flex-basis: 100%; flex: 1; padding: 10px; }\n",
       "    </style>\n",
       "<div class=\"wandb-row\"><div class=\"wandb-col\"><h3>Run history:</h3><br/><table class=\"wandb\"><tr><td>WIS</td><td>▁</td></tr><tr><td>WIS_2022</td><td>▁</td></tr><tr><td>WIS_2022_1</td><td>▁</td></tr><tr><td>WIS_std</td><td>▁</td></tr><tr><td>WIS_std_2022</td><td>▁</td></tr></table><br/></div><div class=\"wandb-col\"><h3>Run summary:</h3><br/><table class=\"wandb\"><tr><td>WIS</td><td>515.78655</td></tr><tr><td>WIS_2022</td><td>515.78655</td></tr><tr><td>WIS_2022_1</td><td>515.78655</td></tr><tr><td>WIS_std</td><td>0</td></tr><tr><td>WIS_std_2022</td><td>0</td></tr></table><br/></div></div>"
      ],
      "text/plain": [
       "<IPython.core.display.HTML object>"
      ]
     },
     "metadata": {},
     "output_type": "display_data"
    },
    {
     "data": {
      "text/html": [
       " View run <strong style=\"color:#cdcd00\">happy-sweep-52</strong> at: <a href='https://wandb.ai/dwolffram-karlsruhe-institute-of-technology/sari-lightgbm/runs/uwoibf9z' target=\"_blank\">https://wandb.ai/dwolffram-karlsruhe-institute-of-technology/sari-lightgbm/runs/uwoibf9z</a><br/> View project at: <a href='https://wandb.ai/dwolffram-karlsruhe-institute-of-technology/sari-lightgbm' target=\"_blank\">https://wandb.ai/dwolffram-karlsruhe-institute-of-technology/sari-lightgbm</a><br/>Synced 5 W&B file(s), 0 media file(s), 0 artifact file(s) and 0 other file(s)"
      ],
      "text/plain": [
       "<IPython.core.display.HTML object>"
      ]
     },
     "metadata": {},
     "output_type": "display_data"
    },
    {
     "data": {
      "text/html": [
       "Find logs at: <code>./wandb/run-20241218_171139-uwoibf9z/logs</code>"
      ],
      "text/plain": [
       "<IPython.core.display.HTML object>"
      ]
     },
     "metadata": {},
     "output_type": "display_data"
    },
    {
     "data": {
      "text/html": [
       "There is a new version of wandb available. Please upgrade to wandb==0.19.0"
      ],
      "text/plain": [
       "<IPython.core.display.HTML object>"
      ]
     },
     "metadata": {},
     "output_type": "display_data"
    },
    {
     "name": "stderr",
     "output_type": "stream",
     "text": [
      "\u001b[34m\u001b[1mwandb\u001b[0m: Agent Starting Run: zmq88gi9 with config:\n",
      "\u001b[34m\u001b[1mwandb\u001b[0m: \tcolsample_bytree: 0.8\n",
      "\u001b[34m\u001b[1mwandb\u001b[0m: \tlags: 8\n",
      "\u001b[34m\u001b[1mwandb\u001b[0m: \tlags_future_covariates: [0, 1]\n",
      "\u001b[34m\u001b[1mwandb\u001b[0m: \tlags_past_covariates: {'agi-are-00-04': 8, 'agi-are-05-14': 8, 'agi-are-15-34': 8, 'agi-are-35-59': 8, 'agi-are-60+': 8, 'agi-are-DE': 8, 'default_lags': 1}\n",
      "\u001b[34m\u001b[1mwandb\u001b[0m: \tlearning_rate: 0.01\n",
      "\u001b[34m\u001b[1mwandb\u001b[0m: \tmax_bin: 1024\n",
      "\u001b[34m\u001b[1mwandb\u001b[0m: \tmax_depth: -1\n",
      "\u001b[34m\u001b[1mwandb\u001b[0m: \tmin_child_samples: 10\n",
      "\u001b[34m\u001b[1mwandb\u001b[0m: \tmin_split_gain: 0\n",
      "\u001b[34m\u001b[1mwandb\u001b[0m: \tmodel: lightgbm\n",
      "\u001b[34m\u001b[1mwandb\u001b[0m: \tmultiple_series: False\n",
      "\u001b[34m\u001b[1mwandb\u001b[0m: \tn_estimators: 500\n",
      "\u001b[34m\u001b[1mwandb\u001b[0m: \tnum_leaves: 31\n",
      "\u001b[34m\u001b[1mwandb\u001b[0m: \treg_alpha: 0.5\n",
      "\u001b[34m\u001b[1mwandb\u001b[0m: \treg_lambda: 0.5\n",
      "\u001b[34m\u001b[1mwandb\u001b[0m: \tsample_weight: linear\n",
      "\u001b[34m\u001b[1mwandb\u001b[0m: \tsubsample: 0.8\n",
      "\u001b[34m\u001b[1mwandb\u001b[0m: \tsubsample_freq: 1\n",
      "\u001b[34m\u001b[1mwandb\u001b[0m: \tuse_covariates: True\n",
      "\u001b[34m\u001b[1mwandb\u001b[0m: \tuse_encoders: True\n",
      "\u001b[34m\u001b[1mwandb\u001b[0m: \tuse_features: False\n",
      "\u001b[34m\u001b[1mwandb\u001b[0m: \tuse_static_covariates: False\n",
      "Failed to detect the name of this notebook, you can set it manually with the WANDB_NOTEBOOK_NAME environment variable to enable code saving.\n"
     ]
    },
    {
     "data": {
      "text/html": [
       "Tracking run with wandb version 0.18.0"
      ],
      "text/plain": [
       "<IPython.core.display.HTML object>"
      ]
     },
     "metadata": {},
     "output_type": "display_data"
    },
    {
     "data": {
      "text/html": [
       "Run data is saved locally in <code>/home/wolffram/SARI-ML/realtime/wandb/run-20241218_171220-zmq88gi9</code>"
      ],
      "text/plain": [
       "<IPython.core.display.HTML object>"
      ]
     },
     "metadata": {},
     "output_type": "display_data"
    },
    {
     "data": {
      "text/html": [
       "Syncing run <strong><a href='https://wandb.ai/dwolffram-karlsruhe-institute-of-technology/sari-lightgbm/runs/zmq88gi9' target=\"_blank\">crisp-sweep-53</a></strong> to <a href='https://wandb.ai/dwolffram-karlsruhe-institute-of-technology/sari-lightgbm' target=\"_blank\">Weights & Biases</a> (<a href='https://wandb.me/run' target=\"_blank\">docs</a>)<br/>Sweep page: <a href='https://wandb.ai/dwolffram-karlsruhe-institute-of-technology/sari-lightgbm/sweeps/04mzwpfu' target=\"_blank\">https://wandb.ai/dwolffram-karlsruhe-institute-of-technology/sari-lightgbm/sweeps/04mzwpfu</a>"
      ],
      "text/plain": [
       "<IPython.core.display.HTML object>"
      ]
     },
     "metadata": {},
     "output_type": "display_data"
    },
    {
     "data": {
      "text/html": [
       " View project at <a href='https://wandb.ai/dwolffram-karlsruhe-institute-of-technology/sari-lightgbm' target=\"_blank\">https://wandb.ai/dwolffram-karlsruhe-institute-of-technology/sari-lightgbm</a>"
      ],
      "text/plain": [
       "<IPython.core.display.HTML object>"
      ]
     },
     "metadata": {},
     "output_type": "display_data"
    },
    {
     "data": {
      "text/html": [
       " View sweep at <a href='https://wandb.ai/dwolffram-karlsruhe-institute-of-technology/sari-lightgbm/sweeps/04mzwpfu' target=\"_blank\">https://wandb.ai/dwolffram-karlsruhe-institute-of-technology/sari-lightgbm/sweeps/04mzwpfu</a>"
      ],
      "text/plain": [
       "<IPython.core.display.HTML object>"
      ]
     },
     "metadata": {},
     "output_type": "display_data"
    },
    {
     "data": {
      "text/html": [
       " View run at <a href='https://wandb.ai/dwolffram-karlsruhe-institute-of-technology/sari-lightgbm/runs/zmq88gi9' target=\"_blank\">https://wandb.ai/dwolffram-karlsruhe-institute-of-technology/sari-lightgbm/runs/zmq88gi9</a>"
      ],
      "text/plain": [
       "<IPython.core.display.HTML object>"
      ]
     },
     "metadata": {},
     "output_type": "display_data"
    },
    {
     "data": {
      "application/vnd.jupyter.widget-view+json": {
       "model_id": "a294a24a0b88457d9b4b8d6aea83460c",
       "version_major": 2,
       "version_minor": 0
      },
      "text/plain": [
       "VBox(children=(Label(value='0.006 MB of 0.006 MB uploaded\\r'), FloatProgress(value=1.0, max=1.0)))"
      ]
     },
     "metadata": {},
     "output_type": "display_data"
    },
    {
     "data": {
      "text/html": [
       "<style>\n",
       "    table.wandb td:nth-child(1) { padding: 0 10px; text-align: left ; width: auto;} td:nth-child(2) {text-align: left ; width: 100%}\n",
       "    .wandb-row { display: flex; flex-direction: row; flex-wrap: wrap; justify-content: flex-start; width: 100% }\n",
       "    .wandb-col { display: flex; flex-direction: column; flex-basis: 100%; flex: 1; padding: 10px; }\n",
       "    </style>\n",
       "<div class=\"wandb-row\"><div class=\"wandb-col\"><h3>Run history:</h3><br/><table class=\"wandb\"><tr><td>WIS</td><td>▁</td></tr><tr><td>WIS_2022</td><td>▁</td></tr><tr><td>WIS_2022_1</td><td>▁</td></tr><tr><td>WIS_std</td><td>▁</td></tr><tr><td>WIS_std_2022</td><td>▁</td></tr></table><br/></div><div class=\"wandb-col\"><h3>Run summary:</h3><br/><table class=\"wandb\"><tr><td>WIS</td><td>456.67336</td></tr><tr><td>WIS_2022</td><td>456.67336</td></tr><tr><td>WIS_2022_1</td><td>456.67336</td></tr><tr><td>WIS_std</td><td>0</td></tr><tr><td>WIS_std_2022</td><td>0</td></tr></table><br/></div></div>"
      ],
      "text/plain": [
       "<IPython.core.display.HTML object>"
      ]
     },
     "metadata": {},
     "output_type": "display_data"
    },
    {
     "data": {
      "text/html": [
       " View run <strong style=\"color:#cdcd00\">crisp-sweep-53</strong> at: <a href='https://wandb.ai/dwolffram-karlsruhe-institute-of-technology/sari-lightgbm/runs/zmq88gi9' target=\"_blank\">https://wandb.ai/dwolffram-karlsruhe-institute-of-technology/sari-lightgbm/runs/zmq88gi9</a><br/> View project at: <a href='https://wandb.ai/dwolffram-karlsruhe-institute-of-technology/sari-lightgbm' target=\"_blank\">https://wandb.ai/dwolffram-karlsruhe-institute-of-technology/sari-lightgbm</a><br/>Synced 5 W&B file(s), 0 media file(s), 0 artifact file(s) and 0 other file(s)"
      ],
      "text/plain": [
       "<IPython.core.display.HTML object>"
      ]
     },
     "metadata": {},
     "output_type": "display_data"
    },
    {
     "data": {
      "text/html": [
       "Find logs at: <code>./wandb/run-20241218_171220-zmq88gi9/logs</code>"
      ],
      "text/plain": [
       "<IPython.core.display.HTML object>"
      ]
     },
     "metadata": {},
     "output_type": "display_data"
    },
    {
     "data": {
      "text/html": [
       "There is a new version of wandb available. Please upgrade to wandb==0.19.0"
      ],
      "text/plain": [
       "<IPython.core.display.HTML object>"
      ]
     },
     "metadata": {},
     "output_type": "display_data"
    },
    {
     "name": "stderr",
     "output_type": "stream",
     "text": [
      "\u001b[34m\u001b[1mwandb\u001b[0m: Agent Starting Run: 1y6okjl3 with config:\n",
      "\u001b[34m\u001b[1mwandb\u001b[0m: \tcolsample_bytree: 0.8\n",
      "\u001b[34m\u001b[1mwandb\u001b[0m: \tlags: 8\n",
      "\u001b[34m\u001b[1mwandb\u001b[0m: \tlags_future_covariates: [0, 1]\n",
      "\u001b[34m\u001b[1mwandb\u001b[0m: \tlags_past_covariates: {'agi-are-00-04': 8, 'agi-are-05-14': 8, 'agi-are-15-34': 8, 'agi-are-35-59': 8, 'agi-are-60+': 8, 'agi-are-DE': 8, 'default_lags': 1}\n",
      "\u001b[34m\u001b[1mwandb\u001b[0m: \tlearning_rate: 0.01\n",
      "\u001b[34m\u001b[1mwandb\u001b[0m: \tmax_bin: 1024\n",
      "\u001b[34m\u001b[1mwandb\u001b[0m: \tmax_depth: -1\n",
      "\u001b[34m\u001b[1mwandb\u001b[0m: \tmin_child_samples: 10\n",
      "\u001b[34m\u001b[1mwandb\u001b[0m: \tmin_split_gain: 0\n",
      "\u001b[34m\u001b[1mwandb\u001b[0m: \tmodel: lightgbm\n",
      "\u001b[34m\u001b[1mwandb\u001b[0m: \tmultiple_series: False\n",
      "\u001b[34m\u001b[1mwandb\u001b[0m: \tn_estimators: 500\n",
      "\u001b[34m\u001b[1mwandb\u001b[0m: \tnum_leaves: 31\n",
      "\u001b[34m\u001b[1mwandb\u001b[0m: \treg_alpha: 0.5\n",
      "\u001b[34m\u001b[1mwandb\u001b[0m: \treg_lambda: 0.5\n",
      "\u001b[34m\u001b[1mwandb\u001b[0m: \tsample_weight: linear\n",
      "\u001b[34m\u001b[1mwandb\u001b[0m: \tsubsample: 0.8\n",
      "\u001b[34m\u001b[1mwandb\u001b[0m: \tsubsample_freq: 1\n",
      "\u001b[34m\u001b[1mwandb\u001b[0m: \tuse_covariates: False\n",
      "\u001b[34m\u001b[1mwandb\u001b[0m: \tuse_encoders: True\n",
      "\u001b[34m\u001b[1mwandb\u001b[0m: \tuse_features: False\n",
      "\u001b[34m\u001b[1mwandb\u001b[0m: \tuse_static_covariates: False\n",
      "Failed to detect the name of this notebook, you can set it manually with the WANDB_NOTEBOOK_NAME environment variable to enable code saving.\n"
     ]
    },
    {
     "data": {
      "text/html": [
       "Tracking run with wandb version 0.18.0"
      ],
      "text/plain": [
       "<IPython.core.display.HTML object>"
      ]
     },
     "metadata": {},
     "output_type": "display_data"
    },
    {
     "data": {
      "text/html": [
       "Run data is saved locally in <code>/home/wolffram/SARI-ML/realtime/wandb/run-20241218_171317-1y6okjl3</code>"
      ],
      "text/plain": [
       "<IPython.core.display.HTML object>"
      ]
     },
     "metadata": {},
     "output_type": "display_data"
    },
    {
     "data": {
      "text/html": [
       "Syncing run <strong><a href='https://wandb.ai/dwolffram-karlsruhe-institute-of-technology/sari-lightgbm/runs/1y6okjl3' target=\"_blank\">ruby-sweep-54</a></strong> to <a href='https://wandb.ai/dwolffram-karlsruhe-institute-of-technology/sari-lightgbm' target=\"_blank\">Weights & Biases</a> (<a href='https://wandb.me/run' target=\"_blank\">docs</a>)<br/>Sweep page: <a href='https://wandb.ai/dwolffram-karlsruhe-institute-of-technology/sari-lightgbm/sweeps/04mzwpfu' target=\"_blank\">https://wandb.ai/dwolffram-karlsruhe-institute-of-technology/sari-lightgbm/sweeps/04mzwpfu</a>"
      ],
      "text/plain": [
       "<IPython.core.display.HTML object>"
      ]
     },
     "metadata": {},
     "output_type": "display_data"
    },
    {
     "data": {
      "text/html": [
       " View project at <a href='https://wandb.ai/dwolffram-karlsruhe-institute-of-technology/sari-lightgbm' target=\"_blank\">https://wandb.ai/dwolffram-karlsruhe-institute-of-technology/sari-lightgbm</a>"
      ],
      "text/plain": [
       "<IPython.core.display.HTML object>"
      ]
     },
     "metadata": {},
     "output_type": "display_data"
    },
    {
     "data": {
      "text/html": [
       " View sweep at <a href='https://wandb.ai/dwolffram-karlsruhe-institute-of-technology/sari-lightgbm/sweeps/04mzwpfu' target=\"_blank\">https://wandb.ai/dwolffram-karlsruhe-institute-of-technology/sari-lightgbm/sweeps/04mzwpfu</a>"
      ],
      "text/plain": [
       "<IPython.core.display.HTML object>"
      ]
     },
     "metadata": {},
     "output_type": "display_data"
    },
    {
     "data": {
      "text/html": [
       " View run at <a href='https://wandb.ai/dwolffram-karlsruhe-institute-of-technology/sari-lightgbm/runs/1y6okjl3' target=\"_blank\">https://wandb.ai/dwolffram-karlsruhe-institute-of-technology/sari-lightgbm/runs/1y6okjl3</a>"
      ],
      "text/plain": [
       "<IPython.core.display.HTML object>"
      ]
     },
     "metadata": {},
     "output_type": "display_data"
    },
    {
     "data": {
      "application/vnd.jupyter.widget-view+json": {
       "model_id": "3be8d09612d345a79818803115c15ac1",
       "version_major": 2,
       "version_minor": 0
      },
      "text/plain": [
       "VBox(children=(Label(value='0.006 MB of 0.006 MB uploaded\\r'), FloatProgress(value=1.0, max=1.0)))"
      ]
     },
     "metadata": {},
     "output_type": "display_data"
    },
    {
     "data": {
      "text/html": [
       "<style>\n",
       "    table.wandb td:nth-child(1) { padding: 0 10px; text-align: left ; width: auto;} td:nth-child(2) {text-align: left ; width: 100%}\n",
       "    .wandb-row { display: flex; flex-direction: row; flex-wrap: wrap; justify-content: flex-start; width: 100% }\n",
       "    .wandb-col { display: flex; flex-direction: column; flex-basis: 100%; flex: 1; padding: 10px; }\n",
       "    </style>\n",
       "<div class=\"wandb-row\"><div class=\"wandb-col\"><h3>Run history:</h3><br/><table class=\"wandb\"><tr><td>WIS</td><td>▁</td></tr><tr><td>WIS_2022</td><td>▁</td></tr><tr><td>WIS_2022_1</td><td>▁</td></tr><tr><td>WIS_std</td><td>▁</td></tr><tr><td>WIS_std_2022</td><td>▁</td></tr></table><br/></div><div class=\"wandb-col\"><h3>Run summary:</h3><br/><table class=\"wandb\"><tr><td>WIS</td><td>469.02444</td></tr><tr><td>WIS_2022</td><td>469.02444</td></tr><tr><td>WIS_2022_1</td><td>469.02444</td></tr><tr><td>WIS_std</td><td>0</td></tr><tr><td>WIS_std_2022</td><td>0</td></tr></table><br/></div></div>"
      ],
      "text/plain": [
       "<IPython.core.display.HTML object>"
      ]
     },
     "metadata": {},
     "output_type": "display_data"
    },
    {
     "data": {
      "text/html": [
       " View run <strong style=\"color:#cdcd00\">ruby-sweep-54</strong> at: <a href='https://wandb.ai/dwolffram-karlsruhe-institute-of-technology/sari-lightgbm/runs/1y6okjl3' target=\"_blank\">https://wandb.ai/dwolffram-karlsruhe-institute-of-technology/sari-lightgbm/runs/1y6okjl3</a><br/> View project at: <a href='https://wandb.ai/dwolffram-karlsruhe-institute-of-technology/sari-lightgbm' target=\"_blank\">https://wandb.ai/dwolffram-karlsruhe-institute-of-technology/sari-lightgbm</a><br/>Synced 5 W&B file(s), 0 media file(s), 0 artifact file(s) and 0 other file(s)"
      ],
      "text/plain": [
       "<IPython.core.display.HTML object>"
      ]
     },
     "metadata": {},
     "output_type": "display_data"
    },
    {
     "data": {
      "text/html": [
       "Find logs at: <code>./wandb/run-20241218_171317-1y6okjl3/logs</code>"
      ],
      "text/plain": [
       "<IPython.core.display.HTML object>"
      ]
     },
     "metadata": {},
     "output_type": "display_data"
    },
    {
     "data": {
      "text/html": [
       "There is a new version of wandb available. Please upgrade to wandb==0.19.0"
      ],
      "text/plain": [
       "<IPython.core.display.HTML object>"
      ]
     },
     "metadata": {},
     "output_type": "display_data"
    },
    {
     "name": "stderr",
     "output_type": "stream",
     "text": [
      "\u001b[34m\u001b[1mwandb\u001b[0m: Agent Starting Run: 9asezxw5 with config:\n",
      "\u001b[34m\u001b[1mwandb\u001b[0m: \tcolsample_bytree: 0.8\n",
      "\u001b[34m\u001b[1mwandb\u001b[0m: \tlags: 8\n",
      "\u001b[34m\u001b[1mwandb\u001b[0m: \tlags_future_covariates: [0, 1]\n",
      "\u001b[34m\u001b[1mwandb\u001b[0m: \tlags_past_covariates: {'agi-are-00-04': 8, 'agi-are-05-14': 8, 'agi-are-15-34': 8, 'agi-are-35-59': 8, 'agi-are-60+': 8, 'agi-are-DE': 8, 'default_lags': 1}\n",
      "\u001b[34m\u001b[1mwandb\u001b[0m: \tlearning_rate: 0.01\n",
      "\u001b[34m\u001b[1mwandb\u001b[0m: \tmax_bin: 1024\n",
      "\u001b[34m\u001b[1mwandb\u001b[0m: \tmax_depth: -1\n",
      "\u001b[34m\u001b[1mwandb\u001b[0m: \tmin_child_samples: 10\n",
      "\u001b[34m\u001b[1mwandb\u001b[0m: \tmin_split_gain: 0\n",
      "\u001b[34m\u001b[1mwandb\u001b[0m: \tmodel: lightgbm\n",
      "\u001b[34m\u001b[1mwandb\u001b[0m: \tmultiple_series: False\n",
      "\u001b[34m\u001b[1mwandb\u001b[0m: \tn_estimators: 500\n",
      "\u001b[34m\u001b[1mwandb\u001b[0m: \tnum_leaves: 31\n",
      "\u001b[34m\u001b[1mwandb\u001b[0m: \treg_alpha: 0.5\n",
      "\u001b[34m\u001b[1mwandb\u001b[0m: \treg_lambda: 0.5\n",
      "\u001b[34m\u001b[1mwandb\u001b[0m: \tsample_weight: no-covid\n",
      "\u001b[34m\u001b[1mwandb\u001b[0m: \tsubsample: 0.8\n",
      "\u001b[34m\u001b[1mwandb\u001b[0m: \tsubsample_freq: 1\n",
      "\u001b[34m\u001b[1mwandb\u001b[0m: \tuse_covariates: True\n",
      "\u001b[34m\u001b[1mwandb\u001b[0m: \tuse_encoders: True\n",
      "\u001b[34m\u001b[1mwandb\u001b[0m: \tuse_features: False\n",
      "\u001b[34m\u001b[1mwandb\u001b[0m: \tuse_static_covariates: False\n",
      "Failed to detect the name of this notebook, you can set it manually with the WANDB_NOTEBOOK_NAME environment variable to enable code saving.\n"
     ]
    },
    {
     "data": {
      "text/html": [
       "Tracking run with wandb version 0.18.0"
      ],
      "text/plain": [
       "<IPython.core.display.HTML object>"
      ]
     },
     "metadata": {},
     "output_type": "display_data"
    },
    {
     "data": {
      "text/html": [
       "Run data is saved locally in <code>/home/wolffram/SARI-ML/realtime/wandb/run-20241218_171408-9asezxw5</code>"
      ],
      "text/plain": [
       "<IPython.core.display.HTML object>"
      ]
     },
     "metadata": {},
     "output_type": "display_data"
    },
    {
     "data": {
      "text/html": [
       "Syncing run <strong><a href='https://wandb.ai/dwolffram-karlsruhe-institute-of-technology/sari-lightgbm/runs/9asezxw5' target=\"_blank\">polar-sweep-55</a></strong> to <a href='https://wandb.ai/dwolffram-karlsruhe-institute-of-technology/sari-lightgbm' target=\"_blank\">Weights & Biases</a> (<a href='https://wandb.me/run' target=\"_blank\">docs</a>)<br/>Sweep page: <a href='https://wandb.ai/dwolffram-karlsruhe-institute-of-technology/sari-lightgbm/sweeps/04mzwpfu' target=\"_blank\">https://wandb.ai/dwolffram-karlsruhe-institute-of-technology/sari-lightgbm/sweeps/04mzwpfu</a>"
      ],
      "text/plain": [
       "<IPython.core.display.HTML object>"
      ]
     },
     "metadata": {},
     "output_type": "display_data"
    },
    {
     "data": {
      "text/html": [
       " View project at <a href='https://wandb.ai/dwolffram-karlsruhe-institute-of-technology/sari-lightgbm' target=\"_blank\">https://wandb.ai/dwolffram-karlsruhe-institute-of-technology/sari-lightgbm</a>"
      ],
      "text/plain": [
       "<IPython.core.display.HTML object>"
      ]
     },
     "metadata": {},
     "output_type": "display_data"
    },
    {
     "data": {
      "text/html": [
       " View sweep at <a href='https://wandb.ai/dwolffram-karlsruhe-institute-of-technology/sari-lightgbm/sweeps/04mzwpfu' target=\"_blank\">https://wandb.ai/dwolffram-karlsruhe-institute-of-technology/sari-lightgbm/sweeps/04mzwpfu</a>"
      ],
      "text/plain": [
       "<IPython.core.display.HTML object>"
      ]
     },
     "metadata": {},
     "output_type": "display_data"
    },
    {
     "data": {
      "text/html": [
       " View run at <a href='https://wandb.ai/dwolffram-karlsruhe-institute-of-technology/sari-lightgbm/runs/9asezxw5' target=\"_blank\">https://wandb.ai/dwolffram-karlsruhe-institute-of-technology/sari-lightgbm/runs/9asezxw5</a>"
      ],
      "text/plain": [
       "<IPython.core.display.HTML object>"
      ]
     },
     "metadata": {},
     "output_type": "display_data"
    },
    {
     "data": {
      "application/vnd.jupyter.widget-view+json": {
       "model_id": "918049add495435a820363c33563bcb3",
       "version_major": 2,
       "version_minor": 0
      },
      "text/plain": [
       "VBox(children=(Label(value='0.006 MB of 0.006 MB uploaded\\r'), FloatProgress(value=1.0, max=1.0)))"
      ]
     },
     "metadata": {},
     "output_type": "display_data"
    },
    {
     "data": {
      "text/html": [
       "<style>\n",
       "    table.wandb td:nth-child(1) { padding: 0 10px; text-align: left ; width: auto;} td:nth-child(2) {text-align: left ; width: 100%}\n",
       "    .wandb-row { display: flex; flex-direction: row; flex-wrap: wrap; justify-content: flex-start; width: 100% }\n",
       "    .wandb-col { display: flex; flex-direction: column; flex-basis: 100%; flex: 1; padding: 10px; }\n",
       "    </style>\n",
       "<div class=\"wandb-row\"><div class=\"wandb-col\"><h3>Run history:</h3><br/><table class=\"wandb\"><tr><td>WIS</td><td>▁</td></tr><tr><td>WIS_2022</td><td>▁</td></tr><tr><td>WIS_2022_1</td><td>▁</td></tr><tr><td>WIS_std</td><td>▁</td></tr><tr><td>WIS_std_2022</td><td>▁</td></tr></table><br/></div><div class=\"wandb-col\"><h3>Run summary:</h3><br/><table class=\"wandb\"><tr><td>WIS</td><td>464.67867</td></tr><tr><td>WIS_2022</td><td>464.67867</td></tr><tr><td>WIS_2022_1</td><td>464.67867</td></tr><tr><td>WIS_std</td><td>0</td></tr><tr><td>WIS_std_2022</td><td>0</td></tr></table><br/></div></div>"
      ],
      "text/plain": [
       "<IPython.core.display.HTML object>"
      ]
     },
     "metadata": {},
     "output_type": "display_data"
    },
    {
     "data": {
      "text/html": [
       " View run <strong style=\"color:#cdcd00\">polar-sweep-55</strong> at: <a href='https://wandb.ai/dwolffram-karlsruhe-institute-of-technology/sari-lightgbm/runs/9asezxw5' target=\"_blank\">https://wandb.ai/dwolffram-karlsruhe-institute-of-technology/sari-lightgbm/runs/9asezxw5</a><br/> View project at: <a href='https://wandb.ai/dwolffram-karlsruhe-institute-of-technology/sari-lightgbm' target=\"_blank\">https://wandb.ai/dwolffram-karlsruhe-institute-of-technology/sari-lightgbm</a><br/>Synced 5 W&B file(s), 0 media file(s), 0 artifact file(s) and 0 other file(s)"
      ],
      "text/plain": [
       "<IPython.core.display.HTML object>"
      ]
     },
     "metadata": {},
     "output_type": "display_data"
    },
    {
     "data": {
      "text/html": [
       "Find logs at: <code>./wandb/run-20241218_171408-9asezxw5/logs</code>"
      ],
      "text/plain": [
       "<IPython.core.display.HTML object>"
      ]
     },
     "metadata": {},
     "output_type": "display_data"
    },
    {
     "data": {
      "text/html": [
       "There is a new version of wandb available. Please upgrade to wandb==0.19.0"
      ],
      "text/plain": [
       "<IPython.core.display.HTML object>"
      ]
     },
     "metadata": {},
     "output_type": "display_data"
    },
    {
     "name": "stderr",
     "output_type": "stream",
     "text": [
      "\u001b[34m\u001b[1mwandb\u001b[0m: Agent Starting Run: loel583h with config:\n",
      "\u001b[34m\u001b[1mwandb\u001b[0m: \tcolsample_bytree: 0.8\n",
      "\u001b[34m\u001b[1mwandb\u001b[0m: \tlags: 8\n",
      "\u001b[34m\u001b[1mwandb\u001b[0m: \tlags_future_covariates: [0, 1]\n",
      "\u001b[34m\u001b[1mwandb\u001b[0m: \tlags_past_covariates: {'agi-are-00-04': 8, 'agi-are-05-14': 8, 'agi-are-15-34': 8, 'agi-are-35-59': 8, 'agi-are-60+': 8, 'agi-are-DE': 8, 'default_lags': 1}\n",
      "\u001b[34m\u001b[1mwandb\u001b[0m: \tlearning_rate: 0.01\n",
      "\u001b[34m\u001b[1mwandb\u001b[0m: \tmax_bin: 1024\n",
      "\u001b[34m\u001b[1mwandb\u001b[0m: \tmax_depth: -1\n",
      "\u001b[34m\u001b[1mwandb\u001b[0m: \tmin_child_samples: 10\n",
      "\u001b[34m\u001b[1mwandb\u001b[0m: \tmin_split_gain: 0\n",
      "\u001b[34m\u001b[1mwandb\u001b[0m: \tmodel: lightgbm\n",
      "\u001b[34m\u001b[1mwandb\u001b[0m: \tmultiple_series: False\n",
      "\u001b[34m\u001b[1mwandb\u001b[0m: \tn_estimators: 500\n",
      "\u001b[34m\u001b[1mwandb\u001b[0m: \tnum_leaves: 31\n",
      "\u001b[34m\u001b[1mwandb\u001b[0m: \treg_alpha: 0.5\n",
      "\u001b[34m\u001b[1mwandb\u001b[0m: \treg_lambda: 0.5\n",
      "\u001b[34m\u001b[1mwandb\u001b[0m: \tsample_weight: no-covid\n",
      "\u001b[34m\u001b[1mwandb\u001b[0m: \tsubsample: 0.8\n",
      "\u001b[34m\u001b[1mwandb\u001b[0m: \tsubsample_freq: 1\n",
      "\u001b[34m\u001b[1mwandb\u001b[0m: \tuse_covariates: False\n",
      "\u001b[34m\u001b[1mwandb\u001b[0m: \tuse_encoders: True\n",
      "\u001b[34m\u001b[1mwandb\u001b[0m: \tuse_features: False\n",
      "\u001b[34m\u001b[1mwandb\u001b[0m: \tuse_static_covariates: False\n",
      "Failed to detect the name of this notebook, you can set it manually with the WANDB_NOTEBOOK_NAME environment variable to enable code saving.\n"
     ]
    },
    {
     "data": {
      "text/html": [
       "Tracking run with wandb version 0.18.0"
      ],
      "text/plain": [
       "<IPython.core.display.HTML object>"
      ]
     },
     "metadata": {},
     "output_type": "display_data"
    },
    {
     "data": {
      "text/html": [
       "Run data is saved locally in <code>/home/wolffram/SARI-ML/realtime/wandb/run-20241218_171500-loel583h</code>"
      ],
      "text/plain": [
       "<IPython.core.display.HTML object>"
      ]
     },
     "metadata": {},
     "output_type": "display_data"
    },
    {
     "data": {
      "text/html": [
       "Syncing run <strong><a href='https://wandb.ai/dwolffram-karlsruhe-institute-of-technology/sari-lightgbm/runs/loel583h' target=\"_blank\">tough-sweep-56</a></strong> to <a href='https://wandb.ai/dwolffram-karlsruhe-institute-of-technology/sari-lightgbm' target=\"_blank\">Weights & Biases</a> (<a href='https://wandb.me/run' target=\"_blank\">docs</a>)<br/>Sweep page: <a href='https://wandb.ai/dwolffram-karlsruhe-institute-of-technology/sari-lightgbm/sweeps/04mzwpfu' target=\"_blank\">https://wandb.ai/dwolffram-karlsruhe-institute-of-technology/sari-lightgbm/sweeps/04mzwpfu</a>"
      ],
      "text/plain": [
       "<IPython.core.display.HTML object>"
      ]
     },
     "metadata": {},
     "output_type": "display_data"
    },
    {
     "data": {
      "text/html": [
       " View project at <a href='https://wandb.ai/dwolffram-karlsruhe-institute-of-technology/sari-lightgbm' target=\"_blank\">https://wandb.ai/dwolffram-karlsruhe-institute-of-technology/sari-lightgbm</a>"
      ],
      "text/plain": [
       "<IPython.core.display.HTML object>"
      ]
     },
     "metadata": {},
     "output_type": "display_data"
    },
    {
     "data": {
      "text/html": [
       " View sweep at <a href='https://wandb.ai/dwolffram-karlsruhe-institute-of-technology/sari-lightgbm/sweeps/04mzwpfu' target=\"_blank\">https://wandb.ai/dwolffram-karlsruhe-institute-of-technology/sari-lightgbm/sweeps/04mzwpfu</a>"
      ],
      "text/plain": [
       "<IPython.core.display.HTML object>"
      ]
     },
     "metadata": {},
     "output_type": "display_data"
    },
    {
     "data": {
      "text/html": [
       " View run at <a href='https://wandb.ai/dwolffram-karlsruhe-institute-of-technology/sari-lightgbm/runs/loel583h' target=\"_blank\">https://wandb.ai/dwolffram-karlsruhe-institute-of-technology/sari-lightgbm/runs/loel583h</a>"
      ],
      "text/plain": [
       "<IPython.core.display.HTML object>"
      ]
     },
     "metadata": {},
     "output_type": "display_data"
    },
    {
     "data": {
      "application/vnd.jupyter.widget-view+json": {
       "model_id": "6d72fac2a9994da2a5fb18d837675c77",
       "version_major": 2,
       "version_minor": 0
      },
      "text/plain": [
       "VBox(children=(Label(value='0.006 MB of 0.006 MB uploaded\\r'), FloatProgress(value=1.0, max=1.0)))"
      ]
     },
     "metadata": {},
     "output_type": "display_data"
    },
    {
     "data": {
      "text/html": [
       "<style>\n",
       "    table.wandb td:nth-child(1) { padding: 0 10px; text-align: left ; width: auto;} td:nth-child(2) {text-align: left ; width: 100%}\n",
       "    .wandb-row { display: flex; flex-direction: row; flex-wrap: wrap; justify-content: flex-start; width: 100% }\n",
       "    .wandb-col { display: flex; flex-direction: column; flex-basis: 100%; flex: 1; padding: 10px; }\n",
       "    </style>\n",
       "<div class=\"wandb-row\"><div class=\"wandb-col\"><h3>Run history:</h3><br/><table class=\"wandb\"><tr><td>WIS</td><td>▁</td></tr><tr><td>WIS_2022</td><td>▁</td></tr><tr><td>WIS_2022_1</td><td>▁</td></tr><tr><td>WIS_std</td><td>▁</td></tr><tr><td>WIS_std_2022</td><td>▁</td></tr></table><br/></div><div class=\"wandb-col\"><h3>Run summary:</h3><br/><table class=\"wandb\"><tr><td>WIS</td><td>517.7433</td></tr><tr><td>WIS_2022</td><td>517.7433</td></tr><tr><td>WIS_2022_1</td><td>517.7433</td></tr><tr><td>WIS_std</td><td>0</td></tr><tr><td>WIS_std_2022</td><td>0</td></tr></table><br/></div></div>"
      ],
      "text/plain": [
       "<IPython.core.display.HTML object>"
      ]
     },
     "metadata": {},
     "output_type": "display_data"
    },
    {
     "data": {
      "text/html": [
       " View run <strong style=\"color:#cdcd00\">tough-sweep-56</strong> at: <a href='https://wandb.ai/dwolffram-karlsruhe-institute-of-technology/sari-lightgbm/runs/loel583h' target=\"_blank\">https://wandb.ai/dwolffram-karlsruhe-institute-of-technology/sari-lightgbm/runs/loel583h</a><br/> View project at: <a href='https://wandb.ai/dwolffram-karlsruhe-institute-of-technology/sari-lightgbm' target=\"_blank\">https://wandb.ai/dwolffram-karlsruhe-institute-of-technology/sari-lightgbm</a><br/>Synced 5 W&B file(s), 0 media file(s), 0 artifact file(s) and 0 other file(s)"
      ],
      "text/plain": [
       "<IPython.core.display.HTML object>"
      ]
     },
     "metadata": {},
     "output_type": "display_data"
    },
    {
     "data": {
      "text/html": [
       "Find logs at: <code>./wandb/run-20241218_171500-loel583h/logs</code>"
      ],
      "text/plain": [
       "<IPython.core.display.HTML object>"
      ]
     },
     "metadata": {},
     "output_type": "display_data"
    },
    {
     "data": {
      "text/html": [
       "There is a new version of wandb available. Please upgrade to wandb==0.19.0"
      ],
      "text/plain": [
       "<IPython.core.display.HTML object>"
      ]
     },
     "metadata": {},
     "output_type": "display_data"
    },
    {
     "name": "stderr",
     "output_type": "stream",
     "text": [
      "\u001b[34m\u001b[1mwandb\u001b[0m: Agent Starting Run: b7p0rmta with config:\n",
      "\u001b[34m\u001b[1mwandb\u001b[0m: \tcolsample_bytree: 0.8\n",
      "\u001b[34m\u001b[1mwandb\u001b[0m: \tlags: 8\n",
      "\u001b[34m\u001b[1mwandb\u001b[0m: \tlags_future_covariates: [0, 1]\n",
      "\u001b[34m\u001b[1mwandb\u001b[0m: \tlags_past_covariates: {'agi-are-00-04': 8, 'agi-are-05-14': 8, 'agi-are-15-34': 8, 'agi-are-35-59': 8, 'agi-are-60+': 8, 'agi-are-DE': 8, 'default_lags': 1}\n",
      "\u001b[34m\u001b[1mwandb\u001b[0m: \tlearning_rate: 0.01\n",
      "\u001b[34m\u001b[1mwandb\u001b[0m: \tmax_bin: 1024\n",
      "\u001b[34m\u001b[1mwandb\u001b[0m: \tmax_depth: -1\n",
      "\u001b[34m\u001b[1mwandb\u001b[0m: \tmin_child_samples: 10\n",
      "\u001b[34m\u001b[1mwandb\u001b[0m: \tmin_split_gain: 0\n",
      "\u001b[34m\u001b[1mwandb\u001b[0m: \tmodel: lightgbm\n",
      "\u001b[34m\u001b[1mwandb\u001b[0m: \tmultiple_series: False\n",
      "\u001b[34m\u001b[1mwandb\u001b[0m: \tn_estimators: 500\n",
      "\u001b[34m\u001b[1mwandb\u001b[0m: \tnum_leaves: 31\n",
      "\u001b[34m\u001b[1mwandb\u001b[0m: \treg_alpha: 0.5\n",
      "\u001b[34m\u001b[1mwandb\u001b[0m: \treg_lambda: 1\n",
      "\u001b[34m\u001b[1mwandb\u001b[0m: \tsample_weight: linear\n",
      "\u001b[34m\u001b[1mwandb\u001b[0m: \tsubsample: 0.8\n",
      "\u001b[34m\u001b[1mwandb\u001b[0m: \tsubsample_freq: 1\n",
      "\u001b[34m\u001b[1mwandb\u001b[0m: \tuse_covariates: True\n",
      "\u001b[34m\u001b[1mwandb\u001b[0m: \tuse_encoders: True\n",
      "\u001b[34m\u001b[1mwandb\u001b[0m: \tuse_features: False\n",
      "\u001b[34m\u001b[1mwandb\u001b[0m: \tuse_static_covariates: False\n",
      "Failed to detect the name of this notebook, you can set it manually with the WANDB_NOTEBOOK_NAME environment variable to enable code saving.\n"
     ]
    },
    {
     "data": {
      "text/html": [
       "Tracking run with wandb version 0.18.0"
      ],
      "text/plain": [
       "<IPython.core.display.HTML object>"
      ]
     },
     "metadata": {},
     "output_type": "display_data"
    },
    {
     "data": {
      "text/html": [
       "Run data is saved locally in <code>/home/wolffram/SARI-ML/realtime/wandb/run-20241218_171546-b7p0rmta</code>"
      ],
      "text/plain": [
       "<IPython.core.display.HTML object>"
      ]
     },
     "metadata": {},
     "output_type": "display_data"
    },
    {
     "data": {
      "text/html": [
       "Syncing run <strong><a href='https://wandb.ai/dwolffram-karlsruhe-institute-of-technology/sari-lightgbm/runs/b7p0rmta' target=\"_blank\">splendid-sweep-57</a></strong> to <a href='https://wandb.ai/dwolffram-karlsruhe-institute-of-technology/sari-lightgbm' target=\"_blank\">Weights & Biases</a> (<a href='https://wandb.me/run' target=\"_blank\">docs</a>)<br/>Sweep page: <a href='https://wandb.ai/dwolffram-karlsruhe-institute-of-technology/sari-lightgbm/sweeps/04mzwpfu' target=\"_blank\">https://wandb.ai/dwolffram-karlsruhe-institute-of-technology/sari-lightgbm/sweeps/04mzwpfu</a>"
      ],
      "text/plain": [
       "<IPython.core.display.HTML object>"
      ]
     },
     "metadata": {},
     "output_type": "display_data"
    },
    {
     "data": {
      "text/html": [
       " View project at <a href='https://wandb.ai/dwolffram-karlsruhe-institute-of-technology/sari-lightgbm' target=\"_blank\">https://wandb.ai/dwolffram-karlsruhe-institute-of-technology/sari-lightgbm</a>"
      ],
      "text/plain": [
       "<IPython.core.display.HTML object>"
      ]
     },
     "metadata": {},
     "output_type": "display_data"
    },
    {
     "data": {
      "text/html": [
       " View sweep at <a href='https://wandb.ai/dwolffram-karlsruhe-institute-of-technology/sari-lightgbm/sweeps/04mzwpfu' target=\"_blank\">https://wandb.ai/dwolffram-karlsruhe-institute-of-technology/sari-lightgbm/sweeps/04mzwpfu</a>"
      ],
      "text/plain": [
       "<IPython.core.display.HTML object>"
      ]
     },
     "metadata": {},
     "output_type": "display_data"
    },
    {
     "data": {
      "text/html": [
       " View run at <a href='https://wandb.ai/dwolffram-karlsruhe-institute-of-technology/sari-lightgbm/runs/b7p0rmta' target=\"_blank\">https://wandb.ai/dwolffram-karlsruhe-institute-of-technology/sari-lightgbm/runs/b7p0rmta</a>"
      ],
      "text/plain": [
       "<IPython.core.display.HTML object>"
      ]
     },
     "metadata": {},
     "output_type": "display_data"
    },
    {
     "data": {
      "application/vnd.jupyter.widget-view+json": {
       "model_id": "78e5e7394325401fa5268fe153b19df1",
       "version_major": 2,
       "version_minor": 0
      },
      "text/plain": [
       "VBox(children=(Label(value='0.006 MB of 0.006 MB uploaded\\r'), FloatProgress(value=1.0, max=1.0)))"
      ]
     },
     "metadata": {},
     "output_type": "display_data"
    },
    {
     "data": {
      "text/html": [
       "<style>\n",
       "    table.wandb td:nth-child(1) { padding: 0 10px; text-align: left ; width: auto;} td:nth-child(2) {text-align: left ; width: 100%}\n",
       "    .wandb-row { display: flex; flex-direction: row; flex-wrap: wrap; justify-content: flex-start; width: 100% }\n",
       "    .wandb-col { display: flex; flex-direction: column; flex-basis: 100%; flex: 1; padding: 10px; }\n",
       "    </style>\n",
       "<div class=\"wandb-row\"><div class=\"wandb-col\"><h3>Run history:</h3><br/><table class=\"wandb\"><tr><td>WIS</td><td>▁</td></tr><tr><td>WIS_2022</td><td>▁</td></tr><tr><td>WIS_2022_1</td><td>▁</td></tr><tr><td>WIS_std</td><td>▁</td></tr><tr><td>WIS_std_2022</td><td>▁</td></tr></table><br/></div><div class=\"wandb-col\"><h3>Run summary:</h3><br/><table class=\"wandb\"><tr><td>WIS</td><td>456.22679</td></tr><tr><td>WIS_2022</td><td>456.22679</td></tr><tr><td>WIS_2022_1</td><td>456.22679</td></tr><tr><td>WIS_std</td><td>0</td></tr><tr><td>WIS_std_2022</td><td>0</td></tr></table><br/></div></div>"
      ],
      "text/plain": [
       "<IPython.core.display.HTML object>"
      ]
     },
     "metadata": {},
     "output_type": "display_data"
    },
    {
     "data": {
      "text/html": [
       " View run <strong style=\"color:#cdcd00\">splendid-sweep-57</strong> at: <a href='https://wandb.ai/dwolffram-karlsruhe-institute-of-technology/sari-lightgbm/runs/b7p0rmta' target=\"_blank\">https://wandb.ai/dwolffram-karlsruhe-institute-of-technology/sari-lightgbm/runs/b7p0rmta</a><br/> View project at: <a href='https://wandb.ai/dwolffram-karlsruhe-institute-of-technology/sari-lightgbm' target=\"_blank\">https://wandb.ai/dwolffram-karlsruhe-institute-of-technology/sari-lightgbm</a><br/>Synced 5 W&B file(s), 0 media file(s), 0 artifact file(s) and 0 other file(s)"
      ],
      "text/plain": [
       "<IPython.core.display.HTML object>"
      ]
     },
     "metadata": {},
     "output_type": "display_data"
    },
    {
     "data": {
      "text/html": [
       "Find logs at: <code>./wandb/run-20241218_171546-b7p0rmta/logs</code>"
      ],
      "text/plain": [
       "<IPython.core.display.HTML object>"
      ]
     },
     "metadata": {},
     "output_type": "display_data"
    },
    {
     "data": {
      "text/html": [
       "There is a new version of wandb available. Please upgrade to wandb==0.19.0"
      ],
      "text/plain": [
       "<IPython.core.display.HTML object>"
      ]
     },
     "metadata": {},
     "output_type": "display_data"
    },
    {
     "name": "stderr",
     "output_type": "stream",
     "text": [
      "\u001b[34m\u001b[1mwandb\u001b[0m: Agent Starting Run: w9wqctoc with config:\n",
      "\u001b[34m\u001b[1mwandb\u001b[0m: \tcolsample_bytree: 0.8\n",
      "\u001b[34m\u001b[1mwandb\u001b[0m: \tlags: 8\n",
      "\u001b[34m\u001b[1mwandb\u001b[0m: \tlags_future_covariates: [0, 1]\n",
      "\u001b[34m\u001b[1mwandb\u001b[0m: \tlags_past_covariates: {'agi-are-00-04': 8, 'agi-are-05-14': 8, 'agi-are-15-34': 8, 'agi-are-35-59': 8, 'agi-are-60+': 8, 'agi-are-DE': 8, 'default_lags': 1}\n",
      "\u001b[34m\u001b[1mwandb\u001b[0m: \tlearning_rate: 0.01\n",
      "\u001b[34m\u001b[1mwandb\u001b[0m: \tmax_bin: 1024\n",
      "\u001b[34m\u001b[1mwandb\u001b[0m: \tmax_depth: -1\n",
      "\u001b[34m\u001b[1mwandb\u001b[0m: \tmin_child_samples: 10\n",
      "\u001b[34m\u001b[1mwandb\u001b[0m: \tmin_split_gain: 0\n",
      "\u001b[34m\u001b[1mwandb\u001b[0m: \tmodel: lightgbm\n",
      "\u001b[34m\u001b[1mwandb\u001b[0m: \tmultiple_series: False\n",
      "\u001b[34m\u001b[1mwandb\u001b[0m: \tn_estimators: 500\n",
      "\u001b[34m\u001b[1mwandb\u001b[0m: \tnum_leaves: 31\n",
      "\u001b[34m\u001b[1mwandb\u001b[0m: \treg_alpha: 0.5\n",
      "\u001b[34m\u001b[1mwandb\u001b[0m: \treg_lambda: 1\n",
      "\u001b[34m\u001b[1mwandb\u001b[0m: \tsample_weight: linear\n",
      "\u001b[34m\u001b[1mwandb\u001b[0m: \tsubsample: 0.8\n",
      "\u001b[34m\u001b[1mwandb\u001b[0m: \tsubsample_freq: 1\n",
      "\u001b[34m\u001b[1mwandb\u001b[0m: \tuse_covariates: False\n",
      "\u001b[34m\u001b[1mwandb\u001b[0m: \tuse_encoders: True\n",
      "\u001b[34m\u001b[1mwandb\u001b[0m: \tuse_features: False\n",
      "\u001b[34m\u001b[1mwandb\u001b[0m: \tuse_static_covariates: False\n",
      "Failed to detect the name of this notebook, you can set it manually with the WANDB_NOTEBOOK_NAME environment variable to enable code saving.\n"
     ]
    },
    {
     "data": {
      "text/html": [
       "Tracking run with wandb version 0.18.0"
      ],
      "text/plain": [
       "<IPython.core.display.HTML object>"
      ]
     },
     "metadata": {},
     "output_type": "display_data"
    },
    {
     "data": {
      "text/html": [
       "Run data is saved locally in <code>/home/wolffram/SARI-ML/realtime/wandb/run-20241218_171648-w9wqctoc</code>"
      ],
      "text/plain": [
       "<IPython.core.display.HTML object>"
      ]
     },
     "metadata": {},
     "output_type": "display_data"
    },
    {
     "data": {
      "text/html": [
       "Syncing run <strong><a href='https://wandb.ai/dwolffram-karlsruhe-institute-of-technology/sari-lightgbm/runs/w9wqctoc' target=\"_blank\">warm-sweep-58</a></strong> to <a href='https://wandb.ai/dwolffram-karlsruhe-institute-of-technology/sari-lightgbm' target=\"_blank\">Weights & Biases</a> (<a href='https://wandb.me/run' target=\"_blank\">docs</a>)<br/>Sweep page: <a href='https://wandb.ai/dwolffram-karlsruhe-institute-of-technology/sari-lightgbm/sweeps/04mzwpfu' target=\"_blank\">https://wandb.ai/dwolffram-karlsruhe-institute-of-technology/sari-lightgbm/sweeps/04mzwpfu</a>"
      ],
      "text/plain": [
       "<IPython.core.display.HTML object>"
      ]
     },
     "metadata": {},
     "output_type": "display_data"
    },
    {
     "data": {
      "text/html": [
       " View project at <a href='https://wandb.ai/dwolffram-karlsruhe-institute-of-technology/sari-lightgbm' target=\"_blank\">https://wandb.ai/dwolffram-karlsruhe-institute-of-technology/sari-lightgbm</a>"
      ],
      "text/plain": [
       "<IPython.core.display.HTML object>"
      ]
     },
     "metadata": {},
     "output_type": "display_data"
    },
    {
     "data": {
      "text/html": [
       " View sweep at <a href='https://wandb.ai/dwolffram-karlsruhe-institute-of-technology/sari-lightgbm/sweeps/04mzwpfu' target=\"_blank\">https://wandb.ai/dwolffram-karlsruhe-institute-of-technology/sari-lightgbm/sweeps/04mzwpfu</a>"
      ],
      "text/plain": [
       "<IPython.core.display.HTML object>"
      ]
     },
     "metadata": {},
     "output_type": "display_data"
    },
    {
     "data": {
      "text/html": [
       " View run at <a href='https://wandb.ai/dwolffram-karlsruhe-institute-of-technology/sari-lightgbm/runs/w9wqctoc' target=\"_blank\">https://wandb.ai/dwolffram-karlsruhe-institute-of-technology/sari-lightgbm/runs/w9wqctoc</a>"
      ],
      "text/plain": [
       "<IPython.core.display.HTML object>"
      ]
     },
     "metadata": {},
     "output_type": "display_data"
    },
    {
     "data": {
      "application/vnd.jupyter.widget-view+json": {
       "model_id": "1a7062b8d20f474da653f5024f5f8ab4",
       "version_major": 2,
       "version_minor": 0
      },
      "text/plain": [
       "VBox(children=(Label(value='0.006 MB of 0.006 MB uploaded\\r'), FloatProgress(value=1.0, max=1.0)))"
      ]
     },
     "metadata": {},
     "output_type": "display_data"
    },
    {
     "data": {
      "text/html": [
       "<style>\n",
       "    table.wandb td:nth-child(1) { padding: 0 10px; text-align: left ; width: auto;} td:nth-child(2) {text-align: left ; width: 100%}\n",
       "    .wandb-row { display: flex; flex-direction: row; flex-wrap: wrap; justify-content: flex-start; width: 100% }\n",
       "    .wandb-col { display: flex; flex-direction: column; flex-basis: 100%; flex: 1; padding: 10px; }\n",
       "    </style>\n",
       "<div class=\"wandb-row\"><div class=\"wandb-col\"><h3>Run history:</h3><br/><table class=\"wandb\"><tr><td>WIS</td><td>▁</td></tr><tr><td>WIS_2022</td><td>▁</td></tr><tr><td>WIS_2022_1</td><td>▁</td></tr><tr><td>WIS_std</td><td>▁</td></tr><tr><td>WIS_std_2022</td><td>▁</td></tr></table><br/></div><div class=\"wandb-col\"><h3>Run summary:</h3><br/><table class=\"wandb\"><tr><td>WIS</td><td>468.82307</td></tr><tr><td>WIS_2022</td><td>468.82307</td></tr><tr><td>WIS_2022_1</td><td>468.82307</td></tr><tr><td>WIS_std</td><td>0</td></tr><tr><td>WIS_std_2022</td><td>0</td></tr></table><br/></div></div>"
      ],
      "text/plain": [
       "<IPython.core.display.HTML object>"
      ]
     },
     "metadata": {},
     "output_type": "display_data"
    },
    {
     "data": {
      "text/html": [
       " View run <strong style=\"color:#cdcd00\">warm-sweep-58</strong> at: <a href='https://wandb.ai/dwolffram-karlsruhe-institute-of-technology/sari-lightgbm/runs/w9wqctoc' target=\"_blank\">https://wandb.ai/dwolffram-karlsruhe-institute-of-technology/sari-lightgbm/runs/w9wqctoc</a><br/> View project at: <a href='https://wandb.ai/dwolffram-karlsruhe-institute-of-technology/sari-lightgbm' target=\"_blank\">https://wandb.ai/dwolffram-karlsruhe-institute-of-technology/sari-lightgbm</a><br/>Synced 5 W&B file(s), 0 media file(s), 0 artifact file(s) and 0 other file(s)"
      ],
      "text/plain": [
       "<IPython.core.display.HTML object>"
      ]
     },
     "metadata": {},
     "output_type": "display_data"
    },
    {
     "data": {
      "text/html": [
       "Find logs at: <code>./wandb/run-20241218_171648-w9wqctoc/logs</code>"
      ],
      "text/plain": [
       "<IPython.core.display.HTML object>"
      ]
     },
     "metadata": {},
     "output_type": "display_data"
    },
    {
     "data": {
      "text/html": [
       "There is a new version of wandb available. Please upgrade to wandb==0.19.0"
      ],
      "text/plain": [
       "<IPython.core.display.HTML object>"
      ]
     },
     "metadata": {},
     "output_type": "display_data"
    },
    {
     "name": "stderr",
     "output_type": "stream",
     "text": [
      "\u001b[34m\u001b[1mwandb\u001b[0m: Agent Starting Run: 3tv8wac0 with config:\n",
      "\u001b[34m\u001b[1mwandb\u001b[0m: \tcolsample_bytree: 0.8\n",
      "\u001b[34m\u001b[1mwandb\u001b[0m: \tlags: 8\n",
      "\u001b[34m\u001b[1mwandb\u001b[0m: \tlags_future_covariates: [0, 1]\n",
      "\u001b[34m\u001b[1mwandb\u001b[0m: \tlags_past_covariates: {'agi-are-00-04': 8, 'agi-are-05-14': 8, 'agi-are-15-34': 8, 'agi-are-35-59': 8, 'agi-are-60+': 8, 'agi-are-DE': 8, 'default_lags': 1}\n",
      "\u001b[34m\u001b[1mwandb\u001b[0m: \tlearning_rate: 0.01\n",
      "\u001b[34m\u001b[1mwandb\u001b[0m: \tmax_bin: 1024\n",
      "\u001b[34m\u001b[1mwandb\u001b[0m: \tmax_depth: -1\n",
      "\u001b[34m\u001b[1mwandb\u001b[0m: \tmin_child_samples: 10\n",
      "\u001b[34m\u001b[1mwandb\u001b[0m: \tmin_split_gain: 0\n",
      "\u001b[34m\u001b[1mwandb\u001b[0m: \tmodel: lightgbm\n",
      "\u001b[34m\u001b[1mwandb\u001b[0m: \tmultiple_series: False\n",
      "\u001b[34m\u001b[1mwandb\u001b[0m: \tn_estimators: 500\n",
      "\u001b[34m\u001b[1mwandb\u001b[0m: \tnum_leaves: 31\n",
      "\u001b[34m\u001b[1mwandb\u001b[0m: \treg_alpha: 0.5\n",
      "\u001b[34m\u001b[1mwandb\u001b[0m: \treg_lambda: 1\n",
      "\u001b[34m\u001b[1mwandb\u001b[0m: \tsample_weight: no-covid\n",
      "\u001b[34m\u001b[1mwandb\u001b[0m: \tsubsample: 0.8\n",
      "\u001b[34m\u001b[1mwandb\u001b[0m: \tsubsample_freq: 1\n",
      "\u001b[34m\u001b[1mwandb\u001b[0m: \tuse_covariates: True\n",
      "\u001b[34m\u001b[1mwandb\u001b[0m: \tuse_encoders: True\n",
      "\u001b[34m\u001b[1mwandb\u001b[0m: \tuse_features: False\n",
      "\u001b[34m\u001b[1mwandb\u001b[0m: \tuse_static_covariates: False\n",
      "Failed to detect the name of this notebook, you can set it manually with the WANDB_NOTEBOOK_NAME environment variable to enable code saving.\n"
     ]
    },
    {
     "data": {
      "text/html": [
       "Tracking run with wandb version 0.18.0"
      ],
      "text/plain": [
       "<IPython.core.display.HTML object>"
      ]
     },
     "metadata": {},
     "output_type": "display_data"
    },
    {
     "data": {
      "text/html": [
       "Run data is saved locally in <code>/home/wolffram/SARI-ML/realtime/wandb/run-20241218_171745-3tv8wac0</code>"
      ],
      "text/plain": [
       "<IPython.core.display.HTML object>"
      ]
     },
     "metadata": {},
     "output_type": "display_data"
    },
    {
     "data": {
      "text/html": [
       "Syncing run <strong><a href='https://wandb.ai/dwolffram-karlsruhe-institute-of-technology/sari-lightgbm/runs/3tv8wac0' target=\"_blank\">dashing-sweep-59</a></strong> to <a href='https://wandb.ai/dwolffram-karlsruhe-institute-of-technology/sari-lightgbm' target=\"_blank\">Weights & Biases</a> (<a href='https://wandb.me/run' target=\"_blank\">docs</a>)<br/>Sweep page: <a href='https://wandb.ai/dwolffram-karlsruhe-institute-of-technology/sari-lightgbm/sweeps/04mzwpfu' target=\"_blank\">https://wandb.ai/dwolffram-karlsruhe-institute-of-technology/sari-lightgbm/sweeps/04mzwpfu</a>"
      ],
      "text/plain": [
       "<IPython.core.display.HTML object>"
      ]
     },
     "metadata": {},
     "output_type": "display_data"
    },
    {
     "data": {
      "text/html": [
       " View project at <a href='https://wandb.ai/dwolffram-karlsruhe-institute-of-technology/sari-lightgbm' target=\"_blank\">https://wandb.ai/dwolffram-karlsruhe-institute-of-technology/sari-lightgbm</a>"
      ],
      "text/plain": [
       "<IPython.core.display.HTML object>"
      ]
     },
     "metadata": {},
     "output_type": "display_data"
    },
    {
     "data": {
      "text/html": [
       " View sweep at <a href='https://wandb.ai/dwolffram-karlsruhe-institute-of-technology/sari-lightgbm/sweeps/04mzwpfu' target=\"_blank\">https://wandb.ai/dwolffram-karlsruhe-institute-of-technology/sari-lightgbm/sweeps/04mzwpfu</a>"
      ],
      "text/plain": [
       "<IPython.core.display.HTML object>"
      ]
     },
     "metadata": {},
     "output_type": "display_data"
    },
    {
     "data": {
      "text/html": [
       " View run at <a href='https://wandb.ai/dwolffram-karlsruhe-institute-of-technology/sari-lightgbm/runs/3tv8wac0' target=\"_blank\">https://wandb.ai/dwolffram-karlsruhe-institute-of-technology/sari-lightgbm/runs/3tv8wac0</a>"
      ],
      "text/plain": [
       "<IPython.core.display.HTML object>"
      ]
     },
     "metadata": {},
     "output_type": "display_data"
    },
    {
     "data": {
      "application/vnd.jupyter.widget-view+json": {
       "model_id": "f7e5e3dca3054f4da2182fc133ea56e7",
       "version_major": 2,
       "version_minor": 0
      },
      "text/plain": [
       "VBox(children=(Label(value='0.006 MB of 0.006 MB uploaded\\r'), FloatProgress(value=1.0, max=1.0)))"
      ]
     },
     "metadata": {},
     "output_type": "display_data"
    },
    {
     "data": {
      "text/html": [
       "<style>\n",
       "    table.wandb td:nth-child(1) { padding: 0 10px; text-align: left ; width: auto;} td:nth-child(2) {text-align: left ; width: 100%}\n",
       "    .wandb-row { display: flex; flex-direction: row; flex-wrap: wrap; justify-content: flex-start; width: 100% }\n",
       "    .wandb-col { display: flex; flex-direction: column; flex-basis: 100%; flex: 1; padding: 10px; }\n",
       "    </style>\n",
       "<div class=\"wandb-row\"><div class=\"wandb-col\"><h3>Run history:</h3><br/><table class=\"wandb\"><tr><td>WIS</td><td>▁</td></tr><tr><td>WIS_2022</td><td>▁</td></tr><tr><td>WIS_2022_1</td><td>▁</td></tr><tr><td>WIS_std</td><td>▁</td></tr><tr><td>WIS_std_2022</td><td>▁</td></tr></table><br/></div><div class=\"wandb-col\"><h3>Run summary:</h3><br/><table class=\"wandb\"><tr><td>WIS</td><td>467.42336</td></tr><tr><td>WIS_2022</td><td>467.42336</td></tr><tr><td>WIS_2022_1</td><td>467.42336</td></tr><tr><td>WIS_std</td><td>0</td></tr><tr><td>WIS_std_2022</td><td>0</td></tr></table><br/></div></div>"
      ],
      "text/plain": [
       "<IPython.core.display.HTML object>"
      ]
     },
     "metadata": {},
     "output_type": "display_data"
    },
    {
     "data": {
      "text/html": [
       " View run <strong style=\"color:#cdcd00\">dashing-sweep-59</strong> at: <a href='https://wandb.ai/dwolffram-karlsruhe-institute-of-technology/sari-lightgbm/runs/3tv8wac0' target=\"_blank\">https://wandb.ai/dwolffram-karlsruhe-institute-of-technology/sari-lightgbm/runs/3tv8wac0</a><br/> View project at: <a href='https://wandb.ai/dwolffram-karlsruhe-institute-of-technology/sari-lightgbm' target=\"_blank\">https://wandb.ai/dwolffram-karlsruhe-institute-of-technology/sari-lightgbm</a><br/>Synced 5 W&B file(s), 0 media file(s), 0 artifact file(s) and 0 other file(s)"
      ],
      "text/plain": [
       "<IPython.core.display.HTML object>"
      ]
     },
     "metadata": {},
     "output_type": "display_data"
    },
    {
     "data": {
      "text/html": [
       "Find logs at: <code>./wandb/run-20241218_171745-3tv8wac0/logs</code>"
      ],
      "text/plain": [
       "<IPython.core.display.HTML object>"
      ]
     },
     "metadata": {},
     "output_type": "display_data"
    },
    {
     "data": {
      "text/html": [
       "There is a new version of wandb available. Please upgrade to wandb==0.19.0"
      ],
      "text/plain": [
       "<IPython.core.display.HTML object>"
      ]
     },
     "metadata": {},
     "output_type": "display_data"
    },
    {
     "name": "stderr",
     "output_type": "stream",
     "text": [
      "\u001b[34m\u001b[1mwandb\u001b[0m: Agent Starting Run: xnw6688l with config:\n",
      "\u001b[34m\u001b[1mwandb\u001b[0m: \tcolsample_bytree: 0.8\n",
      "\u001b[34m\u001b[1mwandb\u001b[0m: \tlags: 8\n",
      "\u001b[34m\u001b[1mwandb\u001b[0m: \tlags_future_covariates: [0, 1]\n",
      "\u001b[34m\u001b[1mwandb\u001b[0m: \tlags_past_covariates: {'agi-are-00-04': 8, 'agi-are-05-14': 8, 'agi-are-15-34': 8, 'agi-are-35-59': 8, 'agi-are-60+': 8, 'agi-are-DE': 8, 'default_lags': 1}\n",
      "\u001b[34m\u001b[1mwandb\u001b[0m: \tlearning_rate: 0.01\n",
      "\u001b[34m\u001b[1mwandb\u001b[0m: \tmax_bin: 1024\n",
      "\u001b[34m\u001b[1mwandb\u001b[0m: \tmax_depth: -1\n",
      "\u001b[34m\u001b[1mwandb\u001b[0m: \tmin_child_samples: 10\n",
      "\u001b[34m\u001b[1mwandb\u001b[0m: \tmin_split_gain: 0\n",
      "\u001b[34m\u001b[1mwandb\u001b[0m: \tmodel: lightgbm\n",
      "\u001b[34m\u001b[1mwandb\u001b[0m: \tmultiple_series: False\n",
      "\u001b[34m\u001b[1mwandb\u001b[0m: \tn_estimators: 500\n",
      "\u001b[34m\u001b[1mwandb\u001b[0m: \tnum_leaves: 31\n",
      "\u001b[34m\u001b[1mwandb\u001b[0m: \treg_alpha: 0.5\n",
      "\u001b[34m\u001b[1mwandb\u001b[0m: \treg_lambda: 1\n",
      "\u001b[34m\u001b[1mwandb\u001b[0m: \tsample_weight: no-covid\n",
      "\u001b[34m\u001b[1mwandb\u001b[0m: \tsubsample: 0.8\n",
      "\u001b[34m\u001b[1mwandb\u001b[0m: \tsubsample_freq: 1\n",
      "\u001b[34m\u001b[1mwandb\u001b[0m: \tuse_covariates: False\n",
      "\u001b[34m\u001b[1mwandb\u001b[0m: \tuse_encoders: True\n",
      "\u001b[34m\u001b[1mwandb\u001b[0m: \tuse_features: False\n",
      "\u001b[34m\u001b[1mwandb\u001b[0m: \tuse_static_covariates: False\n",
      "Failed to detect the name of this notebook, you can set it manually with the WANDB_NOTEBOOK_NAME environment variable to enable code saving.\n"
     ]
    },
    {
     "data": {
      "text/html": [
       "Tracking run with wandb version 0.18.0"
      ],
      "text/plain": [
       "<IPython.core.display.HTML object>"
      ]
     },
     "metadata": {},
     "output_type": "display_data"
    },
    {
     "data": {
      "text/html": [
       "Run data is saved locally in <code>/home/wolffram/SARI-ML/realtime/wandb/run-20241218_171831-xnw6688l</code>"
      ],
      "text/plain": [
       "<IPython.core.display.HTML object>"
      ]
     },
     "metadata": {},
     "output_type": "display_data"
    },
    {
     "data": {
      "text/html": [
       "Syncing run <strong><a href='https://wandb.ai/dwolffram-karlsruhe-institute-of-technology/sari-lightgbm/runs/xnw6688l' target=\"_blank\">twilight-sweep-60</a></strong> to <a href='https://wandb.ai/dwolffram-karlsruhe-institute-of-technology/sari-lightgbm' target=\"_blank\">Weights & Biases</a> (<a href='https://wandb.me/run' target=\"_blank\">docs</a>)<br/>Sweep page: <a href='https://wandb.ai/dwolffram-karlsruhe-institute-of-technology/sari-lightgbm/sweeps/04mzwpfu' target=\"_blank\">https://wandb.ai/dwolffram-karlsruhe-institute-of-technology/sari-lightgbm/sweeps/04mzwpfu</a>"
      ],
      "text/plain": [
       "<IPython.core.display.HTML object>"
      ]
     },
     "metadata": {},
     "output_type": "display_data"
    },
    {
     "data": {
      "text/html": [
       " View project at <a href='https://wandb.ai/dwolffram-karlsruhe-institute-of-technology/sari-lightgbm' target=\"_blank\">https://wandb.ai/dwolffram-karlsruhe-institute-of-technology/sari-lightgbm</a>"
      ],
      "text/plain": [
       "<IPython.core.display.HTML object>"
      ]
     },
     "metadata": {},
     "output_type": "display_data"
    },
    {
     "data": {
      "text/html": [
       " View sweep at <a href='https://wandb.ai/dwolffram-karlsruhe-institute-of-technology/sari-lightgbm/sweeps/04mzwpfu' target=\"_blank\">https://wandb.ai/dwolffram-karlsruhe-institute-of-technology/sari-lightgbm/sweeps/04mzwpfu</a>"
      ],
      "text/plain": [
       "<IPython.core.display.HTML object>"
      ]
     },
     "metadata": {},
     "output_type": "display_data"
    },
    {
     "data": {
      "text/html": [
       " View run at <a href='https://wandb.ai/dwolffram-karlsruhe-institute-of-technology/sari-lightgbm/runs/xnw6688l' target=\"_blank\">https://wandb.ai/dwolffram-karlsruhe-institute-of-technology/sari-lightgbm/runs/xnw6688l</a>"
      ],
      "text/plain": [
       "<IPython.core.display.HTML object>"
      ]
     },
     "metadata": {},
     "output_type": "display_data"
    },
    {
     "data": {
      "application/vnd.jupyter.widget-view+json": {
       "model_id": "0ea8a76b5ea34f3bb3c6bd3ef5d03131",
       "version_major": 2,
       "version_minor": 0
      },
      "text/plain": [
       "VBox(children=(Label(value='0.006 MB of 0.006 MB uploaded\\r'), FloatProgress(value=1.0, max=1.0)))"
      ]
     },
     "metadata": {},
     "output_type": "display_data"
    },
    {
     "data": {
      "text/html": [
       "<style>\n",
       "    table.wandb td:nth-child(1) { padding: 0 10px; text-align: left ; width: auto;} td:nth-child(2) {text-align: left ; width: 100%}\n",
       "    .wandb-row { display: flex; flex-direction: row; flex-wrap: wrap; justify-content: flex-start; width: 100% }\n",
       "    .wandb-col { display: flex; flex-direction: column; flex-basis: 100%; flex: 1; padding: 10px; }\n",
       "    </style>\n",
       "<div class=\"wandb-row\"><div class=\"wandb-col\"><h3>Run history:</h3><br/><table class=\"wandb\"><tr><td>WIS</td><td>▁</td></tr><tr><td>WIS_2022</td><td>▁</td></tr><tr><td>WIS_2022_1</td><td>▁</td></tr><tr><td>WIS_std</td><td>▁</td></tr><tr><td>WIS_std_2022</td><td>▁</td></tr></table><br/></div><div class=\"wandb-col\"><h3>Run summary:</h3><br/><table class=\"wandb\"><tr><td>WIS</td><td>517.67467</td></tr><tr><td>WIS_2022</td><td>517.67467</td></tr><tr><td>WIS_2022_1</td><td>517.67467</td></tr><tr><td>WIS_std</td><td>0</td></tr><tr><td>WIS_std_2022</td><td>0</td></tr></table><br/></div></div>"
      ],
      "text/plain": [
       "<IPython.core.display.HTML object>"
      ]
     },
     "metadata": {},
     "output_type": "display_data"
    },
    {
     "data": {
      "text/html": [
       " View run <strong style=\"color:#cdcd00\">twilight-sweep-60</strong> at: <a href='https://wandb.ai/dwolffram-karlsruhe-institute-of-technology/sari-lightgbm/runs/xnw6688l' target=\"_blank\">https://wandb.ai/dwolffram-karlsruhe-institute-of-technology/sari-lightgbm/runs/xnw6688l</a><br/> View project at: <a href='https://wandb.ai/dwolffram-karlsruhe-institute-of-technology/sari-lightgbm' target=\"_blank\">https://wandb.ai/dwolffram-karlsruhe-institute-of-technology/sari-lightgbm</a><br/>Synced 5 W&B file(s), 0 media file(s), 0 artifact file(s) and 0 other file(s)"
      ],
      "text/plain": [
       "<IPython.core.display.HTML object>"
      ]
     },
     "metadata": {},
     "output_type": "display_data"
    },
    {
     "data": {
      "text/html": [
       "Find logs at: <code>./wandb/run-20241218_171831-xnw6688l/logs</code>"
      ],
      "text/plain": [
       "<IPython.core.display.HTML object>"
      ]
     },
     "metadata": {},
     "output_type": "display_data"
    },
    {
     "data": {
      "text/html": [
       "There is a new version of wandb available. Please upgrade to wandb==0.19.0"
      ],
      "text/plain": [
       "<IPython.core.display.HTML object>"
      ]
     },
     "metadata": {},
     "output_type": "display_data"
    },
    {
     "name": "stderr",
     "output_type": "stream",
     "text": [
      "\u001b[34m\u001b[1mwandb\u001b[0m: Agent Starting Run: m8hkctyi with config:\n",
      "\u001b[34m\u001b[1mwandb\u001b[0m: \tcolsample_bytree: 0.8\n",
      "\u001b[34m\u001b[1mwandb\u001b[0m: \tlags: 8\n",
      "\u001b[34m\u001b[1mwandb\u001b[0m: \tlags_future_covariates: [0, 1]\n",
      "\u001b[34m\u001b[1mwandb\u001b[0m: \tlags_past_covariates: {'agi-are-00-04': 8, 'agi-are-05-14': 8, 'agi-are-15-34': 8, 'agi-are-35-59': 8, 'agi-are-60+': 8, 'agi-are-DE': 8, 'default_lags': 1}\n",
      "\u001b[34m\u001b[1mwandb\u001b[0m: \tlearning_rate: 0.01\n",
      "\u001b[34m\u001b[1mwandb\u001b[0m: \tmax_bin: 1024\n",
      "\u001b[34m\u001b[1mwandb\u001b[0m: \tmax_depth: -1\n",
      "\u001b[34m\u001b[1mwandb\u001b[0m: \tmin_child_samples: 10\n",
      "\u001b[34m\u001b[1mwandb\u001b[0m: \tmin_split_gain: 0\n",
      "\u001b[34m\u001b[1mwandb\u001b[0m: \tmodel: lightgbm\n",
      "\u001b[34m\u001b[1mwandb\u001b[0m: \tmultiple_series: False\n",
      "\u001b[34m\u001b[1mwandb\u001b[0m: \tn_estimators: 500\n",
      "\u001b[34m\u001b[1mwandb\u001b[0m: \tnum_leaves: 31\n",
      "\u001b[34m\u001b[1mwandb\u001b[0m: \treg_alpha: 1\n",
      "\u001b[34m\u001b[1mwandb\u001b[0m: \treg_lambda: 0\n",
      "\u001b[34m\u001b[1mwandb\u001b[0m: \tsample_weight: linear\n",
      "\u001b[34m\u001b[1mwandb\u001b[0m: \tsubsample: 0.8\n",
      "\u001b[34m\u001b[1mwandb\u001b[0m: \tsubsample_freq: 1\n",
      "\u001b[34m\u001b[1mwandb\u001b[0m: \tuse_covariates: True\n",
      "\u001b[34m\u001b[1mwandb\u001b[0m: \tuse_encoders: True\n",
      "\u001b[34m\u001b[1mwandb\u001b[0m: \tuse_features: False\n",
      "\u001b[34m\u001b[1mwandb\u001b[0m: \tuse_static_covariates: False\n",
      "Failed to detect the name of this notebook, you can set it manually with the WANDB_NOTEBOOK_NAME environment variable to enable code saving.\n"
     ]
    },
    {
     "data": {
      "text/html": [
       "Tracking run with wandb version 0.18.0"
      ],
      "text/plain": [
       "<IPython.core.display.HTML object>"
      ]
     },
     "metadata": {},
     "output_type": "display_data"
    },
    {
     "data": {
      "text/html": [
       "Run data is saved locally in <code>/home/wolffram/SARI-ML/realtime/wandb/run-20241218_171913-m8hkctyi</code>"
      ],
      "text/plain": [
       "<IPython.core.display.HTML object>"
      ]
     },
     "metadata": {},
     "output_type": "display_data"
    },
    {
     "data": {
      "text/html": [
       "Syncing run <strong><a href='https://wandb.ai/dwolffram-karlsruhe-institute-of-technology/sari-lightgbm/runs/m8hkctyi' target=\"_blank\">rural-sweep-61</a></strong> to <a href='https://wandb.ai/dwolffram-karlsruhe-institute-of-technology/sari-lightgbm' target=\"_blank\">Weights & Biases</a> (<a href='https://wandb.me/run' target=\"_blank\">docs</a>)<br/>Sweep page: <a href='https://wandb.ai/dwolffram-karlsruhe-institute-of-technology/sari-lightgbm/sweeps/04mzwpfu' target=\"_blank\">https://wandb.ai/dwolffram-karlsruhe-institute-of-technology/sari-lightgbm/sweeps/04mzwpfu</a>"
      ],
      "text/plain": [
       "<IPython.core.display.HTML object>"
      ]
     },
     "metadata": {},
     "output_type": "display_data"
    },
    {
     "data": {
      "text/html": [
       " View project at <a href='https://wandb.ai/dwolffram-karlsruhe-institute-of-technology/sari-lightgbm' target=\"_blank\">https://wandb.ai/dwolffram-karlsruhe-institute-of-technology/sari-lightgbm</a>"
      ],
      "text/plain": [
       "<IPython.core.display.HTML object>"
      ]
     },
     "metadata": {},
     "output_type": "display_data"
    },
    {
     "data": {
      "text/html": [
       " View sweep at <a href='https://wandb.ai/dwolffram-karlsruhe-institute-of-technology/sari-lightgbm/sweeps/04mzwpfu' target=\"_blank\">https://wandb.ai/dwolffram-karlsruhe-institute-of-technology/sari-lightgbm/sweeps/04mzwpfu</a>"
      ],
      "text/plain": [
       "<IPython.core.display.HTML object>"
      ]
     },
     "metadata": {},
     "output_type": "display_data"
    },
    {
     "data": {
      "text/html": [
       " View run at <a href='https://wandb.ai/dwolffram-karlsruhe-institute-of-technology/sari-lightgbm/runs/m8hkctyi' target=\"_blank\">https://wandb.ai/dwolffram-karlsruhe-institute-of-technology/sari-lightgbm/runs/m8hkctyi</a>"
      ],
      "text/plain": [
       "<IPython.core.display.HTML object>"
      ]
     },
     "metadata": {},
     "output_type": "display_data"
    },
    {
     "data": {
      "application/vnd.jupyter.widget-view+json": {
       "model_id": "79141115b0b2467186cf42817962ccc4",
       "version_major": 2,
       "version_minor": 0
      },
      "text/plain": [
       "VBox(children=(Label(value='0.006 MB of 0.006 MB uploaded\\r'), FloatProgress(value=1.0, max=1.0)))"
      ]
     },
     "metadata": {},
     "output_type": "display_data"
    },
    {
     "data": {
      "text/html": [
       "<style>\n",
       "    table.wandb td:nth-child(1) { padding: 0 10px; text-align: left ; width: auto;} td:nth-child(2) {text-align: left ; width: 100%}\n",
       "    .wandb-row { display: flex; flex-direction: row; flex-wrap: wrap; justify-content: flex-start; width: 100% }\n",
       "    .wandb-col { display: flex; flex-direction: column; flex-basis: 100%; flex: 1; padding: 10px; }\n",
       "    </style>\n",
       "<div class=\"wandb-row\"><div class=\"wandb-col\"><h3>Run history:</h3><br/><table class=\"wandb\"><tr><td>WIS</td><td>▁</td></tr><tr><td>WIS_2022</td><td>▁</td></tr><tr><td>WIS_2022_1</td><td>▁</td></tr><tr><td>WIS_std</td><td>▁</td></tr><tr><td>WIS_std_2022</td><td>▁</td></tr></table><br/></div><div class=\"wandb-col\"><h3>Run summary:</h3><br/><table class=\"wandb\"><tr><td>WIS</td><td>458.27484</td></tr><tr><td>WIS_2022</td><td>458.27484</td></tr><tr><td>WIS_2022_1</td><td>458.27484</td></tr><tr><td>WIS_std</td><td>0</td></tr><tr><td>WIS_std_2022</td><td>0</td></tr></table><br/></div></div>"
      ],
      "text/plain": [
       "<IPython.core.display.HTML object>"
      ]
     },
     "metadata": {},
     "output_type": "display_data"
    },
    {
     "data": {
      "text/html": [
       " View run <strong style=\"color:#cdcd00\">rural-sweep-61</strong> at: <a href='https://wandb.ai/dwolffram-karlsruhe-institute-of-technology/sari-lightgbm/runs/m8hkctyi' target=\"_blank\">https://wandb.ai/dwolffram-karlsruhe-institute-of-technology/sari-lightgbm/runs/m8hkctyi</a><br/> View project at: <a href='https://wandb.ai/dwolffram-karlsruhe-institute-of-technology/sari-lightgbm' target=\"_blank\">https://wandb.ai/dwolffram-karlsruhe-institute-of-technology/sari-lightgbm</a><br/>Synced 5 W&B file(s), 0 media file(s), 0 artifact file(s) and 0 other file(s)"
      ],
      "text/plain": [
       "<IPython.core.display.HTML object>"
      ]
     },
     "metadata": {},
     "output_type": "display_data"
    },
    {
     "data": {
      "text/html": [
       "Find logs at: <code>./wandb/run-20241218_171913-m8hkctyi/logs</code>"
      ],
      "text/plain": [
       "<IPython.core.display.HTML object>"
      ]
     },
     "metadata": {},
     "output_type": "display_data"
    },
    {
     "data": {
      "text/html": [
       "There is a new version of wandb available. Please upgrade to wandb==0.19.0"
      ],
      "text/plain": [
       "<IPython.core.display.HTML object>"
      ]
     },
     "metadata": {},
     "output_type": "display_data"
    },
    {
     "name": "stderr",
     "output_type": "stream",
     "text": [
      "\u001b[34m\u001b[1mwandb\u001b[0m: Agent Starting Run: jvdl1tm2 with config:\n",
      "\u001b[34m\u001b[1mwandb\u001b[0m: \tcolsample_bytree: 0.8\n",
      "\u001b[34m\u001b[1mwandb\u001b[0m: \tlags: 8\n",
      "\u001b[34m\u001b[1mwandb\u001b[0m: \tlags_future_covariates: [0, 1]\n",
      "\u001b[34m\u001b[1mwandb\u001b[0m: \tlags_past_covariates: {'agi-are-00-04': 8, 'agi-are-05-14': 8, 'agi-are-15-34': 8, 'agi-are-35-59': 8, 'agi-are-60+': 8, 'agi-are-DE': 8, 'default_lags': 1}\n",
      "\u001b[34m\u001b[1mwandb\u001b[0m: \tlearning_rate: 0.01\n",
      "\u001b[34m\u001b[1mwandb\u001b[0m: \tmax_bin: 1024\n",
      "\u001b[34m\u001b[1mwandb\u001b[0m: \tmax_depth: -1\n",
      "\u001b[34m\u001b[1mwandb\u001b[0m: \tmin_child_samples: 10\n",
      "\u001b[34m\u001b[1mwandb\u001b[0m: \tmin_split_gain: 0\n",
      "\u001b[34m\u001b[1mwandb\u001b[0m: \tmodel: lightgbm\n",
      "\u001b[34m\u001b[1mwandb\u001b[0m: \tmultiple_series: False\n",
      "\u001b[34m\u001b[1mwandb\u001b[0m: \tn_estimators: 500\n",
      "\u001b[34m\u001b[1mwandb\u001b[0m: \tnum_leaves: 31\n",
      "\u001b[34m\u001b[1mwandb\u001b[0m: \treg_alpha: 1\n",
      "\u001b[34m\u001b[1mwandb\u001b[0m: \treg_lambda: 0\n",
      "\u001b[34m\u001b[1mwandb\u001b[0m: \tsample_weight: linear\n",
      "\u001b[34m\u001b[1mwandb\u001b[0m: \tsubsample: 0.8\n",
      "\u001b[34m\u001b[1mwandb\u001b[0m: \tsubsample_freq: 1\n",
      "\u001b[34m\u001b[1mwandb\u001b[0m: \tuse_covariates: False\n",
      "\u001b[34m\u001b[1mwandb\u001b[0m: \tuse_encoders: True\n",
      "\u001b[34m\u001b[1mwandb\u001b[0m: \tuse_features: False\n",
      "\u001b[34m\u001b[1mwandb\u001b[0m: \tuse_static_covariates: False\n",
      "Failed to detect the name of this notebook, you can set it manually with the WANDB_NOTEBOOK_NAME environment variable to enable code saving.\n"
     ]
    },
    {
     "data": {
      "text/html": [
       "Tracking run with wandb version 0.18.0"
      ],
      "text/plain": [
       "<IPython.core.display.HTML object>"
      ]
     },
     "metadata": {},
     "output_type": "display_data"
    },
    {
     "data": {
      "text/html": [
       "Run data is saved locally in <code>/home/wolffram/SARI-ML/realtime/wandb/run-20241218_172004-jvdl1tm2</code>"
      ],
      "text/plain": [
       "<IPython.core.display.HTML object>"
      ]
     },
     "metadata": {},
     "output_type": "display_data"
    },
    {
     "data": {
      "text/html": [
       "Syncing run <strong><a href='https://wandb.ai/dwolffram-karlsruhe-institute-of-technology/sari-lightgbm/runs/jvdl1tm2' target=\"_blank\">wise-sweep-62</a></strong> to <a href='https://wandb.ai/dwolffram-karlsruhe-institute-of-technology/sari-lightgbm' target=\"_blank\">Weights & Biases</a> (<a href='https://wandb.me/run' target=\"_blank\">docs</a>)<br/>Sweep page: <a href='https://wandb.ai/dwolffram-karlsruhe-institute-of-technology/sari-lightgbm/sweeps/04mzwpfu' target=\"_blank\">https://wandb.ai/dwolffram-karlsruhe-institute-of-technology/sari-lightgbm/sweeps/04mzwpfu</a>"
      ],
      "text/plain": [
       "<IPython.core.display.HTML object>"
      ]
     },
     "metadata": {},
     "output_type": "display_data"
    },
    {
     "data": {
      "text/html": [
       " View project at <a href='https://wandb.ai/dwolffram-karlsruhe-institute-of-technology/sari-lightgbm' target=\"_blank\">https://wandb.ai/dwolffram-karlsruhe-institute-of-technology/sari-lightgbm</a>"
      ],
      "text/plain": [
       "<IPython.core.display.HTML object>"
      ]
     },
     "metadata": {},
     "output_type": "display_data"
    },
    {
     "data": {
      "text/html": [
       " View sweep at <a href='https://wandb.ai/dwolffram-karlsruhe-institute-of-technology/sari-lightgbm/sweeps/04mzwpfu' target=\"_blank\">https://wandb.ai/dwolffram-karlsruhe-institute-of-technology/sari-lightgbm/sweeps/04mzwpfu</a>"
      ],
      "text/plain": [
       "<IPython.core.display.HTML object>"
      ]
     },
     "metadata": {},
     "output_type": "display_data"
    },
    {
     "data": {
      "text/html": [
       " View run at <a href='https://wandb.ai/dwolffram-karlsruhe-institute-of-technology/sari-lightgbm/runs/jvdl1tm2' target=\"_blank\">https://wandb.ai/dwolffram-karlsruhe-institute-of-technology/sari-lightgbm/runs/jvdl1tm2</a>"
      ],
      "text/plain": [
       "<IPython.core.display.HTML object>"
      ]
     },
     "metadata": {},
     "output_type": "display_data"
    },
    {
     "data": {
      "application/vnd.jupyter.widget-view+json": {
       "model_id": "c340a9dc3bee48dfa176bf1174c8812f",
       "version_major": 2,
       "version_minor": 0
      },
      "text/plain": [
       "VBox(children=(Label(value='0.006 MB of 0.006 MB uploaded\\r'), FloatProgress(value=1.0, max=1.0)))"
      ]
     },
     "metadata": {},
     "output_type": "display_data"
    },
    {
     "data": {
      "text/html": [
       "<style>\n",
       "    table.wandb td:nth-child(1) { padding: 0 10px; text-align: left ; width: auto;} td:nth-child(2) {text-align: left ; width: 100%}\n",
       "    .wandb-row { display: flex; flex-direction: row; flex-wrap: wrap; justify-content: flex-start; width: 100% }\n",
       "    .wandb-col { display: flex; flex-direction: column; flex-basis: 100%; flex: 1; padding: 10px; }\n",
       "    </style>\n",
       "<div class=\"wandb-row\"><div class=\"wandb-col\"><h3>Run history:</h3><br/><table class=\"wandb\"><tr><td>WIS</td><td>▁</td></tr><tr><td>WIS_2022</td><td>▁</td></tr><tr><td>WIS_2022_1</td><td>▁</td></tr><tr><td>WIS_std</td><td>▁</td></tr><tr><td>WIS_std_2022</td><td>▁</td></tr></table><br/></div><div class=\"wandb-col\"><h3>Run summary:</h3><br/><table class=\"wandb\"><tr><td>WIS</td><td>470.72198</td></tr><tr><td>WIS_2022</td><td>470.72198</td></tr><tr><td>WIS_2022_1</td><td>470.72198</td></tr><tr><td>WIS_std</td><td>0</td></tr><tr><td>WIS_std_2022</td><td>0</td></tr></table><br/></div></div>"
      ],
      "text/plain": [
       "<IPython.core.display.HTML object>"
      ]
     },
     "metadata": {},
     "output_type": "display_data"
    },
    {
     "data": {
      "text/html": [
       " View run <strong style=\"color:#cdcd00\">wise-sweep-62</strong> at: <a href='https://wandb.ai/dwolffram-karlsruhe-institute-of-technology/sari-lightgbm/runs/jvdl1tm2' target=\"_blank\">https://wandb.ai/dwolffram-karlsruhe-institute-of-technology/sari-lightgbm/runs/jvdl1tm2</a><br/> View project at: <a href='https://wandb.ai/dwolffram-karlsruhe-institute-of-technology/sari-lightgbm' target=\"_blank\">https://wandb.ai/dwolffram-karlsruhe-institute-of-technology/sari-lightgbm</a><br/>Synced 5 W&B file(s), 0 media file(s), 0 artifact file(s) and 0 other file(s)"
      ],
      "text/plain": [
       "<IPython.core.display.HTML object>"
      ]
     },
     "metadata": {},
     "output_type": "display_data"
    },
    {
     "data": {
      "text/html": [
       "Find logs at: <code>./wandb/run-20241218_172004-jvdl1tm2/logs</code>"
      ],
      "text/plain": [
       "<IPython.core.display.HTML object>"
      ]
     },
     "metadata": {},
     "output_type": "display_data"
    },
    {
     "data": {
      "text/html": [
       "There is a new version of wandb available. Please upgrade to wandb==0.19.0"
      ],
      "text/plain": [
       "<IPython.core.display.HTML object>"
      ]
     },
     "metadata": {},
     "output_type": "display_data"
    },
    {
     "name": "stderr",
     "output_type": "stream",
     "text": [
      "\u001b[34m\u001b[1mwandb\u001b[0m: Agent Starting Run: vt7bfu5o with config:\n",
      "\u001b[34m\u001b[1mwandb\u001b[0m: \tcolsample_bytree: 0.8\n",
      "\u001b[34m\u001b[1mwandb\u001b[0m: \tlags: 8\n",
      "\u001b[34m\u001b[1mwandb\u001b[0m: \tlags_future_covariates: [0, 1]\n",
      "\u001b[34m\u001b[1mwandb\u001b[0m: \tlags_past_covariates: {'agi-are-00-04': 8, 'agi-are-05-14': 8, 'agi-are-15-34': 8, 'agi-are-35-59': 8, 'agi-are-60+': 8, 'agi-are-DE': 8, 'default_lags': 1}\n",
      "\u001b[34m\u001b[1mwandb\u001b[0m: \tlearning_rate: 0.01\n",
      "\u001b[34m\u001b[1mwandb\u001b[0m: \tmax_bin: 1024\n",
      "\u001b[34m\u001b[1mwandb\u001b[0m: \tmax_depth: -1\n",
      "\u001b[34m\u001b[1mwandb\u001b[0m: \tmin_child_samples: 10\n",
      "\u001b[34m\u001b[1mwandb\u001b[0m: \tmin_split_gain: 0\n",
      "\u001b[34m\u001b[1mwandb\u001b[0m: \tmodel: lightgbm\n",
      "\u001b[34m\u001b[1mwandb\u001b[0m: \tmultiple_series: False\n",
      "\u001b[34m\u001b[1mwandb\u001b[0m: \tn_estimators: 500\n",
      "\u001b[34m\u001b[1mwandb\u001b[0m: \tnum_leaves: 31\n",
      "\u001b[34m\u001b[1mwandb\u001b[0m: \treg_alpha: 1\n",
      "\u001b[34m\u001b[1mwandb\u001b[0m: \treg_lambda: 0\n",
      "\u001b[34m\u001b[1mwandb\u001b[0m: \tsample_weight: no-covid\n",
      "\u001b[34m\u001b[1mwandb\u001b[0m: \tsubsample: 0.8\n",
      "\u001b[34m\u001b[1mwandb\u001b[0m: \tsubsample_freq: 1\n",
      "\u001b[34m\u001b[1mwandb\u001b[0m: \tuse_covariates: True\n",
      "\u001b[34m\u001b[1mwandb\u001b[0m: \tuse_encoders: True\n",
      "\u001b[34m\u001b[1mwandb\u001b[0m: \tuse_features: False\n",
      "\u001b[34m\u001b[1mwandb\u001b[0m: \tuse_static_covariates: False\n",
      "Failed to detect the name of this notebook, you can set it manually with the WANDB_NOTEBOOK_NAME environment variable to enable code saving.\n"
     ]
    },
    {
     "data": {
      "text/html": [
       "Tracking run with wandb version 0.18.0"
      ],
      "text/plain": [
       "<IPython.core.display.HTML object>"
      ]
     },
     "metadata": {},
     "output_type": "display_data"
    },
    {
     "data": {
      "text/html": [
       "Run data is saved locally in <code>/home/wolffram/SARI-ML/realtime/wandb/run-20241218_172056-vt7bfu5o</code>"
      ],
      "text/plain": [
       "<IPython.core.display.HTML object>"
      ]
     },
     "metadata": {},
     "output_type": "display_data"
    },
    {
     "data": {
      "text/html": [
       "Syncing run <strong><a href='https://wandb.ai/dwolffram-karlsruhe-institute-of-technology/sari-lightgbm/runs/vt7bfu5o' target=\"_blank\">kind-sweep-63</a></strong> to <a href='https://wandb.ai/dwolffram-karlsruhe-institute-of-technology/sari-lightgbm' target=\"_blank\">Weights & Biases</a> (<a href='https://wandb.me/run' target=\"_blank\">docs</a>)<br/>Sweep page: <a href='https://wandb.ai/dwolffram-karlsruhe-institute-of-technology/sari-lightgbm/sweeps/04mzwpfu' target=\"_blank\">https://wandb.ai/dwolffram-karlsruhe-institute-of-technology/sari-lightgbm/sweeps/04mzwpfu</a>"
      ],
      "text/plain": [
       "<IPython.core.display.HTML object>"
      ]
     },
     "metadata": {},
     "output_type": "display_data"
    },
    {
     "data": {
      "text/html": [
       " View project at <a href='https://wandb.ai/dwolffram-karlsruhe-institute-of-technology/sari-lightgbm' target=\"_blank\">https://wandb.ai/dwolffram-karlsruhe-institute-of-technology/sari-lightgbm</a>"
      ],
      "text/plain": [
       "<IPython.core.display.HTML object>"
      ]
     },
     "metadata": {},
     "output_type": "display_data"
    },
    {
     "data": {
      "text/html": [
       " View sweep at <a href='https://wandb.ai/dwolffram-karlsruhe-institute-of-technology/sari-lightgbm/sweeps/04mzwpfu' target=\"_blank\">https://wandb.ai/dwolffram-karlsruhe-institute-of-technology/sari-lightgbm/sweeps/04mzwpfu</a>"
      ],
      "text/plain": [
       "<IPython.core.display.HTML object>"
      ]
     },
     "metadata": {},
     "output_type": "display_data"
    },
    {
     "data": {
      "text/html": [
       " View run at <a href='https://wandb.ai/dwolffram-karlsruhe-institute-of-technology/sari-lightgbm/runs/vt7bfu5o' target=\"_blank\">https://wandb.ai/dwolffram-karlsruhe-institute-of-technology/sari-lightgbm/runs/vt7bfu5o</a>"
      ],
      "text/plain": [
       "<IPython.core.display.HTML object>"
      ]
     },
     "metadata": {},
     "output_type": "display_data"
    },
    {
     "data": {
      "application/vnd.jupyter.widget-view+json": {
       "model_id": "7f13304dc6db4278876a3d171aa139fb",
       "version_major": 2,
       "version_minor": 0
      },
      "text/plain": [
       "VBox(children=(Label(value='0.006 MB of 0.006 MB uploaded\\r'), FloatProgress(value=1.0, max=1.0)))"
      ]
     },
     "metadata": {},
     "output_type": "display_data"
    },
    {
     "data": {
      "text/html": [
       "<style>\n",
       "    table.wandb td:nth-child(1) { padding: 0 10px; text-align: left ; width: auto;} td:nth-child(2) {text-align: left ; width: 100%}\n",
       "    .wandb-row { display: flex; flex-direction: row; flex-wrap: wrap; justify-content: flex-start; width: 100% }\n",
       "    .wandb-col { display: flex; flex-direction: column; flex-basis: 100%; flex: 1; padding: 10px; }\n",
       "    </style>\n",
       "<div class=\"wandb-row\"><div class=\"wandb-col\"><h3>Run history:</h3><br/><table class=\"wandb\"><tr><td>WIS</td><td>▁</td></tr><tr><td>WIS_2022</td><td>▁</td></tr><tr><td>WIS_2022_1</td><td>▁</td></tr><tr><td>WIS_std</td><td>▁</td></tr><tr><td>WIS_std_2022</td><td>▁</td></tr></table><br/></div><div class=\"wandb-col\"><h3>Run summary:</h3><br/><table class=\"wandb\"><tr><td>WIS</td><td>466.11663</td></tr><tr><td>WIS_2022</td><td>466.11663</td></tr><tr><td>WIS_2022_1</td><td>466.11663</td></tr><tr><td>WIS_std</td><td>0</td></tr><tr><td>WIS_std_2022</td><td>0</td></tr></table><br/></div></div>"
      ],
      "text/plain": [
       "<IPython.core.display.HTML object>"
      ]
     },
     "metadata": {},
     "output_type": "display_data"
    },
    {
     "data": {
      "text/html": [
       " View run <strong style=\"color:#cdcd00\">kind-sweep-63</strong> at: <a href='https://wandb.ai/dwolffram-karlsruhe-institute-of-technology/sari-lightgbm/runs/vt7bfu5o' target=\"_blank\">https://wandb.ai/dwolffram-karlsruhe-institute-of-technology/sari-lightgbm/runs/vt7bfu5o</a><br/> View project at: <a href='https://wandb.ai/dwolffram-karlsruhe-institute-of-technology/sari-lightgbm' target=\"_blank\">https://wandb.ai/dwolffram-karlsruhe-institute-of-technology/sari-lightgbm</a><br/>Synced 5 W&B file(s), 0 media file(s), 0 artifact file(s) and 0 other file(s)"
      ],
      "text/plain": [
       "<IPython.core.display.HTML object>"
      ]
     },
     "metadata": {},
     "output_type": "display_data"
    },
    {
     "data": {
      "text/html": [
       "Find logs at: <code>./wandb/run-20241218_172056-vt7bfu5o/logs</code>"
      ],
      "text/plain": [
       "<IPython.core.display.HTML object>"
      ]
     },
     "metadata": {},
     "output_type": "display_data"
    },
    {
     "data": {
      "text/html": [
       "There is a new version of wandb available. Please upgrade to wandb==0.19.0"
      ],
      "text/plain": [
       "<IPython.core.display.HTML object>"
      ]
     },
     "metadata": {},
     "output_type": "display_data"
    },
    {
     "name": "stderr",
     "output_type": "stream",
     "text": [
      "\u001b[34m\u001b[1mwandb\u001b[0m: Agent Starting Run: lzo65eh1 with config:\n",
      "\u001b[34m\u001b[1mwandb\u001b[0m: \tcolsample_bytree: 0.8\n",
      "\u001b[34m\u001b[1mwandb\u001b[0m: \tlags: 8\n",
      "\u001b[34m\u001b[1mwandb\u001b[0m: \tlags_future_covariates: [0, 1]\n",
      "\u001b[34m\u001b[1mwandb\u001b[0m: \tlags_past_covariates: {'agi-are-00-04': 8, 'agi-are-05-14': 8, 'agi-are-15-34': 8, 'agi-are-35-59': 8, 'agi-are-60+': 8, 'agi-are-DE': 8, 'default_lags': 1}\n",
      "\u001b[34m\u001b[1mwandb\u001b[0m: \tlearning_rate: 0.01\n",
      "\u001b[34m\u001b[1mwandb\u001b[0m: \tmax_bin: 1024\n",
      "\u001b[34m\u001b[1mwandb\u001b[0m: \tmax_depth: -1\n",
      "\u001b[34m\u001b[1mwandb\u001b[0m: \tmin_child_samples: 10\n",
      "\u001b[34m\u001b[1mwandb\u001b[0m: \tmin_split_gain: 0\n",
      "\u001b[34m\u001b[1mwandb\u001b[0m: \tmodel: lightgbm\n",
      "\u001b[34m\u001b[1mwandb\u001b[0m: \tmultiple_series: False\n",
      "\u001b[34m\u001b[1mwandb\u001b[0m: \tn_estimators: 500\n",
      "\u001b[34m\u001b[1mwandb\u001b[0m: \tnum_leaves: 31\n",
      "\u001b[34m\u001b[1mwandb\u001b[0m: \treg_alpha: 1\n",
      "\u001b[34m\u001b[1mwandb\u001b[0m: \treg_lambda: 0\n",
      "\u001b[34m\u001b[1mwandb\u001b[0m: \tsample_weight: no-covid\n",
      "\u001b[34m\u001b[1mwandb\u001b[0m: \tsubsample: 0.8\n",
      "\u001b[34m\u001b[1mwandb\u001b[0m: \tsubsample_freq: 1\n",
      "\u001b[34m\u001b[1mwandb\u001b[0m: \tuse_covariates: False\n",
      "\u001b[34m\u001b[1mwandb\u001b[0m: \tuse_encoders: True\n",
      "\u001b[34m\u001b[1mwandb\u001b[0m: \tuse_features: False\n",
      "\u001b[34m\u001b[1mwandb\u001b[0m: \tuse_static_covariates: False\n",
      "Failed to detect the name of this notebook, you can set it manually with the WANDB_NOTEBOOK_NAME environment variable to enable code saving.\n"
     ]
    },
    {
     "data": {
      "text/html": [
       "Tracking run with wandb version 0.18.0"
      ],
      "text/plain": [
       "<IPython.core.display.HTML object>"
      ]
     },
     "metadata": {},
     "output_type": "display_data"
    },
    {
     "data": {
      "text/html": [
       "Run data is saved locally in <code>/home/wolffram/SARI-ML/realtime/wandb/run-20241218_172142-lzo65eh1</code>"
      ],
      "text/plain": [
       "<IPython.core.display.HTML object>"
      ]
     },
     "metadata": {},
     "output_type": "display_data"
    },
    {
     "data": {
      "text/html": [
       "Syncing run <strong><a href='https://wandb.ai/dwolffram-karlsruhe-institute-of-technology/sari-lightgbm/runs/lzo65eh1' target=\"_blank\">wild-sweep-64</a></strong> to <a href='https://wandb.ai/dwolffram-karlsruhe-institute-of-technology/sari-lightgbm' target=\"_blank\">Weights & Biases</a> (<a href='https://wandb.me/run' target=\"_blank\">docs</a>)<br/>Sweep page: <a href='https://wandb.ai/dwolffram-karlsruhe-institute-of-technology/sari-lightgbm/sweeps/04mzwpfu' target=\"_blank\">https://wandb.ai/dwolffram-karlsruhe-institute-of-technology/sari-lightgbm/sweeps/04mzwpfu</a>"
      ],
      "text/plain": [
       "<IPython.core.display.HTML object>"
      ]
     },
     "metadata": {},
     "output_type": "display_data"
    },
    {
     "data": {
      "text/html": [
       " View project at <a href='https://wandb.ai/dwolffram-karlsruhe-institute-of-technology/sari-lightgbm' target=\"_blank\">https://wandb.ai/dwolffram-karlsruhe-institute-of-technology/sari-lightgbm</a>"
      ],
      "text/plain": [
       "<IPython.core.display.HTML object>"
      ]
     },
     "metadata": {},
     "output_type": "display_data"
    },
    {
     "data": {
      "text/html": [
       " View sweep at <a href='https://wandb.ai/dwolffram-karlsruhe-institute-of-technology/sari-lightgbm/sweeps/04mzwpfu' target=\"_blank\">https://wandb.ai/dwolffram-karlsruhe-institute-of-technology/sari-lightgbm/sweeps/04mzwpfu</a>"
      ],
      "text/plain": [
       "<IPython.core.display.HTML object>"
      ]
     },
     "metadata": {},
     "output_type": "display_data"
    },
    {
     "data": {
      "text/html": [
       " View run at <a href='https://wandb.ai/dwolffram-karlsruhe-institute-of-technology/sari-lightgbm/runs/lzo65eh1' target=\"_blank\">https://wandb.ai/dwolffram-karlsruhe-institute-of-technology/sari-lightgbm/runs/lzo65eh1</a>"
      ],
      "text/plain": [
       "<IPython.core.display.HTML object>"
      ]
     },
     "metadata": {},
     "output_type": "display_data"
    },
    {
     "data": {
      "application/vnd.jupyter.widget-view+json": {
       "model_id": "8a99bf51d0fc4fafb2f55192bf462ed8",
       "version_major": 2,
       "version_minor": 0
      },
      "text/plain": [
       "VBox(children=(Label(value='0.006 MB of 0.006 MB uploaded\\r'), FloatProgress(value=1.0, max=1.0)))"
      ]
     },
     "metadata": {},
     "output_type": "display_data"
    },
    {
     "data": {
      "text/html": [
       "<style>\n",
       "    table.wandb td:nth-child(1) { padding: 0 10px; text-align: left ; width: auto;} td:nth-child(2) {text-align: left ; width: 100%}\n",
       "    .wandb-row { display: flex; flex-direction: row; flex-wrap: wrap; justify-content: flex-start; width: 100% }\n",
       "    .wandb-col { display: flex; flex-direction: column; flex-basis: 100%; flex: 1; padding: 10px; }\n",
       "    </style>\n",
       "<div class=\"wandb-row\"><div class=\"wandb-col\"><h3>Run history:</h3><br/><table class=\"wandb\"><tr><td>WIS</td><td>▁</td></tr><tr><td>WIS_2022</td><td>▁</td></tr><tr><td>WIS_2022_1</td><td>▁</td></tr><tr><td>WIS_std</td><td>▁</td></tr><tr><td>WIS_std_2022</td><td>▁</td></tr></table><br/></div><div class=\"wandb-col\"><h3>Run summary:</h3><br/><table class=\"wandb\"><tr><td>WIS</td><td>512.99953</td></tr><tr><td>WIS_2022</td><td>512.99953</td></tr><tr><td>WIS_2022_1</td><td>512.99953</td></tr><tr><td>WIS_std</td><td>0</td></tr><tr><td>WIS_std_2022</td><td>0</td></tr></table><br/></div></div>"
      ],
      "text/plain": [
       "<IPython.core.display.HTML object>"
      ]
     },
     "metadata": {},
     "output_type": "display_data"
    },
    {
     "data": {
      "text/html": [
       " View run <strong style=\"color:#cdcd00\">wild-sweep-64</strong> at: <a href='https://wandb.ai/dwolffram-karlsruhe-institute-of-technology/sari-lightgbm/runs/lzo65eh1' target=\"_blank\">https://wandb.ai/dwolffram-karlsruhe-institute-of-technology/sari-lightgbm/runs/lzo65eh1</a><br/> View project at: <a href='https://wandb.ai/dwolffram-karlsruhe-institute-of-technology/sari-lightgbm' target=\"_blank\">https://wandb.ai/dwolffram-karlsruhe-institute-of-technology/sari-lightgbm</a><br/>Synced 5 W&B file(s), 0 media file(s), 0 artifact file(s) and 0 other file(s)"
      ],
      "text/plain": [
       "<IPython.core.display.HTML object>"
      ]
     },
     "metadata": {},
     "output_type": "display_data"
    },
    {
     "data": {
      "text/html": [
       "Find logs at: <code>./wandb/run-20241218_172142-lzo65eh1/logs</code>"
      ],
      "text/plain": [
       "<IPython.core.display.HTML object>"
      ]
     },
     "metadata": {},
     "output_type": "display_data"
    },
    {
     "data": {
      "text/html": [
       "There is a new version of wandb available. Please upgrade to wandb==0.19.0"
      ],
      "text/plain": [
       "<IPython.core.display.HTML object>"
      ]
     },
     "metadata": {},
     "output_type": "display_data"
    },
    {
     "name": "stderr",
     "output_type": "stream",
     "text": [
      "\u001b[34m\u001b[1mwandb\u001b[0m: Agent Starting Run: h92bboi3 with config:\n",
      "\u001b[34m\u001b[1mwandb\u001b[0m: \tcolsample_bytree: 0.8\n",
      "\u001b[34m\u001b[1mwandb\u001b[0m: \tlags: 8\n",
      "\u001b[34m\u001b[1mwandb\u001b[0m: \tlags_future_covariates: [0, 1]\n",
      "\u001b[34m\u001b[1mwandb\u001b[0m: \tlags_past_covariates: {'agi-are-00-04': 8, 'agi-are-05-14': 8, 'agi-are-15-34': 8, 'agi-are-35-59': 8, 'agi-are-60+': 8, 'agi-are-DE': 8, 'default_lags': 1}\n",
      "\u001b[34m\u001b[1mwandb\u001b[0m: \tlearning_rate: 0.01\n",
      "\u001b[34m\u001b[1mwandb\u001b[0m: \tmax_bin: 1024\n",
      "\u001b[34m\u001b[1mwandb\u001b[0m: \tmax_depth: -1\n",
      "\u001b[34m\u001b[1mwandb\u001b[0m: \tmin_child_samples: 10\n",
      "\u001b[34m\u001b[1mwandb\u001b[0m: \tmin_split_gain: 0\n",
      "\u001b[34m\u001b[1mwandb\u001b[0m: \tmodel: lightgbm\n",
      "\u001b[34m\u001b[1mwandb\u001b[0m: \tmultiple_series: False\n",
      "\u001b[34m\u001b[1mwandb\u001b[0m: \tn_estimators: 500\n",
      "\u001b[34m\u001b[1mwandb\u001b[0m: \tnum_leaves: 31\n",
      "\u001b[34m\u001b[1mwandb\u001b[0m: \treg_alpha: 1\n",
      "\u001b[34m\u001b[1mwandb\u001b[0m: \treg_lambda: 0.5\n",
      "\u001b[34m\u001b[1mwandb\u001b[0m: \tsample_weight: linear\n",
      "\u001b[34m\u001b[1mwandb\u001b[0m: \tsubsample: 0.8\n",
      "\u001b[34m\u001b[1mwandb\u001b[0m: \tsubsample_freq: 1\n",
      "\u001b[34m\u001b[1mwandb\u001b[0m: \tuse_covariates: True\n",
      "\u001b[34m\u001b[1mwandb\u001b[0m: \tuse_encoders: True\n",
      "\u001b[34m\u001b[1mwandb\u001b[0m: \tuse_features: False\n",
      "\u001b[34m\u001b[1mwandb\u001b[0m: \tuse_static_covariates: False\n",
      "Failed to detect the name of this notebook, you can set it manually with the WANDB_NOTEBOOK_NAME environment variable to enable code saving.\n"
     ]
    },
    {
     "data": {
      "text/html": [
       "Tracking run with wandb version 0.18.0"
      ],
      "text/plain": [
       "<IPython.core.display.HTML object>"
      ]
     },
     "metadata": {},
     "output_type": "display_data"
    },
    {
     "data": {
      "text/html": [
       "Run data is saved locally in <code>/home/wolffram/SARI-ML/realtime/wandb/run-20241218_172219-h92bboi3</code>"
      ],
      "text/plain": [
       "<IPython.core.display.HTML object>"
      ]
     },
     "metadata": {},
     "output_type": "display_data"
    },
    {
     "data": {
      "text/html": [
       "Syncing run <strong><a href='https://wandb.ai/dwolffram-karlsruhe-institute-of-technology/sari-lightgbm/runs/h92bboi3' target=\"_blank\">chocolate-sweep-65</a></strong> to <a href='https://wandb.ai/dwolffram-karlsruhe-institute-of-technology/sari-lightgbm' target=\"_blank\">Weights & Biases</a> (<a href='https://wandb.me/run' target=\"_blank\">docs</a>)<br/>Sweep page: <a href='https://wandb.ai/dwolffram-karlsruhe-institute-of-technology/sari-lightgbm/sweeps/04mzwpfu' target=\"_blank\">https://wandb.ai/dwolffram-karlsruhe-institute-of-technology/sari-lightgbm/sweeps/04mzwpfu</a>"
      ],
      "text/plain": [
       "<IPython.core.display.HTML object>"
      ]
     },
     "metadata": {},
     "output_type": "display_data"
    },
    {
     "data": {
      "text/html": [
       " View project at <a href='https://wandb.ai/dwolffram-karlsruhe-institute-of-technology/sari-lightgbm' target=\"_blank\">https://wandb.ai/dwolffram-karlsruhe-institute-of-technology/sari-lightgbm</a>"
      ],
      "text/plain": [
       "<IPython.core.display.HTML object>"
      ]
     },
     "metadata": {},
     "output_type": "display_data"
    },
    {
     "data": {
      "text/html": [
       " View sweep at <a href='https://wandb.ai/dwolffram-karlsruhe-institute-of-technology/sari-lightgbm/sweeps/04mzwpfu' target=\"_blank\">https://wandb.ai/dwolffram-karlsruhe-institute-of-technology/sari-lightgbm/sweeps/04mzwpfu</a>"
      ],
      "text/plain": [
       "<IPython.core.display.HTML object>"
      ]
     },
     "metadata": {},
     "output_type": "display_data"
    },
    {
     "data": {
      "text/html": [
       " View run at <a href='https://wandb.ai/dwolffram-karlsruhe-institute-of-technology/sari-lightgbm/runs/h92bboi3' target=\"_blank\">https://wandb.ai/dwolffram-karlsruhe-institute-of-technology/sari-lightgbm/runs/h92bboi3</a>"
      ],
      "text/plain": [
       "<IPython.core.display.HTML object>"
      ]
     },
     "metadata": {},
     "output_type": "display_data"
    },
    {
     "data": {
      "application/vnd.jupyter.widget-view+json": {
       "model_id": "d52514d7615d4a479f5c18fd4dc4d4a5",
       "version_major": 2,
       "version_minor": 0
      },
      "text/plain": [
       "VBox(children=(Label(value='0.006 MB of 0.006 MB uploaded\\r'), FloatProgress(value=1.0, max=1.0)))"
      ]
     },
     "metadata": {},
     "output_type": "display_data"
    },
    {
     "data": {
      "text/html": [
       "<style>\n",
       "    table.wandb td:nth-child(1) { padding: 0 10px; text-align: left ; width: auto;} td:nth-child(2) {text-align: left ; width: 100%}\n",
       "    .wandb-row { display: flex; flex-direction: row; flex-wrap: wrap; justify-content: flex-start; width: 100% }\n",
       "    .wandb-col { display: flex; flex-direction: column; flex-basis: 100%; flex: 1; padding: 10px; }\n",
       "    </style>\n",
       "<div class=\"wandb-row\"><div class=\"wandb-col\"><h3>Run history:</h3><br/><table class=\"wandb\"><tr><td>WIS</td><td>▁</td></tr><tr><td>WIS_2022</td><td>▁</td></tr><tr><td>WIS_2022_1</td><td>▁</td></tr><tr><td>WIS_std</td><td>▁</td></tr><tr><td>WIS_std_2022</td><td>▁</td></tr></table><br/></div><div class=\"wandb-col\"><h3>Run summary:</h3><br/><table class=\"wandb\"><tr><td>WIS</td><td>458.77742</td></tr><tr><td>WIS_2022</td><td>458.77742</td></tr><tr><td>WIS_2022_1</td><td>458.77742</td></tr><tr><td>WIS_std</td><td>0</td></tr><tr><td>WIS_std_2022</td><td>0</td></tr></table><br/></div></div>"
      ],
      "text/plain": [
       "<IPython.core.display.HTML object>"
      ]
     },
     "metadata": {},
     "output_type": "display_data"
    },
    {
     "data": {
      "text/html": [
       " View run <strong style=\"color:#cdcd00\">chocolate-sweep-65</strong> at: <a href='https://wandb.ai/dwolffram-karlsruhe-institute-of-technology/sari-lightgbm/runs/h92bboi3' target=\"_blank\">https://wandb.ai/dwolffram-karlsruhe-institute-of-technology/sari-lightgbm/runs/h92bboi3</a><br/> View project at: <a href='https://wandb.ai/dwolffram-karlsruhe-institute-of-technology/sari-lightgbm' target=\"_blank\">https://wandb.ai/dwolffram-karlsruhe-institute-of-technology/sari-lightgbm</a><br/>Synced 5 W&B file(s), 0 media file(s), 0 artifact file(s) and 0 other file(s)"
      ],
      "text/plain": [
       "<IPython.core.display.HTML object>"
      ]
     },
     "metadata": {},
     "output_type": "display_data"
    },
    {
     "data": {
      "text/html": [
       "Find logs at: <code>./wandb/run-20241218_172219-h92bboi3/logs</code>"
      ],
      "text/plain": [
       "<IPython.core.display.HTML object>"
      ]
     },
     "metadata": {},
     "output_type": "display_data"
    },
    {
     "data": {
      "text/html": [
       "There is a new version of wandb available. Please upgrade to wandb==0.19.0"
      ],
      "text/plain": [
       "<IPython.core.display.HTML object>"
      ]
     },
     "metadata": {},
     "output_type": "display_data"
    },
    {
     "name": "stderr",
     "output_type": "stream",
     "text": [
      "\u001b[34m\u001b[1mwandb\u001b[0m: Agent Starting Run: h53aw2w0 with config:\n",
      "\u001b[34m\u001b[1mwandb\u001b[0m: \tcolsample_bytree: 0.8\n",
      "\u001b[34m\u001b[1mwandb\u001b[0m: \tlags: 8\n",
      "\u001b[34m\u001b[1mwandb\u001b[0m: \tlags_future_covariates: [0, 1]\n",
      "\u001b[34m\u001b[1mwandb\u001b[0m: \tlags_past_covariates: {'agi-are-00-04': 8, 'agi-are-05-14': 8, 'agi-are-15-34': 8, 'agi-are-35-59': 8, 'agi-are-60+': 8, 'agi-are-DE': 8, 'default_lags': 1}\n",
      "\u001b[34m\u001b[1mwandb\u001b[0m: \tlearning_rate: 0.01\n",
      "\u001b[34m\u001b[1mwandb\u001b[0m: \tmax_bin: 1024\n",
      "\u001b[34m\u001b[1mwandb\u001b[0m: \tmax_depth: -1\n",
      "\u001b[34m\u001b[1mwandb\u001b[0m: \tmin_child_samples: 10\n",
      "\u001b[34m\u001b[1mwandb\u001b[0m: \tmin_split_gain: 0\n",
      "\u001b[34m\u001b[1mwandb\u001b[0m: \tmodel: lightgbm\n",
      "\u001b[34m\u001b[1mwandb\u001b[0m: \tmultiple_series: False\n",
      "\u001b[34m\u001b[1mwandb\u001b[0m: \tn_estimators: 500\n",
      "\u001b[34m\u001b[1mwandb\u001b[0m: \tnum_leaves: 31\n",
      "\u001b[34m\u001b[1mwandb\u001b[0m: \treg_alpha: 1\n",
      "\u001b[34m\u001b[1mwandb\u001b[0m: \treg_lambda: 0.5\n",
      "\u001b[34m\u001b[1mwandb\u001b[0m: \tsample_weight: linear\n",
      "\u001b[34m\u001b[1mwandb\u001b[0m: \tsubsample: 0.8\n",
      "\u001b[34m\u001b[1mwandb\u001b[0m: \tsubsample_freq: 1\n",
      "\u001b[34m\u001b[1mwandb\u001b[0m: \tuse_covariates: False\n",
      "\u001b[34m\u001b[1mwandb\u001b[0m: \tuse_encoders: True\n",
      "\u001b[34m\u001b[1mwandb\u001b[0m: \tuse_features: False\n",
      "\u001b[34m\u001b[1mwandb\u001b[0m: \tuse_static_covariates: False\n",
      "Failed to detect the name of this notebook, you can set it manually with the WANDB_NOTEBOOK_NAME environment variable to enable code saving.\n"
     ]
    },
    {
     "data": {
      "text/html": [
       "Tracking run with wandb version 0.18.0"
      ],
      "text/plain": [
       "<IPython.core.display.HTML object>"
      ]
     },
     "metadata": {},
     "output_type": "display_data"
    },
    {
     "data": {
      "text/html": [
       "Run data is saved locally in <code>/home/wolffram/SARI-ML/realtime/wandb/run-20241218_172310-h53aw2w0</code>"
      ],
      "text/plain": [
       "<IPython.core.display.HTML object>"
      ]
     },
     "metadata": {},
     "output_type": "display_data"
    },
    {
     "data": {
      "text/html": [
       "Syncing run <strong><a href='https://wandb.ai/dwolffram-karlsruhe-institute-of-technology/sari-lightgbm/runs/h53aw2w0' target=\"_blank\">fast-sweep-66</a></strong> to <a href='https://wandb.ai/dwolffram-karlsruhe-institute-of-technology/sari-lightgbm' target=\"_blank\">Weights & Biases</a> (<a href='https://wandb.me/run' target=\"_blank\">docs</a>)<br/>Sweep page: <a href='https://wandb.ai/dwolffram-karlsruhe-institute-of-technology/sari-lightgbm/sweeps/04mzwpfu' target=\"_blank\">https://wandb.ai/dwolffram-karlsruhe-institute-of-technology/sari-lightgbm/sweeps/04mzwpfu</a>"
      ],
      "text/plain": [
       "<IPython.core.display.HTML object>"
      ]
     },
     "metadata": {},
     "output_type": "display_data"
    },
    {
     "data": {
      "text/html": [
       " View project at <a href='https://wandb.ai/dwolffram-karlsruhe-institute-of-technology/sari-lightgbm' target=\"_blank\">https://wandb.ai/dwolffram-karlsruhe-institute-of-technology/sari-lightgbm</a>"
      ],
      "text/plain": [
       "<IPython.core.display.HTML object>"
      ]
     },
     "metadata": {},
     "output_type": "display_data"
    },
    {
     "data": {
      "text/html": [
       " View sweep at <a href='https://wandb.ai/dwolffram-karlsruhe-institute-of-technology/sari-lightgbm/sweeps/04mzwpfu' target=\"_blank\">https://wandb.ai/dwolffram-karlsruhe-institute-of-technology/sari-lightgbm/sweeps/04mzwpfu</a>"
      ],
      "text/plain": [
       "<IPython.core.display.HTML object>"
      ]
     },
     "metadata": {},
     "output_type": "display_data"
    },
    {
     "data": {
      "text/html": [
       " View run at <a href='https://wandb.ai/dwolffram-karlsruhe-institute-of-technology/sari-lightgbm/runs/h53aw2w0' target=\"_blank\">https://wandb.ai/dwolffram-karlsruhe-institute-of-technology/sari-lightgbm/runs/h53aw2w0</a>"
      ],
      "text/plain": [
       "<IPython.core.display.HTML object>"
      ]
     },
     "metadata": {},
     "output_type": "display_data"
    },
    {
     "data": {
      "application/vnd.jupyter.widget-view+json": {
       "model_id": "6473e8c73e504521a60a28c8ceb40cde",
       "version_major": 2,
       "version_minor": 0
      },
      "text/plain": [
       "VBox(children=(Label(value='0.006 MB of 0.006 MB uploaded\\r'), FloatProgress(value=1.0, max=1.0)))"
      ]
     },
     "metadata": {},
     "output_type": "display_data"
    },
    {
     "data": {
      "text/html": [
       "<style>\n",
       "    table.wandb td:nth-child(1) { padding: 0 10px; text-align: left ; width: auto;} td:nth-child(2) {text-align: left ; width: 100%}\n",
       "    .wandb-row { display: flex; flex-direction: row; flex-wrap: wrap; justify-content: flex-start; width: 100% }\n",
       "    .wandb-col { display: flex; flex-direction: column; flex-basis: 100%; flex: 1; padding: 10px; }\n",
       "    </style>\n",
       "<div class=\"wandb-row\"><div class=\"wandb-col\"><h3>Run history:</h3><br/><table class=\"wandb\"><tr><td>WIS</td><td>▁</td></tr><tr><td>WIS_2022</td><td>▁</td></tr><tr><td>WIS_2022_1</td><td>▁</td></tr><tr><td>WIS_std</td><td>▁</td></tr><tr><td>WIS_std_2022</td><td>▁</td></tr></table><br/></div><div class=\"wandb-col\"><h3>Run summary:</h3><br/><table class=\"wandb\"><tr><td>WIS</td><td>470.6447</td></tr><tr><td>WIS_2022</td><td>470.6447</td></tr><tr><td>WIS_2022_1</td><td>470.6447</td></tr><tr><td>WIS_std</td><td>0</td></tr><tr><td>WIS_std_2022</td><td>0</td></tr></table><br/></div></div>"
      ],
      "text/plain": [
       "<IPython.core.display.HTML object>"
      ]
     },
     "metadata": {},
     "output_type": "display_data"
    },
    {
     "data": {
      "text/html": [
       " View run <strong style=\"color:#cdcd00\">fast-sweep-66</strong> at: <a href='https://wandb.ai/dwolffram-karlsruhe-institute-of-technology/sari-lightgbm/runs/h53aw2w0' target=\"_blank\">https://wandb.ai/dwolffram-karlsruhe-institute-of-technology/sari-lightgbm/runs/h53aw2w0</a><br/> View project at: <a href='https://wandb.ai/dwolffram-karlsruhe-institute-of-technology/sari-lightgbm' target=\"_blank\">https://wandb.ai/dwolffram-karlsruhe-institute-of-technology/sari-lightgbm</a><br/>Synced 5 W&B file(s), 0 media file(s), 0 artifact file(s) and 0 other file(s)"
      ],
      "text/plain": [
       "<IPython.core.display.HTML object>"
      ]
     },
     "metadata": {},
     "output_type": "display_data"
    },
    {
     "data": {
      "text/html": [
       "Find logs at: <code>./wandb/run-20241218_172310-h53aw2w0/logs</code>"
      ],
      "text/plain": [
       "<IPython.core.display.HTML object>"
      ]
     },
     "metadata": {},
     "output_type": "display_data"
    },
    {
     "data": {
      "text/html": [
       "There is a new version of wandb available. Please upgrade to wandb==0.19.0"
      ],
      "text/plain": [
       "<IPython.core.display.HTML object>"
      ]
     },
     "metadata": {},
     "output_type": "display_data"
    },
    {
     "name": "stderr",
     "output_type": "stream",
     "text": [
      "\u001b[34m\u001b[1mwandb\u001b[0m: Agent Starting Run: 2b8fybeg with config:\n",
      "\u001b[34m\u001b[1mwandb\u001b[0m: \tcolsample_bytree: 0.8\n",
      "\u001b[34m\u001b[1mwandb\u001b[0m: \tlags: 8\n",
      "\u001b[34m\u001b[1mwandb\u001b[0m: \tlags_future_covariates: [0, 1]\n",
      "\u001b[34m\u001b[1mwandb\u001b[0m: \tlags_past_covariates: {'agi-are-00-04': 8, 'agi-are-05-14': 8, 'agi-are-15-34': 8, 'agi-are-35-59': 8, 'agi-are-60+': 8, 'agi-are-DE': 8, 'default_lags': 1}\n",
      "\u001b[34m\u001b[1mwandb\u001b[0m: \tlearning_rate: 0.01\n",
      "\u001b[34m\u001b[1mwandb\u001b[0m: \tmax_bin: 1024\n",
      "\u001b[34m\u001b[1mwandb\u001b[0m: \tmax_depth: -1\n",
      "\u001b[34m\u001b[1mwandb\u001b[0m: \tmin_child_samples: 10\n",
      "\u001b[34m\u001b[1mwandb\u001b[0m: \tmin_split_gain: 0\n",
      "\u001b[34m\u001b[1mwandb\u001b[0m: \tmodel: lightgbm\n",
      "\u001b[34m\u001b[1mwandb\u001b[0m: \tmultiple_series: False\n",
      "\u001b[34m\u001b[1mwandb\u001b[0m: \tn_estimators: 500\n",
      "\u001b[34m\u001b[1mwandb\u001b[0m: \tnum_leaves: 31\n",
      "\u001b[34m\u001b[1mwandb\u001b[0m: \treg_alpha: 1\n",
      "\u001b[34m\u001b[1mwandb\u001b[0m: \treg_lambda: 0.5\n",
      "\u001b[34m\u001b[1mwandb\u001b[0m: \tsample_weight: no-covid\n",
      "\u001b[34m\u001b[1mwandb\u001b[0m: \tsubsample: 0.8\n",
      "\u001b[34m\u001b[1mwandb\u001b[0m: \tsubsample_freq: 1\n",
      "\u001b[34m\u001b[1mwandb\u001b[0m: \tuse_covariates: True\n",
      "\u001b[34m\u001b[1mwandb\u001b[0m: \tuse_encoders: True\n",
      "\u001b[34m\u001b[1mwandb\u001b[0m: \tuse_features: False\n",
      "\u001b[34m\u001b[1mwandb\u001b[0m: \tuse_static_covariates: False\n",
      "Failed to detect the name of this notebook, you can set it manually with the WANDB_NOTEBOOK_NAME environment variable to enable code saving.\n"
     ]
    },
    {
     "data": {
      "text/html": [
       "Tracking run with wandb version 0.18.0"
      ],
      "text/plain": [
       "<IPython.core.display.HTML object>"
      ]
     },
     "metadata": {},
     "output_type": "display_data"
    },
    {
     "data": {
      "text/html": [
       "Run data is saved locally in <code>/home/wolffram/SARI-ML/realtime/wandb/run-20241218_172356-2b8fybeg</code>"
      ],
      "text/plain": [
       "<IPython.core.display.HTML object>"
      ]
     },
     "metadata": {},
     "output_type": "display_data"
    },
    {
     "data": {
      "text/html": [
       "Syncing run <strong><a href='https://wandb.ai/dwolffram-karlsruhe-institute-of-technology/sari-lightgbm/runs/2b8fybeg' target=\"_blank\">worthy-sweep-67</a></strong> to <a href='https://wandb.ai/dwolffram-karlsruhe-institute-of-technology/sari-lightgbm' target=\"_blank\">Weights & Biases</a> (<a href='https://wandb.me/run' target=\"_blank\">docs</a>)<br/>Sweep page: <a href='https://wandb.ai/dwolffram-karlsruhe-institute-of-technology/sari-lightgbm/sweeps/04mzwpfu' target=\"_blank\">https://wandb.ai/dwolffram-karlsruhe-institute-of-technology/sari-lightgbm/sweeps/04mzwpfu</a>"
      ],
      "text/plain": [
       "<IPython.core.display.HTML object>"
      ]
     },
     "metadata": {},
     "output_type": "display_data"
    },
    {
     "data": {
      "text/html": [
       " View project at <a href='https://wandb.ai/dwolffram-karlsruhe-institute-of-technology/sari-lightgbm' target=\"_blank\">https://wandb.ai/dwolffram-karlsruhe-institute-of-technology/sari-lightgbm</a>"
      ],
      "text/plain": [
       "<IPython.core.display.HTML object>"
      ]
     },
     "metadata": {},
     "output_type": "display_data"
    },
    {
     "data": {
      "text/html": [
       " View sweep at <a href='https://wandb.ai/dwolffram-karlsruhe-institute-of-technology/sari-lightgbm/sweeps/04mzwpfu' target=\"_blank\">https://wandb.ai/dwolffram-karlsruhe-institute-of-technology/sari-lightgbm/sweeps/04mzwpfu</a>"
      ],
      "text/plain": [
       "<IPython.core.display.HTML object>"
      ]
     },
     "metadata": {},
     "output_type": "display_data"
    },
    {
     "data": {
      "text/html": [
       " View run at <a href='https://wandb.ai/dwolffram-karlsruhe-institute-of-technology/sari-lightgbm/runs/2b8fybeg' target=\"_blank\">https://wandb.ai/dwolffram-karlsruhe-institute-of-technology/sari-lightgbm/runs/2b8fybeg</a>"
      ],
      "text/plain": [
       "<IPython.core.display.HTML object>"
      ]
     },
     "metadata": {},
     "output_type": "display_data"
    },
    {
     "data": {
      "application/vnd.jupyter.widget-view+json": {
       "model_id": "ef125b220f1b4a81846ff111a22f5fdb",
       "version_major": 2,
       "version_minor": 0
      },
      "text/plain": [
       "VBox(children=(Label(value='0.006 MB of 0.006 MB uploaded\\r'), FloatProgress(value=1.0, max=1.0)))"
      ]
     },
     "metadata": {},
     "output_type": "display_data"
    },
    {
     "data": {
      "text/html": [
       "<style>\n",
       "    table.wandb td:nth-child(1) { padding: 0 10px; text-align: left ; width: auto;} td:nth-child(2) {text-align: left ; width: 100%}\n",
       "    .wandb-row { display: flex; flex-direction: row; flex-wrap: wrap; justify-content: flex-start; width: 100% }\n",
       "    .wandb-col { display: flex; flex-direction: column; flex-basis: 100%; flex: 1; padding: 10px; }\n",
       "    </style>\n",
       "<div class=\"wandb-row\"><div class=\"wandb-col\"><h3>Run history:</h3><br/><table class=\"wandb\"><tr><td>WIS</td><td>▁</td></tr><tr><td>WIS_2022</td><td>▁</td></tr><tr><td>WIS_2022_1</td><td>▁</td></tr><tr><td>WIS_std</td><td>▁</td></tr><tr><td>WIS_std_2022</td><td>▁</td></tr></table><br/></div><div class=\"wandb-col\"><h3>Run summary:</h3><br/><table class=\"wandb\"><tr><td>WIS</td><td>466.68515</td></tr><tr><td>WIS_2022</td><td>466.68515</td></tr><tr><td>WIS_2022_1</td><td>466.68515</td></tr><tr><td>WIS_std</td><td>0</td></tr><tr><td>WIS_std_2022</td><td>0</td></tr></table><br/></div></div>"
      ],
      "text/plain": [
       "<IPython.core.display.HTML object>"
      ]
     },
     "metadata": {},
     "output_type": "display_data"
    },
    {
     "data": {
      "text/html": [
       " View run <strong style=\"color:#cdcd00\">worthy-sweep-67</strong> at: <a href='https://wandb.ai/dwolffram-karlsruhe-institute-of-technology/sari-lightgbm/runs/2b8fybeg' target=\"_blank\">https://wandb.ai/dwolffram-karlsruhe-institute-of-technology/sari-lightgbm/runs/2b8fybeg</a><br/> View project at: <a href='https://wandb.ai/dwolffram-karlsruhe-institute-of-technology/sari-lightgbm' target=\"_blank\">https://wandb.ai/dwolffram-karlsruhe-institute-of-technology/sari-lightgbm</a><br/>Synced 5 W&B file(s), 0 media file(s), 0 artifact file(s) and 0 other file(s)"
      ],
      "text/plain": [
       "<IPython.core.display.HTML object>"
      ]
     },
     "metadata": {},
     "output_type": "display_data"
    },
    {
     "data": {
      "text/html": [
       "Find logs at: <code>./wandb/run-20241218_172356-2b8fybeg/logs</code>"
      ],
      "text/plain": [
       "<IPython.core.display.HTML object>"
      ]
     },
     "metadata": {},
     "output_type": "display_data"
    },
    {
     "data": {
      "text/html": [
       "There is a new version of wandb available. Please upgrade to wandb==0.19.0"
      ],
      "text/plain": [
       "<IPython.core.display.HTML object>"
      ]
     },
     "metadata": {},
     "output_type": "display_data"
    },
    {
     "name": "stderr",
     "output_type": "stream",
     "text": [
      "\u001b[34m\u001b[1mwandb\u001b[0m: Agent Starting Run: aq6gszut with config:\n",
      "\u001b[34m\u001b[1mwandb\u001b[0m: \tcolsample_bytree: 0.8\n",
      "\u001b[34m\u001b[1mwandb\u001b[0m: \tlags: 8\n",
      "\u001b[34m\u001b[1mwandb\u001b[0m: \tlags_future_covariates: [0, 1]\n",
      "\u001b[34m\u001b[1mwandb\u001b[0m: \tlags_past_covariates: {'agi-are-00-04': 8, 'agi-are-05-14': 8, 'agi-are-15-34': 8, 'agi-are-35-59': 8, 'agi-are-60+': 8, 'agi-are-DE': 8, 'default_lags': 1}\n",
      "\u001b[34m\u001b[1mwandb\u001b[0m: \tlearning_rate: 0.01\n",
      "\u001b[34m\u001b[1mwandb\u001b[0m: \tmax_bin: 1024\n",
      "\u001b[34m\u001b[1mwandb\u001b[0m: \tmax_depth: -1\n",
      "\u001b[34m\u001b[1mwandb\u001b[0m: \tmin_child_samples: 10\n",
      "\u001b[34m\u001b[1mwandb\u001b[0m: \tmin_split_gain: 0\n",
      "\u001b[34m\u001b[1mwandb\u001b[0m: \tmodel: lightgbm\n",
      "\u001b[34m\u001b[1mwandb\u001b[0m: \tmultiple_series: False\n",
      "\u001b[34m\u001b[1mwandb\u001b[0m: \tn_estimators: 500\n",
      "\u001b[34m\u001b[1mwandb\u001b[0m: \tnum_leaves: 31\n",
      "\u001b[34m\u001b[1mwandb\u001b[0m: \treg_alpha: 1\n",
      "\u001b[34m\u001b[1mwandb\u001b[0m: \treg_lambda: 0.5\n",
      "\u001b[34m\u001b[1mwandb\u001b[0m: \tsample_weight: no-covid\n",
      "\u001b[34m\u001b[1mwandb\u001b[0m: \tsubsample: 0.8\n",
      "\u001b[34m\u001b[1mwandb\u001b[0m: \tsubsample_freq: 1\n",
      "\u001b[34m\u001b[1mwandb\u001b[0m: \tuse_covariates: False\n",
      "\u001b[34m\u001b[1mwandb\u001b[0m: \tuse_encoders: True\n",
      "\u001b[34m\u001b[1mwandb\u001b[0m: \tuse_features: False\n",
      "\u001b[34m\u001b[1mwandb\u001b[0m: \tuse_static_covariates: False\n",
      "Failed to detect the name of this notebook, you can set it manually with the WANDB_NOTEBOOK_NAME environment variable to enable code saving.\n"
     ]
    },
    {
     "data": {
      "text/html": [
       "Tracking run with wandb version 0.18.0"
      ],
      "text/plain": [
       "<IPython.core.display.HTML object>"
      ]
     },
     "metadata": {},
     "output_type": "display_data"
    },
    {
     "data": {
      "text/html": [
       "Run data is saved locally in <code>/home/wolffram/SARI-ML/realtime/wandb/run-20241218_172438-aq6gszut</code>"
      ],
      "text/plain": [
       "<IPython.core.display.HTML object>"
      ]
     },
     "metadata": {},
     "output_type": "display_data"
    },
    {
     "data": {
      "text/html": [
       "Syncing run <strong><a href='https://wandb.ai/dwolffram-karlsruhe-institute-of-technology/sari-lightgbm/runs/aq6gszut' target=\"_blank\">sparkling-sweep-68</a></strong> to <a href='https://wandb.ai/dwolffram-karlsruhe-institute-of-technology/sari-lightgbm' target=\"_blank\">Weights & Biases</a> (<a href='https://wandb.me/run' target=\"_blank\">docs</a>)<br/>Sweep page: <a href='https://wandb.ai/dwolffram-karlsruhe-institute-of-technology/sari-lightgbm/sweeps/04mzwpfu' target=\"_blank\">https://wandb.ai/dwolffram-karlsruhe-institute-of-technology/sari-lightgbm/sweeps/04mzwpfu</a>"
      ],
      "text/plain": [
       "<IPython.core.display.HTML object>"
      ]
     },
     "metadata": {},
     "output_type": "display_data"
    },
    {
     "data": {
      "text/html": [
       " View project at <a href='https://wandb.ai/dwolffram-karlsruhe-institute-of-technology/sari-lightgbm' target=\"_blank\">https://wandb.ai/dwolffram-karlsruhe-institute-of-technology/sari-lightgbm</a>"
      ],
      "text/plain": [
       "<IPython.core.display.HTML object>"
      ]
     },
     "metadata": {},
     "output_type": "display_data"
    },
    {
     "data": {
      "text/html": [
       " View sweep at <a href='https://wandb.ai/dwolffram-karlsruhe-institute-of-technology/sari-lightgbm/sweeps/04mzwpfu' target=\"_blank\">https://wandb.ai/dwolffram-karlsruhe-institute-of-technology/sari-lightgbm/sweeps/04mzwpfu</a>"
      ],
      "text/plain": [
       "<IPython.core.display.HTML object>"
      ]
     },
     "metadata": {},
     "output_type": "display_data"
    },
    {
     "data": {
      "text/html": [
       " View run at <a href='https://wandb.ai/dwolffram-karlsruhe-institute-of-technology/sari-lightgbm/runs/aq6gszut' target=\"_blank\">https://wandb.ai/dwolffram-karlsruhe-institute-of-technology/sari-lightgbm/runs/aq6gszut</a>"
      ],
      "text/plain": [
       "<IPython.core.display.HTML object>"
      ]
     },
     "metadata": {},
     "output_type": "display_data"
    },
    {
     "data": {
      "application/vnd.jupyter.widget-view+json": {
       "model_id": "1b86ef2110904d18ac38fd5d9e791dbb",
       "version_major": 2,
       "version_minor": 0
      },
      "text/plain": [
       "VBox(children=(Label(value='0.006 MB of 0.006 MB uploaded\\r'), FloatProgress(value=1.0, max=1.0)))"
      ]
     },
     "metadata": {},
     "output_type": "display_data"
    },
    {
     "data": {
      "text/html": [
       "<style>\n",
       "    table.wandb td:nth-child(1) { padding: 0 10px; text-align: left ; width: auto;} td:nth-child(2) {text-align: left ; width: 100%}\n",
       "    .wandb-row { display: flex; flex-direction: row; flex-wrap: wrap; justify-content: flex-start; width: 100% }\n",
       "    .wandb-col { display: flex; flex-direction: column; flex-basis: 100%; flex: 1; padding: 10px; }\n",
       "    </style>\n",
       "<div class=\"wandb-row\"><div class=\"wandb-col\"><h3>Run history:</h3><br/><table class=\"wandb\"><tr><td>WIS</td><td>▁</td></tr><tr><td>WIS_2022</td><td>▁</td></tr><tr><td>WIS_2022_1</td><td>▁</td></tr><tr><td>WIS_std</td><td>▁</td></tr><tr><td>WIS_std_2022</td><td>▁</td></tr></table><br/></div><div class=\"wandb-col\"><h3>Run summary:</h3><br/><table class=\"wandb\"><tr><td>WIS</td><td>513.36206</td></tr><tr><td>WIS_2022</td><td>513.36206</td></tr><tr><td>WIS_2022_1</td><td>513.36206</td></tr><tr><td>WIS_std</td><td>0</td></tr><tr><td>WIS_std_2022</td><td>0</td></tr></table><br/></div></div>"
      ],
      "text/plain": [
       "<IPython.core.display.HTML object>"
      ]
     },
     "metadata": {},
     "output_type": "display_data"
    },
    {
     "data": {
      "text/html": [
       " View run <strong style=\"color:#cdcd00\">sparkling-sweep-68</strong> at: <a href='https://wandb.ai/dwolffram-karlsruhe-institute-of-technology/sari-lightgbm/runs/aq6gszut' target=\"_blank\">https://wandb.ai/dwolffram-karlsruhe-institute-of-technology/sari-lightgbm/runs/aq6gszut</a><br/> View project at: <a href='https://wandb.ai/dwolffram-karlsruhe-institute-of-technology/sari-lightgbm' target=\"_blank\">https://wandb.ai/dwolffram-karlsruhe-institute-of-technology/sari-lightgbm</a><br/>Synced 5 W&B file(s), 0 media file(s), 0 artifact file(s) and 0 other file(s)"
      ],
      "text/plain": [
       "<IPython.core.display.HTML object>"
      ]
     },
     "metadata": {},
     "output_type": "display_data"
    },
    {
     "data": {
      "text/html": [
       "Find logs at: <code>./wandb/run-20241218_172438-aq6gszut/logs</code>"
      ],
      "text/plain": [
       "<IPython.core.display.HTML object>"
      ]
     },
     "metadata": {},
     "output_type": "display_data"
    },
    {
     "data": {
      "text/html": [
       "There is a new version of wandb available. Please upgrade to wandb==0.19.0"
      ],
      "text/plain": [
       "<IPython.core.display.HTML object>"
      ]
     },
     "metadata": {},
     "output_type": "display_data"
    },
    {
     "name": "stderr",
     "output_type": "stream",
     "text": [
      "\u001b[34m\u001b[1mwandb\u001b[0m: Agent Starting Run: akfs2rfn with config:\n",
      "\u001b[34m\u001b[1mwandb\u001b[0m: \tcolsample_bytree: 0.8\n",
      "\u001b[34m\u001b[1mwandb\u001b[0m: \tlags: 8\n",
      "\u001b[34m\u001b[1mwandb\u001b[0m: \tlags_future_covariates: [0, 1]\n",
      "\u001b[34m\u001b[1mwandb\u001b[0m: \tlags_past_covariates: {'agi-are-00-04': 8, 'agi-are-05-14': 8, 'agi-are-15-34': 8, 'agi-are-35-59': 8, 'agi-are-60+': 8, 'agi-are-DE': 8, 'default_lags': 1}\n",
      "\u001b[34m\u001b[1mwandb\u001b[0m: \tlearning_rate: 0.01\n",
      "\u001b[34m\u001b[1mwandb\u001b[0m: \tmax_bin: 1024\n",
      "\u001b[34m\u001b[1mwandb\u001b[0m: \tmax_depth: -1\n",
      "\u001b[34m\u001b[1mwandb\u001b[0m: \tmin_child_samples: 10\n",
      "\u001b[34m\u001b[1mwandb\u001b[0m: \tmin_split_gain: 0\n",
      "\u001b[34m\u001b[1mwandb\u001b[0m: \tmodel: lightgbm\n",
      "\u001b[34m\u001b[1mwandb\u001b[0m: \tmultiple_series: False\n",
      "\u001b[34m\u001b[1mwandb\u001b[0m: \tn_estimators: 500\n",
      "\u001b[34m\u001b[1mwandb\u001b[0m: \tnum_leaves: 31\n",
      "\u001b[34m\u001b[1mwandb\u001b[0m: \treg_alpha: 1\n",
      "\u001b[34m\u001b[1mwandb\u001b[0m: \treg_lambda: 1\n",
      "\u001b[34m\u001b[1mwandb\u001b[0m: \tsample_weight: linear\n",
      "\u001b[34m\u001b[1mwandb\u001b[0m: \tsubsample: 0.8\n",
      "\u001b[34m\u001b[1mwandb\u001b[0m: \tsubsample_freq: 1\n",
      "\u001b[34m\u001b[1mwandb\u001b[0m: \tuse_covariates: True\n",
      "\u001b[34m\u001b[1mwandb\u001b[0m: \tuse_encoders: True\n",
      "\u001b[34m\u001b[1mwandb\u001b[0m: \tuse_features: False\n",
      "\u001b[34m\u001b[1mwandb\u001b[0m: \tuse_static_covariates: False\n",
      "Failed to detect the name of this notebook, you can set it manually with the WANDB_NOTEBOOK_NAME environment variable to enable code saving.\n"
     ]
    }
   ],
   "source": [
    "wandb.agent(sweep_id, function=main)"
   ]
  },
  {
   "cell_type": "code",
   "execution_count": null,
   "id": "15bb0b80-ac85-455f-82f7-6a0d7c1cb9f9",
   "metadata": {},
   "outputs": [],
   "source": [
    "# wandb.agent(sweep_id='7v89qwr1', function=main, count=1000, project=\"realtime-lightgbm-expanding-window\")"
   ]
  }
 ],
 "metadata": {
  "kernelspec": {
   "display_name": "RESPINOW-ML",
   "language": "python",
   "name": "respinow-ml"
  },
  "language_info": {
   "codemirror_mode": {
    "name": "ipython",
    "version": 3
   },
   "file_extension": ".py",
   "mimetype": "text/x-python",
   "name": "python",
   "nbconvert_exporter": "python",
   "pygments_lexer": "ipython3",
   "version": "3.9.18"
  }
 },
 "nbformat": 4,
 "nbformat_minor": 5
}
