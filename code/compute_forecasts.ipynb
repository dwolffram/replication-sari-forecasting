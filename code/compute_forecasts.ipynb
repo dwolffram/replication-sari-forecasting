{
 "cells": [
  {
   "cell_type": "code",
   "execution_count": 1,
   "id": "fc2702a8",
   "metadata": {},
   "outputs": [],
   "source": [
    "from config import FORECAST_DATES\n",
    "from src.forecasting import generate_forecasts"
   ]
  },
  {
   "cell_type": "markdown",
   "id": "5a36ec57",
   "metadata": {},
   "source": [
    "### LightGBM"
   ]
  },
  {
   "cell_type": "code",
   "execution_count": 2,
   "id": "863c8ecd",
   "metadata": {},
   "outputs": [
    {
     "name": "stdout",
     "output_type": "stream",
     "text": [
      "\n",
      "=== Training config ===\n",
      "  model          : lightgbm\n",
      "  use_covariates : True\n",
      "  sample_weight  : linear\n",
      "  modes          : ['naive', 'coupling', 'discard', 'oracle']\n",
      "  dates          : 2023-11-16 → 2023-11-23 (n=2)\n",
      "  seeds          : 1 → 10 (n=10)\n",
      "=======================\n",
      "  Parameters:\n",
      "    colsample_bytree: 0.8\n",
      "    lags: 8\n",
      "    lags_future_covariates: (0, 1)\n",
      "    lags_past_covariates: {'agi-are-DE': 8, 'agi-are-00-04': 8, 'agi-are-05-14': 8, 'agi-are-15-34': 8, 'agi-are-35-59': 8, 'agi-are-60+': 8, 'default_lags': 1}\n",
      "    learning_rate: 0.01\n",
      "    max_bin: 1024\n",
      "    max_depth: -1\n",
      "    min_child_samples: 10\n",
      "    min_split_gain: 0.0\n",
      "    n_estimators: 1000\n",
      "    num_leaves: 20\n",
      "    reg_alpha: 0.5\n",
      "    reg_lambda: 0.0\n",
      "    subsample: 0.8\n",
      "    subsample_freq: 1\n",
      "    use_static_covariates: False\n",
      "\n",
      "  Validation score : 447.993\n",
      "=======================\n",
      "\n",
      "→ 2023-11-16\n"
     ]
    },
    {
     "name": "stderr",
     "output_type": "stream",
     "text": [
      "                                                            \r"
     ]
    },
    {
     "name": "stdout",
     "output_type": "stream",
     "text": [
      "→ 2023-11-23\n"
     ]
    },
    {
     "name": "stderr",
     "output_type": "stream",
     "text": [
      "                                                            \r"
     ]
    },
    {
     "name": "stdout",
     "output_type": "stream",
     "text": [
      "\n",
      "All dates completed successfully.\n"
     ]
    }
   ],
   "source": [
    "generate_forecasts(\"lightgbm\", FORECAST_DATES[:2])"
   ]
  },
  {
   "cell_type": "code",
   "execution_count": 3,
   "id": "83967c99",
   "metadata": {},
   "outputs": [
    {
     "name": "stdout",
     "output_type": "stream",
     "text": [
      "\n",
      "=== Training config ===\n",
      "  model          : lightgbm-no_covariates\n",
      "  use_covariates : False\n",
      "  sample_weight  : linear\n",
      "  modes          : ['coupling']\n",
      "  dates          : 2023-11-16 → 2023-11-23 (n=2)\n",
      "  seeds          : 1 → 10 (n=10)\n",
      "=======================\n",
      "  Parameters:\n",
      "    colsample_bytree: 0.8\n",
      "    lags: 8\n",
      "    lags_future_covariates: (0, 1)\n",
      "    learning_rate: 0.01\n",
      "    max_bin: 1024\n",
      "    max_depth: -1\n",
      "    min_child_samples: 20\n",
      "    min_split_gain: 0.0\n",
      "    n_estimators: 1000\n",
      "    num_leaves: 20\n",
      "    reg_alpha: 1.0\n",
      "    reg_lambda: 0.5\n",
      "    subsample: 0.8\n",
      "    subsample_freq: 1\n",
      "    use_static_covariates: False\n",
      "\n",
      "  Validation score : 450.189\n",
      "=======================\n",
      "\n",
      "→ 2023-11-16\n"
     ]
    },
    {
     "name": "stderr",
     "output_type": "stream",
     "text": [
      "                                                            \r"
     ]
    },
    {
     "name": "stdout",
     "output_type": "stream",
     "text": [
      "→ 2023-11-23\n"
     ]
    },
    {
     "name": "stderr",
     "output_type": "stream",
     "text": [
      "                                                            \r"
     ]
    },
    {
     "name": "stdout",
     "output_type": "stream",
     "text": [
      "\n",
      "All dates completed successfully.\n"
     ]
    }
   ],
   "source": [
    "generate_forecasts(\"lightgbm\", FORECAST_DATES[:2], data_mode=\"no_covariates\", modes=\"coupling\")"
   ]
  },
  {
   "cell_type": "code",
   "execution_count": 4,
   "id": "8a0dddcd",
   "metadata": {},
   "outputs": [
    {
     "name": "stdout",
     "output_type": "stream",
     "text": [
      "\n",
      "=== Training config ===\n",
      "  model          : lightgbm-no_covid\n",
      "  use_covariates : True\n",
      "  sample_weight  : no-covid\n",
      "  modes          : ['coupling']\n",
      "  dates          : 2023-11-16 → 2023-11-23 (n=2)\n",
      "  seeds          : 1 → 10 (n=10)\n",
      "=======================\n",
      "  Parameters:\n",
      "    colsample_bytree: 0.8\n",
      "    lags: 8\n",
      "    lags_future_covariates: (0, 1)\n",
      "    lags_past_covariates: {'agi-are-DE': 8, 'agi-are-00-04': 8, 'agi-are-05-14': 8, 'agi-are-15-34': 8, 'agi-are-35-59': 8, 'agi-are-60+': 8, 'default_lags': 1}\n",
      "    learning_rate: 0.1\n",
      "    max_bin: 1024\n",
      "    max_depth: -1\n",
      "    min_child_samples: 20\n",
      "    min_split_gain: 0.0\n",
      "    n_estimators: 500\n",
      "    num_leaves: 20\n",
      "    reg_alpha: 1.0\n",
      "    reg_lambda: 0.0\n",
      "    subsample: 0.8\n",
      "    subsample_freq: 1\n",
      "    use_static_covariates: False\n",
      "\n",
      "  Validation score : 449.896\n",
      "=======================\n",
      "\n",
      "→ 2023-11-16\n"
     ]
    },
    {
     "name": "stderr",
     "output_type": "stream",
     "text": [
      "                                                           \r"
     ]
    },
    {
     "name": "stdout",
     "output_type": "stream",
     "text": [
      "→ 2023-11-23\n"
     ]
    },
    {
     "name": "stderr",
     "output_type": "stream",
     "text": [
      "                                                           "
     ]
    },
    {
     "name": "stdout",
     "output_type": "stream",
     "text": [
      "\n",
      "All dates completed successfully.\n"
     ]
    },
    {
     "name": "stderr",
     "output_type": "stream",
     "text": [
      "\r"
     ]
    }
   ],
   "source": [
    "generate_forecasts(\"lightgbm\", FORECAST_DATES[:2], data_mode=\"no_covid\", modes=\"coupling\")"
   ]
  },
  {
   "cell_type": "markdown",
   "id": "dd28791d",
   "metadata": {},
   "source": [
    "### TSMixer"
   ]
  },
  {
   "cell_type": "code",
   "execution_count": 2,
   "id": "b3af32b1-e328-46ab-b009-b6242e75970b",
   "metadata": {},
   "outputs": [
    {
     "name": "stdout",
     "output_type": "stream",
     "text": [
      "\n",
      "=== Training config ===\n",
      "  model          : tsmixer-no_covariates\n",
      "  use_covariates : False\n",
      "  sample_weight  : linear\n",
      "  modes          : ['coupling']\n",
      "  dates          : 2023-11-16 → 2023-11-16 (n=1)\n",
      "  seeds          : 1 → 10 (n=10)\n",
      "=======================\n",
      "  Parameters:\n",
      "    activation: ReLU\n",
      "    batch_size: 32\n",
      "    dropout: 0.2\n",
      "    ff_size: 64\n",
      "    hidden_size: 32\n",
      "    input_chunk_length: 8\n",
      "    n_epochs: 1000\n",
      "    norm_type: TimeBatchNorm2d\n",
      "    normalize_before: False\n",
      "    num_blocks: 4\n",
      "    optimizer_cls: <class 'torch.optim.adamw.AdamW'>\n",
      "    optimizer_kwargs: {'lr': 0.0005, 'weight_decay': 0.0001}\n",
      "    use_static_covariates: False\n",
      "\n",
      "  Validation score : 341.133\n",
      "=======================\n",
      "\n",
      "→ 2023-11-16\n"
     ]
    },
    {
     "name": "stderr",
     "output_type": "stream",
     "text": [
      "                                                            "
     ]
    },
    {
     "name": "stdout",
     "output_type": "stream",
     "text": [
      "\n",
      "All dates completed successfully.\n"
     ]
    },
    {
     "name": "stderr",
     "output_type": "stream",
     "text": [
      "\r"
     ]
    }
   ],
   "source": [
    "generate_forecasts(\"tsmixer\", FORECAST_DATES[:1], data_mode=\"no_covariates\", modes=\"coupling\")  # Best validation score"
   ]
  },
  {
   "cell_type": "code",
   "execution_count": null,
   "id": "7f459a16",
   "metadata": {},
   "outputs": [
    {
     "name": "stdout",
     "output_type": "stream",
     "text": [
      "\n",
      "=== Training config ===\n",
      "  model          : tsmixer-no_covariates\n",
      "  use_covariates : False\n",
      "  sample_weight  : linear\n",
      "  modes          : ['naive', 'coupling', 'discard', 'oracle']\n",
      "  dates          : 2023-11-16 → 2023-11-23 (n=2)\n",
      "  seeds          : 1 → 10 (n=10)\n",
      "=======================\n",
      "  Parameters:\n",
      "    activation: ReLU\n",
      "    batch_size: 32\n",
      "    dropout: 0.2\n",
      "    ff_size: 64\n",
      "    hidden_size: 32\n",
      "    input_chunk_length: 8\n",
      "    n_epochs: 1000\n",
      "    norm_type: TimeBatchNorm2d\n",
      "    normalize_before: False\n",
      "    num_blocks: 4\n",
      "    optimizer_cls: <class 'torch.optim.adamw.AdamW'>\n",
      "    optimizer_kwargs: {'lr': 0.0005, 'weight_decay': 0.0001}\n",
      "    use_static_covariates: False\n",
      "\n",
      "  Validation score : 341.133\n",
      "=======================\n",
      "\n",
      "→ 2023-11-16\n"
     ]
    },
    {
     "name": "stderr",
     "output_type": "stream",
     "text": [
      "                                                            \r"
     ]
    },
    {
     "name": "stdout",
     "output_type": "stream",
     "text": [
      "→ 2023-11-23\n"
     ]
    },
    {
     "name": "stderr",
     "output_type": "stream",
     "text": [
      "                                                            "
     ]
    },
    {
     "name": "stdout",
     "output_type": "stream",
     "text": [
      "\n",
      "All dates completed successfully.\n"
     ]
    },
    {
     "name": "stderr",
     "output_type": "stream",
     "text": [
      "\r"
     ]
    }
   ],
   "source": [
    "generate_forecasts(\"tsmixer\", FORECAST_DATES[:2], data_mode=\"no_covariates\")  # Best validation score"
   ]
  },
  {
   "cell_type": "code",
   "execution_count": 6,
   "id": "6604b484",
   "metadata": {},
   "outputs": [
    {
     "name": "stdout",
     "output_type": "stream",
     "text": [
      "\n",
      "=== Training config ===\n",
      "  model          : tsmixer\n",
      "  use_covariates : True\n",
      "  sample_weight  : linear\n",
      "  modes          : ['coupling']\n",
      "  dates          : 2023-11-16 → 2023-11-23 (n=2)\n",
      "  seeds          : 1 → 10 (n=10)\n",
      "=======================\n",
      "  Parameters:\n",
      "    activation: ReLU\n",
      "    batch_size: 32\n",
      "    dropout: 0.2\n",
      "    ff_size: 64\n",
      "    hidden_size: 32\n",
      "    input_chunk_length: 8\n",
      "    n_epochs: 500\n",
      "    norm_type: TimeBatchNorm2d\n",
      "    normalize_before: False\n",
      "    num_blocks: 4\n",
      "    optimizer_cls: <class 'torch.optim.adamw.AdamW'>\n",
      "    optimizer_kwargs: {'lr': 0.001, 'weight_decay': 0.0001}\n",
      "    use_static_covariates: False\n",
      "\n",
      "  Validation score : 437.474\n",
      "=======================\n",
      "\n",
      "→ 2023-11-16\n"
     ]
    },
    {
     "name": "stderr",
     "output_type": "stream",
     "text": [
      "                                                            \r"
     ]
    },
    {
     "name": "stdout",
     "output_type": "stream",
     "text": [
      "→ 2023-11-23\n"
     ]
    },
    {
     "name": "stderr",
     "output_type": "stream",
     "text": [
      "                                                            "
     ]
    },
    {
     "name": "stdout",
     "output_type": "stream",
     "text": [
      "\n",
      "All dates completed successfully.\n"
     ]
    },
    {
     "name": "stderr",
     "output_type": "stream",
     "text": [
      "\r"
     ]
    }
   ],
   "source": [
    "generate_forecasts(\"tsmixer\", FORECAST_DATES[:2], data_mode=\"all\", modes=\"coupling\")"
   ]
  },
  {
   "cell_type": "code",
   "execution_count": 7,
   "id": "a9d64b93-808e-4b7f-b05c-ce5cfeb4e196",
   "metadata": {},
   "outputs": [
    {
     "name": "stdout",
     "output_type": "stream",
     "text": [
      "\n",
      "=== Training config ===\n",
      "  model          : tsmixer-no_covid\n",
      "  use_covariates : True\n",
      "  sample_weight  : no-covid\n",
      "  modes          : ['coupling']\n",
      "  dates          : 2023-11-16 → 2023-11-23 (n=2)\n",
      "  seeds          : 1 → 10 (n=10)\n",
      "=======================\n",
      "  Parameters:\n",
      "    activation: ReLU\n",
      "    batch_size: 32\n",
      "    dropout: 0.2\n",
      "    ff_size: 32\n",
      "    hidden_size: 64\n",
      "    input_chunk_length: 8\n",
      "    n_epochs: 500\n",
      "    norm_type: TimeBatchNorm2d\n",
      "    normalize_before: False\n",
      "    num_blocks: 6\n",
      "    optimizer_cls: <class 'torch.optim.adamw.AdamW'>\n",
      "    optimizer_kwargs: {'lr': 0.005, 'weight_decay': 0.0}\n",
      "    use_static_covariates: False\n",
      "\n",
      "  Validation score : 502.986\n",
      "=======================\n",
      "\n",
      "→ 2023-11-16\n"
     ]
    },
    {
     "name": "stderr",
     "output_type": "stream",
     "text": [
      "                                                            \r"
     ]
    },
    {
     "name": "stdout",
     "output_type": "stream",
     "text": [
      "→ 2023-11-23\n"
     ]
    },
    {
     "name": "stderr",
     "output_type": "stream",
     "text": [
      "                                                            "
     ]
    },
    {
     "name": "stdout",
     "output_type": "stream",
     "text": [
      "\n",
      "All dates completed successfully.\n"
     ]
    },
    {
     "name": "stderr",
     "output_type": "stream",
     "text": [
      "\r"
     ]
    }
   ],
   "source": [
    "generate_forecasts(\"tsmixer\", FORECAST_DATES[:2], data_mode=\"no_covid\", modes=\"coupling\")"
   ]
  }
 ],
 "metadata": {
  "kernelspec": {
   "display_name": "replication-sari",
   "language": "python",
   "name": "replication-sari"
  },
  "language_info": {
   "name": "python"
  }
 },
 "nbformat": 4,
 "nbformat_minor": 5
}
