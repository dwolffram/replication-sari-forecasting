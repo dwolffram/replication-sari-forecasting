{
 "cells": [
  {
   "cell_type": "code",
   "execution_count": null,
   "id": "0",
   "metadata": {},
   "outputs": [],
   "source": [
    "from config import FORECAST_DATES\n",
    "from src.forecasting import generate_forecasts"
   ]
  },
  {
   "cell_type": "markdown",
   "id": "1",
   "metadata": {},
   "source": [
    "### LightGBM"
   ]
  },
  {
   "cell_type": "code",
   "execution_count": null,
   "id": "2",
   "metadata": {},
   "outputs": [],
   "source": [
    "generate_forecasts(\"lightgbm\", FORECAST_DATES)"
   ]
  },
  {
   "cell_type": "code",
   "execution_count": null,
   "id": "3",
   "metadata": {},
   "outputs": [],
   "source": [
    "generate_forecasts(\"lightgbm\", FORECAST_DATES, data_mode=\"no_covariates\", modes=\"coupling\")"
   ]
  },
  {
   "cell_type": "code",
   "execution_count": null,
   "id": "4",
   "metadata": {},
   "outputs": [],
   "source": [
    "generate_forecasts(\"lightgbm\", FORECAST_DATES, data_mode=\"no_covid\", modes=\"coupling\")"
   ]
  },
  {
   "cell_type": "markdown",
   "id": "5",
   "metadata": {},
   "source": [
    "### TSMixer"
   ]
  },
  {
   "cell_type": "code",
   "execution_count": null,
   "id": "6",
   "metadata": {},
   "outputs": [],
   "source": [
    "generate_forecasts(\"tsmixer\", FORECAST_DATES, data_mode=\"no_covariates\")  # Best validation score"
   ]
  },
  {
   "cell_type": "code",
   "execution_count": null,
   "id": "7",
   "metadata": {},
   "outputs": [],
   "source": [
    "generate_forecasts(\"tsmixer\", FORECAST_DATES, data_mode=\"all\", modes=\"coupling\")"
   ]
  },
  {
   "cell_type": "code",
   "execution_count": null,
   "id": "8",
   "metadata": {},
   "outputs": [],
   "source": [
    "generate_forecasts(\"tsmixer\", FORECAST_DATES, data_mode=\"no_covid\", modes=\"coupling\")"
   ]
  }
 ],
 "metadata": {
  "kernelspec": {
   "display_name": "replication-sari",
   "language": "python",
   "name": "replication-sari"
  },
  "language_info": {
   "name": "python"
  }
 },
 "nbformat": 4,
 "nbformat_minor": 5
}
