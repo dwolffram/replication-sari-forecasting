{
 "cells": [
  {
   "cell_type": "markdown",
   "id": "a06d7174-24f8-4d5e-88a6-ad2a2cf06e87",
   "metadata": {},
   "source": [
    "# LightGBM"
   ]
  },
  {
   "cell_type": "markdown",
   "id": "537394ee-4a58-437f-8e9d-70c77b3e3324",
   "metadata": {
    "tags": []
   },
   "source": [
    "### Setup"
   ]
  },
  {
   "cell_type": "code",
   "execution_count": null,
   "id": "0e493c37-6325-457b-96bc-d534de06f3c4",
   "metadata": {},
   "outputs": [
    {
     "name": "stderr",
     "output_type": "stream",
     "text": [
      "c:\\Users\\tm7202\\Workspace\\replication-sari-forecasting\\.venv\\Lib\\site-packages\\fs\\__init__.py:4: UserWarning: pkg_resources is deprecated as an API. See https://setuptools.pypa.io/en/latest/pkg_resources.html. The pkg_resources package is slated for removal as early as 2025-11-30. Refrain from using this package or pin to Setuptools<81.\n",
      "  __import__(\"pkg_resources\").declare_namespace(__name__)  # type: ignore\n"
     ]
    }
   ],
   "source": [
    "import ast\n",
    "import os\n",
    "\n",
    "import pandas as pd\n",
    "from darts.models.forecasting.lgbm import LightGBMModel\n",
    "\n",
    "from config import ENCODERS, FORECAST_DATES, HORIZON, NUM_SAMPLES, QUANTILES, RANDOM_SEEDS, ROOT\n",
    "from src.realtime_utils import (\n",
    "    compute_forecast,\n",
    "    load_realtime_training_data,\n",
    ")\n"
   ]
  },
  {
   "cell_type": "code",
   "execution_count": 3,
   "id": "08324648",
   "metadata": {},
   "outputs": [],
   "source": [
    "import warnings\n",
    "\n",
    "warnings.filterwarnings(\n",
    "    \"ignore\",\n",
    "    message=\"X does not have valid feature names, but LGBMRegressor was fitted with feature names\",\n",
    "    category=UserWarning,\n",
    "    module=\"sklearn.utils.validation\",\n",
    ")"
   ]
  },
  {
   "cell_type": "markdown",
   "id": "102d70ef-0eaf-4a2f-874a-d5ce8240f40b",
   "metadata": {},
   "source": [
    "# Load best model"
   ]
  },
  {
   "cell_type": "code",
   "execution_count": null,
   "id": "46957b34",
   "metadata": {},
   "outputs": [],
   "source": [
    "def get_best_parameters(csv_path: str) -> dict:\n",
    "    \"\"\"\n",
    "    Load a gridsearch CSV, parse covariate columns, drop error columns,\n",
    "    and return the configuration with the lowest WIS.\n",
    "    \"\"\"\n",
    "    gs = pd.read_csv(csv_path)\n",
    "\n",
    "    # convert string representations back into Python objects\n",
    "    for col in [\"lags_past_covariates\", \"lags_future_covariates\"]:\n",
    "        if col in gs.columns:\n",
    "            gs[col] = gs[col].apply(lambda x: ast.literal_eval(x) if isinstance(x, str) else x)\n",
    "\n",
    "    gs = gs.drop(columns=[c for c in [\"error_flag\", \"error_msg\"] if c in gs.columns])\n",
    "\n",
    "    best_row = gs.loc[gs[\"WIS\"].idxmin()].to_dict()\n",
    "    wis = best_row.pop(\"WIS\")  # remove from dict, keep separately\n",
    "\n",
    "    print(f\"WIS of best run: {wis:.3f}\")\n",
    "    return {k: best_row[k] for k in sorted(best_row)}\n"
   ]
  },
  {
   "cell_type": "code",
   "execution_count": 5,
   "id": "07085b88",
   "metadata": {},
   "outputs": [
    {
     "name": "stdout",
     "output_type": "stream",
     "text": [
      "WIS of best run: 447.993\n"
     ]
    }
   ],
   "source": [
    "params = get_best_parameters(\"gridsearch_lightgbm.csv\")"
   ]
  },
  {
   "cell_type": "code",
   "execution_count": 6,
   "id": "12bca7e0-5850-4710-b877-549ffeaf0c6c",
   "metadata": {},
   "outputs": [],
   "source": [
    "use_covariates = params.pop(\"use_covariates\")\n",
    "use_encoders = params.pop(\"use_encoders\")\n",
    "sample_weight = params.pop(\"sample_weight\")\n",
    "\n",
    "if not use_covariates:\n",
    "    del params[\"lags_past_covariates\"]\n",
    "\n",
    "model = LightGBMModel(\n",
    "    **params,\n",
    "    output_chunk_length=HORIZON,\n",
    "    add_encoders=ENCODERS if use_encoders else None,\n",
    "    likelihood=\"quantile\",\n",
    "    quantiles=QUANTILES,\n",
    "    verbose=-1,\n",
    ")"
   ]
  },
  {
   "cell_type": "markdown",
   "id": "1ac32280-0630-41fc-87bf-a7a67439b3c9",
   "metadata": {},
   "source": [
    "# Train model"
   ]
  },
  {
   "cell_type": "code",
   "execution_count": 45,
   "id": "e97e6511-fcf7-49cb-add1-83d856625a05",
   "metadata": {},
   "outputs": [
    {
     "name": "stdout",
     "output_type": "stream",
     "text": [
      "../models/2023-11-16/2023-11-16-lightgbm-1.pt\n",
      "../models/2023-11-16/2023-11-16-lightgbm-2.pt\n",
      "../models/2023-11-16/2023-11-16-lightgbm-3.pt\n",
      "../models/2023-11-16/2023-11-16-lightgbm-4.pt\n",
      "../models/2023-11-16/2023-11-16-lightgbm-5.pt\n",
      "../models/2023-11-16/2023-11-16-lightgbm-6.pt\n",
      "../models/2023-11-16/2023-11-16-lightgbm-7.pt\n",
      "../models/2023-11-16/2023-11-16-lightgbm-8.pt\n",
      "../models/2023-11-16/2023-11-16-lightgbm-9.pt\n",
      "../models/2023-11-16/2023-11-16-lightgbm-10.pt\n"
     ]
    }
   ],
   "source": [
    "for forecast_date in FORECAST_DATES[0:1]:\n",
    "    path = f\"../models/{forecast_date}/\"\n",
    "    os.makedirs(path, exist_ok=True)\n",
    "\n",
    "    targets, covariates = load_realtime_training_data(as_of=forecast_date)\n",
    "\n",
    "    for seed in RANDOM_SEEDS:\n",
    "        model_path = path + f\"{forecast_date}-lightgbm-{seed}.pt\"\n",
    "        print(model_path)\n",
    "        model = LightGBMModel(\n",
    "            **params,\n",
    "            output_chunk_length=HORIZON,\n",
    "            add_encoders=ENCODERS if use_encoders else None,\n",
    "            likelihood=\"quantile\",\n",
    "            quantiles=QUANTILES,\n",
    "            verbose=-1,\n",
    "            random_state=seed,\n",
    "        )\n",
    "        model.fit(\n",
    "            targets,\n",
    "            past_covariates=covariates if use_covariates else None,\n",
    "            sample_weight=sample_weight,\n",
    "        )\n",
    "        model.save(model_path)"
   ]
  },
  {
   "cell_type": "markdown",
   "id": "4c054acf-4332-4089-ba94-40bdb73382e1",
   "metadata": {},
   "source": [
    "# Forecast"
   ]
  },
  {
   "cell_type": "code",
   "execution_count": 9,
   "id": "359aee2e-b950-4592-8d62-fe8a5c1f6340",
   "metadata": {},
   "outputs": [],
   "source": [
    "def compute_ensemble(forecast_date, model_name, export=False):\n",
    "    \"\"\"Computes the ensemble forecast for a given date by combining multiple runs of the same model.\n",
    "\n",
    "    Args:\n",
    "        forecast_date (str): Forecast date (e.g., \"2024-06-13\").\n",
    "        model_name (str): Identifier of the model whose runs will be ensembled (e.g., \"lightgbm\").\n",
    "        export (bool, optional): If True, write the ensembled forecast to the standard output path. Defaults to False.\n",
    "\n",
    "    Returns:\n",
    "        pandas.DataFrame: Dataframe containing the ensembled forecast.\n",
    "    \"\"\"\n",
    "\n",
    "    # Keep incomplete covariates, we need the most recent values for prediction.\n",
    "    # Incomplete target values will be replaced by a nowcast later.\n",
    "    targets, covariates = load_realtime_training_data(as_of=forecast_date, drop_incomplete=False)\n",
    "\n",
    "    dfs = []\n",
    "    for seed in RANDOM_SEEDS:\n",
    "        print(seed)\n",
    "        model_path = f\"../models/{forecast_date}/{forecast_date}-{model_name}-{seed}.pt\"\n",
    "        model = LightGBMModel.load(model_path)\n",
    "        df = compute_forecast(\n",
    "            model,\n",
    "            targets,\n",
    "            covariates,\n",
    "            forecast_date,\n",
    "            HORIZON,\n",
    "            NUM_SAMPLES,\n",
    "            vincentization=False,\n",
    "            probabilistic_nowcast=True,\n",
    "            local=True,\n",
    "        )\n",
    "        dfs.append(df)\n",
    "\n",
    "    df = pd.concat(dfs)\n",
    "    df = (\n",
    "        df.groupby(\n",
    "            [\n",
    "                \"location\",\n",
    "                \"age_group\",\n",
    "                \"forecast_date\",\n",
    "                \"target_end_date\",\n",
    "                \"horizon\",\n",
    "                \"type\",\n",
    "                \"quantile\",\n",
    "            ]\n",
    "        )\n",
    "        .agg({\"value\": \"mean\"})\n",
    "        .reset_index()\n",
    "    )\n",
    "\n",
    "    df = df.sort_values([\"location\", \"age_group\", \"horizon\", \"quantile\"])\n",
    "\n",
    "    if export:\n",
    "        path = ROOT / \"forecasts_new/lightgbm_new/\"\n",
    "        os.makedirs(path, exist_ok=True)\n",
    "\n",
    "        df.to_csv(path / f\"{forecast_date}-icosari-sari-lightgbm_new.csv\", index=False)\n",
    "\n",
    "    return df"
   ]
  },
  {
   "cell_type": "code",
   "execution_count": 10,
   "id": "14f9b011-8d46-4954-bf99-bcd0be80b32d",
   "metadata": {},
   "outputs": [
    {
     "name": "stdout",
     "output_type": "stream",
     "text": [
      "2023-11-16\n",
      "1\n",
      "2\n",
      "3\n",
      "4\n",
      "5\n",
      "6\n",
      "7\n",
      "8\n",
      "9\n",
      "10\n"
     ]
    }
   ],
   "source": [
    "forecasts = []\n",
    "for forecast_date in FORECAST_DATES[:1]:\n",
    "    print(forecast_date)\n",
    "    forecast = compute_ensemble(forecast_date, \"lightgbm\", export=True)\n",
    "    forecasts.append(forecast)"
   ]
  }
 ],
 "metadata": {
  "kernelspec": {
   "display_name": "RESPINOW-ML",
   "language": "python",
   "name": "respinow-ml"
  },
  "language_info": {
   "name": "python"
  }
 },
 "nbformat": 4,
 "nbformat_minor": 5
}
