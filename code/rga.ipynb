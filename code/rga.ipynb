{
 "cells": [
  {
   "cell_type": "code",
   "execution_count": null,
   "id": "0",
   "metadata": {},
   "outputs": [],
   "source": [
    "import pandas as pd\n",
    "from safeaipackage import core\n",
    "\n",
    "from config import MAIN_MODELS, MODEL_ORDER\n",
    "from src.load_data import load_predictions"
   ]
  },
  {
   "cell_type": "code",
   "execution_count": null,
   "id": "1",
   "metadata": {},
   "outputs": [],
   "source": [
    "df = load_predictions()\n",
    "df = df[df.model.isin(MAIN_MODELS)].copy()\n",
    "model_order = [m for m in MODEL_ORDER if m in df.model.unique()]\n",
    "df[\"model\"] = pd.Categorical(df[\"model\"], categories=model_order, ordered=True)\n",
    "df = df[df.age_group == \"00+\"]\n",
    "df = df[df[\"type\"] == \"median\"]\n",
    "\n",
    "# Compute RGA for each model and horizon\n",
    "results = []\n",
    "for h in [1, 2, 3, 4]:\n",
    "    df_h = df[df.horizon == h]\n",
    "    for m in df_h.model.unique():\n",
    "        df_temp = df_h[df_h.model == m]\n",
    "        score = core.rga(df_temp.value, df_temp.truth)\n",
    "        results.append({\"model\": m, \"horizon\": h, \"rga\": score})\n",
    "\n",
    "df_results = pd.DataFrame(results)\n",
    "df_results[\"model\"] = pd.Categorical(\n",
    "    df_results[\"model\"], categories=model_order, ordered=True\n",
    ")\n",
    "df_results = df_results.sort_values(by=[\"horizon\", \"model\"]).reset_index(drop=True)\n",
    "\n",
    "df_wide = df_results.pivot(index=\"model\", columns=\"horizon\", values=\"rga\")\n",
    "df_wide.columns = [f\"horizon_{h}\" for h in df_wide.columns]\n",
    "df_wide = df_wide.reset_index()"
   ]
  },
  {
   "cell_type": "code",
   "execution_count": null,
   "id": "2",
   "metadata": {},
   "outputs": [],
   "source": [
    "df_wide"
   ]
  },
  {
   "cell_type": "markdown",
   "id": "3",
   "metadata": {},
   "source": [
    "### Generate LaTeX table code\n"
   ]
  },
  {
   "cell_type": "code",
   "execution_count": null,
   "id": "4",
   "metadata": {},
   "outputs": [],
   "source": [
    "latex_table = df_wide.to_latex(\n",
    "    float_format=\"%.3f\",  # format floats to 3 decimal places\n",
    "    caption=\"RGA scores by model and forecast horizon\",\n",
    "    label=\"tab:rga_scores\",\n",
    "    column_format=\"lcccc\",\n",
    "    escape=False,\n",
    "    index=False\n",
    ")\n",
    "\n",
    "print(latex_table)"
   ]
  },
  {
   "cell_type": "markdown",
   "id": "5",
   "metadata": {},
   "source": [
    "# Example"
   ]
  },
  {
   "cell_type": "code",
   "execution_count": null,
   "id": "6",
   "metadata": {},
   "outputs": [],
   "source": [
    "d = pd.DataFrame(\n",
    "    {\n",
    "        \"x\": [1, 2, 3, 4],\n",
    "        \"truth\": [4, 9, 10, 1],\n",
    "        \"y1\": [3, 10, 9, 2],\n",
    "        \"y2\": [21, 22, 30, 17],\n",
    "    }\n",
    ")"
   ]
  },
  {
   "cell_type": "code",
   "execution_count": null,
   "id": "7",
   "metadata": {},
   "outputs": [],
   "source": [
    "d.set_index(\"x\").plot()\n",
    "for y in [\"y1\", \"y2\"]:\n",
    "    score = core.rga(d[y], d.truth)\n",
    "    print(f\"RGA of {y}: {score}\")"
   ]
  }
 ],
 "metadata": {
  "kernelspec": {
   "display_name": "replication-sari",
   "language": "python",
   "name": "replication-sari"
  },
  "language_info": {
   "codemirror_mode": {
    "name": "ipython",
    "version": 3
   },
   "file_extension": ".py",
   "mimetype": "text/x-python",
   "name": "python",
   "nbconvert_exporter": "python",
   "pygments_lexer": "ipython3",
   "version": "3.12.11"
  }
 },
 "nbformat": 4,
 "nbformat_minor": 5
}
