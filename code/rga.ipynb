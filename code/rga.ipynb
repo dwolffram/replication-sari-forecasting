{
 "cells": [
  {
   "cell_type": "code",
   "execution_count": null,
   "id": "015e1a17-bd05-47a6-aed8-c7d1f96927e6",
   "metadata": {},
   "outputs": [],
   "source": [
    "import pandas as pd\n",
    "from safeaipackage import core\n",
    "\n",
    "from src.load_data import load_predictions"
   ]
  },
  {
   "cell_type": "code",
   "execution_count": null,
   "id": "20625dd0-f6ae-4c1c-a28d-6e38754cdc48",
   "metadata": {},
   "outputs": [],
   "source": [
    "MODEL_ORDER = [\n",
    "    \"Nowcast\",\n",
    "    \"Ensemble\",\n",
    "    \"LightGBM\",\n",
    "    \"LightGBM-NoCovariates\",\n",
    "    \"LightGBM-NoCovid\",\n",
    "    \"LightGBM-Oracle\",\n",
    "    \"LightGBM-Skip\",\n",
    "    \"LightGBM-Uncorrected\",\n",
    "    \"TSMixer\",\n",
    "    \"TSMixer-NoCovariates\",\n",
    "    \"TSMixer-NoCovid\",\n",
    "    \"TSMixer-Oracle\",\n",
    "    \"TSMixer-Skip\",\n",
    "    \"TSMixer-Uncorrected\",\n",
    "    \"hhh4\",\n",
    "    \"hhh4-NoCovid\",\n",
    "    \"hhh4-Oracle\",\n",
    "    \"hhh4-Skip\",\n",
    "    \"hhh4-Uncorrected\",\n",
    "    \"Persistence\",\n",
    "    \"Historical\",\n",
    "]\n",
    "\n",
    "MAIN_MODELS = [\"Ensemble\", \"LightGBM\", \"TSMixer\", \"hhh4\", \"Historical\", \"Persistence\"]"
   ]
  },
  {
   "cell_type": "code",
   "execution_count": null,
   "id": "b7572074-1b30-44ae-9ba2-5f27d2702881",
   "metadata": {},
   "outputs": [],
   "source": [
    "df = load_predictions()\n",
    "df = df[df.model.isin(MAIN_MODELS)].copy()\n",
    "model_order = [m for m in MODEL_ORDER if m in df.model.unique()]\n",
    "df[\"model\"] = pd.Categorical(df[\"model\"], categories=model_order, ordered=True)\n",
    "df = df[df.age_group == \"00+\"]\n",
    "df = df[df[\"type\"] == \"median\"]\n",
    "\n",
    "# Compute RGA for each model and horizon\n",
    "results = []\n",
    "for h in [1, 2, 3, 4]:\n",
    "    df_h = df[df.horizon == h]\n",
    "    for m in df_h.model.unique():\n",
    "        df_temp = df_h[df_h.model == m]\n",
    "        score = core.rga(df_temp.value, df_temp.truth)\n",
    "        results.append({\"model\": m, \"horizon\": h, \"rga\": score})\n",
    "\n",
    "df_results = pd.DataFrame(results)\n",
    "df_results[\"model\"] = pd.Categorical(\n",
    "    df_results[\"model\"], categories=model_order, ordered=True\n",
    ")\n",
    "df_results = df_results.sort_values(by=[\"horizon\", \"model\"]).reset_index(drop=True)\n",
    "\n",
    "df_wide = df_results.pivot(index=\"model\", columns=\"horizon\", values=\"rga\")\n",
    "df_wide.columns = [f\"horizon_{h}\" for h in df_wide.columns]\n",
    "df_wide = df_wide.reset_index()"
   ]
  },
  {
   "cell_type": "code",
   "execution_count": 5,
   "id": "c8c7def3-ea4d-4ef0-8ee7-5181e55a61ea",
   "metadata": {},
   "outputs": [
    {
     "data": {
      "text/html": [
       "<div>\n",
       "<style scoped>\n",
       "    .dataframe tbody tr th:only-of-type {\n",
       "        vertical-align: middle;\n",
       "    }\n",
       "\n",
       "    .dataframe tbody tr th {\n",
       "        vertical-align: top;\n",
       "    }\n",
       "\n",
       "    .dataframe thead th {\n",
       "        text-align: right;\n",
       "    }\n",
       "</style>\n",
       "<table border=\"1\" class=\"dataframe\">\n",
       "  <thead>\n",
       "    <tr style=\"text-align: right;\">\n",
       "      <th></th>\n",
       "      <th>model</th>\n",
       "      <th>horizon_1</th>\n",
       "      <th>horizon_2</th>\n",
       "      <th>horizon_3</th>\n",
       "      <th>horizon_4</th>\n",
       "    </tr>\n",
       "  </thead>\n",
       "  <tbody>\n",
       "    <tr>\n",
       "      <th>0</th>\n",
       "      <td>Ensemble</td>\n",
       "      <td>0.970489</td>\n",
       "      <td>0.958142</td>\n",
       "      <td>0.955261</td>\n",
       "      <td>0.948775</td>\n",
       "    </tr>\n",
       "    <tr>\n",
       "      <th>1</th>\n",
       "      <td>LightGBM</td>\n",
       "      <td>0.967930</td>\n",
       "      <td>0.954156</td>\n",
       "      <td>0.943352</td>\n",
       "      <td>0.922535</td>\n",
       "    </tr>\n",
       "    <tr>\n",
       "      <th>2</th>\n",
       "      <td>TSMixer</td>\n",
       "      <td>0.957024</td>\n",
       "      <td>0.942332</td>\n",
       "      <td>0.940735</td>\n",
       "      <td>0.937109</td>\n",
       "    </tr>\n",
       "    <tr>\n",
       "      <th>3</th>\n",
       "      <td>hhh4</td>\n",
       "      <td>0.971026</td>\n",
       "      <td>0.954822</td>\n",
       "      <td>0.947454</td>\n",
       "      <td>0.943053</td>\n",
       "    </tr>\n",
       "    <tr>\n",
       "      <th>4</th>\n",
       "      <td>Persistence</td>\n",
       "      <td>0.965391</td>\n",
       "      <td>0.937694</td>\n",
       "      <td>0.909435</td>\n",
       "      <td>0.882583</td>\n",
       "    </tr>\n",
       "    <tr>\n",
       "      <th>5</th>\n",
       "      <td>Historical</td>\n",
       "      <td>0.954336</td>\n",
       "      <td>0.957344</td>\n",
       "      <td>0.959226</td>\n",
       "      <td>0.963196</td>\n",
       "    </tr>\n",
       "  </tbody>\n",
       "</table>\n",
       "</div>"
      ],
      "text/plain": [
       "         model  horizon_1  horizon_2  horizon_3  horizon_4\n",
       "0     Ensemble   0.970489   0.958142   0.955261   0.948775\n",
       "1     LightGBM   0.967930   0.954156   0.943352   0.922535\n",
       "2      TSMixer   0.957024   0.942332   0.940735   0.937109\n",
       "3         hhh4   0.971026   0.954822   0.947454   0.943053\n",
       "4  Persistence   0.965391   0.937694   0.909435   0.882583\n",
       "5   Historical   0.954336   0.957344   0.959226   0.963196"
      ]
     },
     "execution_count": 5,
     "metadata": {},
     "output_type": "execute_result"
    }
   ],
   "source": [
    "df_wide"
   ]
  },
  {
   "cell_type": "code",
   "execution_count": null,
   "id": "52f9ba12-4206-4d4c-adae-bd4ea988030c",
   "metadata": {},
   "outputs": [
    {
     "name": "stdout",
     "output_type": "stream",
     "text": [
      "\\begin{table}\n",
      "\\caption{RGA scores by model and forecast horizon}\n",
      "\\label{tab:rga_scores}\n",
      "\\begin{tabular}{lcccc}\n",
      "\\toprule\n",
      " & model & horizon_1 & horizon_2 & horizon_3 & horizon_4 \\\\\n",
      "\\midrule\n",
      "0 & Ensemble & 0.970 & 0.958 & 0.955 & 0.949 \\\\\n",
      "1 & LightGBM & 0.968 & 0.954 & 0.943 & 0.923 \\\\\n",
      "2 & TSMixer & 0.957 & 0.942 & 0.941 & 0.937 \\\\\n",
      "3 & hhh4 & 0.971 & 0.955 & 0.947 & 0.943 \\\\\n",
      "4 & Persistence & 0.965 & 0.938 & 0.909 & 0.883 \\\\\n",
      "5 & Historical & 0.954 & 0.957 & 0.959 & 0.963 \\\\\n",
      "\\bottomrule\n",
      "\\end{tabular}\n",
      "\\end{table}\n",
      "\n"
     ]
    }
   ],
   "source": [
    "# Generate LaTeX table code\n",
    "latex_table = df_wide.to_latex(\n",
    "    float_format=\"%.3f\",  # format floats to 3 decimal places\n",
    "    caption=\"RGA scores by model and forecast horizon\",\n",
    "    label=\"tab:rga_scores\",\n",
    "    column_format=\"lcccc\",\n",
    "    escape=False,\n",
    ")\n",
    "\n",
    "# Print the LaTeX code\n",
    "print(latex_table)"
   ]
  },
  {
   "cell_type": "markdown",
   "id": "bd5837bc-f989-4d16-ad7c-9935b8deebc6",
   "metadata": {},
   "source": [
    "# Example"
   ]
  },
  {
   "cell_type": "code",
   "execution_count": null,
   "id": "9f1b045b-d1b1-40fd-8c13-2e8d1e9f0885",
   "metadata": {},
   "outputs": [],
   "source": [
    "d = pd.DataFrame(\n",
    "    {\n",
    "        \"x\": [1, 2, 3, 4],\n",
    "        \"truth\": [4, 9, 10, 1],\n",
    "        \"y1\": [3, 10, 9, 2],\n",
    "        \"y2\": [21, 22, 30, 17],\n",
    "    }\n",
    ")"
   ]
  },
  {
   "cell_type": "code",
   "execution_count": null,
   "id": "1a219b4e-bd28-4091-8ced-3d4002ed5514",
   "metadata": {},
   "outputs": [
    {
     "name": "stdout",
     "output_type": "stream",
     "text": [
      "RGA of y1: 0.9666666666666667\n",
      "RGA of y2: 1.0\n"
     ]
    },
    {
     "data": {
      "image/png": "[encoded data removed]",
      "text/plain": [
       "<Figure size 640x480 with 1 Axes>"
      ]
     },
     "metadata": {},
     "output_type": "display_data"
    }
   ],
   "source": [
    "d.set_index(\"x\").plot()\n",
    "for y in [\"y1\", \"y2\"]:\n",
    "    score = core.rga(d[y], d.truth)\n",
    "    print(f\"RGA of {y}: {score}\")"
   ]
  }
 ],
 "metadata": {
  "kernelspec": {
   "display_name": "replication-sari",
   "language": "python",
   "name": "replication-sari"
  },
  "language_info": {
   "name": "python"
  }
 },
 "nbformat": 4,
 "nbformat_minor": 5
}
