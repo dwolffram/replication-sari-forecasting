{
 "cells": [
  {
   "cell_type": "markdown",
   "id": "a06d7174-24f8-4d5e-88a6-ad2a2cf06e87",
   "metadata": {},
   "source": [
    "# TSMixer"
   ]
  },
  {
   "cell_type": "markdown",
   "id": "537394ee-4a58-437f-8e9d-70c77b3e3324",
   "metadata": {
    "tags": []
   },
   "source": [
    "### Setup"
   ]
  },
  {
   "cell_type": "code",
   "execution_count": 1,
   "id": "80eaa427",
   "metadata": {},
   "outputs": [
    {
     "name": "stderr",
     "output_type": "stream",
     "text": [
      "c:\\Users\\tm7202\\Workspace\\replication-sari-forecasting\\.venv\\Lib\\site-packages\\fs\\__init__.py:4: UserWarning: pkg_resources is deprecated as an API. See https://setuptools.pypa.io/en/latest/pkg_resources.html. The pkg_resources package is slated for removal as early as 2025-11-30. Refrain from using this package or pin to Setuptools<81.\n",
      "  __import__(\"pkg_resources\").declare_namespace(__name__)  # type: ignore\n"
     ]
    }
   ],
   "source": [
    "import ast\n",
    "import os\n",
    "\n",
    "import pandas as pd\n",
    "import torch\n",
    "from darts.models import TSMixerModel\n",
    "\n",
    "from config import ENCODERS, FORECAST_DATES, HORIZON, NUM_SAMPLES, RANDOM_SEEDS, ROOT, SHARED_ARGS\n",
    "from src.realtime_utils import (\n",
    "    compute_forecast,\n",
    "    load_realtime_training_data,\n",
    ")\n"
   ]
  },
  {
   "cell_type": "code",
   "execution_count": 2,
   "id": "5e2939d3-aed6-4cc7-8e0d-32b66f80ee29",
   "metadata": {},
   "outputs": [],
   "source": [
    "OPTIMIZER_DICT = {\n",
    "    \"Adam\" : torch.optim.Adam,\n",
    "    \"AdamW\" : torch.optim.AdamW,\n",
    "    \"SGD\": torch.optim.SGD\n",
    "}"
   ]
  },
  {
   "cell_type": "markdown",
   "id": "102d70ef-0eaf-4a2f-874a-d5ce8240f40b",
   "metadata": {},
   "source": [
    "# Load best model"
   ]
  },
  {
   "cell_type": "code",
   "execution_count": 3,
   "id": "1b6bd819",
   "metadata": {},
   "outputs": [],
   "source": [
    "def get_best_parameters(csv_path: str) -> dict:\n",
    "    \"\"\"\n",
    "    Load a gridsearch CSV, parse covariate columns, drop error columns,\n",
    "    and return the configuration with the lowest WIS.\n",
    "    \"\"\"\n",
    "    gs = pd.read_csv(csv_path)\n",
    "\n",
    "    # convert string representations back into Python objects\n",
    "    for col in [\"lags_past_covariates\", \"lags_future_covariates\"]:\n",
    "        if col in gs.columns:\n",
    "            gs[col] = gs[col].apply(lambda x: ast.literal_eval(x) if isinstance(x, str) else x)\n",
    "\n",
    "    gs = gs.drop(columns=[c for c in [\"error_flag\", \"error_msg\"] if c in gs.columns])\n",
    "\n",
    "    best_row = gs.loc[gs[\"WIS\"].idxmin()].to_dict()\n",
    "    wis = best_row.pop(\"WIS\")  # remove from dict, keep separately\n",
    "\n",
    "    for key in [\"WIS_1\", \"WIS_2\", \"WIS_3\", \"WIS_std\"]:\n",
    "        best_row.pop(key, None)  # None avoids KeyError if not present\n",
    "\n",
    "    print(f\"WIS of best run: {wis:.3f}\")\n",
    "    return {k: best_row[k] for k in sorted(best_row)}\n"
   ]
  },
  {
   "cell_type": "code",
   "execution_count": 4,
   "id": "aa7e8194-5717-4335-baa1-4ee04fa41d71",
   "metadata": {},
   "outputs": [
    {
     "name": "stdout",
     "output_type": "stream",
     "text": [
      "WIS of best run: 335.628\n"
     ]
    }
   ],
   "source": [
    "params = get_best_parameters('gridsearch_tsmixer.csv')"
   ]
  },
  {
   "cell_type": "code",
   "execution_count": 5,
   "id": "72679b00-21aa-43a2-b981-c68c4fa7b533",
   "metadata": {},
   "outputs": [],
   "source": [
    "name = params.pop('model')\n",
    "use_covariates = params.pop('use_covariates')\n",
    "use_features = params.pop('use_features')\n",
    "use_encoders = params.pop('use_encoders')\n",
    "optimizer = params.pop('optimizer')\n",
    "sample_weight = params.pop('sample_weight')\n",
    "\n",
    "params['optimizer_cls'] = OPTIMIZER_DICT[optimizer]"
   ]
  },
  {
   "cell_type": "code",
   "execution_count": 6,
   "id": "2748de13",
   "metadata": {},
   "outputs": [],
   "source": [
    "optimizer_kwargs={\n",
    "    \"lr\": params.pop(\"optimizer_kwargs.lr\"),\n",
    "    \"weight_decay\": params.pop(\"optimizer_kwargs.weight_decay\")\n",
    "}\n",
    "params[\"optimizer_kwargs\"] = optimizer_kwargs"
   ]
  },
  {
   "cell_type": "code",
   "execution_count": 7,
   "id": "413a4c25",
   "metadata": {},
   "outputs": [
    {
     "data": {
      "text/plain": [
       "{'activation': 'ReLU',\n",
       " 'batch_size': 32,\n",
       " 'dropout': 0.2,\n",
       " 'ff_size': 64,\n",
       " 'hidden_size': 32,\n",
       " 'input_chunk_length': 8,\n",
       " 'n_epochs': 1000,\n",
       " 'norm_type': 'TimeBatchNorm2d',\n",
       " 'normalize_before': False,\n",
       " 'num_blocks': 6,\n",
       " 'use_static_covariates': False,\n",
       " 'optimizer_cls': torch.optim.adamw.AdamW,\n",
       " 'optimizer_kwargs': {'lr': 0.0005, 'weight_decay': 0.0001}}"
      ]
     },
     "execution_count": null,
     "metadata": {},
     "output_type": "execute_result"
    }
   ],
   "source": [
    "params"
   ]
  },
  {
   "cell_type": "markdown",
   "id": "1ac32280-0630-41fc-87bf-a7a67439b3c9",
   "metadata": {},
   "source": [
    "# Train model"
   ]
  },
  {
   "cell_type": "code",
   "execution_count": 8,
   "id": "e97e6511-fcf7-49cb-add1-83d856625a05",
   "metadata": {},
   "outputs": [
    {
     "name": "stderr",
     "output_type": "stream",
     "text": [
      "GPU available: False, used: False\n",
      "TPU available: False, using: 0 TPU cores\n",
      "HPU available: False, using: 0 HPUs\n"
     ]
    },
    {
     "name": "stdout",
     "output_type": "stream",
     "text": [
      "Epoch 999: 100%|██████████| 15/15 [00:00<00:00, 42.97it/s, train_loss=3.180]"
     ]
    },
    {
     "name": "stderr",
     "output_type": "stream",
     "text": [
      "`Trainer.fit` stopped: `max_epochs=1000` reached.\n"
     ]
    },
    {
     "name": "stdout",
     "output_type": "stream",
     "text": [
      "Epoch 999: 100%|██████████| 15/15 [00:00<00:00, 42.97it/s, train_loss=3.180]\n"
     ]
    }
   ],
   "source": [
    "for forecast_date in FORECAST_DATES[0:1]:\n",
    "    path = ROOT / f\"models/{forecast_date}/\"\n",
    "    os.makedirs(path, exist_ok=True)\n",
    "\n",
    "    targets, covariates = load_realtime_training_data(as_of=forecast_date)\n",
    "\n",
    "    for seed in RANDOM_SEEDS[:1]:\n",
    "        model_path = path / f\"{forecast_date}-tsmixer-{seed}.pt\"\n",
    "        model = TSMixerModel(\n",
    "            **params, add_encoders=ENCODERS if use_encoders else None, **SHARED_ARGS, random_state=seed\n",
    "        )\n",
    "        model.fit(\n",
    "            targets,\n",
    "            past_covariates=covariates if use_covariates else None,\n",
    "            sample_weight=sample_weight,\n",
    "            dataloader_kwargs={\"pin_memory\": False},\n",
    "        )\n",
    "        model.save(str(model_path))"
   ]
  },
  {
   "cell_type": "markdown",
   "id": "4c054acf-4332-4089-ba94-40bdb73382e1",
   "metadata": {},
   "source": [
    "# Forecast"
   ]
  },
  {
   "cell_type": "code",
   "execution_count": 13,
   "id": "641d83be-2309-472a-b9cc-9cc350a89ce2",
   "metadata": {},
   "outputs": [],
   "source": [
    "NAME = 'tsmixer'"
   ]
  },
  {
   "cell_type": "code",
   "execution_count": 14,
   "id": "c8ab7951-7f90-4a83-a719-af28b4dd9f67",
   "metadata": {},
   "outputs": [],
   "source": [
    "targets, covariates = load_realtime_training_data()"
   ]
  },
  {
   "cell_type": "code",
   "execution_count": 15,
   "id": "e416cd59-3350-4719-b0a5-cc5e314d17a5",
   "metadata": {},
   "outputs": [
    {
     "data": {
      "text/plain": [
       "False"
      ]
     },
     "execution_count": 15,
     "metadata": {},
     "output_type": "execute_result"
    }
   ],
   "source": [
    "use_covariates"
   ]
  },
  {
   "cell_type": "code",
   "execution_count": 16,
   "id": "359aee2e-b950-4592-8d62-fe8a5c1f6340",
   "metadata": {},
   "outputs": [],
   "source": [
    "def compute_ensemble(forecast_date, export=False):\n",
    "    dfs = []\n",
    "    for seed in RANDOM_SEEDS:\n",
    "        print(seed)\n",
    "        model_path = f'../models/post-covid/{forecast_date}/{forecast_date}-tsmixer-{seed}.pt'\n",
    "        model = TSMixerModel.load(model_path)\n",
    "        df = compute_forecast(model, targets, covariates if use_covariates else None, forecast_date, HORIZON, NUM_SAMPLES, vincentization=False, probabilistic_nowcast=True, local=True)\n",
    "        dfs.append(df)\n",
    "\n",
    "    df = pd.concat(dfs)\n",
    "    df = df.groupby(['location', 'age_group', 'forecast_date', 'target_end_date', 'horizon', 'type', 'quantile']).agg({'value': 'mean'}).reset_index()\n",
    "\n",
    "    df = df.sort_values(['location', 'age_group', 'horizon', 'quantile'])\n",
    "    \n",
    "    if export:\n",
    "        df.to_csv(f'../data/post-covid/submissions/{NAME}/{forecast_date}-icosari-sari-{NAME}.csv', index=False)\n",
    "        return df\n",
    "    else:\n",
    "        return df"
   ]
  },
  {
   "cell_type": "code",
   "execution_count": 17,
   "id": "14f9b011-8d46-4954-bf99-bcd0be80b32d",
   "metadata": {},
   "outputs": [
    {
     "data": {
      "text/html": [
       "<pre style=\"white-space:pre;overflow-x:auto;line-height:normal;font-family:Menlo,'DejaVu Sans Mono',consolas,'Courier New',monospace\"><span style=\"color: #c0c0c0; text-decoration-color: #c0c0c0\">Predicting</span> <span style=\"color: #6206e0; text-decoration-color: #6206e0\">━━━━━━━━━━━━━━━━━━━━━━━━━━━━━━━━━━━━━━━━</span> <span style=\"color: #c0c0c0; text-decoration-color: #c0c0c0\">2/2</span> <span style=\"color: #8a8a8a; text-decoration-color: #8a8a8a\">0:00:18 • 0:00:00</span> <span style=\"color: #b2b2b2; text-decoration-color: #b2b2b2\">0.34it/s</span>  \n",
       "</pre>\n"
      ],
      "text/plain": [
       "\u001b[37mPredicting\u001b[0m \u001b[38;2;98;6;224m━━━━━━━━━━━━━━━━━━━━━━━━━━━━━━━━━━━━━━━━\u001b[0m \u001b[37m2/2\u001b[0m \u001b[38;5;245m0:00:18 • 0:00:00\u001b[0m \u001b[38;5;249m0.34it/s\u001b[0m  \n"
      ]
     },
     "metadata": {},
     "output_type": "display_data"
    },
    {
     "data": {
      "text/html": [
       "<pre style=\"white-space:pre;overflow-x:auto;line-height:normal;font-family:Menlo,'DejaVu Sans Mono',consolas,'Courier New',monospace\"></pre>\n"
      ],
      "text/plain": []
     },
     "metadata": {},
     "output_type": "display_data"
    },
    {
     "data": {
      "text/html": [
       "<pre style=\"white-space:pre;overflow-x:auto;line-height:normal;font-family:Menlo,'DejaVu Sans Mono',consolas,'Courier New',monospace\">\n",
       "</pre>\n"
      ],
      "text/plain": [
       "\n"
      ]
     },
     "metadata": {},
     "output_type": "display_data"
    }
   ],
   "source": [
    "forecasts = []\n",
    "for forecast_date in FORECAST_DATES:\n",
    "    print(forecast_date)\n",
    "    forecast = compute_ensemble(forecast_date, export=True)\n",
    "    forecasts.append(forecast)"
   ]
  },
  {
   "cell_type": "markdown",
   "id": "8a5a9ba6-04a0-47b7-9dd5-4ffb2c197a26",
   "metadata": {},
   "source": [
    "# Oracle nowcast"
   ]
  },
  {
   "cell_type": "code",
   "execution_count": 13,
   "id": "1f6e1932-7318-4df0-8298-7ea17737057f",
   "metadata": {},
   "outputs": [],
   "source": [
    "RANDOM_SEEDS = [1, 2, 3, 4, 5 , 6, 7, 8, 9, 10]"
   ]
  },
  {
   "cell_type": "code",
   "execution_count": 14,
   "id": "d1aec713-0ecd-4119-badc-98b7420a7cf7",
   "metadata": {},
   "outputs": [],
   "source": [
    "NAME = 'tsmixer_oracle'"
   ]
  },
  {
   "cell_type": "code",
   "execution_count": 15,
   "id": "9ac8e5e3-7605-475b-ae72-7f873c2be6d6",
   "metadata": {},
   "outputs": [],
   "source": [
    "#forecast_dates = sorted([filename.split('/')[-1][:10] for filename in glob.glob('../data/nowcasts/KIT-baseline/*.csv')])"
   ]
  },
  {
   "cell_type": "code",
   "execution_count": 16,
   "id": "c874acb6-e2c1-4bf0-90d3-3d36cb4807cb",
   "metadata": {},
   "outputs": [],
   "source": [
    "targets, covariates = load_realtime_training_data()"
   ]
  },
  {
   "cell_type": "code",
   "execution_count": 17,
   "id": "de25aad5-664d-4204-b270-3f71eda490fc",
   "metadata": {},
   "outputs": [],
   "source": [
    "def compute_forecast(model, target_series, covariates, forecast_date, horizon, num_samples, vincentization=True, probabilistic_nowcast=True, local=False, oracle_nowcast=True):\n",
    "    '''\n",
    "    For every sample path given by the nowcasted quantiles, a probabilistic forecast is computed.\n",
    "    These are then aggregated into one forecast by combining all predicted paths.\n",
    "    '''\n",
    "    \n",
    "    if oracle_nowcast:\n",
    "        target_list = target_series[:pd.Timestamp(forecast_date)]\n",
    "        \n",
    "    else:\n",
    "        indicator = target_series.components[0].split('-')[1]\n",
    "        ts_nowcast = load_nowcast(forecast_date, probabilistic_nowcast, indicator, local)\n",
    "        target_list = make_target_paths(target_series, ts_nowcast)\n",
    "        target_list = [encode_static_covariates(t, ordinal=False) for t in target_list]\n",
    "\n",
    "        covariates = [covariates]*len(target_list) if covariates else None\n",
    "      \n",
    "    fct = model.predict(n=horizon, \n",
    "                        series=target_list, \n",
    "                        past_covariates=covariates, \n",
    "                        num_samples=num_samples)\n",
    "    \n",
    "    df = reshape_forecast(fct)\n",
    "        \n",
    "    return df"
   ]
  },
  {
   "cell_type": "code",
   "execution_count": 21,
   "id": "42525851-9bc1-42bd-a2b1-5457e1a76323",
   "metadata": {},
   "outputs": [],
   "source": [
    "def compute_ensemble(forecast_date, export=False):\n",
    "    dfs = []\n",
    "    for seed in RANDOM_SEEDS:\n",
    "        print(seed)\n",
    "        model_path = f'../models/post-covid/{forecast_date}/{forecast_date}-tsmixer-{seed}.pt'\n",
    "        model = TSMixerModel.load(model_path)\n",
    "        df = compute_forecast(model, targets, covariates if use_covariates else None, forecast_date, HORIZON, NUM_SAMPLES, vincentization=False, probabilistic_nowcast=True, local=True, oracle_nowcast=True)\n",
    "        dfs.append(df)\n",
    "\n",
    "    df = pd.concat(dfs)\n",
    "    df = df.groupby(['location', 'age_group', 'forecast_date', 'target_end_date', 'horizon', 'type', 'quantile']).agg({'value': 'mean'}).reset_index()\n",
    "\n",
    "    df = df.sort_values(['location', 'age_group', 'horizon', 'quantile'])\n",
    "    \n",
    "    if export:\n",
    "        df.to_csv(f'../data/post-covid/submissions/{NAME}/{forecast_date}-icosari-sari-{NAME}.csv', index=False)\n",
    "        return df\n",
    "    else:\n",
    "        return df"
   ]
  },
  {
   "cell_type": "code",
   "execution_count": 22,
   "id": "09c7a4d2-b1d7-4f83-9c63-0c84d7d52c6b",
   "metadata": {},
   "outputs": [
    {
     "data": {
      "text/html": [
       "<pre style=\"white-space:pre;overflow-x:auto;line-height:normal;font-family:Menlo,'DejaVu Sans Mono',consolas,'Courier New',monospace\"><span style=\"color: #c0c0c0; text-decoration-color: #c0c0c0\">Predicting</span> <span style=\"color: #6206e0; text-decoration-color: #6206e0\">━━━━━━━━━━━━━━━━━━━━━━━━━━━━━━━━━━━━━━━━</span> <span style=\"color: #c0c0c0; text-decoration-color: #c0c0c0\">1/1</span> <span style=\"color: #8a8a8a; text-decoration-color: #8a8a8a\">0:00:00 • 0:00:00</span> <span style=\"color: #b2b2b2; text-decoration-color: #b2b2b2\">0.00it/s</span>  \n",
       "</pre>\n"
      ],
      "text/plain": [
       "\u001b[37mPredicting\u001b[0m \u001b[38;2;98;6;224m━━━━━━━━━━━━━━━━━━━━━━━━━━━━━━━━━━━━━━━━\u001b[0m \u001b[37m1/1\u001b[0m \u001b[38;5;245m0:00:00 • 0:00:00\u001b[0m \u001b[38;5;249m0.00it/s\u001b[0m  \n"
      ]
     },
     "metadata": {},
     "output_type": "display_data"
    },
    {
     "name": "stderr",
     "output_type": "stream",
     "text": [
      "/home/wolffram/.conda/envs/RESPINOW-ML/lib/python3.9/site-packages/pytorch_lightning/trainer/connectors/data_connector.py:432: PossibleUserWarning: The dataloader, predict_dataloader, does not have many workers which may be a bottleneck. Consider increasing the value of the `num_workers` argument` (try 48 which is the number of cpus on this machine) in the `DataLoader` init to improve performance.\n"
     ]
    },
    {
     "data": {
      "text/html": [
       "<pre style=\"white-space:pre;overflow-x:auto;line-height:normal;font-family:Menlo,'DejaVu Sans Mono',consolas,'Courier New',monospace\"></pre>\n"
      ],
      "text/plain": []
     },
     "metadata": {},
     "output_type": "display_data"
    },
    {
     "data": {
      "text/html": [
       "<pre style=\"white-space:pre;overflow-x:auto;line-height:normal;font-family:Menlo,'DejaVu Sans Mono',consolas,'Courier New',monospace\">\n",
       "</pre>\n"
      ],
      "text/plain": [
       "\n"
      ]
     },
     "metadata": {},
     "output_type": "display_data"
    }
   ],
   "source": [
    "forecasts = []\n",
    "for forecast_date in forecast_dates:\n",
    "    print(forecast_date)\n",
    "    forecast = compute_ensemble(forecast_date, export=True)\n",
    "    forecasts.append(forecast)"
   ]
  },
  {
   "cell_type": "code",
   "execution_count": null,
   "id": "0b55dc89-f768-4b94-821e-5e31c1982ea4",
   "metadata": {},
   "outputs": [],
   "source": []
  }
 ],
 "metadata": {
  "kernelspec": {
   "display_name": "RESPINOW-ML",
   "language": "python",
   "name": "respinow-ml"
  },
  "language_info": {
   "name": "python"
  }
 },
 "nbformat": 4,
 "nbformat_minor": 5
}
