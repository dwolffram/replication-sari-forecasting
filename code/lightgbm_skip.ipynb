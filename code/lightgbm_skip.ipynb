{
 "cells": [
  {
   "cell_type": "markdown",
   "id": "22864c52-a9d0-4970-951c-9796304997c7",
   "metadata": {},
   "source": [
    "# LightGBM-Skip"
   ]
  },
  {
   "cell_type": "markdown",
   "id": "537394ee-4a58-437f-8e9d-70c77b3e3324",
   "metadata": {
    "tags": []
   },
   "source": [
    "### Setup"
   ]
  },
  {
   "cell_type": "code",
   "execution_count": 1,
   "id": "0e493c37-6325-457b-96bc-d534de06f3c4",
   "metadata": {},
   "outputs": [],
   "source": [
    "import sys\n",
    "sys.path.append('../')\n",
    "from src.load_data import *\n",
    "from src.realtime_utils import *\n",
    "from src.plot_functions import *\n",
    "from src.hp_tuning_functions import *"
   ]
  },
  {
   "cell_type": "code",
   "execution_count": 2,
   "id": "7f1610ad-9600-4d62-826d-b9bc42048bf2",
   "metadata": {},
   "outputs": [
    {
     "name": "stderr",
     "output_type": "stream",
     "text": [
      "/home/wolffram/.conda/envs/RESPINOW-ML/lib/python3.9/site-packages/statsforecast/utils.py:231: FutureWarning: 'M' is deprecated and will be removed in a future version, please use 'ME' instead.\n"
     ]
    }
   ],
   "source": [
    "from darts.models.forecasting.lgbm import LightGBMModel"
   ]
  },
  {
   "cell_type": "markdown",
   "id": "751a0a79-d466-427e-8c78-fe02b231607c",
   "metadata": {},
   "source": [
    "### Configuration"
   ]
  },
  {
   "cell_type": "code",
   "execution_count": 3,
   "id": "fb81d92a-2d2c-45ae-b626-a90b5fd8a626",
   "metadata": {},
   "outputs": [],
   "source": [
    "def compute_forecast(model, target_series, covariates, forecast_date, horizon, num_samples, vincentization=True, probabilistic_nowcast=True, local=False, skip_last=False):\n",
    "    '''\n",
    "    For every sample path given by the nowcasted quantiles, a probabilistic forecast is computed.\n",
    "    These are then aggregated into one forecast by combining all predicted paths.\n",
    "    '''\n",
    "    indicator = target_series.components[0].split('-')[1]\n",
    "    ts_nowcast = load_nowcast(forecast_date, probabilistic_nowcast, indicator, local)\n",
    "    target_list = make_target_paths(target_series, ts_nowcast)\n",
    "    target_list = [encode_static_covariates(t, ordinal=False) for t in target_list]\n",
    "    \n",
    "    if skip_last:\n",
    "        target_list = [t[:-1] for t in target_list]\n",
    "     \n",
    "    covariates = [covariates]*len(target_list) if covariates else None\n",
    "      \n",
    "    fct = model.predict(n=horizon, \n",
    "                        series=target_list, \n",
    "                        past_covariates=covariates, \n",
    "                        num_samples=num_samples)\n",
    "    \n",
    "    if vincentization:\n",
    "        df = reshape_hfc(fct)\n",
    "        df = df.groupby(['location', 'age_group', 'forecast_date', 'target_end_date', 'horizon', 'type', 'quantile']).agg({'value': 'mean'}).reset_index()\n",
    "    else:\n",
    "        ts_forecast = concatenate(fct, axis='sample')\n",
    "        df = reshape_forecast(ts_forecast)\n",
    "    \n",
    "    if skip_last:\n",
    "        df.forecast_date = forecast_date\n",
    "        df.horizon = df.horizon - 1\n",
    "    \n",
    "    return df"
   ]
  },
  {
   "cell_type": "code",
   "execution_count": 7,
   "id": "4e632f35-ffe2-43d9-b6be-b97001e2f44c",
   "metadata": {},
   "outputs": [],
   "source": [
    "def compute_ensemble(forecast_date, export=False):\n",
    "    dfs = []\n",
    "    for seed in RANDOM_SEEDS:\n",
    "        # print(seed)\n",
    "        model_path = f'../models/post-covid/{forecast_date}/{forecast_date}-lightgbm-{seed}.pt'\n",
    "        model = LightGBMModel.load(model_path)\n",
    "        df = compute_forecast(model, targets, covariates, forecast_date, HORIZON, NUM_SAMPLES, vincentization=False, probabilistic_nowcast=True, local=True, skip_last=True)\n",
    "        dfs.append(df)\n",
    "\n",
    "    df = pd.concat(dfs)\n",
    "    df = df.groupby(['location', 'age_group', 'forecast_date', 'target_end_date', 'horizon', 'type', 'quantile']).agg({'value': 'mean'}).reset_index()\n",
    "\n",
    "    df = df.sort_values(['location', 'age_group', 'horizon', 'quantile'])\n",
    "    \n",
    "    if export:\n",
    "        df.to_csv(f'../data/post-covid/submissions/lightgbm_skip/{forecast_date}-icosari-sari-lightgbm_skip.csv', index=False)\n",
    "        return df\n",
    "    else:\n",
    "        return df"
   ]
  },
  {
   "cell_type": "code",
   "execution_count": 8,
   "id": "96af2092-e8c9-49d1-9718-e332962675b3",
   "metadata": {},
   "outputs": [],
   "source": [
    "targets, covariates = load_realtime_training_data()"
   ]
  },
  {
   "cell_type": "code",
   "execution_count": null,
   "id": "69b21c99-9298-4441-8253-6b695ecef9b6",
   "metadata": {},
   "outputs": [],
   "source": [
    "forecasts = []\n",
    "for forecast_date in FORECAST_DATES:\n",
    "    print(forecast_date)\n",
    "    forecast = compute_ensemble(forecast_date, export=True)\n",
    "    forecasts.append(forecast)"
   ]
  }
 ],
 "metadata": {
  "kernelspec": {
   "display_name": "RESPINOW-ML",
   "language": "python",
   "name": "respinow-ml"
  },
  "language_info": {
   "codemirror_mode": {
    "name": "ipython",
    "version": 3
   },
   "file_extension": ".py",
   "mimetype": "text/x-python",
   "name": "python",
   "nbconvert_exporter": "python",
   "pygments_lexer": "ipython3",
   "version": "3.9.18"
  }
 },
 "nbformat": 4,
 "nbformat_minor": 5
}
