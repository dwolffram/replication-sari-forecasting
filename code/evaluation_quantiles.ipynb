{
 "cells": [
  {
   "cell_type": "markdown",
   "id": "0",
   "metadata": {},
   "source": [
    "# Evaluation per quantile level"
   ]
  },
  {
   "cell_type": "code",
   "execution_count": null,
   "id": "1",
   "metadata": {},
   "outputs": [],
   "source": [
    "import pandas as pd\n",
    "from plotnine import (\n",
    "    aes,\n",
    "    element_blank,\n",
    "    element_text,\n",
    "    facet_wrap,\n",
    "    geom_abline,\n",
    "    geom_line,\n",
    "    geom_point,\n",
    "    ggplot,\n",
    "    labs,\n",
    "    scale_color_manual,\n",
    "    scale_x_continuous,\n",
    "    scale_y_continuous,\n",
    "    theme,\n",
    "    theme_bw,\n",
    ")\n",
    "\n",
    "from config import MAIN_MODELS, MODEL_COLORS, MODEL_ORDER, ROOT\n",
    "from src.load_data import load_predictions\n",
    "from src.scoring_functions import compute_scores"
   ]
  },
  {
   "cell_type": "code",
   "execution_count": null,
   "id": "2",
   "metadata": {},
   "outputs": [],
   "source": [
    "df = load_predictions()"
   ]
  },
  {
   "cell_type": "markdown",
   "id": "3",
   "metadata": {
    "tags": []
   },
   "source": [
    "# Prepare scores"
   ]
  },
  {
   "cell_type": "code",
   "execution_count": null,
   "id": "4",
   "metadata": {},
   "outputs": [],
   "source": [
    "df_scores = compute_scores(df)"
   ]
  },
  {
   "cell_type": "code",
   "execution_count": null,
   "id": "5",
   "metadata": {},
   "outputs": [],
   "source": [
    "df_scores = df_scores[df_scores[\"type\"] == \"quantile\"]"
   ]
  },
  {
   "cell_type": "code",
   "execution_count": null,
   "id": "6",
   "metadata": {},
   "outputs": [],
   "source": [
    "df_scores[\"level\"] = df_scores[\"age_group\"].map(\n",
    "    lambda x: \"national\" if x == \"00+\" else \"age\"\n",
    ")\n",
    "df_scores[\"level\"] = pd.Categorical(\n",
    "    df_scores[\"level\"], categories=[\"national\", \"age\"], ordered=True\n",
    ")"
   ]
  },
  {
   "cell_type": "code",
   "execution_count": null,
   "id": "7",
   "metadata": {},
   "outputs": [],
   "source": [
    "df_scores = df_scores[df_scores.model.isin(MAIN_MODELS)].copy()\n",
    "model_order = [m for m in MODEL_ORDER if m in df_scores.model.unique()]\n",
    "df_scores[\"model\"] = pd.Categorical(\n",
    "    df_scores[\"model\"], categories=model_order, ordered=True\n",
    ")"
   ]
  },
  {
   "cell_type": "code",
   "execution_count": null,
   "id": "8",
   "metadata": {},
   "outputs": [],
   "source": [
    "df_qs = (\n",
    "    df_scores.groupby([\"level\", \"model\", \"quantile\"], observed=True)[\"score\"]\n",
    "    .mean()\n",
    "    .reset_index()\n",
    ")"
   ]
  },
  {
   "cell_type": "code",
   "execution_count": null,
   "id": "9",
   "metadata": {},
   "outputs": [],
   "source": [
    "p = (\n",
    "    ggplot(df_qs, aes(x=\"quantile\", y=\"score\", color=\"model\"))\n",
    "    + facet_wrap(\n",
    "        \"level\",\n",
    "        nrow=2,\n",
    "        scales=\"free_y\",\n",
    "        labeller=lambda x: (\"National level\" if x == \"national\" else \"Age groups\"),\n",
    "    )\n",
    "    + geom_line()\n",
    "    + geom_point()\n",
    "    + scale_color_manual(values=MODEL_COLORS)\n",
    "    + labs(x=\"Quantile level\", y=\"Quantile score\", color=\"\", title=\"\")\n",
    "    # + scale_x_continuous(breaks=QUANTILES, labels=QUANTILES)\n",
    "    + theme_bw()\n",
    "    + theme(\n",
    "        legend_position=\"right\",\n",
    "        legend_title_position=\"top\",\n",
    "        legend_key=element_blank(),\n",
    "        plot_title=element_text(size=11),\n",
    "        strip_text=element_text(size=10),\n",
    "        legend_title=element_text(size=9),\n",
    "        legend_text=element_text(size=8),\n",
    "        axis_title=element_text(size=10),\n",
    "        axis_text_x=element_text(size=8),\n",
    "        axis_text_y=element_text(size=8),\n",
    "    )\n",
    ")\n",
    "p.show()"
   ]
  },
  {
   "cell_type": "code",
   "execution_count": null,
   "id": "10",
   "metadata": {},
   "outputs": [],
   "source": [
    "p.save(ROOT / \"figures\" / \"qs.pdf\", width=160, height=90, units=\"mm\", dpi=600, verbose=False)"
   ]
  },
  {
   "cell_type": "markdown",
   "id": "11",
   "metadata": {},
   "source": [
    "# Coverage"
   ]
  },
  {
   "cell_type": "code",
   "execution_count": null,
   "id": "12",
   "metadata": {},
   "outputs": [],
   "source": [
    "df[\"covered\"] = df.truth <= df.value"
   ]
  },
  {
   "cell_type": "code",
   "execution_count": null,
   "id": "13",
   "metadata": {},
   "outputs": [],
   "source": [
    "df_coverage = (\n",
    "    df[df.age_group == \"00+\"]\n",
    "    .groupby([\"model\", \"quantile\"])[\"covered\"]\n",
    "    .mean()\n",
    "    .reset_index()\n",
    ")"
   ]
  },
  {
   "cell_type": "code",
   "execution_count": null,
   "id": "14",
   "metadata": {},
   "outputs": [],
   "source": [
    "df_coverage = df_coverage[df_coverage.model.isin(MAIN_MODELS)].copy()\n",
    "model_order = [m for m in MODEL_ORDER if m in df_coverage.model.unique()]\n",
    "df_coverage[\"model\"] = pd.Categorical(\n",
    "    df_coverage[\"model\"], categories=model_order, ordered=True\n",
    ")"
   ]
  },
  {
   "cell_type": "code",
   "execution_count": null,
   "id": "15",
   "metadata": {},
   "outputs": [],
   "source": [
    "q = (\n",
    "    ggplot(df_coverage, aes(x=\"quantile\", y=\"covered\", color=\"model\"))\n",
    "    + facet_wrap(\"model\")\n",
    "    + geom_line()\n",
    "    + geom_point()\n",
    "    + geom_abline(slope=1, intercept=0, linetype=\"solid\", color=\"gray\")\n",
    "    + scale_color_manual(values=MODEL_COLORS)\n",
    "    + labs(x=\"Quantile level\", y=\"Empirical coverage\", color=\"\")\n",
    "    + scale_x_continuous(\n",
    "        labels=lambda x: [f\"{int(v)}\" if v == int(v) else f\"{v}\" for v in x]\n",
    "    )\n",
    "    + scale_y_continuous(\n",
    "        labels=lambda x: [f\"{int(v)}\" if v == int(v) else f\"{v}\" for v in x]\n",
    "    )\n",
    "    + theme_bw()\n",
    "    + theme(\n",
    "        legend_position=\"right\",\n",
    "        legend_title_position=\"top\",\n",
    "        legend_key=element_blank(),\n",
    "        plot_title=element_text(size=11),\n",
    "        strip_text=element_text(size=10),\n",
    "        legend_title=element_text(size=9),\n",
    "        legend_text=element_text(size=8),\n",
    "        axis_title=element_text(size=10),\n",
    "        axis_text_x=element_text(size=8),\n",
    "        axis_text_y=element_text(size=8),\n",
    "    )\n",
    ")\n",
    "q.show()"
   ]
  },
  {
   "cell_type": "code",
   "execution_count": null,
   "id": "16",
   "metadata": {},
   "outputs": [],
   "source": [
    "q.save(\n",
    "    ROOT / \"figures\" / \"quantile_coverage.pdf\",\n",
    "    width=160,\n",
    "    height=90,\n",
    "    units=\"mm\",\n",
    "    dpi=600,\n",
    "    verbose=False,\n",
    ")"
   ]
  }
 ],
 "metadata": {
  "kernelspec": {
   "display_name": "replication-sari",
   "language": "python",
   "name": "replication-sari"
  },
  "language_info": {
   "codemirror_mode": {
    "name": "ipython",
    "version": 3
   },
   "file_extension": ".py",
   "mimetype": "text/x-python",
   "name": "python",
   "nbconvert_exporter": "python",
   "pygments_lexer": "ipython3",
   "version": "3.12.11"
  }
 },
 "nbformat": 4,
 "nbformat_minor": 5
}
