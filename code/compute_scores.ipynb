{
 "cells": [
  {
   "cell_type": "markdown",
   "id": "a3a6e9aa-ee7f-4c5d-9b81-33e41482a0a6",
   "metadata": {},
   "source": [
    "# Compute scores"
   ]
  },
  {
   "cell_type": "code",
   "execution_count": 1,
   "id": "e80504d6-2f9e-4606-912c-da19a49c7fd8",
   "metadata": {},
   "outputs": [],
   "source": [
    "import pandas as pd\n",
    "\n",
    "from config import QUANTILES, ROOT\n",
    "from src.load_data import load_nowcasts, load_predictions\n",
    "from src.scoring_functions import evaluate_models"
   ]
  },
  {
   "cell_type": "code",
   "execution_count": 2,
   "id": "a8793d91-126b-4701-ada2-5e9212d7857c",
   "metadata": {},
   "outputs": [],
   "source": [
    "df = load_predictions()"
   ]
  },
  {
   "cell_type": "code",
   "execution_count": 3,
   "id": "96d4dec4",
   "metadata": {},
   "outputs": [],
   "source": [
    "df_nowcasts = load_nowcasts(quantiles=QUANTILES)\n",
    "df = pd.concat([df, df_nowcasts], ignore_index=True)"
   ]
  },
  {
   "cell_type": "code",
   "execution_count": 4,
   "id": "ba59fa92-f7e2-44b8-b98e-628baee27812",
   "metadata": {},
   "outputs": [
    {
     "data": {
      "text/plain": [
       "array(['Ensemble', 'hhh4', 'hhh4-Discard', 'hhh4-Naive', 'hhh4-NoCovid',\n",
       "       'hhh4-Oracle', 'hhh4-Shuffle', 'hhh4-Vincentization', 'Historical',\n",
       "       'LightGBM', 'LightGBM-Discard', 'LightGBM-Naive',\n",
       "       'LightGBM-NoCovariates', 'LightGBM-NoCovid', 'LightGBM-Oracle',\n",
       "       'Persistence', 'TSCount-Extended', 'TSCount-Simple',\n",
       "       'TSMixer-Covariates', 'TSMixer', 'TSMixer-Discard',\n",
       "       'TSMixer-Naive', 'TSMixer-Oracle', 'TSMixer-NoCovid', 'Nowcast'],\n",
       "      dtype=object)"
      ]
     },
     "execution_count": null,
     "metadata": {},
     "output_type": "execute_result"
    }
   ],
   "source": [
    "df.model.unique()"
   ]
  },
  {
   "cell_type": "markdown",
   "id": "4ce17f77-2834-4401-998e-064bdecc83ef",
   "metadata": {
    "tags": []
   },
   "source": [
    "# Aggregated scores"
   ]
  },
  {
   "cell_type": "code",
   "execution_count": 5,
   "id": "b576035c-55c4-42b6-a922-54c15e3bd395",
   "metadata": {},
   "outputs": [],
   "source": [
    "df_national = evaluate_models(df, \"national\")\n",
    "df_age = evaluate_models(df, \"age\")\n",
    "\n",
    "scores = pd.concat(\n",
    "    [df_national.assign(level=\"national\"), df_age.assign(level=\"age\")],\n",
    "    ignore_index=True,\n",
    ")\n",
    "\n",
    "scores[\"level\"] = pd.Categorical(\n",
    "    scores[\"level\"], categories=[\"national\", \"age\"], ordered=True\n",
    ")"
   ]
  },
  {
   "cell_type": "code",
   "execution_count": 6,
   "id": "63d13b69-a0b9-4234-81da-6e634b1fc1ed",
   "metadata": {},
   "outputs": [],
   "source": [
    "scores.to_csv(ROOT / 'results' / 'scores' / 'scores.csv', float_format=\"%.3f\", index=False)"
   ]
  },
  {
   "cell_type": "markdown",
   "id": "28105457-c2e8-4261-bdb6-96a7a9485332",
   "metadata": {},
   "source": [
    "## By age group"
   ]
  },
  {
   "cell_type": "code",
   "execution_count": 7,
   "id": "e21a33b8-0901-4b0c-a867-33754ff1a36b",
   "metadata": {},
   "outputs": [],
   "source": [
    "scores_age = evaluate_models(df, \"age\", by_age=True)"
   ]
  },
  {
   "cell_type": "code",
   "execution_count": 8,
   "id": "0eb514f5-7c46-454d-a74b-14c51cd8c0a5",
   "metadata": {},
   "outputs": [],
   "source": [
    "scores_age.to_csv(ROOT / 'results' / 'scores' / 'scores_age.csv', float_format=\"%.3f\", index=False)"
   ]
  },
  {
   "cell_type": "markdown",
   "id": "0e0fe2ad-43ea-45c1-aed1-2df3c4b9fdd4",
   "metadata": {},
   "source": [
    "## By horizon"
   ]
  },
  {
   "cell_type": "code",
   "execution_count": 9,
   "id": "9d2f5572-2d07-420c-8a82-6fada904e2bd",
   "metadata": {},
   "outputs": [],
   "source": [
    "df_national = evaluate_models(df, \"national\", by_horizon=True)\n",
    "df_age = evaluate_models(df, \"age\", by_horizon=True)\n",
    "\n",
    "scores_horizon = pd.concat(\n",
    "    [df_national.assign(level=\"national\"), df_age.assign(level=\"age\")],\n",
    "    ignore_index=True,\n",
    ")"
   ]
  },
  {
   "cell_type": "code",
   "execution_count": 10,
   "id": "5f3c49b3-7abc-4fd9-9035-7f1fbecacf63",
   "metadata": {},
   "outputs": [],
   "source": [
    "scores_horizon.to_csv(ROOT / 'results' / 'scores' / 'scores_horizon.csv', float_format=\"%.3f\", index=False)"
   ]
  }
 ],
 "metadata": {
  "kernelspec": {
   "display_name": "replication-sari",
   "language": "python",
   "name": "replication-sari"
  },
  "language_info": {
   "name": "python"
  }
 },
 "nbformat": 4,
 "nbformat_minor": 5
}
