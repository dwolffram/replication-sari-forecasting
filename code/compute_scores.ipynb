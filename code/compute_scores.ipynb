{
 "cells": [
  {
   "cell_type": "markdown",
   "id": "0",
   "metadata": {},
   "source": [
    "# Compute scores"
   ]
  },
  {
   "cell_type": "code",
   "execution_count": null,
   "id": "1",
   "metadata": {},
   "outputs": [],
   "source": [
    "import pandas as pd\n",
    "\n",
    "from config import QUANTILES, ROOT\n",
    "from src.load_data import load_nowcasts, load_predictions\n",
    "from src.scoring_functions import evaluate_models"
   ]
  },
  {
   "cell_type": "code",
   "execution_count": null,
   "id": "2",
   "metadata": {},
   "outputs": [],
   "source": [
    "PATH_SCORES = ROOT / \"results\" / \"scores\"\n",
    "PATH_SCORES.mkdir(parents=True, exist_ok=True)"
   ]
  },
  {
   "cell_type": "code",
   "execution_count": null,
   "id": "3",
   "metadata": {},
   "outputs": [],
   "source": [
    "df = load_predictions()\n",
    "df_nowcasts = load_nowcasts(quantiles=QUANTILES)\n",
    "df = pd.concat([df, df_nowcasts], ignore_index=True)"
   ]
  },
  {
   "cell_type": "code",
   "execution_count": null,
   "id": "4",
   "metadata": {},
   "outputs": [],
   "source": [
    "df.model.unique()"
   ]
  },
  {
   "cell_type": "markdown",
   "id": "5",
   "metadata": {
    "tags": []
   },
   "source": [
    "# Aggregated scores"
   ]
  },
  {
   "cell_type": "code",
   "execution_count": null,
   "id": "6",
   "metadata": {},
   "outputs": [],
   "source": [
    "df_national = evaluate_models(df, \"national\")\n",
    "df_age = evaluate_models(df, \"age\")\n",
    "\n",
    "scores = pd.concat(\n",
    "    [df_national.assign(level=\"national\"), df_age.assign(level=\"age\")],\n",
    "    ignore_index=True,\n",
    ")\n",
    "\n",
    "scores[\"level\"] = pd.Categorical(scores[\"level\"], categories=[\"national\", \"age\"], ordered=True)"
   ]
  },
  {
   "cell_type": "code",
   "execution_count": null,
   "id": "7",
   "metadata": {},
   "outputs": [],
   "source": [
    "scores.to_csv(PATH_SCORES / \"scores.csv\", float_format=\"%.3f\", index=False)"
   ]
  },
  {
   "cell_type": "markdown",
   "id": "8",
   "metadata": {},
   "source": [
    "## By age group"
   ]
  },
  {
   "cell_type": "code",
   "execution_count": null,
   "id": "9",
   "metadata": {},
   "outputs": [],
   "source": [
    "scores_age = evaluate_models(df, \"age\", by_age=True)"
   ]
  },
  {
   "cell_type": "code",
   "execution_count": null,
   "id": "10",
   "metadata": {},
   "outputs": [],
   "source": [
    "scores_age.to_csv(PATH_SCORES / \"scores_age.csv\", float_format=\"%.3f\", index=False)"
   ]
  },
  {
   "cell_type": "markdown",
   "id": "11",
   "metadata": {},
   "source": [
    "## By horizon"
   ]
  },
  {
   "cell_type": "code",
   "execution_count": null,
   "id": "12",
   "metadata": {},
   "outputs": [],
   "source": [
    "df_national = evaluate_models(df, \"national\", by_horizon=True)\n",
    "df_age = evaluate_models(df, \"age\", by_horizon=True)\n",
    "\n",
    "scores_horizon = pd.concat(\n",
    "    [df_national.assign(level=\"national\"), df_age.assign(level=\"age\")],\n",
    "    ignore_index=True,\n",
    ")"
   ]
  },
  {
   "cell_type": "code",
   "execution_count": null,
   "id": "13",
   "metadata": {},
   "outputs": [],
   "source": [
    "scores_horizon.to_csv(PATH_SCORES / \"scores_horizon.csv\", float_format=\"%.3f\", index=False)"
   ]
  }
 ],
 "metadata": {
  "kernelspec": {
   "display_name": "replication-sari",
   "language": "python",
   "name": "replication-sari"
  },
  "language_info": {
   "codemirror_mode": {
    "name": "ipython",
    "version": 3
   },
   "file_extension": ".py",
   "mimetype": "text/x-python",
   "name": "python",
   "nbconvert_exporter": "python",
   "pygments_lexer": "ipython3",
   "version": "3.12.11"
  }
 },
 "nbformat": 4,
 "nbformat_minor": 5
}
