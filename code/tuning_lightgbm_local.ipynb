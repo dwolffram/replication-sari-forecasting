{
 "cells": [
  {
   "cell_type": "markdown",
   "id": "b1c1304c-0bbe-4372-83d5-add8938843e6",
   "metadata": {},
   "source": [
    "# LightGBM Tuning"
   ]
  },
  {
   "cell_type": "code",
   "execution_count": 1,
   "id": "0dd8a26b-860d-4370-ada5-240d5d2f2000",
   "metadata": {},
   "outputs": [
    {
     "name": "stderr",
     "output_type": "stream",
     "text": [
      "/home/wolffram/replication-sari-forecasting/.venv/lib/python3.12/site-packages/fs/__init__.py:4: UserWarning: pkg_resources is deprecated as an API. See https://setuptools.pypa.io/en/latest/pkg_resources.html. The pkg_resources package is slated for removal as early as 2025-11-30. Refrain from using this package or pin to Setuptools<81.\n",
      "  __import__(\"pkg_resources\").declare_namespace(__name__)  # type: ignore\n"
     ]
    },
    {
     "ename": "ImportError",
     "evalue": "cannot import name 'load_data' from 'src.load_data' (/home/wolffram/replication-sari-forecasting/code/src/load_data.py)",
     "output_type": "error",
     "traceback": [
      "\u001b[31m---------------------------------------------------------------------------\u001b[39m",
      "\u001b[31mImportError\u001b[39m                               Traceback (most recent call last)",
      "\u001b[36mCell\u001b[39m\u001b[36m \u001b[39m\u001b[32mIn[1]\u001b[39m\u001b[32m, line 3\u001b[39m\n\u001b[32m      1\u001b[39m \u001b[38;5;28;01mfrom\u001b[39;00m\u001b[38;5;250m \u001b[39m\u001b[34;01msrc\u001b[39;00m\u001b[34;01m.\u001b[39;00m\u001b[34;01mload_data\u001b[39;00m\u001b[38;5;250m \u001b[39m\u001b[38;5;28;01mimport\u001b[39;00m *\n\u001b[32m      2\u001b[39m \u001b[38;5;28;01mfrom\u001b[39;00m\u001b[38;5;250m \u001b[39m\u001b[34;01msrc\u001b[39;00m\u001b[34;01m.\u001b[39;00m\u001b[34;01mrealtime_utils\u001b[39;00m\u001b[38;5;250m \u001b[39m\u001b[38;5;28;01mimport\u001b[39;00m *\n\u001b[32m----> \u001b[39m\u001b[32m3\u001b[39m \u001b[38;5;28;01mfrom\u001b[39;00m\u001b[38;5;250m \u001b[39m\u001b[34;01msrc\u001b[39;00m\u001b[34;01m.\u001b[39;00m\u001b[34;01mhp_tuning_functions\u001b[39;00m\u001b[38;5;250m \u001b[39m\u001b[38;5;28;01mimport\u001b[39;00m *\n\u001b[32m      4\u001b[39m \u001b[38;5;28;01mfrom\u001b[39;00m\u001b[38;5;250m \u001b[39m\u001b[34;01mitertools\u001b[39;00m\u001b[38;5;250m \u001b[39m\u001b[38;5;28;01mimport\u001b[39;00m product\n\u001b[32m      5\u001b[39m \u001b[38;5;28;01mfrom\u001b[39;00m\u001b[38;5;250m \u001b[39m\u001b[34;01mtqdm\u001b[39;00m\u001b[38;5;250m \u001b[39m\u001b[38;5;28;01mimport\u001b[39;00m tqdm\n",
      "\u001b[36mFile \u001b[39m\u001b[32m~/replication-sari-forecasting/code/src/hp_tuning_functions.py:12\u001b[39m\n\u001b[32m      9\u001b[39m \u001b[38;5;28;01mfrom\u001b[39;00m\u001b[38;5;250m \u001b[39m\u001b[34;01mepiweeks\u001b[39;00m\u001b[38;5;250m \u001b[39m\u001b[38;5;28;01mimport\u001b[39;00m Week\n\u001b[32m     11\u001b[39m \u001b[38;5;28;01mfrom\u001b[39;00m\u001b[38;5;250m \u001b[39m\u001b[34;01mconfig\u001b[39;00m\u001b[38;5;250m \u001b[39m\u001b[38;5;28;01mimport\u001b[39;00m SEASON_DICT, SOURCES, TARGETS\n\u001b[32m---> \u001b[39m\u001b[32m12\u001b[39m \u001b[38;5;28;01mfrom\u001b[39;00m\u001b[38;5;250m \u001b[39m\u001b[34;01msrc\u001b[39;00m\u001b[34;01m.\u001b[39;00m\u001b[34;01mload_data\u001b[39;00m\u001b[38;5;250m \u001b[39m\u001b[38;5;28;01mimport\u001b[39;00m encode_static_covariates, load_data, target_covariate_split\n\u001b[32m     15\u001b[39m \u001b[38;5;28;01mdef\u001b[39;00m\u001b[38;5;250m \u001b[39m\u001b[34mget_cv_chunks\u001b[39m(ts):\n\u001b[32m     16\u001b[39m \u001b[38;5;250m    \u001b[39m\u001b[33;03m\"\"\"\u001b[39;00m\n\u001b[32m     17\u001b[39m \u001b[33;03m    Split the given timeseries into chunks corresponding to different seasons.\u001b[39;00m\n\u001b[32m     18\u001b[39m \u001b[33;03m    \"\"\"\u001b[39;00m\n",
      "\u001b[31mImportError\u001b[39m: cannot import name 'load_data' from 'src.load_data' (/home/wolffram/replication-sari-forecasting/code/src/load_data.py)"
     ]
    }
   ],
   "source": [
    "from src.load_data import *\n",
    "from src.realtime_utils import *\n",
    "from src.hp_tuning_functions import *\n",
    "from itertools import product\n",
    "from tqdm import tqdm\n",
    "from darts.models.forecasting.lgbm import LightGBMModel\n",
    "import ast"
   ]
  },
  {
   "cell_type": "code",
   "execution_count": null,
   "id": "ecc6396e-dc2e-40ae-8882-fddd35860622",
   "metadata": {},
   "outputs": [],
   "source": [
    "SEED = 1\n",
    "OUT_CSV = \"gridsearch_lightgbm.csv\""
   ]
  },
  {
   "cell_type": "code",
   "execution_count": null,
   "id": "69d1a4e1-d49c-4dba-9546-b80c1b11d41b",
   "metadata": {
    "tags": []
   },
   "outputs": [],
   "source": [
    "NAME = 'lightgbm'\n",
    "\n",
    "NUM_SAMPLES = 1000\n",
    "HORIZON = 4\n",
    "\n",
    "ENCODERS = {\n",
    "    'datetime_attribute': {'future': ['month', 'weekofyear']}\n",
    "}\n",
    "\n",
    "SHARED_ARGS = dict(\n",
    "    output_chunk_length=HORIZON,\n",
    ")\n",
    "\n",
    "lags_covariates = {\n",
    "    'agi-are-DE': 8,\n",
    "    'agi-are-00-04': 8,\n",
    "    'agi-are-05-14': 8,\n",
    "    'agi-are-15-34': 8,\n",
    "    'agi-are-35-59': 8,\n",
    "    'agi-are-60+': 8,\n",
    "    'default_lags': 1\n",
    "}\n",
    "\n",
    "sweep_configuration = {\n",
    "    \"name\": f\"sari-{NAME}\",\n",
    "    \"method\": \"grid\",\n",
    "    \"metric\": {\"goal\": \"minimize\", \"name\": \"WIS\"},  \n",
    "    \"parameters\": {\n",
    "        #\"model\": {\"values\": [NAME]},  \n",
    "        #\"multiple_series\": {\"values\": [False]},\n",
    "        \"use_covariates\" :  {\"values\" : [True, False]},\n",
    "        #\"use_features\" :  {\"values\" : [False]},\n",
    "        \"use_encoders\" :  {\"values\" : [True]},\n",
    "        \"use_static_covariates\" :  {\"values\" : [False]},\n",
    "        \"sample_weight\" : {\"values\" : [\"linear\", \"no-covid\"]},\n",
    "        \"lags\": {\"values\": [8]},\n",
    "        \"lags_past_covariates\": {\"values\": [lags_covariates]},\n",
    "        \"lags_future_covariates\": {\"values\": [(0, 1)]},\n",
    "        \"num_leaves\": {\"values\": [20, 31, 63]},  # Number of leaves\n",
    "        \"max_depth\": {\"values\": [-1]},  # Max depth of trees\n",
    "        \"learning_rate\": {\"values\": [0.01, 0.05, 0.1]},  # Learning rate\n",
    "        \"n_estimators\": {\"values\": [500, 1000]},  # Number of boosting rounds\n",
    "        \"min_child_samples\": {\"values\": [5, 10, 20]},  # Minimum child samples per leaf\n",
    "        \"subsample\": {\"values\": [0.8]},  # Subsampling ratio\n",
    "        \"colsample_bytree\": {\"values\": [0.8]},  # Feature fraction for building trees\n",
    "        \"reg_alpha\": {\"values\": [0, 0.5, 1.0]},  # L1 regularization\n",
    "        \"reg_lambda\": {\"values\": [0, 0.5, 1.0]},  # L2 regularization\n",
    "        \"subsample_freq\": {\"values\": [1]},  # Subsampling frequency\n",
    "        \"min_split_gain\": {\"values\": [0.0]},  # Minimum gain to split\n",
    "        \"max_bin\": {\"values\": [1024]},  # Maximum number of bins\n",
    "    }\n",
    "}"
   ]
  },
  {
   "cell_type": "code",
   "execution_count": null,
   "id": "c23da06a-e54b-4af9-be51-0ebb3bac7581",
   "metadata": {},
   "outputs": [],
   "source": [
    "def space_from_sweep(sweep_cfg: dict) -> dict:\n",
    "    return {k: list(v[\"values\"]) for k, v in sweep_cfg[\"parameters\"].items()}\n",
    "\n",
    "def iter_configs(space: dict):\n",
    "    keys = list(space.keys())\n",
    "    for vals in product(*(space[k] for k in keys)):\n",
    "        yield dict(zip(keys, vals))"
   ]
  },
  {
   "cell_type": "code",
   "execution_count": null,
   "id": "cc30a741-2a51-4bdb-b69f-7859dc42bf96",
   "metadata": {},
   "outputs": [],
   "source": [
    "def eval_config(cfg: dict) -> dict:\n",
    "    lags_past   = cfg[\"lags_past_covariates\"] if cfg[\"use_covariates\"] else None\n",
    "    lags_future = cfg[\"lags_future_covariates\"] if cfg[\"use_encoders\"]   else None\n",
    "\n",
    "    model = LightGBMModel(\n",
    "        lags=cfg[\"lags\"],\n",
    "        lags_past_covariates=lags_past,\n",
    "        lags_future_covariates=lags_future,\n",
    "        num_leaves=cfg[\"num_leaves\"],\n",
    "        max_depth=cfg[\"max_depth\"],\n",
    "        learning_rate=cfg[\"learning_rate\"],\n",
    "        n_estimators=cfg[\"n_estimators\"],\n",
    "        min_child_samples=cfg[\"min_child_samples\"],\n",
    "        subsample=cfg[\"subsample\"],\n",
    "        colsample_bytree=cfg[\"colsample_bytree\"],\n",
    "        reg_alpha=cfg[\"reg_alpha\"],\n",
    "        reg_lambda=cfg[\"reg_lambda\"],\n",
    "        subsample_freq=cfg[\"subsample_freq\"],\n",
    "        min_split_gain=cfg[\"min_split_gain\"],\n",
    "        max_bin=cfg[\"max_bin\"],\n",
    "        use_static_covariates=cfg[\"use_static_covariates\"],\n",
    "        add_encoders=ENCODERS if cfg[\"use_encoders\"] else None,\n",
    "        verbose=-1,\n",
    "        likelihood=\"quantile\",\n",
    "        quantiles=QUANTILES,\n",
    "        **SHARED_ARGS,\n",
    "        random_state=SEED\n",
    "    )\n",
    "\n",
    "    weight = custom_weights if cfg[\"sample_weight\"] == \"no-covid\" else cfg[\"sample_weight\"]\n",
    "    score = compute_validation_score(\n",
    "        model, targets_train, targets_validation,\n",
    "        covariates if cfg[\"use_covariates\"] else None,\n",
    "        HORIZON, NUM_SAMPLES, METRIC, METRIC_KWARGS,\n",
    "        sample_weight=weight,\n",
    "    )\n",
    "\n",
    "    return {\n",
    "        \"WIS\": score,\n",
    "        **{f\"cfg.{k}\": v for k, v in cfg.items()},\n",
    "    }"
   ]
  },
  {
   "cell_type": "code",
   "execution_count": null,
   "id": "3aac1468-55be-44f1-abdf-054be00a10cf",
   "metadata": {},
   "outputs": [],
   "source": [
    "def run_gridsearch(resume=False):\n",
    "    space   = space_from_sweep(sweep_configuration)\n",
    "    configs = list(iter_configs(space))\n",
    "\n",
    "    param_cols = list(sweep_configuration[\"parameters\"].keys())\n",
    "    header     = param_cols + [\"WIS\", \"error_flag\", \"error_msg\"]\n",
    "\n",
    "    if resume and os.path.exists(OUT_CSV):\n",
    "        gs = pd.read_csv(OUT_CSV)\n",
    "\n",
    "        # convert string representations into dicts and tuples\n",
    "        gs[\"lags_past_covariates\"] = gs[\"lags_past_covariates\"].apply(\n",
    "            lambda x: ast.literal_eval(x) if isinstance(x, str) else x\n",
    "        )\n",
    "        gs[\"lags_future_covariates\"] = gs[\"lags_future_covariates\"].apply(\n",
    "            lambda x: ast.literal_eval(x) if isinstance(x, str) else x\n",
    "        )\n",
    "\n",
    "        gs = gs.drop(columns=['WIS', 'error_flag', 'error_msg']).to_dict('records')\n",
    "        configs = [c for c in configs if c not in gs]\n",
    "    \n",
    "    if not os.path.exists(OUT_CSV):\n",
    "        pd.DataFrame(columns=header).to_csv(OUT_CSV, index=False)\n",
    "        \n",
    "    total   = len(configs)\n",
    "    pbar = tqdm(configs, total=total, desc=\"Grid search\", unit=\"trial\")\n",
    "    for cfg in pbar:\n",
    "        row = {k: cfg.get(k) for k in param_cols}\n",
    "        wis = np.nan\n",
    "\n",
    "        try:\n",
    "            res = eval_config(cfg)\n",
    "            wis = float(res.get(\"WIS\", np.nan))\n",
    "            row.update({\"WIS\": wis, \"error_flag\": False, \"error_msg\": \"\"})\n",
    "        except Exception as e:\n",
    "            row.update({\"WIS\": np.nan, \"error_flag\": True, \"error_msg\": str(e)})\n",
    "\n",
    "        pd.DataFrame([row], columns=header).to_csv(\n",
    "            OUT_CSV, mode=\"a\", header=False, index=False\n",
    "        )\n",
    "\n",
    "        pbar.set_postfix({\n",
    "            \"WIS\": f\"{wis:.4f}\" if isinstance(wis, (float, np.floating)) and not np.isnan(wis) else \"nan\",\n",
    "        })"
   ]
  },
  {
   "cell_type": "code",
   "execution_count": null,
   "id": "4db619fc-bd69-4e0c-84d5-9a37f2bef1d2",
   "metadata": {},
   "outputs": [],
   "source": [
    "targets, covariates = load_realtime_training_data()\n",
    "\n",
    "targets_train, targets_validation = train_validation_split(targets, 2022)\n",
    "\n",
    "targets_validation['icosari-sari-DE'].plot(label='validation')\n",
    "targets_train['icosari-sari-DE'].plot(label='train')\n",
    "\n",
    "custom_weights = exclude_covid_weights(targets)"
   ]
  },
  {
   "cell_type": "code",
   "execution_count": null,
   "id": "d22468b7-6c40-472f-b8b1-6c5ca3d040f8",
   "metadata": {},
   "outputs": [
    {
     "name": "stderr",
     "output_type": "stream",
     "text": [
      "Grid search:  14%|█▍        | 112/776 [5:41:36<28:38:59, 155.33s/trial, WIS=492.1081] "
     ]
    }
   ],
   "source": [
    "run_gridsearch(resume=True)"
   ]
  },
  {
   "cell_type": "code",
   "execution_count": null,
   "id": "3ae3db91-f218-430b-aa8a-669885c59b11",
   "metadata": {},
   "outputs": [],
   "source": []
  },
  {
   "cell_type": "code",
   "execution_count": null,
   "id": "d8144666-eeaa-4fb1-86b3-30985d00b9b7",
   "metadata": {},
   "outputs": [],
   "source": []
  },
  {
   "cell_type": "code",
   "execution_count": null,
   "id": "b28db8ce-59c7-4753-8259-7b230cb111c4",
   "metadata": {},
   "outputs": [],
   "source": [
    "g"
   ]
  }
 ],
 "metadata": {
  "kernelspec": {
   "display_name": "replication-sari",
   "language": "python",
   "name": "replication-sari"
  },
  "language_info": {
   "codemirror_mode": {
    "name": "ipython",
    "version": 3
   },
   "file_extension": ".py",
   "mimetype": "text/x-python",
   "name": "python",
   "nbconvert_exporter": "python",
   "pygments_lexer": "ipython3",
   "version": "3.12.11"
  }
 },
 "nbformat": 4,
 "nbformat_minor": 5
}
