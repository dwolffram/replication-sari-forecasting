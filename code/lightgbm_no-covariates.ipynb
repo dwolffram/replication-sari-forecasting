{
 "cells": [
  {
   "cell_type": "markdown",
   "id": "a06d7174-24f8-4d5e-88a6-ad2a2cf06e87",
   "metadata": {},
   "source": [
    "# LightGBM: Train without covariates"
   ]
  },
  {
   "cell_type": "markdown",
   "id": "537394ee-4a58-437f-8e9d-70c77b3e3324",
   "metadata": {
    "tags": []
   },
   "source": [
    "### Setup"
   ]
  },
  {
   "cell_type": "code",
   "execution_count": 1,
   "id": "0e493c37-6325-457b-96bc-d534de06f3c4",
   "metadata": {},
   "outputs": [],
   "source": [
    "import sys\n",
    "sys.path.append('../')\n",
    "from src.load_data import *\n",
    "from src.realtime_utils import *\n",
    "from src.hp_tuning_functions import *"
   ]
  },
  {
   "cell_type": "code",
   "execution_count": 2,
   "id": "7f1610ad-9600-4d62-826d-b9bc42048bf2",
   "metadata": {},
   "outputs": [
    {
     "name": "stderr",
     "output_type": "stream",
     "text": [
      "/home/wolffram/.conda/envs/RESPINOW-ML/lib/python3.9/site-packages/statsforecast/utils.py:231: FutureWarning: 'M' is deprecated and will be removed in a future version, please use 'ME' instead.\n",
      "  \"ds\": pd.date_range(start=\"1949-01-01\", periods=len(AirPassengers), freq=\"M\"),\n"
     ]
    }
   ],
   "source": [
    "from darts.models.forecasting.lgbm import LightGBMModel"
   ]
  },
  {
   "cell_type": "code",
   "execution_count": 3,
   "id": "4a34b100-4e12-4914-96d4-bd9f546142a3",
   "metadata": {},
   "outputs": [
    {
     "name": "stderr",
     "output_type": "stream",
     "text": [
      "Failed to detect the name of this notebook, you can set it manually with the WANDB_NOTEBOOK_NAME environment variable to enable code saving.\n",
      "\u001b[34m\u001b[1mwandb\u001b[0m: Using wandb-core as the SDK backend. Please refer to https://wandb.me/wandb-core for more information.\n",
      "\u001b[34m\u001b[1mwandb\u001b[0m: Currently logged in as: \u001b[33mdwolffram\u001b[0m (\u001b[33mdwolffram-karlsruhe-institute-of-technology\u001b[0m). Use \u001b[1m`wandb login --relogin`\u001b[0m to force relogin\n"
     ]
    },
    {
     "data": {
      "text/plain": [
       "True"
      ]
     },
     "execution_count": 3,
     "metadata": {},
     "output_type": "execute_result"
    }
   ],
   "source": [
    "import wandb\n",
    "wandb.login()"
   ]
  },
  {
   "cell_type": "markdown",
   "id": "102d70ef-0eaf-4a2f-874a-d5ce8240f40b",
   "metadata": {},
   "source": [
    "# Load best model"
   ]
  },
  {
   "cell_type": "code",
   "execution_count": 4,
   "id": "669595ac-57d2-49d9-a571-35525319cbfa",
   "metadata": {},
   "outputs": [
    {
     "name": "stdout",
     "output_type": "stream",
     "text": [
      "WIS of best run: 453.6010618302779\n"
     ]
    }
   ],
   "source": [
    "params = get_best_parameters('sari-lightgbm', 'lightgbm', 'WIS', use_covariates=False)"
   ]
  },
  {
   "cell_type": "code",
   "execution_count": 5,
   "id": "164e003a-6c35-4855-9e08-23992621c117",
   "metadata": {},
   "outputs": [
    {
     "data": {
      "text/plain": [
       "{'colsample_bytree': 0.8,\n",
       " 'lags': 8,\n",
       " 'lags_future_covariates': [0, 1],\n",
       " 'lags_past_covariates': {'agi-are-05-14': 8,\n",
       "  'agi-are-35-59': 8,\n",
       "  'agi-are-15-34': 8,\n",
       "  'agi-are-60+': 8,\n",
       "  'agi-are-DE': 8,\n",
       "  'agi-are-00-04': 8,\n",
       "  'default_lags': 1},\n",
       " 'learning_rate': 0.01,\n",
       " 'max_bin': 1024,\n",
       " 'max_depth': -1,\n",
       " 'min_child_samples': 40,\n",
       " 'min_split_gain': 0,\n",
       " 'model': 'lightgbm',\n",
       " 'multiple_series': False,\n",
       " 'n_estimators': 1000,\n",
       " 'num_leaves': 20,\n",
       " 'reg_alpha': 0,\n",
       " 'reg_lambda': 0.5,\n",
       " 'sample_weight': 'linear',\n",
       " 'subsample': 0.8,\n",
       " 'subsample_freq': 1,\n",
       " 'use_covariates': False,\n",
       " 'use_encoders': True,\n",
       " 'use_features': False,\n",
       " 'use_static_covariates': False}"
      ]
     },
     "execution_count": 5,
     "metadata": {},
     "output_type": "execute_result"
    }
   ],
   "source": [
    "{key: params[key] for key in sorted(params)}"
   ]
  },
  {
   "cell_type": "code",
   "execution_count": 6,
   "id": "12bca7e0-5850-4710-b877-549ffeaf0c6c",
   "metadata": {},
   "outputs": [],
   "source": [
    "name = params.pop('model')\n",
    "multiple_series = params.pop('multiple_series')\n",
    "use_covariates = params.pop('use_covariates')\n",
    "use_features = params.pop('use_features')\n",
    "use_encoders = params.pop('use_encoders')\n",
    "sample_weight = params.pop('sample_weight')\n",
    "\n",
    "if not use_covariates:\n",
    "    del params['lags_past_covariates']\n",
    "    \n",
    "model = LightGBMModel(\n",
    "    **params,\n",
    "    output_chunk_length=HORIZON,\n",
    "    add_encoders=ENCODERS if use_encoders else None,\n",
    "    likelihood=\"quantile\",\n",
    "    quantiles=QUANTILES,\n",
    "    verbose=-1,\n",
    ")"
   ]
  },
  {
   "cell_type": "markdown",
   "id": "7be6f266-e37b-4086-8e1c-e8fca76f606c",
   "metadata": {},
   "source": [
    "# Load data"
   ]
  },
  {
   "cell_type": "code",
   "execution_count": 7,
   "id": "e44f6180-30b4-4494-93f2-3b7d12d03b54",
   "metadata": {},
   "outputs": [],
   "source": [
    "targets, covariates = load_realtime_training_data()"
   ]
  },
  {
   "cell_type": "markdown",
   "id": "1ac32280-0630-41fc-87bf-a7a67439b3c9",
   "metadata": {
    "tags": []
   },
   "source": [
    "# Train model"
   ]
  },
  {
   "cell_type": "code",
   "execution_count": 8,
   "id": "e97e6511-fcf7-49cb-add1-83d856625a05",
   "metadata": {},
   "outputs": [
    {
     "name": "stdout",
     "output_type": "stream",
     "text": [
      "../models/post-covid/2023-11-16/2023-11-16-lightgbm_noCovariates-1.pt\n"
     ]
    },
    {
     "name": "stderr",
     "output_type": "stream",
     "text": [
      "\n",
      "KeyboardInterrupt\n",
      "\n"
     ]
    }
   ],
   "source": [
    "for forecast_date in FORECAST_DATES:\n",
    "    \n",
    "    path = f'../models/post-covid/{forecast_date}/'\n",
    "    os.makedirs(path, exist_ok=True)\n",
    "\n",
    "    targets, covariates = load_realtime_training_data(as_of=forecast_date)\n",
    "\n",
    "    for seed in RANDOM_SEEDS:\n",
    "        model_path = path + f'{forecast_date}-lightgbm_noCovariates-{seed}.pt'\n",
    "        print(model_path)\n",
    "        model = LightGBMModel(\n",
    "            **params,\n",
    "            output_chunk_length=HORIZON,\n",
    "            add_encoders=ENCODERS if use_encoders else None,\n",
    "            likelihood=\"quantile\",\n",
    "            quantiles=QUANTILES,\n",
    "            verbose=-1,\n",
    "            random_state=seed\n",
    "        )\n",
    "        model.fit(targets, past_covariates=covariates if use_covariates else None, sample_weight=custom_weights if sample_weight == \"no-covid\" else sample_weight)\n",
    "        model.save(model_path)"
   ]
  },
  {
   "cell_type": "markdown",
   "id": "4c054acf-4332-4089-ba94-40bdb73382e1",
   "metadata": {},
   "source": [
    "# Forecast"
   ]
  },
  {
   "cell_type": "code",
   "execution_count": 9,
   "id": "e80eb2a6-2004-427f-afc6-7d2a6eb4f3ba",
   "metadata": {},
   "outputs": [],
   "source": [
    "NAME = 'lightgbm_noCovariates'"
   ]
  },
  {
   "cell_type": "code",
   "execution_count": 10,
   "id": "c8ab7951-7f90-4a83-a719-af28b4dd9f67",
   "metadata": {},
   "outputs": [],
   "source": [
    "targets, covariates = load_realtime_training_data()"
   ]
  },
  {
   "cell_type": "code",
   "execution_count": 11,
   "id": "eb2967f8-901c-49a9-bc83-6913acaa065b",
   "metadata": {},
   "outputs": [
    {
     "data": {
      "text/plain": [
       "False"
      ]
     },
     "execution_count": 11,
     "metadata": {},
     "output_type": "execute_result"
    }
   ],
   "source": [
    "use_covariates"
   ]
  },
  {
   "cell_type": "code",
   "execution_count": 13,
   "id": "359aee2e-b950-4592-8d62-fe8a5c1f6340",
   "metadata": {},
   "outputs": [],
   "source": [
    "def compute_ensemble(forecast_date, export=False):\n",
    "    dfs = []\n",
    "    for seed in RANDOM_SEEDS:\n",
    "        #print(seed)\n",
    "        model_path = f'../models/post-covid/{forecast_date}/{forecast_date}-lightgbm_noCovariates-{seed}.pt'\n",
    "        model = LightGBMModel.load(model_path)\n",
    "        df = compute_forecast(model, targets, covariates if use_covariates else None, forecast_date, HORIZON, NUM_SAMPLES, vincentization=False, probabilistic_nowcast=True, local=True)\n",
    "        dfs.append(df)\n",
    "\n",
    "    df = pd.concat(dfs)\n",
    "    df = df.groupby(['location', 'age_group', 'forecast_date', 'target_end_date', 'horizon', 'type', 'quantile']).agg({'value': 'mean'}).reset_index()\n",
    "\n",
    "    df = df.sort_values(['location', 'age_group', 'horizon', 'quantile'])\n",
    "    \n",
    "    if export:\n",
    "        df.to_csv(f'../data/post-covid/submissions/{NAME}/{forecast_date}-icosari-sari-{NAME}.csv', index=False)\n",
    "        return df\n",
    "    else:\n",
    "        return df"
   ]
  },
  {
   "cell_type": "code",
   "execution_count": null,
   "id": "14f9b011-8d46-4954-bf99-bcd0be80b32d",
   "metadata": {},
   "outputs": [
    {
     "name": "stdout",
     "output_type": "stream",
     "text": [
      "2023-11-16\n",
      "2023-11-23\n",
      "2023-11-30\n",
      "2023-12-07\n",
      "2023-12-14\n",
      "2023-12-21\n",
      "2023-12-28\n",
      "2024-01-04\n",
      "2024-01-11\n",
      "2024-01-18\n",
      "2024-01-25\n",
      "2024-02-01\n",
      "2024-02-08\n",
      "2024-02-15\n"
     ]
    }
   ],
   "source": [
    "forecasts = []\n",
    "for forecast_date in FORECAST_DATES:\n",
    "    print(forecast_date)\n",
    "    forecast = compute_ensemble(forecast_date, export=True)\n",
    "    forecasts.append(forecast)"
   ]
  },
  {
   "cell_type": "code",
   "execution_count": null,
   "id": "0fbb9e21-467f-4915-92ce-d4f481957ea2",
   "metadata": {},
   "outputs": [],
   "source": []
  }
 ],
 "metadata": {
  "kernelspec": {
   "display_name": "RESPINOW-ML",
   "language": "python",
   "name": "respinow-ml"
  },
  "language_info": {
   "codemirror_mode": {
    "name": "ipython",
    "version": 3
   },
   "file_extension": ".py",
   "mimetype": "text/x-python",
   "name": "python",
   "nbconvert_exporter": "python",
   "pygments_lexer": "ipython3",
   "version": "3.9.18"
  }
 },
 "nbformat": 4,
 "nbformat_minor": 5
}
