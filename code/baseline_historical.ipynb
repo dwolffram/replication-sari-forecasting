{
 "cells": [
  {
   "cell_type": "markdown",
   "id": "22864c52-a9d0-4970-951c-9796304997c7",
   "metadata": {},
   "source": [
    "# Historical distribution: Forecast"
   ]
  },
  {
   "cell_type": "markdown",
   "id": "537394ee-4a58-437f-8e9d-70c77b3e3324",
   "metadata": {
    "tags": []
   },
   "source": [
    "### Setup"
   ]
  },
  {
   "cell_type": "code",
   "execution_count": null,
   "id": "0e493c37-6325-457b-96bc-d534de06f3c4",
   "metadata": {},
   "outputs": [],
   "source": [
    "import glob\n",
    "\n",
    "import numpy as np\n",
    "import pandas as pd\n",
    "from scipy.stats import nbinom\n",
    "\n",
    "from config import FORECAST_DATES, ROOT\n",
    "from src.realtime_utils import load_realtime_training_data"
   ]
  },
  {
   "cell_type": "code",
   "execution_count": 2,
   "id": "2644a65f-b011-4ca9-a853-512eb0b92d2d",
   "metadata": {},
   "outputs": [],
   "source": [
    "# Function to fit a negative binomial distribution\n",
    "def fit_negative_binomial(values):\n",
    "    mean = np.mean(values)\n",
    "    var = np.var(values)\n",
    "    if var > mean:  # Ensure valid parameters\n",
    "        p = mean / var\n",
    "        r = mean**2 / (var - mean)\n",
    "        return r, p\n",
    "    else:\n",
    "        return None, None  # Return None if not valid"
   ]
  },
  {
   "cell_type": "code",
   "execution_count": 3,
   "id": "7c07951f-0b3a-4099-bac4-ae28d7c5e479",
   "metadata": {},
   "outputs": [],
   "source": [
    "def forecast_historical_average(df, forecast_date, window=2, quantiles=[0.025, 0.1, 0.25, 0.5, 0.75, 0.9, 0.975]):\n",
    "    forecast_date = pd.Timestamp(forecast_date)\n",
    "\n",
    "    long_format_results = []\n",
    "\n",
    "    # Generate forecasts for the next 4 weeks\n",
    "    for horizon in range(1, 5):\n",
    "        target_date = forecast_date + pd.Timedelta(weeks=horizon - 1)\n",
    "\n",
    "        # Filter data for the target week and neighboring weeks\n",
    "        weeks = [(target_date + pd.Timedelta(weeks=w)).week for w in range(-window, window + 1)]\n",
    "        week_data = df[df[\"week\"].isin(weeks)][\"value\"]\n",
    "\n",
    "        # Fit Negative Binomial distribution\n",
    "        r, p = fit_negative_binomial(week_data)\n",
    "        if r is not None and p is not None:\n",
    "            # Compute quantiles from the Negative Binomial distribution\n",
    "            dist = nbinom(r, p)\n",
    "            quantile_values = dist.ppf(quantiles)\n",
    "        else:\n",
    "            # If parameters are invalid, return NaNs for quantiles\n",
    "            quantile_values = [np.nan] * len(quantiles)\n",
    "\n",
    "        # Transform week back to a date\n",
    "        target_end_date = pd.Timestamp.fromisocalendar(target_date.year, target_date.week, 7)  # Sunday\n",
    "\n",
    "        # Add rows in long format\n",
    "        for quantile, value in zip(quantiles, quantile_values):\n",
    "            long_format_results.append(\n",
    "                {\n",
    "                    \"location\": \"DE\",\n",
    "                    \"age_group\": df.age_group.unique()[0],\n",
    "                    \"forecast_date\": forecast_date,\n",
    "                    \"target_end_date\": target_end_date,\n",
    "                    \"horizon\": horizon,\n",
    "                    \"type\": \"quantile\",\n",
    "                    \"quantile\": quantile,\n",
    "                    \"value\": value,\n",
    "                }\n",
    "            )\n",
    "\n",
    "    # Convert to DataFrame\n",
    "    return pd.DataFrame(long_format_results)"
   ]
  },
  {
   "cell_type": "code",
   "execution_count": 4,
   "id": "d6652a24-5ed1-473a-9aee-49eb596e1e37",
   "metadata": {},
   "outputs": [],
   "source": [
    "def compute_historical_average(forecast_date):\n",
    "    age_groups = [\"DE\", \"00-04\", \"05-14\", \"15-34\", \"35-59\", \"60-79\", \"80+\"]\n",
    "\n",
    "    targets, _ = load_realtime_training_data(forecast_date)\n",
    "\n",
    "    forecasts = pd.DataFrame()\n",
    "    for age in age_groups:\n",
    "        col = f\"icosari-sari-{age}\"\n",
    "        df_temp = targets[col].to_dataframe().reset_index()\n",
    "        df_temp[\"week\"] = df_temp[\"date\"].dt.isocalendar().week\n",
    "        df_temp[\"age_group\"] = \"00+\" if age == \"DE\" else age\n",
    "        df_temp = df_temp.rename(columns={col: \"value\"})\n",
    "        forecast = forecast_historical_average(df_temp, forecast_date, window=1)\n",
    "        forecasts = pd.concat([forecasts, forecast], ignore_index=True)\n",
    "    return forecasts"
   ]
  },
  {
   "cell_type": "code",
   "execution_count": 5,
   "id": "bc03ea6e",
   "metadata": {},
   "outputs": [],
   "source": [
    "out_dir = ROOT / \"forecasts\" / \"historical\"\n",
    "out_dir.mkdir(parents=True, exist_ok=True)"
   ]
  },
  {
   "cell_type": "code",
   "execution_count": 6,
   "id": "af1a252a-4381-4d40-a97e-eae5d5994f2d",
   "metadata": {},
   "outputs": [
    {
     "name": "stdout",
     "output_type": "stream",
     "text": [
      "2023-11-16\n",
      "2023-11-23\n",
      "2023-11-30\n",
      "2023-12-07\n",
      "2023-12-14\n",
      "2023-12-21\n",
      "2024-01-11\n",
      "2024-01-18\n",
      "2024-01-25\n",
      "2024-02-01\n",
      "2024-02-08\n",
      "2024-02-15\n",
      "2024-02-22\n",
      "2024-02-29\n",
      "2024-03-07\n",
      "2024-03-14\n",
      "2024-03-21\n",
      "2024-03-28\n",
      "2024-04-04\n",
      "2024-04-11\n",
      "2024-04-18\n",
      "2024-04-25\n",
      "2024-05-02\n",
      "2024-05-09\n",
      "2024-05-16\n",
      "2024-05-23\n",
      "2024-05-30\n",
      "2024-06-06\n",
      "2024-06-13\n",
      "2024-06-20\n",
      "2024-06-27\n",
      "2024-07-04\n",
      "2024-07-11\n",
      "2024-07-18\n",
      "2024-07-25\n",
      "2024-08-01\n",
      "2024-08-08\n",
      "2024-08-15\n",
      "2024-08-22\n",
      "2024-08-29\n",
      "2024-09-05\n",
      "2024-09-12\n"
     ]
    }
   ],
   "source": [
    "for forecast_date in FORECAST_DATES:\n",
    "    print(forecast_date)\n",
    "    forecast = compute_historical_average(forecast_date)\n",
    "    forecast.to_csv(out_dir / f\"{forecast_date}-icosari-sari-historical.csv\", index=False)"
   ]
  }
 ],
 "metadata": {
  "kernelspec": {
   "display_name": "RESPINOW-ML",
   "language": "python",
   "name": "respinow-ml"
  },
  "language_info": {
   "name": "python"
  }
 },
 "nbformat": 4,
 "nbformat_minor": 5
}
